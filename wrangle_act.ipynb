{
 "cells": [
  {
   "cell_type": "markdown",
   "id": "b72dcee4-dcf3-47f9-a0e4-488418f70e90",
   "metadata": {},
   "source": [
    "# Introduction : WeRateDogs' Analysis\n",
    "In this project, I will wrangle and analyze the twitter archive of WeRateDogs' as of 2015 - 2017.\n",
    "\n",
    "I will gather, assess and clean the data and make sure that I produce a clean dataset that can be used in all cases.\n",
    "\n",
    "Later in the notebook, I will analyze the produced data and get some insights from it and make some charts."
   ]
  },
  {
   "cell_type": "markdown",
   "id": "920b63c6",
   "metadata": {},
   "source": [
    "<h1>Table of Contents</h1>\n",
    "<ol>\n",
    "    <li><a href = \"#gathering\">Data Gathering</a></li>\n",
    "    <li><a href = \"#assessment\">Data Assessment</a></li>\n",
    "    <li><a href = \"#cleaning\">Data Cleaning</a></li>\n",
    "    <li><a href = \"#storing\">Storing Data</a></li>\n",
    "    <li><a href = \"#explore\">Insights & Visualizations</a></li>\n",
    "</ol>"
   ]
  },
  {
   "cell_type": "markdown",
   "id": "7a6a9442",
   "metadata": {},
   "source": [
    "<hr>"
   ]
  },
  {
   "cell_type": "markdown",
   "id": "a8a6e586-3d03-4475-939b-3e0f5afbf36b",
   "metadata": {},
   "source": [
    "# Data Wrangling : "
   ]
  },
  {
   "cell_type": "markdown",
   "id": "f81bfb63",
   "metadata": {},
   "source": [
    "<h1 id = \"gathering\">Data Gathering</h1>"
   ]
  },
  {
   "cell_type": "markdown",
   "id": "3f8555f2",
   "metadata": {},
   "source": [
    "## Pre-Gathering : Importing packages and libraries"
   ]
  },
  {
   "cell_type": "code",
   "execution_count": null,
   "id": "4e69e60b",
   "metadata": {
    "execution": {
     "iopub.execute_input": "2025-04-27T12:28:09.812628Z",
     "iopub.status.busy": "2025-04-27T12:28:09.811815Z",
     "iopub.status.idle": "2025-04-27T12:28:22.427201Z",
     "shell.execute_reply": "2025-04-27T12:28:22.425958Z",
     "shell.execute_reply.started": "2025-04-27T12:28:09.812594Z"
    }
   },
   "outputs": [],
   "source": [
    "# Please run this cell if the libraries & packages below aren't installed on the computer\n",
    "%pip install pandas matplotlib seaborn numpy requests sqlalchemy tweepy"
   ]
  },
  {
   "cell_type": "code",
   "execution_count": null,
   "id": "c6fe26dd",
   "metadata": {
    "execution": {
     "iopub.execute_input": "2025-04-27T12:28:22.430530Z",
     "iopub.status.busy": "2025-04-27T12:28:22.429420Z",
     "iopub.status.idle": "2025-04-27T12:28:30.949016Z",
     "shell.execute_reply": "2025-04-27T12:28:30.947631Z",
     "shell.execute_reply.started": "2025-04-27T12:28:22.430493Z"
    }
   },
   "outputs": [],
   "source": [
    "import json\n",
    "from timeit import default_timer as timer\n",
    "import matplotlib.pyplot as plt\n",
    "import numpy as np\n",
    "import pandas as pd\n",
    "import requests\n",
    "import seaborn as sns\n",
    "import tweepy\n",
    "from sqlalchemy import create_engine\n",
    "\n",
    "# Getting matplotlib's charts inline\n",
    "%matplotlib inline"
   ]
  },
  {
   "cell_type": "markdown",
   "id": "c007e930",
   "metadata": {},
   "source": [
    "<hr>"
   ]
  },
  {
   "cell_type": "markdown",
   "id": "6fbac159",
   "metadata": {},
   "source": [
    "## 1 - Twitter Archive Enhanced"
   ]
  },
  {
   "cell_type": "code",
   "execution_count": null,
   "id": "da67b15c",
   "metadata": {
    "execution": {
     "iopub.execute_input": "2025-04-27T12:28:30.950920Z",
     "iopub.status.busy": "2025-04-27T12:28:30.950390Z",
     "iopub.status.idle": "2025-04-27T12:28:31.079145Z",
     "shell.execute_reply": "2025-04-27T12:28:31.078161Z",
     "shell.execute_reply.started": "2025-04-27T12:28:30.950884Z"
    }
   },
   "outputs": [
    {
     "data": {
      "text/html": [
       "<div>\n",
       "<style scoped>\n",
       "    .dataframe tbody tr th:only-of-type {\n",
       "        vertical-align: middle;\n",
       "    }\n",
       "\n",
       "    .dataframe tbody tr th {\n",
       "        vertical-align: top;\n",
       "    }\n",
       "\n",
       "    .dataframe thead th {\n",
       "        text-align: right;\n",
       "    }\n",
       "</style>\n",
       "<table border=\"1\" class=\"dataframe\">\n",
       "  <thead>\n",
       "    <tr style=\"text-align: right;\">\n",
       "      <th></th>\n",
       "      <th>tweet_id</th>\n",
       "      <th>in_reply_to_status_id</th>\n",
       "      <th>in_reply_to_user_id</th>\n",
       "      <th>timestamp</th>\n",
       "      <th>source</th>\n",
       "      <th>text</th>\n",
       "      <th>retweeted_status_id</th>\n",
       "      <th>retweeted_status_user_id</th>\n",
       "      <th>retweeted_status_timestamp</th>\n",
       "      <th>expanded_urls</th>\n",
       "      <th>rating_numerator</th>\n",
       "      <th>rating_denominator</th>\n",
       "      <th>name</th>\n",
       "      <th>doggo</th>\n",
       "      <th>floofer</th>\n",
       "      <th>pupper</th>\n",
       "      <th>puppo</th>\n",
       "    </tr>\n",
       "  </thead>\n",
       "  <tbody>\n",
       "    <tr>\n",
       "      <th>0</th>\n",
       "      <td>892420643555336193</td>\n",
       "      <td>NaN</td>\n",
       "      <td>NaN</td>\n",
       "      <td>2017-08-01 16:23:56 +0000</td>\n",
       "      <td>&lt;a href=\"http://twitter.com/download/iphone\" r...</td>\n",
       "      <td>This is Phineas. He's a mystical boy. Only eve...</td>\n",
       "      <td>NaN</td>\n",
       "      <td>NaN</td>\n",
       "      <td>NaN</td>\n",
       "      <td>https://twitter.com/dog_rates/status/892420643...</td>\n",
       "      <td>13</td>\n",
       "      <td>10</td>\n",
       "      <td>Phineas</td>\n",
       "      <td>NaN</td>\n",
       "      <td>NaN</td>\n",
       "      <td>NaN</td>\n",
       "      <td>NaN</td>\n",
       "    </tr>\n",
       "    <tr>\n",
       "      <th>1</th>\n",
       "      <td>892177421306343426</td>\n",
       "      <td>NaN</td>\n",
       "      <td>NaN</td>\n",
       "      <td>2017-08-01 00:17:27 +0000</td>\n",
       "      <td>&lt;a href=\"http://twitter.com/download/iphone\" r...</td>\n",
       "      <td>This is Tilly. She's just checking pup on you....</td>\n",
       "      <td>NaN</td>\n",
       "      <td>NaN</td>\n",
       "      <td>NaN</td>\n",
       "      <td>https://twitter.com/dog_rates/status/892177421...</td>\n",
       "      <td>13</td>\n",
       "      <td>10</td>\n",
       "      <td>Tilly</td>\n",
       "      <td>NaN</td>\n",
       "      <td>NaN</td>\n",
       "      <td>NaN</td>\n",
       "      <td>NaN</td>\n",
       "    </tr>\n",
       "    <tr>\n",
       "      <th>2</th>\n",
       "      <td>891815181378084864</td>\n",
       "      <td>NaN</td>\n",
       "      <td>NaN</td>\n",
       "      <td>2017-07-31 00:18:03 +0000</td>\n",
       "      <td>&lt;a href=\"http://twitter.com/download/iphone\" r...</td>\n",
       "      <td>This is Archie. He is a rare Norwegian Pouncin...</td>\n",
       "      <td>NaN</td>\n",
       "      <td>NaN</td>\n",
       "      <td>NaN</td>\n",
       "      <td>https://twitter.com/dog_rates/status/891815181...</td>\n",
       "      <td>12</td>\n",
       "      <td>10</td>\n",
       "      <td>Archie</td>\n",
       "      <td>NaN</td>\n",
       "      <td>NaN</td>\n",
       "      <td>NaN</td>\n",
       "      <td>NaN</td>\n",
       "    </tr>\n",
       "    <tr>\n",
       "      <th>3</th>\n",
       "      <td>891689557279858688</td>\n",
       "      <td>NaN</td>\n",
       "      <td>NaN</td>\n",
       "      <td>2017-07-30 15:58:51 +0000</td>\n",
       "      <td>&lt;a href=\"http://twitter.com/download/iphone\" r...</td>\n",
       "      <td>This is Darla. She commenced a snooze mid meal...</td>\n",
       "      <td>NaN</td>\n",
       "      <td>NaN</td>\n",
       "      <td>NaN</td>\n",
       "      <td>https://twitter.com/dog_rates/status/891689557...</td>\n",
       "      <td>13</td>\n",
       "      <td>10</td>\n",
       "      <td>Darla</td>\n",
       "      <td>NaN</td>\n",
       "      <td>NaN</td>\n",
       "      <td>NaN</td>\n",
       "      <td>NaN</td>\n",
       "    </tr>\n",
       "    <tr>\n",
       "      <th>4</th>\n",
       "      <td>891327558926688256</td>\n",
       "      <td>NaN</td>\n",
       "      <td>NaN</td>\n",
       "      <td>2017-07-29 16:00:24 +0000</td>\n",
       "      <td>&lt;a href=\"http://twitter.com/download/iphone\" r...</td>\n",
       "      <td>This is Franklin. He would like you to stop ca...</td>\n",
       "      <td>NaN</td>\n",
       "      <td>NaN</td>\n",
       "      <td>NaN</td>\n",
       "      <td>https://twitter.com/dog_rates/status/891327558...</td>\n",
       "      <td>12</td>\n",
       "      <td>10</td>\n",
       "      <td>Franklin</td>\n",
       "      <td>NaN</td>\n",
       "      <td>NaN</td>\n",
       "      <td>NaN</td>\n",
       "      <td>NaN</td>\n",
       "    </tr>\n",
       "    <tr>\n",
       "      <th>5</th>\n",
       "      <td>891087950875897856</td>\n",
       "      <td>NaN</td>\n",
       "      <td>NaN</td>\n",
       "      <td>2017-07-29 00:08:17 +0000</td>\n",
       "      <td>&lt;a href=\"http://twitter.com/download/iphone\" r...</td>\n",
       "      <td>Here we have a majestic great white breaching ...</td>\n",
       "      <td>NaN</td>\n",
       "      <td>NaN</td>\n",
       "      <td>NaN</td>\n",
       "      <td>https://twitter.com/dog_rates/status/891087950...</td>\n",
       "      <td>13</td>\n",
       "      <td>10</td>\n",
       "      <td>NaN</td>\n",
       "      <td>NaN</td>\n",
       "      <td>NaN</td>\n",
       "      <td>NaN</td>\n",
       "      <td>NaN</td>\n",
       "    </tr>\n",
       "    <tr>\n",
       "      <th>6</th>\n",
       "      <td>890971913173991426</td>\n",
       "      <td>NaN</td>\n",
       "      <td>NaN</td>\n",
       "      <td>2017-07-28 16:27:12 +0000</td>\n",
       "      <td>&lt;a href=\"http://twitter.com/download/iphone\" r...</td>\n",
       "      <td>Meet Jax. He enjoys ice cream so much he gets ...</td>\n",
       "      <td>NaN</td>\n",
       "      <td>NaN</td>\n",
       "      <td>NaN</td>\n",
       "      <td>https://gofundme.com/ydvmve-surgery-for-jax,ht...</td>\n",
       "      <td>13</td>\n",
       "      <td>10</td>\n",
       "      <td>Jax</td>\n",
       "      <td>NaN</td>\n",
       "      <td>NaN</td>\n",
       "      <td>NaN</td>\n",
       "      <td>NaN</td>\n",
       "    </tr>\n",
       "  </tbody>\n",
       "</table>\n",
       "</div>"
      ],
      "text/plain": [
       "             tweet_id  in_reply_to_status_id  in_reply_to_user_id  \\\n",
       "0  892420643555336193                    NaN                  NaN   \n",
       "1  892177421306343426                    NaN                  NaN   \n",
       "2  891815181378084864                    NaN                  NaN   \n",
       "3  891689557279858688                    NaN                  NaN   \n",
       "4  891327558926688256                    NaN                  NaN   \n",
       "5  891087950875897856                    NaN                  NaN   \n",
       "6  890971913173991426                    NaN                  NaN   \n",
       "\n",
       "                   timestamp  \\\n",
       "0  2017-08-01 16:23:56 +0000   \n",
       "1  2017-08-01 00:17:27 +0000   \n",
       "2  2017-07-31 00:18:03 +0000   \n",
       "3  2017-07-30 15:58:51 +0000   \n",
       "4  2017-07-29 16:00:24 +0000   \n",
       "5  2017-07-29 00:08:17 +0000   \n",
       "6  2017-07-28 16:27:12 +0000   \n",
       "\n",
       "                                              source  \\\n",
       "0  <a href=\"http://twitter.com/download/iphone\" r...   \n",
       "1  <a href=\"http://twitter.com/download/iphone\" r...   \n",
       "2  <a href=\"http://twitter.com/download/iphone\" r...   \n",
       "3  <a href=\"http://twitter.com/download/iphone\" r...   \n",
       "4  <a href=\"http://twitter.com/download/iphone\" r...   \n",
       "5  <a href=\"http://twitter.com/download/iphone\" r...   \n",
       "6  <a href=\"http://twitter.com/download/iphone\" r...   \n",
       "\n",
       "                                                text  retweeted_status_id  \\\n",
       "0  This is Phineas. He's a mystical boy. Only eve...                  NaN   \n",
       "1  This is Tilly. She's just checking pup on you....                  NaN   \n",
       "2  This is Archie. He is a rare Norwegian Pouncin...                  NaN   \n",
       "3  This is Darla. She commenced a snooze mid meal...                  NaN   \n",
       "4  This is Franklin. He would like you to stop ca...                  NaN   \n",
       "5  Here we have a majestic great white breaching ...                  NaN   \n",
       "6  Meet Jax. He enjoys ice cream so much he gets ...                  NaN   \n",
       "\n",
       "   retweeted_status_user_id retweeted_status_timestamp  \\\n",
       "0                       NaN                        NaN   \n",
       "1                       NaN                        NaN   \n",
       "2                       NaN                        NaN   \n",
       "3                       NaN                        NaN   \n",
       "4                       NaN                        NaN   \n",
       "5                       NaN                        NaN   \n",
       "6                       NaN                        NaN   \n",
       "\n",
       "                                       expanded_urls  rating_numerator  \\\n",
       "0  https://twitter.com/dog_rates/status/892420643...                13   \n",
       "1  https://twitter.com/dog_rates/status/892177421...                13   \n",
       "2  https://twitter.com/dog_rates/status/891815181...                12   \n",
       "3  https://twitter.com/dog_rates/status/891689557...                13   \n",
       "4  https://twitter.com/dog_rates/status/891327558...                12   \n",
       "5  https://twitter.com/dog_rates/status/891087950...                13   \n",
       "6  https://gofundme.com/ydvmve-surgery-for-jax,ht...                13   \n",
       "\n",
       "   rating_denominator      name doggo floofer pupper puppo  \n",
       "0                  10   Phineas   NaN     NaN    NaN   NaN  \n",
       "1                  10     Tilly   NaN     NaN    NaN   NaN  \n",
       "2                  10    Archie   NaN     NaN    NaN   NaN  \n",
       "3                  10     Darla   NaN     NaN    NaN   NaN  \n",
       "4                  10  Franklin   NaN     NaN    NaN   NaN  \n",
       "5                  10       NaN   NaN     NaN    NaN   NaN  \n",
       "6                  10       Jax   NaN     NaN    NaN   NaN  "
      ]
     },
     "execution_count": 3,
     "metadata": {},
     "output_type": "execute_result"
    }
   ],
   "source": [
    "archive = pd.read_csv(\"data/twitter-archive-enhanced.csv\")\n",
    "archive.head(7)"
   ]
  },
  {
   "cell_type": "markdown",
   "id": "f7704538",
   "metadata": {},
   "source": [
    "<hr>"
   ]
  },
  {
   "cell_type": "markdown",
   "id": "a06b2f4b",
   "metadata": {},
   "source": [
    "## 2 - Image Predictions"
   ]
  },
  {
   "cell_type": "markdown",
   "id": "1b7dcc36",
   "metadata": {},
   "source": [
    "### Downloading Data"
   ]
  },
  {
   "cell_type": "code",
   "execution_count": null,
   "id": "3afa6978",
   "metadata": {
    "execution": {
     "iopub.execute_input": "2025-04-27T12:28:31.082672Z",
     "iopub.status.busy": "2025-04-27T12:28:31.082268Z",
     "iopub.status.idle": "2025-04-27T12:28:32.178852Z",
     "shell.execute_reply": "2025-04-27T12:28:32.177583Z",
     "shell.execute_reply.started": "2025-04-27T12:28:31.082638Z"
    }
   },
   "outputs": [],
   "source": [
    "# Defining the target url\n",
    "url = \"https://d17h27t6h515a5.cloudfront.net/topher/2017/August/599fd2ad_image-predictions/image-predictions.tsv\"\n",
    "\n",
    "# Doing a GET request on the url\n",
    "response = requests.get(url)\n",
    "\n",
    "# Writing the returned bytes into the file using response.content\n",
    "with open(\"data/image-predictions.tsv\", \"wb\") as file:\n",
    "    file.write(response.content)"
   ]
  },
  {
   "cell_type": "markdown",
   "id": "bd9e6727",
   "metadata": {},
   "source": [
    "### Loading up Data into a DataFrame"
   ]
  },
  {
   "cell_type": "code",
   "execution_count": null,
   "id": "39eab4ca",
   "metadata": {
    "execution": {
     "iopub.execute_input": "2025-04-27T12:28:32.181246Z",
     "iopub.status.busy": "2025-04-27T12:28:32.180490Z",
     "iopub.status.idle": "2025-04-27T12:28:32.254549Z",
     "shell.execute_reply": "2025-04-27T12:28:32.253112Z",
     "shell.execute_reply.started": "2025-04-27T12:28:32.181210Z"
    }
   },
   "outputs": [
    {
     "data": {
      "text/html": [
       "<div>\n",
       "<style scoped>\n",
       "    .dataframe tbody tr th:only-of-type {\n",
       "        vertical-align: middle;\n",
       "    }\n",
       "\n",
       "    .dataframe tbody tr th {\n",
       "        vertical-align: top;\n",
       "    }\n",
       "\n",
       "    .dataframe thead th {\n",
       "        text-align: right;\n",
       "    }\n",
       "</style>\n",
       "<table border=\"1\" class=\"dataframe\">\n",
       "  <thead>\n",
       "    <tr style=\"text-align: right;\">\n",
       "      <th></th>\n",
       "      <th>tweet_id</th>\n",
       "      <th>jpg_url</th>\n",
       "      <th>img_num</th>\n",
       "      <th>p1</th>\n",
       "      <th>p1_conf</th>\n",
       "      <th>p1_dog</th>\n",
       "      <th>p2</th>\n",
       "      <th>p2_conf</th>\n",
       "      <th>p2_dog</th>\n",
       "      <th>p3</th>\n",
       "      <th>p3_conf</th>\n",
       "      <th>p3_dog</th>\n",
       "    </tr>\n",
       "  </thead>\n",
       "  <tbody>\n",
       "    <tr>\n",
       "      <th>0</th>\n",
       "      <td>666020888022790149</td>\n",
       "      <td>https://pbs.twimg.com/media/CT4udn0WwAA0aMy.jpg</td>\n",
       "      <td>1</td>\n",
       "      <td>Welsh_springer_spaniel</td>\n",
       "      <td>0.465074</td>\n",
       "      <td>True</td>\n",
       "      <td>collie</td>\n",
       "      <td>0.156665</td>\n",
       "      <td>True</td>\n",
       "      <td>Shetland_sheepdog</td>\n",
       "      <td>0.061428</td>\n",
       "      <td>True</td>\n",
       "    </tr>\n",
       "    <tr>\n",
       "      <th>1</th>\n",
       "      <td>666029285002620928</td>\n",
       "      <td>https://pbs.twimg.com/media/CT42GRgUYAA5iDo.jpg</td>\n",
       "      <td>1</td>\n",
       "      <td>redbone</td>\n",
       "      <td>0.506826</td>\n",
       "      <td>True</td>\n",
       "      <td>miniature_pinscher</td>\n",
       "      <td>0.074192</td>\n",
       "      <td>True</td>\n",
       "      <td>Rhodesian_ridgeback</td>\n",
       "      <td>0.072010</td>\n",
       "      <td>True</td>\n",
       "    </tr>\n",
       "    <tr>\n",
       "      <th>2</th>\n",
       "      <td>666033412701032449</td>\n",
       "      <td>https://pbs.twimg.com/media/CT4521TWwAEvMyu.jpg</td>\n",
       "      <td>1</td>\n",
       "      <td>German_shepherd</td>\n",
       "      <td>0.596461</td>\n",
       "      <td>True</td>\n",
       "      <td>malinois</td>\n",
       "      <td>0.138584</td>\n",
       "      <td>True</td>\n",
       "      <td>bloodhound</td>\n",
       "      <td>0.116197</td>\n",
       "      <td>True</td>\n",
       "    </tr>\n",
       "    <tr>\n",
       "      <th>3</th>\n",
       "      <td>666044226329800704</td>\n",
       "      <td>https://pbs.twimg.com/media/CT5Dr8HUEAA-lEu.jpg</td>\n",
       "      <td>1</td>\n",
       "      <td>Rhodesian_ridgeback</td>\n",
       "      <td>0.408143</td>\n",
       "      <td>True</td>\n",
       "      <td>redbone</td>\n",
       "      <td>0.360687</td>\n",
       "      <td>True</td>\n",
       "      <td>miniature_pinscher</td>\n",
       "      <td>0.222752</td>\n",
       "      <td>True</td>\n",
       "    </tr>\n",
       "    <tr>\n",
       "      <th>4</th>\n",
       "      <td>666049248165822465</td>\n",
       "      <td>https://pbs.twimg.com/media/CT5IQmsXIAAKY4A.jpg</td>\n",
       "      <td>1</td>\n",
       "      <td>miniature_pinscher</td>\n",
       "      <td>0.560311</td>\n",
       "      <td>True</td>\n",
       "      <td>Rottweiler</td>\n",
       "      <td>0.243682</td>\n",
       "      <td>True</td>\n",
       "      <td>Doberman</td>\n",
       "      <td>0.154629</td>\n",
       "      <td>True</td>\n",
       "    </tr>\n",
       "    <tr>\n",
       "      <th>5</th>\n",
       "      <td>666050758794694657</td>\n",
       "      <td>https://pbs.twimg.com/media/CT5Jof1WUAEuVxN.jpg</td>\n",
       "      <td>1</td>\n",
       "      <td>Bernese_mountain_dog</td>\n",
       "      <td>0.651137</td>\n",
       "      <td>True</td>\n",
       "      <td>English_springer</td>\n",
       "      <td>0.263788</td>\n",
       "      <td>True</td>\n",
       "      <td>Greater_Swiss_Mountain_dog</td>\n",
       "      <td>0.016199</td>\n",
       "      <td>True</td>\n",
       "    </tr>\n",
       "    <tr>\n",
       "      <th>6</th>\n",
       "      <td>666051853826850816</td>\n",
       "      <td>https://pbs.twimg.com/media/CT5KoJ1WoAAJash.jpg</td>\n",
       "      <td>1</td>\n",
       "      <td>box_turtle</td>\n",
       "      <td>0.933012</td>\n",
       "      <td>False</td>\n",
       "      <td>mud_turtle</td>\n",
       "      <td>0.045885</td>\n",
       "      <td>False</td>\n",
       "      <td>terrapin</td>\n",
       "      <td>0.017885</td>\n",
       "      <td>False</td>\n",
       "    </tr>\n",
       "  </tbody>\n",
       "</table>\n",
       "</div>"
      ],
      "text/plain": [
       "             tweet_id                                          jpg_url  \\\n",
       "0  666020888022790149  https://pbs.twimg.com/media/CT4udn0WwAA0aMy.jpg   \n",
       "1  666029285002620928  https://pbs.twimg.com/media/CT42GRgUYAA5iDo.jpg   \n",
       "2  666033412701032449  https://pbs.twimg.com/media/CT4521TWwAEvMyu.jpg   \n",
       "3  666044226329800704  https://pbs.twimg.com/media/CT5Dr8HUEAA-lEu.jpg   \n",
       "4  666049248165822465  https://pbs.twimg.com/media/CT5IQmsXIAAKY4A.jpg   \n",
       "5  666050758794694657  https://pbs.twimg.com/media/CT5Jof1WUAEuVxN.jpg   \n",
       "6  666051853826850816  https://pbs.twimg.com/media/CT5KoJ1WoAAJash.jpg   \n",
       "\n",
       "   img_num                      p1   p1_conf  p1_dog                  p2  \\\n",
       "0        1  Welsh_springer_spaniel  0.465074    True              collie   \n",
       "1        1                 redbone  0.506826    True  miniature_pinscher   \n",
       "2        1         German_shepherd  0.596461    True            malinois   \n",
       "3        1     Rhodesian_ridgeback  0.408143    True             redbone   \n",
       "4        1      miniature_pinscher  0.560311    True          Rottweiler   \n",
       "5        1    Bernese_mountain_dog  0.651137    True    English_springer   \n",
       "6        1              box_turtle  0.933012   False          mud_turtle   \n",
       "\n",
       "    p2_conf  p2_dog                          p3   p3_conf  p3_dog  \n",
       "0  0.156665    True           Shetland_sheepdog  0.061428    True  \n",
       "1  0.074192    True         Rhodesian_ridgeback  0.072010    True  \n",
       "2  0.138584    True                  bloodhound  0.116197    True  \n",
       "3  0.360687    True          miniature_pinscher  0.222752    True  \n",
       "4  0.243682    True                    Doberman  0.154629    True  \n",
       "5  0.263788    True  Greater_Swiss_Mountain_dog  0.016199    True  \n",
       "6  0.045885   False                    terrapin  0.017885   False  "
      ]
     },
     "execution_count": 5,
     "metadata": {},
     "output_type": "execute_result"
    }
   ],
   "source": [
    "# The read_csv accepts TSV file but I had to determine the seperator which was \\t (Tab)\n",
    "predictions = pd.read_csv(\"data/image-predictions.tsv\", sep=\"\\t\")\n",
    "predictions.head(7)"
   ]
  },
  {
   "cell_type": "markdown",
   "id": "8d21da78",
   "metadata": {},
   "source": [
    "<hr>"
   ]
  },
  {
   "cell_type": "markdown",
   "id": "ddc38fbe",
   "metadata": {},
   "source": [
    "## 3 - Tweets"
   ]
  },
  {
   "cell_type": "markdown",
   "id": "c09a65d7",
   "metadata": {},
   "source": [
    "### Downloading JSON data of tweets USING Tweepy"
   ]
  },
  {
   "cell_type": "code",
   "execution_count": null,
   "id": "71d798b1-5188-4703-b294-025606c63ee0",
   "metadata": {
    "execution": {
     "iopub.execute_input": "2025-04-27T12:28:32.258325Z",
     "iopub.status.busy": "2025-04-27T12:28:32.257317Z",
     "iopub.status.idle": "2025-04-27T12:28:32.274404Z",
     "shell.execute_reply": "2025-04-27T12:28:32.271773Z",
     "shell.execute_reply.started": "2025-04-27T12:28:32.258279Z"
    }
   },
   "outputs": [
    {
     "name": "stdout",
     "output_type": "stream",
     "text": [
      "The key is hidden so skipping this cell\n"
     ]
    }
   ],
   "source": [
    "# Query Twitter API for each tweet in the Twitter archive and save JSON in a text file\n",
    "# These are hidden to comply with Twitter's API terms and conditions\n",
    "consumer_key = \"HIDDEN\"\n",
    "consumer_secret = \"HIDDEN\"\n",
    "access_token = \"HIDDEN\"\n",
    "access_secret = \"HIDDEN\"\n",
    "if consumer_key == \"HIDDEN\":\n",
    "    print(\"The key is hidden so skipping this cell\")\n",
    "else:\n",
    "    auth = tweepy.OAuthHandler(consumer_key, consumer_secret)\n",
    "    auth.set_access_token(access_token, access_secret)\n",
    "\n",
    "    api = tweepy.API(auth, wait_on_rate_limit=True)\n",
    "\n",
    "    # NOTE TO STUDENT WITH MOBILE VERIFICATION ISSUES:\n",
    "    # archive is a DataFrame with the twitter_archive_enhanced.csv file. You may have to\n",
    "    # change line 17 to match the name of your DataFrame with twitter_archive_enhanced.csv\n",
    "\n",
    "    # NOTE TO REVIEWER: this student had mobile verification issues so the following\n",
    "    # Twitter API code was sent to this student from a Udacity instructor\n",
    "    # Tweet IDs for which to gather additional data via Twitter's API\n",
    "    tweet_ids = archive.tweet_id.values\n",
    "    len(tweet_ids)\n",
    "\n",
    "    # Query Twitter's API for JSON data for each tweet ID in the Twitter archive\n",
    "    count = 0\n",
    "    fails_dict = {}\n",
    "    start = timer()\n",
    "    # Save each tweet's returned JSON as a new line in a .txt file\n",
    "    with open(\"tweet_json.txt\", \"w\") as outfile:\n",
    "        # This loop will likely take 20-30 minutes to run because of Twitter's rate limit\n",
    "        for tweet_id in tweet_ids:\n",
    "            count += 1\n",
    "            print(str(count) + \": \" + str(tweet_id))\n",
    "            try:\n",
    "                tweet = api.get_status(tweet_id, tweet_mode=\"extended\")\n",
    "                print(\"Success\")\n",
    "                json.dump(tweet._json, outfile)\n",
    "                outfile.write(\"\\n\")\n",
    "            except tweepy.TweepError as e:\n",
    "                print(\"Fail\")\n",
    "                fails_dict[tweet_id] = e\n",
    "                pass\n",
    "    end = timer()\n",
    "    print(end - start)\n",
    "    print(fails_dict)"
   ]
  },
  {
   "cell_type": "markdown",
   "id": "75c1676b",
   "metadata": {},
   "source": [
    "Due to the new Access-Levels of the X API, I couldn't fetch the tweets using tweepy as I was limited to 100 posts per month  \n",
    "I also had a rate limit of 15minutes between each GET request so it was technically impossible to get the data without paying for a higher access level\n",
    "\n",
    "Note : I was also limited to certain endpoints in the free access level and get_status didn't work on free tier"
   ]
  },
  {
   "cell_type": "markdown",
   "id": "84b9ed47-6841-4fa7-b001-bd2348e46dff",
   "metadata": {},
   "source": [
    "As a result, I manually downloaded the text file containing the json from classroom and continued"
   ]
  },
  {
   "cell_type": "markdown",
   "id": "c10e938a",
   "metadata": {},
   "source": [
    "### Transforming JSON data into a Pandas DataFrame"
   ]
  },
  {
   "cell_type": "code",
   "execution_count": null,
   "id": "f67fdc46",
   "metadata": {
    "execution": {
     "iopub.execute_input": "2025-04-27T12:28:32.277967Z",
     "iopub.status.busy": "2025-04-27T12:28:32.276899Z",
     "iopub.status.idle": "2025-04-27T12:28:33.205896Z",
     "shell.execute_reply": "2025-04-27T12:28:33.204337Z",
     "shell.execute_reply.started": "2025-04-27T12:28:32.277926Z"
    }
   },
   "outputs": [
    {
     "data": {
      "text/html": [
       "<div>\n",
       "<style scoped>\n",
       "    .dataframe tbody tr th:only-of-type {\n",
       "        vertical-align: middle;\n",
       "    }\n",
       "\n",
       "    .dataframe tbody tr th {\n",
       "        vertical-align: top;\n",
       "    }\n",
       "\n",
       "    .dataframe thead th {\n",
       "        text-align: right;\n",
       "    }\n",
       "</style>\n",
       "<table border=\"1\" class=\"dataframe\">\n",
       "  <thead>\n",
       "    <tr style=\"text-align: right;\">\n",
       "      <th></th>\n",
       "      <th>id</th>\n",
       "      <th>favorite_count</th>\n",
       "      <th>retweet_count</th>\n",
       "    </tr>\n",
       "  </thead>\n",
       "  <tbody>\n",
       "    <tr>\n",
       "      <th>0</th>\n",
       "      <td>892420643555336193</td>\n",
       "      <td>39467</td>\n",
       "      <td>8853</td>\n",
       "    </tr>\n",
       "    <tr>\n",
       "      <th>1</th>\n",
       "      <td>892177421306343426</td>\n",
       "      <td>33819</td>\n",
       "      <td>6514</td>\n",
       "    </tr>\n",
       "    <tr>\n",
       "      <th>2</th>\n",
       "      <td>891815181378084864</td>\n",
       "      <td>25461</td>\n",
       "      <td>4328</td>\n",
       "    </tr>\n",
       "    <tr>\n",
       "      <th>3</th>\n",
       "      <td>891689557279858688</td>\n",
       "      <td>42908</td>\n",
       "      <td>8964</td>\n",
       "    </tr>\n",
       "    <tr>\n",
       "      <th>4</th>\n",
       "      <td>891327558926688256</td>\n",
       "      <td>41048</td>\n",
       "      <td>9774</td>\n",
       "    </tr>\n",
       "    <tr>\n",
       "      <th>5</th>\n",
       "      <td>891087950875897856</td>\n",
       "      <td>20562</td>\n",
       "      <td>3261</td>\n",
       "    </tr>\n",
       "    <tr>\n",
       "      <th>6</th>\n",
       "      <td>890971913173991426</td>\n",
       "      <td>12041</td>\n",
       "      <td>2158</td>\n",
       "    </tr>\n",
       "  </tbody>\n",
       "</table>\n",
       "</div>"
      ],
      "text/plain": [
       "                   id  favorite_count  retweet_count\n",
       "0  892420643555336193           39467           8853\n",
       "1  892177421306343426           33819           6514\n",
       "2  891815181378084864           25461           4328\n",
       "3  891689557279858688           42908           8964\n",
       "4  891327558926688256           41048           9774\n",
       "5  891087950875897856           20562           3261\n",
       "6  890971913173991426           12041           2158"
      ]
     },
     "execution_count": 7,
     "metadata": {},
     "output_type": "execute_result"
    }
   ],
   "source": [
    "# Loading the json data as a dataframe\n",
    "# Since each row is inserted in its own line, I addedd the lines parameter\n",
    "json_df = pd.read_json(\"data/tweet-json.txt\", lines=True)\n",
    "\n",
    "# Selecting the columns we need from the json dataframe\n",
    "tweet_metrics = json_df[[\"id\", \"favorite_count\", \"retweet_count\"]]\n",
    "tweet_metrics.head(7)"
   ]
  },
  {
   "cell_type": "markdown",
   "id": "a8c61b5f",
   "metadata": {},
   "source": [
    "<hr>"
   ]
  },
  {
   "cell_type": "markdown",
   "id": "70c48016",
   "metadata": {},
   "source": [
    "<h1 id = \"assessment\">Data Assessment</h1>"
   ]
  },
  {
   "cell_type": "markdown",
   "id": "6c32e474",
   "metadata": {},
   "source": [
    "From the main 5 Data Quality Aspects:\n",
    "1. Completeness\n",
    "2. Uniqueness\n",
    "3. Validity\n",
    "4. Accuracy\n",
    "5. Consistency\n",
    "\n",
    "Definition of Tidy Data from [here](https://cran.r-project.org/web/packages/tidyr/vignettes/tidy-data.html) :\n",
    "1. Each Variable forms a column\n",
    "2. Each observation forms a row\n",
    "3. Each type of observational unit forms a table"
   ]
  },
  {
   "cell_type": "markdown",
   "id": "98629595",
   "metadata": {},
   "source": [
    "## 1 - Twitter Archive Enahnced"
   ]
  },
  {
   "cell_type": "markdown",
   "id": "d0bfc3a9",
   "metadata": {},
   "source": [
    "<h4>Visual Assessment</h4>"
   ]
  },
  {
   "cell_type": "code",
   "execution_count": null,
   "id": "ba020495",
   "metadata": {
    "execution": {
     "iopub.execute_input": "2025-04-27T12:28:33.208297Z",
     "iopub.status.busy": "2025-04-27T12:28:33.207685Z",
     "iopub.status.idle": "2025-04-27T12:28:33.254301Z",
     "shell.execute_reply": "2025-04-27T12:28:33.252686Z",
     "shell.execute_reply.started": "2025-04-27T12:28:33.208257Z"
    }
   },
   "outputs": [
    {
     "data": {
      "text/html": [
       "<div>\n",
       "<style scoped>\n",
       "    .dataframe tbody tr th:only-of-type {\n",
       "        vertical-align: middle;\n",
       "    }\n",
       "\n",
       "    .dataframe tbody tr th {\n",
       "        vertical-align: top;\n",
       "    }\n",
       "\n",
       "    .dataframe thead th {\n",
       "        text-align: right;\n",
       "    }\n",
       "</style>\n",
       "<table border=\"1\" class=\"dataframe\">\n",
       "  <thead>\n",
       "    <tr style=\"text-align: right;\">\n",
       "      <th></th>\n",
       "      <th>tweet_id</th>\n",
       "      <th>in_reply_to_status_id</th>\n",
       "      <th>in_reply_to_user_id</th>\n",
       "      <th>timestamp</th>\n",
       "      <th>source</th>\n",
       "      <th>text</th>\n",
       "      <th>retweeted_status_id</th>\n",
       "      <th>retweeted_status_user_id</th>\n",
       "      <th>retweeted_status_timestamp</th>\n",
       "      <th>expanded_urls</th>\n",
       "      <th>rating_numerator</th>\n",
       "      <th>rating_denominator</th>\n",
       "      <th>name</th>\n",
       "      <th>doggo</th>\n",
       "      <th>floofer</th>\n",
       "      <th>pupper</th>\n",
       "      <th>puppo</th>\n",
       "    </tr>\n",
       "  </thead>\n",
       "  <tbody>\n",
       "    <tr>\n",
       "      <th>0</th>\n",
       "      <td>892420643555336193</td>\n",
       "      <td>NaN</td>\n",
       "      <td>NaN</td>\n",
       "      <td>2017-08-01 16:23:56 +0000</td>\n",
       "      <td>&lt;a href=\"http://twitter.com/download/iphone\" r...</td>\n",
       "      <td>This is Phineas. He's a mystical boy. Only eve...</td>\n",
       "      <td>NaN</td>\n",
       "      <td>NaN</td>\n",
       "      <td>NaN</td>\n",
       "      <td>https://twitter.com/dog_rates/status/892420643...</td>\n",
       "      <td>13</td>\n",
       "      <td>10</td>\n",
       "      <td>Phineas</td>\n",
       "      <td>NaN</td>\n",
       "      <td>NaN</td>\n",
       "      <td>NaN</td>\n",
       "      <td>NaN</td>\n",
       "    </tr>\n",
       "    <tr>\n",
       "      <th>1</th>\n",
       "      <td>892177421306343426</td>\n",
       "      <td>NaN</td>\n",
       "      <td>NaN</td>\n",
       "      <td>2017-08-01 00:17:27 +0000</td>\n",
       "      <td>&lt;a href=\"http://twitter.com/download/iphone\" r...</td>\n",
       "      <td>This is Tilly. She's just checking pup on you....</td>\n",
       "      <td>NaN</td>\n",
       "      <td>NaN</td>\n",
       "      <td>NaN</td>\n",
       "      <td>https://twitter.com/dog_rates/status/892177421...</td>\n",
       "      <td>13</td>\n",
       "      <td>10</td>\n",
       "      <td>Tilly</td>\n",
       "      <td>NaN</td>\n",
       "      <td>NaN</td>\n",
       "      <td>NaN</td>\n",
       "      <td>NaN</td>\n",
       "    </tr>\n",
       "    <tr>\n",
       "      <th>2</th>\n",
       "      <td>891815181378084864</td>\n",
       "      <td>NaN</td>\n",
       "      <td>NaN</td>\n",
       "      <td>2017-07-31 00:18:03 +0000</td>\n",
       "      <td>&lt;a href=\"http://twitter.com/download/iphone\" r...</td>\n",
       "      <td>This is Archie. He is a rare Norwegian Pouncin...</td>\n",
       "      <td>NaN</td>\n",
       "      <td>NaN</td>\n",
       "      <td>NaN</td>\n",
       "      <td>https://twitter.com/dog_rates/status/891815181...</td>\n",
       "      <td>12</td>\n",
       "      <td>10</td>\n",
       "      <td>Archie</td>\n",
       "      <td>NaN</td>\n",
       "      <td>NaN</td>\n",
       "      <td>NaN</td>\n",
       "      <td>NaN</td>\n",
       "    </tr>\n",
       "    <tr>\n",
       "      <th>3</th>\n",
       "      <td>891689557279858688</td>\n",
       "      <td>NaN</td>\n",
       "      <td>NaN</td>\n",
       "      <td>2017-07-30 15:58:51 +0000</td>\n",
       "      <td>&lt;a href=\"http://twitter.com/download/iphone\" r...</td>\n",
       "      <td>This is Darla. She commenced a snooze mid meal...</td>\n",
       "      <td>NaN</td>\n",
       "      <td>NaN</td>\n",
       "      <td>NaN</td>\n",
       "      <td>https://twitter.com/dog_rates/status/891689557...</td>\n",
       "      <td>13</td>\n",
       "      <td>10</td>\n",
       "      <td>Darla</td>\n",
       "      <td>NaN</td>\n",
       "      <td>NaN</td>\n",
       "      <td>NaN</td>\n",
       "      <td>NaN</td>\n",
       "    </tr>\n",
       "    <tr>\n",
       "      <th>4</th>\n",
       "      <td>891327558926688256</td>\n",
       "      <td>NaN</td>\n",
       "      <td>NaN</td>\n",
       "      <td>2017-07-29 16:00:24 +0000</td>\n",
       "      <td>&lt;a href=\"http://twitter.com/download/iphone\" r...</td>\n",
       "      <td>This is Franklin. He would like you to stop ca...</td>\n",
       "      <td>NaN</td>\n",
       "      <td>NaN</td>\n",
       "      <td>NaN</td>\n",
       "      <td>https://twitter.com/dog_rates/status/891327558...</td>\n",
       "      <td>12</td>\n",
       "      <td>10</td>\n",
       "      <td>Franklin</td>\n",
       "      <td>NaN</td>\n",
       "      <td>NaN</td>\n",
       "      <td>NaN</td>\n",
       "      <td>NaN</td>\n",
       "    </tr>\n",
       "    <tr>\n",
       "      <th>...</th>\n",
       "      <td>...</td>\n",
       "      <td>...</td>\n",
       "      <td>...</td>\n",
       "      <td>...</td>\n",
       "      <td>...</td>\n",
       "      <td>...</td>\n",
       "      <td>...</td>\n",
       "      <td>...</td>\n",
       "      <td>...</td>\n",
       "      <td>...</td>\n",
       "      <td>...</td>\n",
       "      <td>...</td>\n",
       "      <td>...</td>\n",
       "      <td>...</td>\n",
       "      <td>...</td>\n",
       "      <td>...</td>\n",
       "      <td>...</td>\n",
       "    </tr>\n",
       "    <tr>\n",
       "      <th>2351</th>\n",
       "      <td>666049248165822465</td>\n",
       "      <td>NaN</td>\n",
       "      <td>NaN</td>\n",
       "      <td>2015-11-16 00:24:50 +0000</td>\n",
       "      <td>&lt;a href=\"http://twitter.com/download/iphone\" r...</td>\n",
       "      <td>Here we have a 1949 1st generation vulpix. Enj...</td>\n",
       "      <td>NaN</td>\n",
       "      <td>NaN</td>\n",
       "      <td>NaN</td>\n",
       "      <td>https://twitter.com/dog_rates/status/666049248...</td>\n",
       "      <td>5</td>\n",
       "      <td>10</td>\n",
       "      <td>NaN</td>\n",
       "      <td>NaN</td>\n",
       "      <td>NaN</td>\n",
       "      <td>NaN</td>\n",
       "      <td>NaN</td>\n",
       "    </tr>\n",
       "    <tr>\n",
       "      <th>2352</th>\n",
       "      <td>666044226329800704</td>\n",
       "      <td>NaN</td>\n",
       "      <td>NaN</td>\n",
       "      <td>2015-11-16 00:04:52 +0000</td>\n",
       "      <td>&lt;a href=\"http://twitter.com/download/iphone\" r...</td>\n",
       "      <td>This is a purebred Piers Morgan. Loves to Netf...</td>\n",
       "      <td>NaN</td>\n",
       "      <td>NaN</td>\n",
       "      <td>NaN</td>\n",
       "      <td>https://twitter.com/dog_rates/status/666044226...</td>\n",
       "      <td>6</td>\n",
       "      <td>10</td>\n",
       "      <td>a</td>\n",
       "      <td>NaN</td>\n",
       "      <td>NaN</td>\n",
       "      <td>NaN</td>\n",
       "      <td>NaN</td>\n",
       "    </tr>\n",
       "    <tr>\n",
       "      <th>2353</th>\n",
       "      <td>666033412701032449</td>\n",
       "      <td>NaN</td>\n",
       "      <td>NaN</td>\n",
       "      <td>2015-11-15 23:21:54 +0000</td>\n",
       "      <td>&lt;a href=\"http://twitter.com/download/iphone\" r...</td>\n",
       "      <td>Here is a very happy pup. Big fan of well-main...</td>\n",
       "      <td>NaN</td>\n",
       "      <td>NaN</td>\n",
       "      <td>NaN</td>\n",
       "      <td>https://twitter.com/dog_rates/status/666033412...</td>\n",
       "      <td>9</td>\n",
       "      <td>10</td>\n",
       "      <td>a</td>\n",
       "      <td>NaN</td>\n",
       "      <td>NaN</td>\n",
       "      <td>NaN</td>\n",
       "      <td>NaN</td>\n",
       "    </tr>\n",
       "    <tr>\n",
       "      <th>2354</th>\n",
       "      <td>666029285002620928</td>\n",
       "      <td>NaN</td>\n",
       "      <td>NaN</td>\n",
       "      <td>2015-11-15 23:05:30 +0000</td>\n",
       "      <td>&lt;a href=\"http://twitter.com/download/iphone\" r...</td>\n",
       "      <td>This is a western brown Mitsubishi terrier. Up...</td>\n",
       "      <td>NaN</td>\n",
       "      <td>NaN</td>\n",
       "      <td>NaN</td>\n",
       "      <td>https://twitter.com/dog_rates/status/666029285...</td>\n",
       "      <td>7</td>\n",
       "      <td>10</td>\n",
       "      <td>a</td>\n",
       "      <td>NaN</td>\n",
       "      <td>NaN</td>\n",
       "      <td>NaN</td>\n",
       "      <td>NaN</td>\n",
       "    </tr>\n",
       "    <tr>\n",
       "      <th>2355</th>\n",
       "      <td>666020888022790149</td>\n",
       "      <td>NaN</td>\n",
       "      <td>NaN</td>\n",
       "      <td>2015-11-15 22:32:08 +0000</td>\n",
       "      <td>&lt;a href=\"http://twitter.com/download/iphone\" r...</td>\n",
       "      <td>Here we have a Japanese Irish Setter. Lost eye...</td>\n",
       "      <td>NaN</td>\n",
       "      <td>NaN</td>\n",
       "      <td>NaN</td>\n",
       "      <td>https://twitter.com/dog_rates/status/666020888...</td>\n",
       "      <td>8</td>\n",
       "      <td>10</td>\n",
       "      <td>NaN</td>\n",
       "      <td>NaN</td>\n",
       "      <td>NaN</td>\n",
       "      <td>NaN</td>\n",
       "      <td>NaN</td>\n",
       "    </tr>\n",
       "  </tbody>\n",
       "</table>\n",
       "<p>2356 rows × 17 columns</p>\n",
       "</div>"
      ],
      "text/plain": [
       "                tweet_id  in_reply_to_status_id  in_reply_to_user_id  \\\n",
       "0     892420643555336193                    NaN                  NaN   \n",
       "1     892177421306343426                    NaN                  NaN   \n",
       "2     891815181378084864                    NaN                  NaN   \n",
       "3     891689557279858688                    NaN                  NaN   \n",
       "4     891327558926688256                    NaN                  NaN   \n",
       "...                  ...                    ...                  ...   \n",
       "2351  666049248165822465                    NaN                  NaN   \n",
       "2352  666044226329800704                    NaN                  NaN   \n",
       "2353  666033412701032449                    NaN                  NaN   \n",
       "2354  666029285002620928                    NaN                  NaN   \n",
       "2355  666020888022790149                    NaN                  NaN   \n",
       "\n",
       "                      timestamp  \\\n",
       "0     2017-08-01 16:23:56 +0000   \n",
       "1     2017-08-01 00:17:27 +0000   \n",
       "2     2017-07-31 00:18:03 +0000   \n",
       "3     2017-07-30 15:58:51 +0000   \n",
       "4     2017-07-29 16:00:24 +0000   \n",
       "...                         ...   \n",
       "2351  2015-11-16 00:24:50 +0000   \n",
       "2352  2015-11-16 00:04:52 +0000   \n",
       "2353  2015-11-15 23:21:54 +0000   \n",
       "2354  2015-11-15 23:05:30 +0000   \n",
       "2355  2015-11-15 22:32:08 +0000   \n",
       "\n",
       "                                                 source  \\\n",
       "0     <a href=\"http://twitter.com/download/iphone\" r...   \n",
       "1     <a href=\"http://twitter.com/download/iphone\" r...   \n",
       "2     <a href=\"http://twitter.com/download/iphone\" r...   \n",
       "3     <a href=\"http://twitter.com/download/iphone\" r...   \n",
       "4     <a href=\"http://twitter.com/download/iphone\" r...   \n",
       "...                                                 ...   \n",
       "2351  <a href=\"http://twitter.com/download/iphone\" r...   \n",
       "2352  <a href=\"http://twitter.com/download/iphone\" r...   \n",
       "2353  <a href=\"http://twitter.com/download/iphone\" r...   \n",
       "2354  <a href=\"http://twitter.com/download/iphone\" r...   \n",
       "2355  <a href=\"http://twitter.com/download/iphone\" r...   \n",
       "\n",
       "                                                   text  retweeted_status_id  \\\n",
       "0     This is Phineas. He's a mystical boy. Only eve...                  NaN   \n",
       "1     This is Tilly. She's just checking pup on you....                  NaN   \n",
       "2     This is Archie. He is a rare Norwegian Pouncin...                  NaN   \n",
       "3     This is Darla. She commenced a snooze mid meal...                  NaN   \n",
       "4     This is Franklin. He would like you to stop ca...                  NaN   \n",
       "...                                                 ...                  ...   \n",
       "2351  Here we have a 1949 1st generation vulpix. Enj...                  NaN   \n",
       "2352  This is a purebred Piers Morgan. Loves to Netf...                  NaN   \n",
       "2353  Here is a very happy pup. Big fan of well-main...                  NaN   \n",
       "2354  This is a western brown Mitsubishi terrier. Up...                  NaN   \n",
       "2355  Here we have a Japanese Irish Setter. Lost eye...                  NaN   \n",
       "\n",
       "      retweeted_status_user_id retweeted_status_timestamp  \\\n",
       "0                          NaN                        NaN   \n",
       "1                          NaN                        NaN   \n",
       "2                          NaN                        NaN   \n",
       "3                          NaN                        NaN   \n",
       "4                          NaN                        NaN   \n",
       "...                        ...                        ...   \n",
       "2351                       NaN                        NaN   \n",
       "2352                       NaN                        NaN   \n",
       "2353                       NaN                        NaN   \n",
       "2354                       NaN                        NaN   \n",
       "2355                       NaN                        NaN   \n",
       "\n",
       "                                          expanded_urls  rating_numerator  \\\n",
       "0     https://twitter.com/dog_rates/status/892420643...                13   \n",
       "1     https://twitter.com/dog_rates/status/892177421...                13   \n",
       "2     https://twitter.com/dog_rates/status/891815181...                12   \n",
       "3     https://twitter.com/dog_rates/status/891689557...                13   \n",
       "4     https://twitter.com/dog_rates/status/891327558...                12   \n",
       "...                                                 ...               ...   \n",
       "2351  https://twitter.com/dog_rates/status/666049248...                 5   \n",
       "2352  https://twitter.com/dog_rates/status/666044226...                 6   \n",
       "2353  https://twitter.com/dog_rates/status/666033412...                 9   \n",
       "2354  https://twitter.com/dog_rates/status/666029285...                 7   \n",
       "2355  https://twitter.com/dog_rates/status/666020888...                 8   \n",
       "\n",
       "      rating_denominator      name doggo floofer pupper puppo  \n",
       "0                     10   Phineas   NaN     NaN    NaN   NaN  \n",
       "1                     10     Tilly   NaN     NaN    NaN   NaN  \n",
       "2                     10    Archie   NaN     NaN    NaN   NaN  \n",
       "3                     10     Darla   NaN     NaN    NaN   NaN  \n",
       "4                     10  Franklin   NaN     NaN    NaN   NaN  \n",
       "...                  ...       ...   ...     ...    ...   ...  \n",
       "2351                  10       NaN   NaN     NaN    NaN   NaN  \n",
       "2352                  10         a   NaN     NaN    NaN   NaN  \n",
       "2353                  10         a   NaN     NaN    NaN   NaN  \n",
       "2354                  10         a   NaN     NaN    NaN   NaN  \n",
       "2355                  10       NaN   NaN     NaN    NaN   NaN  \n",
       "\n",
       "[2356 rows x 17 columns]"
      ]
     },
     "execution_count": 8,
     "metadata": {},
     "output_type": "execute_result"
    }
   ],
   "source": [
    "archive"
   ]
  },
  {
   "cell_type": "markdown",
   "id": "3dc924e7",
   "metadata": {},
   "source": [
    "I opened the data in google sheets and did both Directed Visual Assessment & Non-Directed Visual Assessment and noticed multiple issues as written below : \n",
    "\n",
    "I noticed that the rating denominator in row 313 is zero which is odd so I will print the row's text to validate"
   ]
  },
  {
   "cell_type": "code",
   "execution_count": null,
   "id": "dfef4eb8",
   "metadata": {
    "execution": {
     "iopub.execute_input": "2025-04-27T12:28:33.258823Z",
     "iopub.status.busy": "2025-04-27T12:28:33.256559Z",
     "iopub.status.idle": "2025-04-27T12:28:33.270200Z",
     "shell.execute_reply": "2025-04-27T12:28:33.268165Z",
     "shell.execute_reply.started": "2025-04-27T12:28:33.258748Z"
    }
   },
   "outputs": [
    {
     "data": {
      "text/plain": [
       "\"@jonnysun @Lin_Manuel ok jomny I know you're excited but 960/00 isn't a valid rating, 13/10 is tho\""
      ]
     },
     "execution_count": 9,
     "metadata": {},
     "output_type": "execute_result"
    }
   ],
   "source": [
    "archive.iloc[313][\"text\"]"
   ]
  },
  {
   "cell_type": "markdown",
   "id": "f4e10636",
   "metadata": {},
   "source": [
    "So yeah the rating was incorrectly extracted from the text so we have to fix this"
   ]
  },
  {
   "cell_type": "markdown",
   "id": "e56c42c8",
   "metadata": {},
   "source": [
    "1. Quality :\n",
    "   - Data in in_reply_to_status_id & retweeted_status_id is represented as numbers (ex 8.86E + 17 in row 31)\n",
    "   - Presence of duplicated data (retweets) which came in multiple formats as follows :\n",
    "      1. \"RT\" at the beginning of Text column.\n",
    "      2. Presence of a link to post by another profile rather then WeRateDogs in expanded_urls.\n",
    "      3. The retweeted_status_id doesn't equal NaN.\n",
    "   - Wrong rating denominator (ex row 313)\n",
    "2. Tidiness : \n",
    "   - All dog stages columns represent one variable (column) which is the dog stage.\n",
    "   - TimeStamps can be splitted into 4 columns, Year, Month, Day and Day of Week\n",
    "   - The text column contains tweet url at last which should be in a seperate column"
   ]
  },
  {
   "cell_type": "markdown",
   "id": "97e56da2",
   "metadata": {},
   "source": [
    "<hr>"
   ]
  },
  {
   "cell_type": "markdown",
   "id": "bd75194f",
   "metadata": {},
   "source": [
    "<h4>Programmatic Assessment</h4>"
   ]
  },
  {
   "cell_type": "markdown",
   "id": "0a9f1da3",
   "metadata": {},
   "source": [
    "<h5>DataFrame's Basic Info</h5>"
   ]
  },
  {
   "cell_type": "code",
   "execution_count": null,
   "id": "d5cfb55a",
   "metadata": {
    "execution": {
     "iopub.execute_input": "2025-04-27T12:28:33.281916Z",
     "iopub.status.busy": "2025-04-27T12:28:33.280586Z",
     "iopub.status.idle": "2025-04-27T12:28:33.322552Z",
     "shell.execute_reply": "2025-04-27T12:28:33.320536Z",
     "shell.execute_reply.started": "2025-04-27T12:28:33.281835Z"
    }
   },
   "outputs": [
    {
     "name": "stdout",
     "output_type": "stream",
     "text": [
      "<class 'pandas.core.frame.DataFrame'>\n",
      "RangeIndex: 2356 entries, 0 to 2355\n",
      "Data columns (total 17 columns):\n",
      " #   Column                      Non-Null Count  Dtype  \n",
      "---  ------                      --------------  -----  \n",
      " 0   tweet_id                    2356 non-null   int64  \n",
      " 1   in_reply_to_status_id       78 non-null     float64\n",
      " 2   in_reply_to_user_id         78 non-null     float64\n",
      " 3   timestamp                   2356 non-null   object \n",
      " 4   source                      2356 non-null   object \n",
      " 5   text                        2356 non-null   object \n",
      " 6   retweeted_status_id         181 non-null    float64\n",
      " 7   retweeted_status_user_id    181 non-null    float64\n",
      " 8   retweeted_status_timestamp  181 non-null    object \n",
      " 9   expanded_urls               2297 non-null   object \n",
      " 10  rating_numerator            2356 non-null   int64  \n",
      " 11  rating_denominator          2356 non-null   int64  \n",
      " 12  name                        1611 non-null   object \n",
      " 13  doggo                       97 non-null     object \n",
      " 14  floofer                     10 non-null     object \n",
      " 15  pupper                      257 non-null    object \n",
      " 16  puppo                       30 non-null     object \n",
      "dtypes: float64(4), int64(3), object(10)\n",
      "memory usage: 313.0+ KB\n"
     ]
    }
   ],
   "source": [
    "archive.info()"
   ]
  },
  {
   "cell_type": "markdown",
   "id": "023da65f",
   "metadata": {},
   "source": [
    "<h5>Uniqueness</h5>"
   ]
  },
  {
   "cell_type": "code",
   "execution_count": null,
   "id": "b7b27ecc",
   "metadata": {
    "execution": {
     "iopub.execute_input": "2025-04-27T12:28:33.326259Z",
     "iopub.status.busy": "2025-04-27T12:28:33.325178Z",
     "iopub.status.idle": "2025-04-27T12:28:33.342052Z",
     "shell.execute_reply": "2025-04-27T12:28:33.338439Z",
     "shell.execute_reply.started": "2025-04-27T12:28:33.326205Z"
    }
   },
   "outputs": [
    {
     "data": {
      "text/plain": [
       "np.int64(0)"
      ]
     },
     "execution_count": 11,
     "metadata": {},
     "output_type": "execute_result"
    }
   ],
   "source": [
    "# Since the Tweet ID is a unique identifier, then we can validate for duplicates by checking the Tweet ID column\n",
    "archive[\"tweet_id\"].duplicated().sum()"
   ]
  },
  {
   "cell_type": "markdown",
   "id": "889962b5",
   "metadata": {},
   "source": [
    "So the data has no duplicates at all, awesome!"
   ]
  },
  {
   "cell_type": "markdown",
   "id": "b49054d2",
   "metadata": {},
   "source": [
    "<hr>"
   ]
  },
  {
   "cell_type": "markdown",
   "id": "e55fcede",
   "metadata": {},
   "source": [
    "<h5>Completeness</h5>"
   ]
  },
  {
   "cell_type": "code",
   "execution_count": null,
   "id": "f69606b2",
   "metadata": {
    "execution": {
     "iopub.execute_input": "2025-04-27T12:28:33.346526Z",
     "iopub.status.busy": "2025-04-27T12:28:33.345534Z",
     "iopub.status.idle": "2025-04-27T12:28:33.373205Z",
     "shell.execute_reply": "2025-04-27T12:28:33.369397Z",
     "shell.execute_reply.started": "2025-04-27T12:28:33.346431Z"
    }
   },
   "outputs": [
    {
     "data": {
      "text/plain": [
       "tweet_id                         0\n",
       "in_reply_to_status_id         2278\n",
       "in_reply_to_user_id           2278\n",
       "timestamp                        0\n",
       "source                           0\n",
       "text                             0\n",
       "retweeted_status_id           2175\n",
       "retweeted_status_user_id      2175\n",
       "retweeted_status_timestamp    2175\n",
       "expanded_urls                   59\n",
       "rating_numerator                 0\n",
       "rating_denominator               0\n",
       "name                           745\n",
       "doggo                         2259\n",
       "floofer                       2346\n",
       "pupper                        2099\n",
       "puppo                         2326\n",
       "dtype: int64"
      ]
     },
     "execution_count": 12,
     "metadata": {},
     "output_type": "execute_result"
    }
   ],
   "source": [
    "# priting sum of NaNs in each column\n",
    "archive.isna().sum()"
   ]
  },
  {
   "cell_type": "markdown",
   "id": "cee3df40",
   "metadata": {},
   "source": [
    "1. The missing values in *in_reply_to* columns and *retweeted_status* columns represent that the tweet wasn't a reply / retweet\n",
    "2. The missing values in *name* indiciate that it wasn't mentioned in the text of tweet\n",
    "3.  *expanded_urls* shall be further investigated after removing retweets\n",
    "4. Meanwhile the missing values in the dog stages column will be mostly fixed once we transform the columns into 1 variable (dog stage)"
   ]
  },
  {
   "cell_type": "markdown",
   "id": "e585487c",
   "metadata": {},
   "source": [
    "<hr>"
   ]
  },
  {
   "cell_type": "markdown",
   "id": "84bb00d0",
   "metadata": {},
   "source": [
    "<h5>Validity</h5>"
   ]
  },
  {
   "cell_type": "markdown",
   "id": "f7a53eed",
   "metadata": {},
   "source": [
    "Since there are some columns like text columns that are open and scarcely have a standard value, we will loop over the following columns:\n",
    "- Rating Numerator\n",
    "- Rating Denominator\n",
    "- dog stages columns"
   ]
  },
  {
   "cell_type": "code",
   "execution_count": null,
   "id": "9267c0bf",
   "metadata": {
    "execution": {
     "iopub.execute_input": "2025-04-27T12:28:33.378183Z",
     "iopub.status.busy": "2025-04-27T12:28:33.376314Z",
     "iopub.status.idle": "2025-04-27T12:28:33.397397Z",
     "shell.execute_reply": "2025-04-27T12:28:33.395776Z",
     "shell.execute_reply.started": "2025-04-27T12:28:33.378108Z"
    }
   },
   "outputs": [
    {
     "name": "stdout",
     "output_type": "stream",
     "text": [
      "rating_numerator : [  13   12   14    5   17   11   10  420  666    6   15  182  960    0\n",
      "   75    7   84    9   24    8    1   27    3    4  165 1776  204   50\n",
      "   99   80   45   60   44  143  121   20   26    2  144   88]\n",
      "\n",
      "\n",
      "rating_denominator : [ 10   0  15  70   7  11 150 170  20  50  90  80  40 130 110  16 120   2]\n",
      "\n",
      "\n",
      "doggo : [nan 'doggo']\n",
      "\n",
      "\n",
      "floofer : [nan 'floofer']\n",
      "\n",
      "\n",
      "pupper : [nan 'pupper']\n",
      "\n",
      "\n",
      "puppo : [nan 'puppo']\n",
      "\n",
      "\n"
     ]
    }
   ],
   "source": [
    "# Defining required columns\n",
    "columns = [\n",
    "    \"rating_numerator\",\n",
    "    \"rating_denominator\",\n",
    "    \"doggo\",\n",
    "    \"floofer\",\n",
    "    \"pupper\",\n",
    "    \"puppo\",\n",
    "]\n",
    "\n",
    "\n",
    "# Defining a function for later use in other data sources\n",
    "def get_unique(df, columns):\n",
    "    \"\"\"function's parameters:\n",
    "    df >> a dataframe\n",
    "    columns >> columns that belong to the dataframe argument\n",
    "    \"\"\"\n",
    "\n",
    "    # looping over the passed columns\n",
    "    for column in columns:\n",
    "\n",
    "        # Printing the unique elements of the column in a formatted string\n",
    "        print(f\"{column} : {df[column].unique()}\\n\\n\")\n",
    "\n",
    "\n",
    "# Calling function with the twitter archive and required columns\n",
    "get_unique(archive, columns)"
   ]
  },
  {
   "cell_type": "markdown",
   "id": "eeae7cf8",
   "metadata": {},
   "source": [
    "1. Dog Stages : Each columns has the suitable required values, perfect!\n",
    "2. Rating Numerator and Denominator don't make sense so they need to be fixed"
   ]
  },
  {
   "cell_type": "markdown",
   "id": "004587ed",
   "metadata": {},
   "source": [
    "<hr>"
   ]
  },
  {
   "cell_type": "markdown",
   "id": "5731f5ae",
   "metadata": {},
   "source": [
    "<h5>Data Types</h5>"
   ]
  },
  {
   "cell_type": "code",
   "execution_count": null,
   "id": "97ef1d49",
   "metadata": {
    "execution": {
     "iopub.execute_input": "2025-04-27T12:28:33.401483Z",
     "iopub.status.busy": "2025-04-27T12:28:33.399961Z",
     "iopub.status.idle": "2025-04-27T12:28:33.423276Z",
     "shell.execute_reply": "2025-04-27T12:28:33.419490Z",
     "shell.execute_reply.started": "2025-04-27T12:28:33.401411Z"
    }
   },
   "outputs": [
    {
     "data": {
      "text/plain": [
       "tweet_id                        int64\n",
       "in_reply_to_status_id         float64\n",
       "in_reply_to_user_id           float64\n",
       "timestamp                      object\n",
       "source                         object\n",
       "text                           object\n",
       "retweeted_status_id           float64\n",
       "retweeted_status_user_id      float64\n",
       "retweeted_status_timestamp     object\n",
       "expanded_urls                  object\n",
       "rating_numerator                int64\n",
       "rating_denominator              int64\n",
       "name                           object\n",
       "doggo                          object\n",
       "floofer                        object\n",
       "pupper                         object\n",
       "puppo                          object\n",
       "dtype: object"
      ]
     },
     "execution_count": 14,
     "metadata": {},
     "output_type": "execute_result"
    }
   ],
   "source": [
    "archive.dtypes"
   ]
  },
  {
   "cell_type": "markdown",
   "id": "6f21d7b5",
   "metadata": {},
   "source": [
    "Here are the columns we have to transform in the cleaning stage\n",
    "- All columns that carry an ID must be transformed to string as they hold no numerical value / meaning\n",
    "- timestamp & retweeted_status_timestamp > Datetime for correct analysis"
   ]
  },
  {
   "cell_type": "markdown",
   "id": "289ce0a4",
   "metadata": {},
   "source": [
    "<hr>"
   ]
  },
  {
   "cell_type": "markdown",
   "id": "4140a6aa",
   "metadata": {},
   "source": [
    "## 2 - Image Predictions"
   ]
  },
  {
   "cell_type": "markdown",
   "id": "67857443",
   "metadata": {},
   "source": [
    "<h4>Visual Assessment</h4>"
   ]
  },
  {
   "cell_type": "code",
   "execution_count": null,
   "id": "51758513",
   "metadata": {
    "execution": {
     "iopub.execute_input": "2025-04-27T12:28:33.429389Z",
     "iopub.status.busy": "2025-04-27T12:28:33.426945Z",
     "iopub.status.idle": "2025-04-27T12:28:33.475258Z",
     "shell.execute_reply": "2025-04-27T12:28:33.472157Z",
     "shell.execute_reply.started": "2025-04-27T12:28:33.429272Z"
    }
   },
   "outputs": [
    {
     "data": {
      "text/html": [
       "<div>\n",
       "<style scoped>\n",
       "    .dataframe tbody tr th:only-of-type {\n",
       "        vertical-align: middle;\n",
       "    }\n",
       "\n",
       "    .dataframe tbody tr th {\n",
       "        vertical-align: top;\n",
       "    }\n",
       "\n",
       "    .dataframe thead th {\n",
       "        text-align: right;\n",
       "    }\n",
       "</style>\n",
       "<table border=\"1\" class=\"dataframe\">\n",
       "  <thead>\n",
       "    <tr style=\"text-align: right;\">\n",
       "      <th></th>\n",
       "      <th>tweet_id</th>\n",
       "      <th>jpg_url</th>\n",
       "      <th>img_num</th>\n",
       "      <th>p1</th>\n",
       "      <th>p1_conf</th>\n",
       "      <th>p1_dog</th>\n",
       "      <th>p2</th>\n",
       "      <th>p2_conf</th>\n",
       "      <th>p2_dog</th>\n",
       "      <th>p3</th>\n",
       "      <th>p3_conf</th>\n",
       "      <th>p3_dog</th>\n",
       "    </tr>\n",
       "  </thead>\n",
       "  <tbody>\n",
       "    <tr>\n",
       "      <th>0</th>\n",
       "      <td>666020888022790149</td>\n",
       "      <td>https://pbs.twimg.com/media/CT4udn0WwAA0aMy.jpg</td>\n",
       "      <td>1</td>\n",
       "      <td>Welsh_springer_spaniel</td>\n",
       "      <td>0.465074</td>\n",
       "      <td>True</td>\n",
       "      <td>collie</td>\n",
       "      <td>0.156665</td>\n",
       "      <td>True</td>\n",
       "      <td>Shetland_sheepdog</td>\n",
       "      <td>0.061428</td>\n",
       "      <td>True</td>\n",
       "    </tr>\n",
       "    <tr>\n",
       "      <th>1</th>\n",
       "      <td>666029285002620928</td>\n",
       "      <td>https://pbs.twimg.com/media/CT42GRgUYAA5iDo.jpg</td>\n",
       "      <td>1</td>\n",
       "      <td>redbone</td>\n",
       "      <td>0.506826</td>\n",
       "      <td>True</td>\n",
       "      <td>miniature_pinscher</td>\n",
       "      <td>0.074192</td>\n",
       "      <td>True</td>\n",
       "      <td>Rhodesian_ridgeback</td>\n",
       "      <td>0.072010</td>\n",
       "      <td>True</td>\n",
       "    </tr>\n",
       "    <tr>\n",
       "      <th>2</th>\n",
       "      <td>666033412701032449</td>\n",
       "      <td>https://pbs.twimg.com/media/CT4521TWwAEvMyu.jpg</td>\n",
       "      <td>1</td>\n",
       "      <td>German_shepherd</td>\n",
       "      <td>0.596461</td>\n",
       "      <td>True</td>\n",
       "      <td>malinois</td>\n",
       "      <td>0.138584</td>\n",
       "      <td>True</td>\n",
       "      <td>bloodhound</td>\n",
       "      <td>0.116197</td>\n",
       "      <td>True</td>\n",
       "    </tr>\n",
       "    <tr>\n",
       "      <th>3</th>\n",
       "      <td>666044226329800704</td>\n",
       "      <td>https://pbs.twimg.com/media/CT5Dr8HUEAA-lEu.jpg</td>\n",
       "      <td>1</td>\n",
       "      <td>Rhodesian_ridgeback</td>\n",
       "      <td>0.408143</td>\n",
       "      <td>True</td>\n",
       "      <td>redbone</td>\n",
       "      <td>0.360687</td>\n",
       "      <td>True</td>\n",
       "      <td>miniature_pinscher</td>\n",
       "      <td>0.222752</td>\n",
       "      <td>True</td>\n",
       "    </tr>\n",
       "    <tr>\n",
       "      <th>4</th>\n",
       "      <td>666049248165822465</td>\n",
       "      <td>https://pbs.twimg.com/media/CT5IQmsXIAAKY4A.jpg</td>\n",
       "      <td>1</td>\n",
       "      <td>miniature_pinscher</td>\n",
       "      <td>0.560311</td>\n",
       "      <td>True</td>\n",
       "      <td>Rottweiler</td>\n",
       "      <td>0.243682</td>\n",
       "      <td>True</td>\n",
       "      <td>Doberman</td>\n",
       "      <td>0.154629</td>\n",
       "      <td>True</td>\n",
       "    </tr>\n",
       "    <tr>\n",
       "      <th>...</th>\n",
       "      <td>...</td>\n",
       "      <td>...</td>\n",
       "      <td>...</td>\n",
       "      <td>...</td>\n",
       "      <td>...</td>\n",
       "      <td>...</td>\n",
       "      <td>...</td>\n",
       "      <td>...</td>\n",
       "      <td>...</td>\n",
       "      <td>...</td>\n",
       "      <td>...</td>\n",
       "      <td>...</td>\n",
       "    </tr>\n",
       "    <tr>\n",
       "      <th>2070</th>\n",
       "      <td>891327558926688256</td>\n",
       "      <td>https://pbs.twimg.com/media/DF6hr6BUMAAzZgT.jpg</td>\n",
       "      <td>2</td>\n",
       "      <td>basset</td>\n",
       "      <td>0.555712</td>\n",
       "      <td>True</td>\n",
       "      <td>English_springer</td>\n",
       "      <td>0.225770</td>\n",
       "      <td>True</td>\n",
       "      <td>German_short-haired_pointer</td>\n",
       "      <td>0.175219</td>\n",
       "      <td>True</td>\n",
       "    </tr>\n",
       "    <tr>\n",
       "      <th>2071</th>\n",
       "      <td>891689557279858688</td>\n",
       "      <td>https://pbs.twimg.com/media/DF_q7IAWsAEuuN8.jpg</td>\n",
       "      <td>1</td>\n",
       "      <td>paper_towel</td>\n",
       "      <td>0.170278</td>\n",
       "      <td>False</td>\n",
       "      <td>Labrador_retriever</td>\n",
       "      <td>0.168086</td>\n",
       "      <td>True</td>\n",
       "      <td>spatula</td>\n",
       "      <td>0.040836</td>\n",
       "      <td>False</td>\n",
       "    </tr>\n",
       "    <tr>\n",
       "      <th>2072</th>\n",
       "      <td>891815181378084864</td>\n",
       "      <td>https://pbs.twimg.com/media/DGBdLU1WsAANxJ9.jpg</td>\n",
       "      <td>1</td>\n",
       "      <td>Chihuahua</td>\n",
       "      <td>0.716012</td>\n",
       "      <td>True</td>\n",
       "      <td>malamute</td>\n",
       "      <td>0.078253</td>\n",
       "      <td>True</td>\n",
       "      <td>kelpie</td>\n",
       "      <td>0.031379</td>\n",
       "      <td>True</td>\n",
       "    </tr>\n",
       "    <tr>\n",
       "      <th>2073</th>\n",
       "      <td>892177421306343426</td>\n",
       "      <td>https://pbs.twimg.com/media/DGGmoV4XsAAUL6n.jpg</td>\n",
       "      <td>1</td>\n",
       "      <td>Chihuahua</td>\n",
       "      <td>0.323581</td>\n",
       "      <td>True</td>\n",
       "      <td>Pekinese</td>\n",
       "      <td>0.090647</td>\n",
       "      <td>True</td>\n",
       "      <td>papillon</td>\n",
       "      <td>0.068957</td>\n",
       "      <td>True</td>\n",
       "    </tr>\n",
       "    <tr>\n",
       "      <th>2074</th>\n",
       "      <td>892420643555336193</td>\n",
       "      <td>https://pbs.twimg.com/media/DGKD1-bXoAAIAUK.jpg</td>\n",
       "      <td>1</td>\n",
       "      <td>orange</td>\n",
       "      <td>0.097049</td>\n",
       "      <td>False</td>\n",
       "      <td>bagel</td>\n",
       "      <td>0.085851</td>\n",
       "      <td>False</td>\n",
       "      <td>banana</td>\n",
       "      <td>0.076110</td>\n",
       "      <td>False</td>\n",
       "    </tr>\n",
       "  </tbody>\n",
       "</table>\n",
       "<p>2075 rows × 12 columns</p>\n",
       "</div>"
      ],
      "text/plain": [
       "                tweet_id                                          jpg_url  \\\n",
       "0     666020888022790149  https://pbs.twimg.com/media/CT4udn0WwAA0aMy.jpg   \n",
       "1     666029285002620928  https://pbs.twimg.com/media/CT42GRgUYAA5iDo.jpg   \n",
       "2     666033412701032449  https://pbs.twimg.com/media/CT4521TWwAEvMyu.jpg   \n",
       "3     666044226329800704  https://pbs.twimg.com/media/CT5Dr8HUEAA-lEu.jpg   \n",
       "4     666049248165822465  https://pbs.twimg.com/media/CT5IQmsXIAAKY4A.jpg   \n",
       "...                  ...                                              ...   \n",
       "2070  891327558926688256  https://pbs.twimg.com/media/DF6hr6BUMAAzZgT.jpg   \n",
       "2071  891689557279858688  https://pbs.twimg.com/media/DF_q7IAWsAEuuN8.jpg   \n",
       "2072  891815181378084864  https://pbs.twimg.com/media/DGBdLU1WsAANxJ9.jpg   \n",
       "2073  892177421306343426  https://pbs.twimg.com/media/DGGmoV4XsAAUL6n.jpg   \n",
       "2074  892420643555336193  https://pbs.twimg.com/media/DGKD1-bXoAAIAUK.jpg   \n",
       "\n",
       "      img_num                      p1   p1_conf  p1_dog                  p2  \\\n",
       "0           1  Welsh_springer_spaniel  0.465074    True              collie   \n",
       "1           1                 redbone  0.506826    True  miniature_pinscher   \n",
       "2           1         German_shepherd  0.596461    True            malinois   \n",
       "3           1     Rhodesian_ridgeback  0.408143    True             redbone   \n",
       "4           1      miniature_pinscher  0.560311    True          Rottweiler   \n",
       "...       ...                     ...       ...     ...                 ...   \n",
       "2070        2                  basset  0.555712    True    English_springer   \n",
       "2071        1             paper_towel  0.170278   False  Labrador_retriever   \n",
       "2072        1               Chihuahua  0.716012    True            malamute   \n",
       "2073        1               Chihuahua  0.323581    True            Pekinese   \n",
       "2074        1                  orange  0.097049   False               bagel   \n",
       "\n",
       "       p2_conf  p2_dog                           p3   p3_conf  p3_dog  \n",
       "0     0.156665    True            Shetland_sheepdog  0.061428    True  \n",
       "1     0.074192    True          Rhodesian_ridgeback  0.072010    True  \n",
       "2     0.138584    True                   bloodhound  0.116197    True  \n",
       "3     0.360687    True           miniature_pinscher  0.222752    True  \n",
       "4     0.243682    True                     Doberman  0.154629    True  \n",
       "...        ...     ...                          ...       ...     ...  \n",
       "2070  0.225770    True  German_short-haired_pointer  0.175219    True  \n",
       "2071  0.168086    True                      spatula  0.040836   False  \n",
       "2072  0.078253    True                       kelpie  0.031379    True  \n",
       "2073  0.090647    True                     papillon  0.068957    True  \n",
       "2074  0.085851   False                       banana  0.076110   False  \n",
       "\n",
       "[2075 rows x 12 columns]"
      ]
     },
     "execution_count": 15,
     "metadata": {},
     "output_type": "execute_result"
    }
   ],
   "source": [
    "predictions"
   ]
  },
  {
   "cell_type": "markdown",
   "id": "d23234ff",
   "metadata": {},
   "source": [
    "I also opened this data in google sheets and after some Non-Directed Visual Assessment here are the issues I concluded :  \n",
    "Quality : Inconsistency of the predictions where they are sometimes title-cased and sometimes all lowercase\n",
    "\n",
    "Tidiness : \n",
    "- The img_num column doesn't have really that much benefit in our data so it can be dropped\n",
    "- The underscores in the breed predictions aren't friendly for the human reader\n"
   ]
  },
  {
   "cell_type": "markdown",
   "id": "8bcd16a0",
   "metadata": {},
   "source": [
    "<hr>"
   ]
  },
  {
   "cell_type": "markdown",
   "id": "adc23993",
   "metadata": {},
   "source": [
    "<h4>Programmatic Assessment</h4>"
   ]
  },
  {
   "cell_type": "markdown",
   "id": "516a0d1b",
   "metadata": {},
   "source": [
    "<h5>DataFrame's Basic Info</h5>"
   ]
  },
  {
   "cell_type": "code",
   "execution_count": null,
   "id": "e50c5c74",
   "metadata": {
    "execution": {
     "iopub.execute_input": "2025-04-27T12:28:33.480490Z",
     "iopub.status.busy": "2025-04-27T12:28:33.479275Z",
     "iopub.status.idle": "2025-04-27T12:28:33.503018Z",
     "shell.execute_reply": "2025-04-27T12:28:33.500998Z",
     "shell.execute_reply.started": "2025-04-27T12:28:33.480428Z"
    }
   },
   "outputs": [
    {
     "name": "stdout",
     "output_type": "stream",
     "text": [
      "<class 'pandas.core.frame.DataFrame'>\n",
      "RangeIndex: 2075 entries, 0 to 2074\n",
      "Data columns (total 12 columns):\n",
      " #   Column    Non-Null Count  Dtype  \n",
      "---  ------    --------------  -----  \n",
      " 0   tweet_id  2075 non-null   int64  \n",
      " 1   jpg_url   2075 non-null   object \n",
      " 2   img_num   2075 non-null   int64  \n",
      " 3   p1        2075 non-null   object \n",
      " 4   p1_conf   2075 non-null   float64\n",
      " 5   p1_dog    2075 non-null   bool   \n",
      " 6   p2        2075 non-null   object \n",
      " 7   p2_conf   2075 non-null   float64\n",
      " 8   p2_dog    2075 non-null   bool   \n",
      " 9   p3        2075 non-null   object \n",
      " 10  p3_conf   2075 non-null   float64\n",
      " 11  p3_dog    2075 non-null   bool   \n",
      "dtypes: bool(3), float64(3), int64(2), object(4)\n",
      "memory usage: 152.1+ KB\n"
     ]
    }
   ],
   "source": [
    "predictions.info()"
   ]
  },
  {
   "cell_type": "markdown",
   "id": "7618a4df",
   "metadata": {},
   "source": [
    "<hr>"
   ]
  },
  {
   "cell_type": "markdown",
   "id": "4bae120b",
   "metadata": {},
   "source": [
    "<h5>Uniqueness</h5>"
   ]
  },
  {
   "cell_type": "code",
   "execution_count": null,
   "id": "f605b6f2",
   "metadata": {
    "execution": {
     "iopub.execute_input": "2025-04-27T12:28:33.507258Z",
     "iopub.status.busy": "2025-04-27T12:28:33.505794Z",
     "iopub.status.idle": "2025-04-27T12:28:33.522388Z",
     "shell.execute_reply": "2025-04-27T12:28:33.521000Z",
     "shell.execute_reply.started": "2025-04-27T12:28:33.507211Z"
    }
   },
   "outputs": [
    {
     "data": {
      "text/plain": [
       "np.int64(66)"
      ]
     },
     "execution_count": 17,
     "metadata": {},
     "output_type": "execute_result"
    }
   ],
   "source": [
    "# Since the entire data of this dataframe is built on the jpg file of the dog, then we must search for duplicates\n",
    "predictions[\"jpg_url\"].duplicated().sum()"
   ]
  },
  {
   "cell_type": "markdown",
   "id": "05d5234c",
   "metadata": {},
   "source": [
    "66 duplicate images in the data that should be removed"
   ]
  },
  {
   "cell_type": "markdown",
   "id": "0cd6a10c",
   "metadata": {},
   "source": [
    "<hr>"
   ]
  },
  {
   "cell_type": "markdown",
   "id": "401ca5b9",
   "metadata": {},
   "source": [
    "<h5>Completeness</h5>"
   ]
  },
  {
   "cell_type": "code",
   "execution_count": null,
   "id": "f777b71f",
   "metadata": {
    "execution": {
     "iopub.execute_input": "2025-04-27T12:28:33.526500Z",
     "iopub.status.busy": "2025-04-27T12:28:33.525361Z",
     "iopub.status.idle": "2025-04-27T12:28:33.543413Z",
     "shell.execute_reply": "2025-04-27T12:28:33.541585Z",
     "shell.execute_reply.started": "2025-04-27T12:28:33.526430Z"
    }
   },
   "outputs": [
    {
     "data": {
      "text/plain": [
       "tweet_id    0\n",
       "jpg_url     0\n",
       "img_num     0\n",
       "p1          0\n",
       "p1_conf     0\n",
       "p1_dog      0\n",
       "p2          0\n",
       "p2_conf     0\n",
       "p2_dog      0\n",
       "p3          0\n",
       "p3_conf     0\n",
       "p3_dog      0\n",
       "dtype: int64"
      ]
     },
     "execution_count": 18,
     "metadata": {},
     "output_type": "execute_result"
    }
   ],
   "source": [
    "# Missing Data (NaNs)\n",
    "predictions.isna().sum()"
   ]
  },
  {
   "cell_type": "markdown",
   "id": "9a108e73",
   "metadata": {},
   "source": [
    "The data is complete !"
   ]
  },
  {
   "cell_type": "markdown",
   "id": "fec7590b",
   "metadata": {},
   "source": [
    "<hr>"
   ]
  },
  {
   "cell_type": "markdown",
   "id": "52302659",
   "metadata": {},
   "source": [
    "<h5>Validity</h5>"
   ]
  },
  {
   "cell_type": "code",
   "execution_count": null,
   "id": "1188a951",
   "metadata": {
    "execution": {
     "iopub.execute_input": "2025-04-27T12:28:33.546819Z",
     "iopub.status.busy": "2025-04-27T12:28:33.545527Z",
     "iopub.status.idle": "2025-04-27T12:28:33.572181Z",
     "shell.execute_reply": "2025-04-27T12:28:33.569529Z",
     "shell.execute_reply.started": "2025-04-27T12:28:33.546697Z"
    }
   },
   "outputs": [
    {
     "name": "stdout",
     "output_type": "stream",
     "text": [
      "p1_conf : [0.465074  0.506826  0.596461  ... 0.716012  0.323581  0.0970486]\n",
      "\n",
      "\n",
      "p1_dog : [ True False]\n",
      "\n",
      "\n",
      "p2 : ['collie' 'miniature_pinscher' 'malinois' 'redbone' 'Rottweiler'\n",
      " 'English_springer' 'mud_turtle' 'Tibetan_mastiff' 'shopping_basket'\n",
      " 'komondor' 'Yorkshire_terrier' 'English_foxhound' 'bull_mastiff'\n",
      " 'German_shepherd' 'Shih-Tzu' 'Newfoundland' 'cock' 'desk' 'toy_terrier'\n",
      " 'toy_poodle' 'otter' 'Chesapeake_Bay_retriever' 'Siberian_husky' 'skunk'\n",
      " 'Afghan_hound' 'bloodhound' 'barracouta' 'papillon' 'cocker_spaniel'\n",
      " 'chow' 'Irish_terrier' 'chain_saw' 'beagle' 'giant_schnauzer'\n",
      " 'Labrador_retriever' 'Pembroke' 'Chihuahua' 'Weimaraner' 'slug'\n",
      " 'Brittany_spaniel' 'standard_schnauzer' 'teddy' 'armadillo'\n",
      " 'African_hunting_dog' 'vizsla' 'doormat' 'pug' 'Italian_greyhound'\n",
      " 'Samoyed' 'Pomeranian' 'miniature_poodle' 'Lakeland_terrier'\n",
      " 'Irish_setter' 'swab' 'malamute' 'bath_towel' 'Border_collie' 'Leonberg'\n",
      " 'drake' 'French_bulldog' 'ice_bear' 'Christmas_stocking'\n",
      " 'golden_retriever' 'standard_poodle' 'dhole' 'kuvasz' 'Cardigan'\n",
      " 'silky_terrier' 'spotlight' 'dishwasher' 'bighorn' 'tow_truck'\n",
      " 'hummingbird' 'English_setter' 'prayer_rug' 'frilled_lizard' 'Pekinese'\n",
      " 'ox' 'boxer' 'hog' 'guinea_pig' 'hen' 'wallaby' 'cowboy_boot' 'cornet'\n",
      " 'minivan' 'paddle' 'basset' 'hamper' 'Bedlington_terrier'\n",
      " 'Shetland_sheepdog' 'bow' 'Lhasa' 'pelican' 'toaster' 'groenendael'\n",
      " 'Australian_terrier' 'llama' 'knee_pad' 'pillow' 'Ibizan_hound'\n",
      " 'Old_English_sheepdog' 'Welsh_springer_spaniel' 'coral_reef' 'bison'\n",
      " 'waffle_iron' 'tabby' 'bib' 'police_van' 'Eskimo_dog' 'breastplate'\n",
      " 'German_short-haired_pointer' 'Norfolk_terrier' 'Blenheim_spaniel'\n",
      " 'pickup' 'miniature_schnauzer' 'lampshade' 'Tibetan_terrier'\n",
      " 'Siamese_cat' 'borzoi' 'studio_couch' 'toilet_seat' 'hamster' 'seat_belt'\n",
      " 'keeshond' 'koala' 'hair_spray' 'Saint_Bernard' 'tray'\n",
      " 'American_Staffordshire_terrier' 'birdhouse' 'terrapin'\n",
      " 'Staffordshire_bullterrier' 'briard' 'West_Highland_white_terrier'\n",
      " 'spotted_salamander' 'tennis_ball' 'porcupine' 'cardigan' 'corn'\n",
      " 'basenji' 'otterhound' 'European_gallinule' 'indri' 'tailed_frog'\n",
      " 'beach_wagon' 'siamang' 'orange' 'home_theater' 'cairn' 'hare'\n",
      " 'Norwegian_elkhound' 'Brabancon_griffon' 'American_black_bear'\n",
      " 'sulphur_butterfly' 'Sealyham_terrier' 'Walker_hound' 'tarantula'\n",
      " 'Persian_cat' 'coral_fungus' 'accordion' 'kelpie' 'Great_Pyrenees'\n",
      " 'wood_rabbit' 'black-and-tan_coonhound' 'sunglasses' 'plow' 'whippet'\n",
      " 'rain_barrel' 'bathtub' 'tiger' 'snail' 'tick' 'wire-haired_fox_terrier'\n",
      " 'water_bottle' 'wig' 'platypus' 'Irish_wolfhound' 'ram' 'gorilla'\n",
      " 'entertainment_center' 'toucan' 'mask' 'shopping_cart' 'Sussex_spaniel'\n",
      " 'crate' 'grey_whale' 'badger' 'Airedale' 'Arabian_camel' 'cockroach'\n",
      " 'lifeboat' 'rotisserie' 'goldfish' 'stingray' 'warthog' 'bobsled'\n",
      " 'rhinoceros_beetle' 'beaver' 'brown_bear' 'Maltese_dog' 'weasel' 'quill'\n",
      " 'Rhodesian_ridgeback' 'Arctic_fox' 'ashcan' 'bow_tie'\n",
      " 'soft-coated_wheaten_terrier' 'schipperke' 'bearskin'\n",
      " 'Kerry_blue_terrier' 'ice_lolly' 'American_alligator' 'mosquito_net'\n",
      " 'sea_lion' 'Boston_bull' 'nail' 'black-footed_ferret' 'promontory'\n",
      " 'sarong' 'Doberman' 'space_heater' 'Great_Dane' 'mailbox' 'Saluki'\n",
      " 'bakery' 'sandal' 'leafhopper' 'barrel' 'water_buffalo' 'polecat'\n",
      " 'macaque' 'Japanese_spaniel' 'folding_chair' 'trench_coat' 'Angora'\n",
      " 'junco' 'crib' 'dalmatian' 'snowmobile' 'flat-coated_retriever'\n",
      " 'streetcar' 'window_screen' 'bannister' 'hair_slide' 'meerkat' 'cannon'\n",
      " 'jaguar' 'Border_terrier' 'Greater_Swiss_Mountain_dog' 'hay' 'apron'\n",
      " 'cloak' 'radiator' 'muzzle' 'feather_boa' 'rifle' 'chimpanzee'\n",
      " 'loggerhead' 'torch' 'Mexican_hairless' 'spindle' 'triceratops'\n",
      " 'Appenzeller' 'stove' 'dingo' 'oscilloscope' 'common_newt' 'hotdog'\n",
      " 'medicine_chest' 'quail' 'horse_cart' 'four-poster' 'pier' 'red_fox'\n",
      " 'affenpinscher' 'assault_rifle' 'mashed_potato' 'moped' 'hyena'\n",
      " 'seashore' 'tub' 'sports_car' 'swing' 'mink' 'bluetick' 'neck_brace'\n",
      " 'grey_fox' 'mongoose' 'fur_coat' 'Scotch_terrier' 'spatula' 'paper_towel'\n",
      " 'shoji' 'toyshop' 'banded_gecko' 'peacock' 'crossword_puzzle' 'tree_frog'\n",
      " 'wombat' 'turnstile' 'sleeping_bag' 'quilt' 'Gila_monster' 'giant_panda'\n",
      " 'Dandie_Dinmont' 'handkerchief' 'sombrero' 'Indian_elephant' 'coffee_mug'\n",
      " 'gibbon' 'carton' 'screw' 'minibus' 'hatchet' 'window_shade' 'lawn_mower'\n",
      " 'washbasin' 'sock' 'prison' 'patio' 'china_cabinet' 'chain_mail'\n",
      " 'breakwater' 'computer_keyboard' 'goose' 'lakeside' 'solar_dish'\n",
      " 'table_lamp' 'Windsor_tie' 'punching_bag' 'comic_book' 'sunglass'\n",
      " 'great_white_shark' 'timber_wolf' 'fountain' 'dugong' 'marmot'\n",
      " 'barbershop' 'shovel' 'curly-coated_retriever' 'lesser_panda' 'monitor'\n",
      " 'crutch' 'cash_machine' 'printer' 'volcano' 'wallet' 'laptop'\n",
      " 'bathing_cap' 'confectionery' 'dam' 'killer_whale' 'canoe'\n",
      " 'Madagascar_cat' 'jean' 'boathouse' 'cliff' 'maillot' 'iPod'\n",
      " 'hand-held_computer' 'black_widow' 'Norwich_terrier' 'necklace'\n",
      " 'dining_table' 'binoculars' 'cradle' 'sea_urchin' 'cougar' 'EntleBucher'\n",
      " 'basketball' 'lighter' 'saltshaker' 'harvester' 'television' 'envelope'\n",
      " 'house_finch' 'web_site' 'palace' 'shower_curtain' 'cab' 'snorkel'\n",
      " 'jigsaw_puzzle' 'sweatshirt' 'white_wolf' 'sliding_door' 'academic_gown'\n",
      " 'cowboy_hat' 'can_opener' 'cup' 'rule' 'soccer_ball' 'bucket' 'racket'\n",
      " 'menu' 'purse' 'Bernese_mountain_dog' 'dumbbell' 'projectile' 'dock'\n",
      " 'oxygen_mask' 'sandbar' 'umbrella' 'shower_cap' 'bagel']\n",
      "\n",
      "\n",
      "p2_conf : [0.156665  0.0741917 0.138584  ... 0.078253  0.0906465 0.0858511]\n",
      "\n",
      "\n",
      "p2_dog : [ True False]\n",
      "\n",
      "\n",
      "p3 : ['Shetland_sheepdog' 'Rhodesian_ridgeback' 'bloodhound'\n",
      " 'miniature_pinscher' 'Doberman' 'Greater_Swiss_Mountain_dog' 'terrapin'\n",
      " 'fur_coat' 'golden_retriever' 'soft-coated_wheaten_terrier'\n",
      " 'Labrador_retriever' 'Pekinese' 'Ibizan_hound' 'French_bulldog'\n",
      " 'malinois' 'Dandie_Dinmont' 'borzoi' 'partridge' 'bookcase' 'basenji'\n",
      " 'miniature_poodle' 'great_grey_owl' 'groenendael' 'Eskimo_dog' 'hamster'\n",
      " 'briard' 'papillon' 'flat-coated_retriever' 'gar' 'Chihuahua' 'Shih-Tzu'\n",
      " 'Pomeranian' 'dingo' 'power_drill' 'Saluki' 'Great_Pyrenees'\n",
      " 'West_Highland_white_terrier' 'collie' 'toy_poodle' 'vizsla' 'acorn'\n",
      " 'giant_schnauzer' 'teddy' 'common_iguana' 'wig' 'water_buffalo' 'coyote'\n",
      " 'seat_belt' 'kelpie' 'space_heater' 'Brabancon_griffon' 'standard_poodle'\n",
      " 'beagle' 'Irish_water_spaniel' 'bluetick' 'Weimaraner'\n",
      " 'Chesapeake_Bay_retriever' 'toilet_tissue' 'black-and-tan_coonhound'\n",
      " 'kuvasz' 'Christmas_stocking' 'badger' 'hen' 'Staffordshire_bullterrier'\n",
      " 'Yorkshire_terrier' 'Lakeland_terrier' 'weasel' 'ski_mask'\n",
      " 'cocker_spaniel' 'Australian_terrier' 'lampshade' 'oscilloscope' 'ram'\n",
      " 'jeep' 'ice_bear' 'African_grey' 'Great_Dane' 'curly-coated_retriever'\n",
      " 'doormat' 'African_chameleon' 'schipperke' 'muzzle' 'triceratops'\n",
      " 'Newfoundland' 'Band_Aid' 'wood_rabbit' 'white_wolf' 'giant_panda'\n",
      " 'Welsh_springer_spaniel' 'French_horn' 'toy_terrier' 'Pembroke'\n",
      " 'Cardigan' 'bassinet' 'pug' 'Afghan_hound'\n",
      " 'American_Staffordshire_terrier' 'whippet' 'English_setter' 'panpipe'\n",
      " 'crane' 'mouse' 'titi' 'Angora' 'Boston_bull' 'silky_terrier'\n",
      " 'Japanese_spaniel' 'sandbar' 'balance_beam' 'black-footed_ferret'\n",
      " 'miniature_schnauzer' 'Blenheim_spaniel' 'bathtub' 'Saint_Bernard'\n",
      " 'redbone' 'goldfish' 'Norfolk_terrier' 'llama' 'koala' 'pillow' 'jersey'\n",
      " 'chow' 'minibus' 'malamute' 'bulletproof_vest' 'beach_wagon' 'cairn'\n",
      " 'plunger' 'paper_towel' 'wing' 'English_foxhound' 'Brittany_spaniel'\n",
      " 'bolete' 'ashcan' 'box_turtle' 'guinea_pig' 'bison' 'bull_mastiff'\n",
      " 'racket' 'cardoon' 'Tibetan_mastiff' 'window_screen' 'Irish_terrier'\n",
      " 'agama' 'common_newt' 'car_wheel' 'gorilla' 'bagel' 'clumber'\n",
      " 'Egyptian_cat' 'television' 'boxer' 'brown_bear' 'leafhopper'\n",
      " 'German_shepherd' 'Border_collie' 'menu' 'wolf_spider' 'bathing_cap'\n",
      " 'stinkhorn' 'drumstick' 'mask' 'Scottish_deerhound' 'shower_curtain'\n",
      " 'Appenzeller' 'plastic_bag' 'swimming_trunks' 'prairie_chicken'\n",
      " 'red_wolf' 'Maltese_dog' 'snail' 'gibbon' 'Gordon_setter' 'black_swan'\n",
      " 'beacon' 'wool' 'cowboy_boot' 'Rottweiler' 'poncho' 'swing' 'Arctic_fox'\n",
      " 'bib' 'Italian_greyhound' 'steam_locomotive' 'fountain' 'chickadee'\n",
      " 'abaya' 'Border_terrier' 'bubble' 'chimpanzee' 'hammerhead'\n",
      " 'Norwegian_elkhound' 'Norwich_terrier' 'Airedale' 'Siamese_cat'\n",
      " 'sea_cucumber' 'seashore' 'nipple' 'moped' 'Arabian_camel' 'crayfish'\n",
      " 'wallaby' 'wire-haired_fox_terrier' 'toilet_seat' 'Old_English_sheepdog'\n",
      " 'pajama' 'Walker_hound' 'shovel' 'bucket' 'Sealyham_terrier'\n",
      " 'Windsor_tie' 'Siberian_husky' 'quill' 'Persian_cat'\n",
      " 'European_fire_salamander' 'three-toed_sloth' 'swab' 'echidna'\n",
      " 'tennis_ball' 'Lhasa' 'coral_reef' 'keeshond' 'mink' 'screw' 'basset'\n",
      " 'wreck' 'kimono' 'German_short-haired_pointer' 'joystick' 'microwave'\n",
      " 'Tibetan_terrier' 'Irish_wolfhound' 'Samoyed' 'loggerhead' 'French_loaf'\n",
      " 'Irish_setter' 'komondor' 'purse' 'greenhouse' 'broccoli'\n",
      " 'shopping_basket' 'macaque' 'squirrel_monkey' 'green_lizard'\n",
      " 'parallel_bars' 'cloak' 'chest' 'sundial' 'mosquito_net' 'bath_towel'\n",
      " 'cuirass' 'zebra' 'lumbermill' 'wallet' 'feather_boa' 'English_springer'\n",
      " 'electric_fan' 'hippopotamus' 'ox' 'quilt' 'assault_rifle' 'axolotl'\n",
      " 'pot' 'toyshop' 'pizza' 'scuba_diver' 'beaver' 'Mexican_hairless' 'cliff'\n",
      " 'loupe' 'wild_boar' 'jaguar' 'hog' 'polecat' 'lion' 'EntleBucher'\n",
      " 'hand-held_computer' 'washbasin' 'whiptail' 'rock_crab' 'hare' 'shoji'\n",
      " 'sombrero' 'bell_cote' 'rifle' 'goose' 'pickup' 'sunglasses' 'limousine'\n",
      " 'bow_tie' 'pretzel' 'marmot' 'ice_lolly' 'vacuum' 'dalmatian' 'prison'\n",
      " 'shower_cap' 'sliding_door' 'dugong' 'otterhound' 'eel' 'binder'\n",
      " 'bullfrog' 'soap_dispenser' 'sea_lion' 'carton' 'brass' 'mitten'\n",
      " 'golfcart' 'cougar' 'warthog' 'umbrella' 'neck_brace' 'cup' 'book_jacket'\n",
      " 'padlock' 'cab' 'chime' 'Leonberg' 'viaduct' 'American_black_bear' 'tub'\n",
      " 'hand_blower' 'king_penguin' 'rotisserie' 'bannister' 'passenger_car'\n",
      " 'mongoose' 'dhole' 'consomme' 'valley' 'park_bench' 'mushroom' 'barrow'\n",
      " 'parachute' 'desktop_computer' 'snorkel' 'wok' 'affenpinscher'\n",
      " 'space_shuttle' 'rain_barrel' 'ballplayer' 'mountain_tent' 'oxcart'\n",
      " 'buckeye' 'sunglass' 'croquet_ball' 'refrigerator' 'snow_leopard'\n",
      " 'tripod' 'rapeseed' 'tiger_cat' 'Bernese_mountain_dog' 'notebook'\n",
      " 'maraca' 'pool_table' 'lakeside' 'theater_curtain' 'pier' 'cheetah'\n",
      " 'mousetrap' 'pop_bottle' 'soccer_ball' 'wombat' 'rhinoceros_beetle'\n",
      " 'paddlewheel' 'paintbrush' 'maze' 'hatchet' 'chain' 'jigsaw_puzzle'\n",
      " 'switch' 'Kerry_blue_terrier' 'barbell' 'convertible'\n",
      " 'entertainment_center' 'file' 'guillotine' 'nail' 'standard_schnauzer'\n",
      " 'bow' 'grocery_store' 'boathouse' 'conch' 'Bouvier_des_Flandres'\n",
      " 'grey_fox' 'shopping_cart' 'meerkat' 'grand_piano' 'envelope' 'screen'\n",
      " 'coffeepot' 'printer' 'otter' 'restaurant' 'bonnet' 'crossword_puzzle'\n",
      " 'go-kart' 'Sussex_spaniel' 'orangutan' 'canoe' 'barber_chair'\n",
      " 'traffic_light' 'ibex' 'can_opener' 'Indian_elephant' 'spatula' 'banana']\n",
      "\n",
      "\n",
      "p3_conf : [0.0614285 0.07201   0.116197  ... 0.0313789 0.0689569 0.07611  ]\n",
      "\n",
      "\n",
      "p3_dog : [ True False]\n",
      "\n",
      "\n"
     ]
    }
   ],
   "source": [
    "# We will call the function which we have defined earlier and pass to it the columns names we want to check\n",
    "# Since the first prediction column is the 4th index then we can start the slice from it\n",
    "columns = predictions.columns[4:]\n",
    "get_unique(predictions, columns)"
   ]
  },
  {
   "cell_type": "markdown",
   "id": "4811af17",
   "metadata": {},
   "source": [
    "Okay so here are my conclusions for the validity of this dataframe:\n",
    "- Predictions condifdence are all float numbers and valid\n",
    "- Some predictions don't make any sense at all but they can be ignored since the p_dog will then be *False*"
   ]
  },
  {
   "cell_type": "markdown",
   "id": "e96a31b6",
   "metadata": {},
   "source": [
    "<hr>"
   ]
  },
  {
   "cell_type": "markdown",
   "id": "503dd204",
   "metadata": {},
   "source": [
    "<h5>Data Types</h5>"
   ]
  },
  {
   "cell_type": "code",
   "execution_count": null,
   "id": "245930bc",
   "metadata": {
    "execution": {
     "iopub.execute_input": "2025-04-27T12:28:33.578224Z",
     "iopub.status.busy": "2025-04-27T12:28:33.576996Z",
     "iopub.status.idle": "2025-04-27T12:28:33.594241Z",
     "shell.execute_reply": "2025-04-27T12:28:33.592422Z",
     "shell.execute_reply.started": "2025-04-27T12:28:33.578152Z"
    }
   },
   "outputs": [
    {
     "data": {
      "text/plain": [
       "tweet_id      int64\n",
       "jpg_url      object\n",
       "img_num       int64\n",
       "p1           object\n",
       "p1_conf     float64\n",
       "p1_dog         bool\n",
       "p2           object\n",
       "p2_conf     float64\n",
       "p2_dog         bool\n",
       "p3           object\n",
       "p3_conf     float64\n",
       "p3_dog         bool\n",
       "dtype: object"
      ]
     },
     "execution_count": 20,
     "metadata": {},
     "output_type": "execute_result"
    }
   ],
   "source": [
    "predictions.dtypes"
   ]
  },
  {
   "cell_type": "markdown",
   "id": "4a10e044",
   "metadata": {},
   "source": [
    "Okay, so all columns have the matching data type except for the **tweet_id** which must be transformed into a string"
   ]
  },
  {
   "cell_type": "markdown",
   "id": "95862deb",
   "metadata": {},
   "source": [
    "<hr>"
   ]
  },
  {
   "cell_type": "markdown",
   "id": "f91a10fa",
   "metadata": {},
   "source": [
    "## 3 - Tweets Likes & Retweets"
   ]
  },
  {
   "cell_type": "markdown",
   "id": "66af2ad6",
   "metadata": {},
   "source": [
    "<h4>Visual Assessment</h4>"
   ]
  },
  {
   "cell_type": "code",
   "execution_count": null,
   "id": "bdc3f751",
   "metadata": {
    "execution": {
     "iopub.execute_input": "2025-04-27T12:28:33.598628Z",
     "iopub.status.busy": "2025-04-27T12:28:33.597028Z",
     "iopub.status.idle": "2025-04-27T12:28:33.619481Z",
     "shell.execute_reply": "2025-04-27T12:28:33.617774Z",
     "shell.execute_reply.started": "2025-04-27T12:28:33.598528Z"
    }
   },
   "outputs": [
    {
     "data": {
      "text/html": [
       "<div>\n",
       "<style scoped>\n",
       "    .dataframe tbody tr th:only-of-type {\n",
       "        vertical-align: middle;\n",
       "    }\n",
       "\n",
       "    .dataframe tbody tr th {\n",
       "        vertical-align: top;\n",
       "    }\n",
       "\n",
       "    .dataframe thead th {\n",
       "        text-align: right;\n",
       "    }\n",
       "</style>\n",
       "<table border=\"1\" class=\"dataframe\">\n",
       "  <thead>\n",
       "    <tr style=\"text-align: right;\">\n",
       "      <th></th>\n",
       "      <th>id</th>\n",
       "      <th>favorite_count</th>\n",
       "      <th>retweet_count</th>\n",
       "    </tr>\n",
       "  </thead>\n",
       "  <tbody>\n",
       "    <tr>\n",
       "      <th>0</th>\n",
       "      <td>892420643555336193</td>\n",
       "      <td>39467</td>\n",
       "      <td>8853</td>\n",
       "    </tr>\n",
       "    <tr>\n",
       "      <th>1</th>\n",
       "      <td>892177421306343426</td>\n",
       "      <td>33819</td>\n",
       "      <td>6514</td>\n",
       "    </tr>\n",
       "    <tr>\n",
       "      <th>2</th>\n",
       "      <td>891815181378084864</td>\n",
       "      <td>25461</td>\n",
       "      <td>4328</td>\n",
       "    </tr>\n",
       "    <tr>\n",
       "      <th>3</th>\n",
       "      <td>891689557279858688</td>\n",
       "      <td>42908</td>\n",
       "      <td>8964</td>\n",
       "    </tr>\n",
       "    <tr>\n",
       "      <th>4</th>\n",
       "      <td>891327558926688256</td>\n",
       "      <td>41048</td>\n",
       "      <td>9774</td>\n",
       "    </tr>\n",
       "    <tr>\n",
       "      <th>...</th>\n",
       "      <td>...</td>\n",
       "      <td>...</td>\n",
       "      <td>...</td>\n",
       "    </tr>\n",
       "    <tr>\n",
       "      <th>2349</th>\n",
       "      <td>666049248165822465</td>\n",
       "      <td>111</td>\n",
       "      <td>41</td>\n",
       "    </tr>\n",
       "    <tr>\n",
       "      <th>2350</th>\n",
       "      <td>666044226329800704</td>\n",
       "      <td>311</td>\n",
       "      <td>147</td>\n",
       "    </tr>\n",
       "    <tr>\n",
       "      <th>2351</th>\n",
       "      <td>666033412701032449</td>\n",
       "      <td>128</td>\n",
       "      <td>47</td>\n",
       "    </tr>\n",
       "    <tr>\n",
       "      <th>2352</th>\n",
       "      <td>666029285002620928</td>\n",
       "      <td>132</td>\n",
       "      <td>48</td>\n",
       "    </tr>\n",
       "    <tr>\n",
       "      <th>2353</th>\n",
       "      <td>666020888022790149</td>\n",
       "      <td>2535</td>\n",
       "      <td>532</td>\n",
       "    </tr>\n",
       "  </tbody>\n",
       "</table>\n",
       "<p>2354 rows × 3 columns</p>\n",
       "</div>"
      ],
      "text/plain": [
       "                      id  favorite_count  retweet_count\n",
       "0     892420643555336193           39467           8853\n",
       "1     892177421306343426           33819           6514\n",
       "2     891815181378084864           25461           4328\n",
       "3     891689557279858688           42908           8964\n",
       "4     891327558926688256           41048           9774\n",
       "...                  ...             ...            ...\n",
       "2349  666049248165822465             111             41\n",
       "2350  666044226329800704             311            147\n",
       "2351  666033412701032449             128             47\n",
       "2352  666029285002620928             132             48\n",
       "2353  666020888022790149            2535            532\n",
       "\n",
       "[2354 rows x 3 columns]"
      ]
     },
     "execution_count": 21,
     "metadata": {},
     "output_type": "execute_result"
    }
   ],
   "source": [
    "tweet_metrics"
   ]
  },
  {
   "cell_type": "markdown",
   "id": "c1708b99",
   "metadata": {},
   "source": [
    "I also loaded this data in google sheets and here is what I found:\n",
    "- Errorneous datatype for the tweet_id as it's represented as 8.34574E + 17 in a row\n",
    "- there are many missing values represented as zeros in the data which will be confirmed in programmatic assessment"
   ]
  },
  {
   "cell_type": "markdown",
   "id": "2de97588",
   "metadata": {},
   "source": [
    "<hr>"
   ]
  },
  {
   "cell_type": "markdown",
   "id": "ec975f47",
   "metadata": {},
   "source": [
    "<h4>Programmatic Assessment</h4>"
   ]
  },
  {
   "cell_type": "markdown",
   "id": "76fc89b5",
   "metadata": {},
   "source": [
    "<h5>DataFrame's Basic Info</h5>"
   ]
  },
  {
   "cell_type": "code",
   "execution_count": null,
   "id": "71c3f063",
   "metadata": {
    "execution": {
     "iopub.execute_input": "2025-04-27T12:28:33.623659Z",
     "iopub.status.busy": "2025-04-27T12:28:33.621645Z",
     "iopub.status.idle": "2025-04-27T12:28:33.646259Z",
     "shell.execute_reply": "2025-04-27T12:28:33.644123Z",
     "shell.execute_reply.started": "2025-04-27T12:28:33.622531Z"
    }
   },
   "outputs": [
    {
     "name": "stdout",
     "output_type": "stream",
     "text": [
      "<class 'pandas.core.frame.DataFrame'>\n",
      "RangeIndex: 2354 entries, 0 to 2353\n",
      "Data columns (total 3 columns):\n",
      " #   Column          Non-Null Count  Dtype\n",
      "---  ------          --------------  -----\n",
      " 0   id              2354 non-null   int64\n",
      " 1   favorite_count  2354 non-null   int64\n",
      " 2   retweet_count   2354 non-null   int64\n",
      "dtypes: int64(3)\n",
      "memory usage: 55.3 KB\n"
     ]
    }
   ],
   "source": [
    "tweet_metrics.info()"
   ]
  },
  {
   "cell_type": "markdown",
   "id": "5ef4da17",
   "metadata": {},
   "source": [
    "<hr>"
   ]
  },
  {
   "cell_type": "markdown",
   "id": "0fb2dfe7",
   "metadata": {},
   "source": [
    "<h5>Uniqueness</h5>"
   ]
  },
  {
   "cell_type": "code",
   "execution_count": null,
   "id": "41b4af81",
   "metadata": {
    "execution": {
     "iopub.execute_input": "2025-04-27T12:28:33.651529Z",
     "iopub.status.busy": "2025-04-27T12:28:33.650423Z",
     "iopub.status.idle": "2025-04-27T12:28:33.666918Z",
     "shell.execute_reply": "2025-04-27T12:28:33.663867Z",
     "shell.execute_reply.started": "2025-04-27T12:28:33.651458Z"
    }
   },
   "outputs": [
    {
     "data": {
      "text/plain": [
       "np.int64(0)"
      ]
     },
     "execution_count": 23,
     "metadata": {},
     "output_type": "execute_result"
    }
   ],
   "source": [
    "# Since the Tweet_Id is the unique Identifier, then we will use it for checking\n",
    "tweet_metrics[\"id\"].duplicated().sum()"
   ]
  },
  {
   "cell_type": "markdown",
   "id": "4062f6d6",
   "metadata": {},
   "source": [
    "No Duplicates!"
   ]
  },
  {
   "cell_type": "markdown",
   "id": "d6b53cd3",
   "metadata": {},
   "source": [
    "<hr>"
   ]
  },
  {
   "cell_type": "markdown",
   "id": "6e974989",
   "metadata": {},
   "source": [
    "<h5>Validity</h5>"
   ]
  },
  {
   "cell_type": "code",
   "execution_count": null,
   "id": "4070eee1",
   "metadata": {
    "execution": {
     "iopub.execute_input": "2025-04-27T12:28:33.671582Z",
     "iopub.status.busy": "2025-04-27T12:28:33.669149Z",
     "iopub.status.idle": "2025-04-27T12:28:33.709833Z",
     "shell.execute_reply": "2025-04-27T12:28:33.707144Z",
     "shell.execute_reply.started": "2025-04-27T12:28:33.670712Z"
    }
   },
   "outputs": [
    {
     "data": {
      "text/html": [
       "<div>\n",
       "<style scoped>\n",
       "    .dataframe tbody tr th:only-of-type {\n",
       "        vertical-align: middle;\n",
       "    }\n",
       "\n",
       "    .dataframe tbody tr th {\n",
       "        vertical-align: top;\n",
       "    }\n",
       "\n",
       "    .dataframe thead th {\n",
       "        text-align: right;\n",
       "    }\n",
       "</style>\n",
       "<table border=\"1\" class=\"dataframe\">\n",
       "  <thead>\n",
       "    <tr style=\"text-align: right;\">\n",
       "      <th></th>\n",
       "      <th>favorite_count</th>\n",
       "      <th>retweet_count</th>\n",
       "    </tr>\n",
       "  </thead>\n",
       "  <tbody>\n",
       "    <tr>\n",
       "      <th>count</th>\n",
       "      <td>2354.000000</td>\n",
       "      <td>2354.000000</td>\n",
       "    </tr>\n",
       "    <tr>\n",
       "      <th>mean</th>\n",
       "      <td>8080.968564</td>\n",
       "      <td>3164.797366</td>\n",
       "    </tr>\n",
       "    <tr>\n",
       "      <th>std</th>\n",
       "      <td>11814.771334</td>\n",
       "      <td>5284.770364</td>\n",
       "    </tr>\n",
       "    <tr>\n",
       "      <th>min</th>\n",
       "      <td>0.000000</td>\n",
       "      <td>0.000000</td>\n",
       "    </tr>\n",
       "    <tr>\n",
       "      <th>25%</th>\n",
       "      <td>1415.000000</td>\n",
       "      <td>624.500000</td>\n",
       "    </tr>\n",
       "    <tr>\n",
       "      <th>50%</th>\n",
       "      <td>3603.500000</td>\n",
       "      <td>1473.500000</td>\n",
       "    </tr>\n",
       "    <tr>\n",
       "      <th>75%</th>\n",
       "      <td>10122.250000</td>\n",
       "      <td>3652.000000</td>\n",
       "    </tr>\n",
       "    <tr>\n",
       "      <th>max</th>\n",
       "      <td>132810.000000</td>\n",
       "      <td>79515.000000</td>\n",
       "    </tr>\n",
       "  </tbody>\n",
       "</table>\n",
       "</div>"
      ],
      "text/plain": [
       "       favorite_count  retweet_count\n",
       "count     2354.000000    2354.000000\n",
       "mean      8080.968564    3164.797366\n",
       "std      11814.771334    5284.770364\n",
       "min          0.000000       0.000000\n",
       "25%       1415.000000     624.500000\n",
       "50%       3603.500000    1473.500000\n",
       "75%      10122.250000    3652.000000\n",
       "max     132810.000000   79515.000000"
      ]
     },
     "execution_count": 24,
     "metadata": {},
     "output_type": "execute_result"
    }
   ],
   "source": [
    "# Since the two columns here are numerical, we will verify the validity using .describe()\n",
    "# Excluding Tweet_id since it holds no numerical value/meaning\n",
    "tweet_metrics.loc[:, \"favorite_count\":].describe()"
   ]
  },
  {
   "cell_type": "markdown",
   "id": "00050092",
   "metadata": {},
   "source": [
    "Okay so this data is valid as there are neither negative values nor non-realistic values  \n",
    "\n",
    "regarding the huge gap between the max and 3<sup>rd</sup> quartile, this is totally fine since this is the nature of social media.  \n",
    "\n",
    "Some tweets blow up and go as a trend, some others get buried and ignored  \n",
    "so the max number isn't fake and accurate"
   ]
  },
  {
   "cell_type": "markdown",
   "id": "e0e87355",
   "metadata": {},
   "source": [
    "<hr>"
   ]
  },
  {
   "cell_type": "markdown",
   "id": "0558ae9f",
   "metadata": {},
   "source": [
    "<h5>Completeness</h5>\n",
    "Here we will confirm what we noticed in the visual assessment which was :  <br>\n",
    "There are many zero values which will likely be representing a missing value"
   ]
  },
  {
   "cell_type": "code",
   "execution_count": null,
   "id": "e94318ef",
   "metadata": {
    "execution": {
     "iopub.execute_input": "2025-04-27T12:28:33.713826Z",
     "iopub.status.busy": "2025-04-27T12:28:33.712749Z",
     "iopub.status.idle": "2025-04-27T12:28:33.729305Z",
     "shell.execute_reply": "2025-04-27T12:28:33.727414Z",
     "shell.execute_reply.started": "2025-04-27T12:28:33.713766Z"
    }
   },
   "outputs": [
    {
     "data": {
      "text/plain": [
       "180"
      ]
     },
     "execution_count": 25,
     "metadata": {},
     "output_type": "execute_result"
    }
   ],
   "source": [
    "# Using boolean indexing to get the rows with zeros in either the retweets or likes\n",
    "# Using .shape to return dimensions then accessing first element to get number of rows\n",
    "tweet_metrics[\n",
    "    (tweet_metrics[\"favorite_count\"] == 0)\n",
    "    | (tweet_metrics[\"retweet_count\"] == 0)\n",
    "].shape[0]"
   ]
  },
  {
   "cell_type": "markdown",
   "id": "f33a194e",
   "metadata": {},
   "source": [
    "So the data has 180 rows containing a zero in either the retweets or likes.  \n",
    "\n",
    "This shall be considered as missing values since this profile is popular and it's very unlikey that a post doesn't have likes / retweets  \n",
    "\n",
    "I also confirmed that this data was missing by looking up the original post of one of these rows. It didn't have zero likes / retweets"
   ]
  },
  {
   "cell_type": "markdown",
   "id": "89c18e82",
   "metadata": {},
   "source": [
    "<hr>"
   ]
  },
  {
   "cell_type": "markdown",
   "id": "f6dea353",
   "metadata": {},
   "source": [
    "<h5>Data Types</h5>"
   ]
  },
  {
   "cell_type": "code",
   "execution_count": null,
   "id": "46193b2b",
   "metadata": {
    "execution": {
     "iopub.execute_input": "2025-04-27T12:28:33.734006Z",
     "iopub.status.busy": "2025-04-27T12:28:33.731877Z",
     "iopub.status.idle": "2025-04-27T12:28:33.747117Z",
     "shell.execute_reply": "2025-04-27T12:28:33.745575Z",
     "shell.execute_reply.started": "2025-04-27T12:28:33.733920Z"
    }
   },
   "outputs": [
    {
     "data": {
      "text/plain": [
       "id                int64\n",
       "favorite_count    int64\n",
       "retweet_count     int64\n",
       "dtype: object"
      ]
     },
     "execution_count": 26,
     "metadata": {},
     "output_type": "execute_result"
    }
   ],
   "source": [
    "tweet_metrics.dtypes"
   ]
  },
  {
   "cell_type": "markdown",
   "id": "4c1dc1db",
   "metadata": {},
   "source": [
    "Okay so only the id column needs to be transformed to a string as it was interpreted as an integer when loading it"
   ]
  },
  {
   "cell_type": "markdown",
   "id": "bce0fa0c",
   "metadata": {},
   "source": [
    "<hr>"
   ]
  },
  {
   "cell_type": "markdown",
   "id": "47733147",
   "metadata": {},
   "source": [
    "## Data Assessment Conclusion"
   ]
  },
  {
   "cell_type": "markdown",
   "id": "97300f76",
   "metadata": {},
   "source": [
    "### Quality :\n",
    "1. Twitter Archive Enhanced :\n",
    "    - There are duplicated rows that don't belong to our data which are the retweets\n",
    "    - Missing / Inaccurate Dog Names\n",
    "    - Missing expanded_urls\n",
    "    - All **ID** columns should be in **String** format ( Applies to all other dataframes )\n",
    "    - Time Stamps should be in datetime format\n",
    "    - Inaccurate Rating Numerators / Denominators\n",
    "    - Missing Dog Stages where some rows have \"None\" in all dog stage columns\n",
    "2. Image Predictions :\n",
    "    - Inconsistency of predictions (title cased and lowercase predictions)\n",
    "    - Underscores in predictions prevent human readability\n",
    "    - 66 duplicates in jpg_url\n",
    "3. Tweets Likes & Retweets :\n",
    "    - Missing Values in Likes & Retweets\n",
    "\n",
    "### Tidiness :\n",
    "1. Twitter Archive Enhanced :\n",
    "   - Dog Stages must be in one column\n",
    "   - Time stamps can be splitted into Year, Month, Day and Day of Week\n",
    "   - The Text column also contains the tweet link which should be in a seperate column\n",
    "\n",
    "2. Image Predictions : The img_num can be dropped since we don't need it in the analysis\n",
    "3. General : All of our dataframes are on one topic which are the tweets of the dogs and ratings, so they should be in one master dataframe \n",
    "   "
   ]
  },
  {
   "cell_type": "markdown",
   "id": "893e5085",
   "metadata": {},
   "source": [
    "<hr>"
   ]
  },
  {
   "cell_type": "markdown",
   "id": "793f6e0f",
   "metadata": {},
   "source": [
    "<h1 id = \"cleaning\">Data Cleaning</h1>"
   ]
  },
  {
   "cell_type": "markdown",
   "id": "6062e599",
   "metadata": {},
   "source": [
    "Pre-Cleaning :  Defining new dataframes for the cleaned dataframes"
   ]
  },
  {
   "cell_type": "code",
   "execution_count": null,
   "id": "d9fd7f26",
   "metadata": {
    "execution": {
     "iopub.execute_input": "2025-04-27T12:28:33.752149Z",
     "iopub.status.busy": "2025-04-27T12:28:33.750548Z",
     "iopub.status.idle": "2025-04-27T12:28:33.767216Z",
     "shell.execute_reply": "2025-04-27T12:28:33.765273Z",
     "shell.execute_reply.started": "2025-04-27T12:28:33.752034Z"
    }
   },
   "outputs": [],
   "source": [
    "archive_clean = archive.copy()\n",
    "predictions_clean = predictions.copy()\n",
    "tweet_metrics_clean = tweet_metrics.copy()"
   ]
  },
  {
   "cell_type": "markdown",
   "id": "9fd6e737",
   "metadata": {},
   "source": [
    "## Quality :"
   ]
  },
  {
   "cell_type": "markdown",
   "id": "dbcb5a80",
   "metadata": {},
   "source": [
    "## Issue 1"
   ]
  },
  {
   "cell_type": "markdown",
   "id": "eb820c74",
   "metadata": {},
   "source": [
    "### Define"
   ]
  },
  {
   "cell_type": "markdown",
   "id": "84a25911",
   "metadata": {},
   "source": [
    "As we concluded in Assessment step, the retweets have multiple formats as :\n",
    "1. Some Retweets start with an RT in the text column\n",
    "2. Some others don't have RT but the expanded_urls contains the original tweet link which isn't from WeRateDogs\n",
    "3. Some others don't have neither 1 or 2 and just have the retweet ID in its own column\n",
    "\n",
    "so we will filter the archive dataframe based on these 3 conditions and drop them"
   ]
  },
  {
   "cell_type": "markdown",
   "id": "df6bf152",
   "metadata": {},
   "source": [
    "### Code"
   ]
  },
  {
   "cell_type": "code",
   "execution_count": null,
   "id": "21d04159",
   "metadata": {
    "execution": {
     "iopub.execute_input": "2025-04-27T12:28:33.787992Z",
     "iopub.status.busy": "2025-04-27T12:28:33.786950Z",
     "iopub.status.idle": "2025-04-27T12:28:33.827777Z",
     "shell.execute_reply": "2025-04-27T12:28:33.819583Z",
     "shell.execute_reply.started": "2025-04-27T12:28:33.787862Z"
    }
   },
   "outputs": [
    {
     "name": "stdout",
     "output_type": "stream",
     "text": [
      "Archive before dropping : 2356\n",
      "Archive after dropping : 1993\n"
     ]
    }
   ],
   "source": [
    "retweets = archive_clean[\n",
    "    # Where the retweet ID is present\n",
    "    (~archive_clean.retweeted_status_id.isna())\n",
    "    |\n",
    "    # Where the text column starts with RT\n",
    "    (archive_clean.text.str[:2] == \"RT\")\n",
    "    |\n",
    "    # Where the expanded url doesn't contain a post from we rate dogs\n",
    "    (\n",
    "        ~archive_clean.expanded_urls.str.contains(\n",
    "            \"https://twitter.com/dog_rates/status/\", na=False\n",
    "        )\n",
    "    )\n",
    "]\n",
    "# Printing the number of the rows of the archive before and after dropping\n",
    "print(\n",
    "    f\"Archive before dropping : {archive_clean.shape[0]}\\nArchive after dropping : {archive_clean.shape[0] - retweets.shape[0]}\"\n",
    ")\n",
    "# Extracting Indices of the retweet rows\n",
    "indices = retweets.index\n",
    "\n",
    "# Dropping retweets by their indices\n",
    "archive_clean = archive_clean.drop(indices)"
   ]
  },
  {
   "cell_type": "markdown",
   "id": "2b81838a-ad0b-4b5a-b67a-88e73b070cdb",
   "metadata": {},
   "source": [
    "Okay so the number of dropped rows isn't huge and doesn't strongly affect our analysis"
   ]
  },
  {
   "cell_type": "markdown",
   "id": "91b8ba7d",
   "metadata": {},
   "source": [
    "### Test"
   ]
  },
  {
   "cell_type": "code",
   "execution_count": null,
   "id": "2d04ab0c",
   "metadata": {
    "execution": {
     "iopub.execute_input": "2025-04-27T12:28:33.836502Z",
     "iopub.status.busy": "2025-04-27T12:28:33.832346Z",
     "iopub.status.idle": "2025-04-27T12:28:33.892900Z",
     "shell.execute_reply": "2025-04-27T12:28:33.891199Z",
     "shell.execute_reply.started": "2025-04-27T12:28:33.836423Z"
    }
   },
   "outputs": [
    {
     "data": {
      "text/html": [
       "<div>\n",
       "<style scoped>\n",
       "    .dataframe tbody tr th:only-of-type {\n",
       "        vertical-align: middle;\n",
       "    }\n",
       "\n",
       "    .dataframe tbody tr th {\n",
       "        vertical-align: top;\n",
       "    }\n",
       "\n",
       "    .dataframe thead th {\n",
       "        text-align: right;\n",
       "    }\n",
       "</style>\n",
       "<table border=\"1\" class=\"dataframe\">\n",
       "  <thead>\n",
       "    <tr style=\"text-align: right;\">\n",
       "      <th></th>\n",
       "      <th>tweet_id</th>\n",
       "      <th>in_reply_to_status_id</th>\n",
       "      <th>in_reply_to_user_id</th>\n",
       "      <th>timestamp</th>\n",
       "      <th>source</th>\n",
       "      <th>text</th>\n",
       "      <th>retweeted_status_id</th>\n",
       "      <th>retweeted_status_user_id</th>\n",
       "      <th>retweeted_status_timestamp</th>\n",
       "      <th>expanded_urls</th>\n",
       "      <th>rating_numerator</th>\n",
       "      <th>rating_denominator</th>\n",
       "      <th>name</th>\n",
       "      <th>doggo</th>\n",
       "      <th>floofer</th>\n",
       "      <th>pupper</th>\n",
       "      <th>puppo</th>\n",
       "    </tr>\n",
       "  </thead>\n",
       "  <tbody>\n",
       "    <tr>\n",
       "      <th>2296</th>\n",
       "      <td>667090893657276420</td>\n",
       "      <td>NaN</td>\n",
       "      <td>NaN</td>\n",
       "      <td>2015-11-18 21:23:57 +0000</td>\n",
       "      <td>&lt;a href=\"http://twitter.com/download/iphone\" r...</td>\n",
       "      <td>This is Clybe. He is an Anemone Valdez. One ea...</td>\n",
       "      <td>NaN</td>\n",
       "      <td>NaN</td>\n",
       "      <td>NaN</td>\n",
       "      <td>https://twitter.com/dog_rates/status/667090893...</td>\n",
       "      <td>7</td>\n",
       "      <td>10</td>\n",
       "      <td>Clybe</td>\n",
       "      <td>NaN</td>\n",
       "      <td>NaN</td>\n",
       "      <td>NaN</td>\n",
       "      <td>NaN</td>\n",
       "    </tr>\n",
       "    <tr>\n",
       "      <th>1516</th>\n",
       "      <td>690959652130045952</td>\n",
       "      <td>NaN</td>\n",
       "      <td>NaN</td>\n",
       "      <td>2016-01-23 18:09:53 +0000</td>\n",
       "      <td>&lt;a href=\"http://twitter.com/download/iphone\" r...</td>\n",
       "      <td>This golden is happy to refute the soft mouth ...</td>\n",
       "      <td>NaN</td>\n",
       "      <td>NaN</td>\n",
       "      <td>NaN</td>\n",
       "      <td>https://twitter.com/dog_rates/status/690959652...</td>\n",
       "      <td>11</td>\n",
       "      <td>10</td>\n",
       "      <td>NaN</td>\n",
       "      <td>NaN</td>\n",
       "      <td>NaN</td>\n",
       "      <td>NaN</td>\n",
       "      <td>NaN</td>\n",
       "    </tr>\n",
       "    <tr>\n",
       "      <th>1767</th>\n",
       "      <td>678396796259975168</td>\n",
       "      <td>NaN</td>\n",
       "      <td>NaN</td>\n",
       "      <td>2015-12-20 02:09:34 +0000</td>\n",
       "      <td>&lt;a href=\"http://twitter.com/download/iphone\" r...</td>\n",
       "      <td>These little fellas have opposite facial expre...</td>\n",
       "      <td>NaN</td>\n",
       "      <td>NaN</td>\n",
       "      <td>NaN</td>\n",
       "      <td>https://twitter.com/dog_rates/status/678396796...</td>\n",
       "      <td>12</td>\n",
       "      <td>10</td>\n",
       "      <td>NaN</td>\n",
       "      <td>NaN</td>\n",
       "      <td>NaN</td>\n",
       "      <td>NaN</td>\n",
       "      <td>NaN</td>\n",
       "    </tr>\n",
       "    <tr>\n",
       "      <th>2012</th>\n",
       "      <td>672239279297454080</td>\n",
       "      <td>NaN</td>\n",
       "      <td>NaN</td>\n",
       "      <td>2015-12-03 02:21:48 +0000</td>\n",
       "      <td>&lt;a href=\"http://twitter.com/download/iphone\" r...</td>\n",
       "      <td>This is Ridley. He doesn't know how to couch. ...</td>\n",
       "      <td>NaN</td>\n",
       "      <td>NaN</td>\n",
       "      <td>NaN</td>\n",
       "      <td>https://twitter.com/dog_rates/status/672239279...</td>\n",
       "      <td>7</td>\n",
       "      <td>10</td>\n",
       "      <td>Ridley</td>\n",
       "      <td>NaN</td>\n",
       "      <td>NaN</td>\n",
       "      <td>NaN</td>\n",
       "      <td>NaN</td>\n",
       "    </tr>\n",
       "    <tr>\n",
       "      <th>2279</th>\n",
       "      <td>667405339315146752</td>\n",
       "      <td>NaN</td>\n",
       "      <td>NaN</td>\n",
       "      <td>2015-11-19 18:13:27 +0000</td>\n",
       "      <td>&lt;a href=\"http://twitter.com/download/iphone\" r...</td>\n",
       "      <td>This is Biden. Biden just tripped... 7/10 http...</td>\n",
       "      <td>NaN</td>\n",
       "      <td>NaN</td>\n",
       "      <td>NaN</td>\n",
       "      <td>https://twitter.com/dog_rates/status/667405339...</td>\n",
       "      <td>7</td>\n",
       "      <td>10</td>\n",
       "      <td>Biden</td>\n",
       "      <td>NaN</td>\n",
       "      <td>NaN</td>\n",
       "      <td>NaN</td>\n",
       "      <td>NaN</td>\n",
       "    </tr>\n",
       "    <tr>\n",
       "      <th>1433</th>\n",
       "      <td>697463031882764288</td>\n",
       "      <td>NaN</td>\n",
       "      <td>NaN</td>\n",
       "      <td>2016-02-10 16:51:59 +0000</td>\n",
       "      <td>&lt;a href=\"http://twitter.com/download/iphone\" r...</td>\n",
       "      <td>Happy Wednesday here's a bucket of pups. 44/40...</td>\n",
       "      <td>NaN</td>\n",
       "      <td>NaN</td>\n",
       "      <td>NaN</td>\n",
       "      <td>https://twitter.com/dog_rates/status/697463031...</td>\n",
       "      <td>44</td>\n",
       "      <td>40</td>\n",
       "      <td>NaN</td>\n",
       "      <td>NaN</td>\n",
       "      <td>NaN</td>\n",
       "      <td>NaN</td>\n",
       "      <td>NaN</td>\n",
       "    </tr>\n",
       "    <tr>\n",
       "      <th>2180</th>\n",
       "      <td>669000397445533696</td>\n",
       "      <td>NaN</td>\n",
       "      <td>NaN</td>\n",
       "      <td>2015-11-24 03:51:38 +0000</td>\n",
       "      <td>&lt;a href=\"http://twitter.com/download/iphone\" r...</td>\n",
       "      <td>Meet Terrance. He's being yelled at because he...</td>\n",
       "      <td>NaN</td>\n",
       "      <td>NaN</td>\n",
       "      <td>NaN</td>\n",
       "      <td>https://twitter.com/dog_rates/status/669000397...</td>\n",
       "      <td>11</td>\n",
       "      <td>10</td>\n",
       "      <td>Terrance</td>\n",
       "      <td>NaN</td>\n",
       "      <td>NaN</td>\n",
       "      <td>NaN</td>\n",
       "      <td>NaN</td>\n",
       "    </tr>\n",
       "    <tr>\n",
       "      <th>295</th>\n",
       "      <td>837471256429613056</td>\n",
       "      <td>NaN</td>\n",
       "      <td>NaN</td>\n",
       "      <td>2017-03-03 01:14:41 +0000</td>\n",
       "      <td>&lt;a href=\"http://twitter.com/download/iphone\" r...</td>\n",
       "      <td>This is Vincent. He's suave as h*ck. Will be y...</td>\n",
       "      <td>NaN</td>\n",
       "      <td>NaN</td>\n",
       "      <td>NaN</td>\n",
       "      <td>https://twitter.com/dog_rates/status/837471256...</td>\n",
       "      <td>12</td>\n",
       "      <td>10</td>\n",
       "      <td>Vincent</td>\n",
       "      <td>NaN</td>\n",
       "      <td>NaN</td>\n",
       "      <td>NaN</td>\n",
       "      <td>NaN</td>\n",
       "    </tr>\n",
       "    <tr>\n",
       "      <th>505</th>\n",
       "      <td>812781120811126785</td>\n",
       "      <td>NaN</td>\n",
       "      <td>NaN</td>\n",
       "      <td>2016-12-24 22:04:54 +0000</td>\n",
       "      <td>&lt;a href=\"http://twitter.com/download/iphone\" r...</td>\n",
       "      <td>This is Swagger. He's the Cleveland Browns amb...</td>\n",
       "      <td>NaN</td>\n",
       "      <td>NaN</td>\n",
       "      <td>NaN</td>\n",
       "      <td>https://twitter.com/dog_rates/status/812781120...</td>\n",
       "      <td>10</td>\n",
       "      <td>10</td>\n",
       "      <td>Swagger</td>\n",
       "      <td>NaN</td>\n",
       "      <td>NaN</td>\n",
       "      <td>NaN</td>\n",
       "      <td>NaN</td>\n",
       "    </tr>\n",
       "    <tr>\n",
       "      <th>1975</th>\n",
       "      <td>672997845381865473</td>\n",
       "      <td>NaN</td>\n",
       "      <td>NaN</td>\n",
       "      <td>2015-12-05 04:36:04 +0000</td>\n",
       "      <td>&lt;a href=\"http://twitter.com/download/iphone\" r...</td>\n",
       "      <td>Say hello to Kenzie. She is a fluff ball. 12/1...</td>\n",
       "      <td>NaN</td>\n",
       "      <td>NaN</td>\n",
       "      <td>NaN</td>\n",
       "      <td>https://twitter.com/dog_rates/status/672997845...</td>\n",
       "      <td>12</td>\n",
       "      <td>10</td>\n",
       "      <td>Kenzie</td>\n",
       "      <td>NaN</td>\n",
       "      <td>NaN</td>\n",
       "      <td>NaN</td>\n",
       "      <td>NaN</td>\n",
       "    </tr>\n",
       "  </tbody>\n",
       "</table>\n",
       "</div>"
      ],
      "text/plain": [
       "                tweet_id  in_reply_to_status_id  in_reply_to_user_id  \\\n",
       "2296  667090893657276420                    NaN                  NaN   \n",
       "1516  690959652130045952                    NaN                  NaN   \n",
       "1767  678396796259975168                    NaN                  NaN   \n",
       "2012  672239279297454080                    NaN                  NaN   \n",
       "2279  667405339315146752                    NaN                  NaN   \n",
       "1433  697463031882764288                    NaN                  NaN   \n",
       "2180  669000397445533696                    NaN                  NaN   \n",
       "295   837471256429613056                    NaN                  NaN   \n",
       "505   812781120811126785                    NaN                  NaN   \n",
       "1975  672997845381865473                    NaN                  NaN   \n",
       "\n",
       "                      timestamp  \\\n",
       "2296  2015-11-18 21:23:57 +0000   \n",
       "1516  2016-01-23 18:09:53 +0000   \n",
       "1767  2015-12-20 02:09:34 +0000   \n",
       "2012  2015-12-03 02:21:48 +0000   \n",
       "2279  2015-11-19 18:13:27 +0000   \n",
       "1433  2016-02-10 16:51:59 +0000   \n",
       "2180  2015-11-24 03:51:38 +0000   \n",
       "295   2017-03-03 01:14:41 +0000   \n",
       "505   2016-12-24 22:04:54 +0000   \n",
       "1975  2015-12-05 04:36:04 +0000   \n",
       "\n",
       "                                                 source  \\\n",
       "2296  <a href=\"http://twitter.com/download/iphone\" r...   \n",
       "1516  <a href=\"http://twitter.com/download/iphone\" r...   \n",
       "1767  <a href=\"http://twitter.com/download/iphone\" r...   \n",
       "2012  <a href=\"http://twitter.com/download/iphone\" r...   \n",
       "2279  <a href=\"http://twitter.com/download/iphone\" r...   \n",
       "1433  <a href=\"http://twitter.com/download/iphone\" r...   \n",
       "2180  <a href=\"http://twitter.com/download/iphone\" r...   \n",
       "295   <a href=\"http://twitter.com/download/iphone\" r...   \n",
       "505   <a href=\"http://twitter.com/download/iphone\" r...   \n",
       "1975  <a href=\"http://twitter.com/download/iphone\" r...   \n",
       "\n",
       "                                                   text  retweeted_status_id  \\\n",
       "2296  This is Clybe. He is an Anemone Valdez. One ea...                  NaN   \n",
       "1516  This golden is happy to refute the soft mouth ...                  NaN   \n",
       "1767  These little fellas have opposite facial expre...                  NaN   \n",
       "2012  This is Ridley. He doesn't know how to couch. ...                  NaN   \n",
       "2279  This is Biden. Biden just tripped... 7/10 http...                  NaN   \n",
       "1433  Happy Wednesday here's a bucket of pups. 44/40...                  NaN   \n",
       "2180  Meet Terrance. He's being yelled at because he...                  NaN   \n",
       "295   This is Vincent. He's suave as h*ck. Will be y...                  NaN   \n",
       "505   This is Swagger. He's the Cleveland Browns amb...                  NaN   \n",
       "1975  Say hello to Kenzie. She is a fluff ball. 12/1...                  NaN   \n",
       "\n",
       "      retweeted_status_user_id retweeted_status_timestamp  \\\n",
       "2296                       NaN                        NaN   \n",
       "1516                       NaN                        NaN   \n",
       "1767                       NaN                        NaN   \n",
       "2012                       NaN                        NaN   \n",
       "2279                       NaN                        NaN   \n",
       "1433                       NaN                        NaN   \n",
       "2180                       NaN                        NaN   \n",
       "295                        NaN                        NaN   \n",
       "505                        NaN                        NaN   \n",
       "1975                       NaN                        NaN   \n",
       "\n",
       "                                          expanded_urls  rating_numerator  \\\n",
       "2296  https://twitter.com/dog_rates/status/667090893...                 7   \n",
       "1516  https://twitter.com/dog_rates/status/690959652...                11   \n",
       "1767  https://twitter.com/dog_rates/status/678396796...                12   \n",
       "2012  https://twitter.com/dog_rates/status/672239279...                 7   \n",
       "2279  https://twitter.com/dog_rates/status/667405339...                 7   \n",
       "1433  https://twitter.com/dog_rates/status/697463031...                44   \n",
       "2180  https://twitter.com/dog_rates/status/669000397...                11   \n",
       "295   https://twitter.com/dog_rates/status/837471256...                12   \n",
       "505   https://twitter.com/dog_rates/status/812781120...                10   \n",
       "1975  https://twitter.com/dog_rates/status/672997845...                12   \n",
       "\n",
       "      rating_denominator      name doggo floofer pupper puppo  \n",
       "2296                  10     Clybe   NaN     NaN    NaN   NaN  \n",
       "1516                  10       NaN   NaN     NaN    NaN   NaN  \n",
       "1767                  10       NaN   NaN     NaN    NaN   NaN  \n",
       "2012                  10    Ridley   NaN     NaN    NaN   NaN  \n",
       "2279                  10     Biden   NaN     NaN    NaN   NaN  \n",
       "1433                  40       NaN   NaN     NaN    NaN   NaN  \n",
       "2180                  10  Terrance   NaN     NaN    NaN   NaN  \n",
       "295                   10   Vincent   NaN     NaN    NaN   NaN  \n",
       "505                   10   Swagger   NaN     NaN    NaN   NaN  \n",
       "1975                  10    Kenzie   NaN     NaN    NaN   NaN  "
      ]
     },
     "execution_count": 29,
     "metadata": {},
     "output_type": "execute_result"
    }
   ],
   "source": [
    "# Print out data and check multiple posts to ensure absence of retweets\n",
    "archive_clean.sample(10)"
   ]
  },
  {
   "cell_type": "markdown",
   "id": "e1e9c995",
   "metadata": {},
   "source": [
    "<hr>"
   ]
  },
  {
   "cell_type": "markdown",
   "id": "978abab1",
   "metadata": {},
   "source": [
    "## Issue 2"
   ]
  },
  {
   "cell_type": "markdown",
   "id": "dd1f0474",
   "metadata": {},
   "source": [
    "### Define"
   ]
  },
  {
   "cell_type": "markdown",
   "id": "15418011",
   "metadata": {},
   "source": [
    "There are two formats of inaccurate names which are :\n",
    "1. None which will be transformed to 'Unknown' for better readability\n",
    "2. random names like 'one' or 'a' whose first letter is mostly lowercase so we can filter for these rows and replace their names with 'Unknown'"
   ]
  },
  {
   "cell_type": "markdown",
   "id": "b1253d09",
   "metadata": {},
   "source": [
    "### Code"
   ]
  },
  {
   "cell_type": "code",
   "execution_count": null,
   "id": "9b0e1641",
   "metadata": {
    "execution": {
     "iopub.execute_input": "2025-04-27T12:28:33.897671Z",
     "iopub.status.busy": "2025-04-27T12:28:33.896397Z",
     "iopub.status.idle": "2025-04-27T12:28:33.937557Z",
     "shell.execute_reply": "2025-04-27T12:28:33.935886Z",
     "shell.execute_reply.started": "2025-04-27T12:28:33.897612Z"
    }
   },
   "outputs": [],
   "source": [
    "# Replacing NaN and None values with 'Unknown' for readability\n",
    "archive_clean[\"name\"] = archive_clean[\"name\"].replace(\n",
    "    {np.nan: \"Unknown\", \"None\": \"Unknown\"}\n",
    ")\n",
    "\n",
    "# Filtering for incorrect names\n",
    "# Getting unique names of dogs\n",
    "names = archive_clean[\"name\"].unique()\n",
    "# Empty list for incorrect names\n",
    "incorrect_names = []\n",
    "# Looping over names where if the name isn't titled then it's added to the incorrect_names\n",
    "for name in names:\n",
    "    if not (str.istitle(name)):\n",
    "        incorrect_names.append(name)\n",
    "\n",
    "# Replacing all incorrect names with 'Unknown'\n",
    "archive_clean[\"name\"] = archive_clean[\"name\"].replace(\n",
    "    incorrect_names, \"Unknown\"\n",
    ")"
   ]
  },
  {
   "cell_type": "markdown",
   "id": "2cd2a8b8",
   "metadata": {},
   "source": [
    "### Test"
   ]
  },
  {
   "cell_type": "code",
   "execution_count": null,
   "id": "24a838b5",
   "metadata": {
    "execution": {
     "iopub.execute_input": "2025-04-27T12:28:33.940529Z",
     "iopub.status.busy": "2025-04-27T12:28:33.939400Z",
     "iopub.status.idle": "2025-04-27T12:28:33.958403Z",
     "shell.execute_reply": "2025-04-27T12:28:33.955474Z",
     "shell.execute_reply.started": "2025-04-27T12:28:33.940458Z"
    }
   },
   "outputs": [
    {
     "data": {
      "text/plain": [
       "array(['Phineas', 'Tilly', 'Archie', 'Darla', 'Franklin', 'Unknown',\n",
       "       'Jax', 'Zoey', 'Cassie', 'Koda', 'Bruno', 'Ted', 'Stuart',\n",
       "       'Oliver', 'Jim', 'Zeke', 'Ralphus', 'Gerald', 'Jeffrey', 'Canela',\n",
       "       'Maya', 'Mingus', 'Derek', 'Roscoe', 'Waffles', 'Jimbo', 'Maisey',\n",
       "       'Earl', 'Lola', 'Kevin', 'Yogi', 'Noah', 'Bella', 'Grizzwald',\n",
       "       'Rusty', 'Gus', 'Stanley', 'Alfy', 'Koko', 'Rey', 'Gary', 'Elliot',\n",
       "       'Louis', 'Jesse', 'Romeo', 'Bailey', 'Duddles', 'Jack', 'Steven',\n",
       "       'Beau', 'Snoopy', 'Shadow', 'Emmy', 'Aja', 'Penny', 'Dante',\n",
       "       'Nelly', 'Ginger', 'Benedict', 'Venti', 'Goose', 'Nugget', 'Cash',\n",
       "       'Jed', 'Sebastian', 'Sierra', 'Monkey', 'Harry', 'Kody', 'Lassie',\n",
       "       'Rover', 'Napolean', 'Boomer', 'Cody', 'Rumble', 'Clifford',\n",
       "       'Dewey', 'Scout', 'Gizmo', 'Walter', 'Cooper', 'Harold', 'Shikha',\n",
       "       'Lili', 'Jamesy', 'Coco', 'Sammy', 'Meatball', 'Paisley', 'Albus',\n",
       "       'Neptune', 'Belle', 'Quinn', 'Zooey', 'Dave', 'Jersey', 'Hobbes',\n",
       "       'Burt', 'Lorenzo', 'Carl', 'Jordy', 'Milky', 'Trooper', 'Sophie',\n",
       "       'Wyatt', 'Rosie', 'Thor', 'Oscar', 'Callie', 'Cermet', 'Marlee',\n",
       "       'Arya', 'Einstein', 'Alice', 'Rumpole', 'Benny', 'Aspen', 'Jarod',\n",
       "       'Wiggles', 'General', 'Sailor', 'Iggy', 'Snoop', 'Kyle', 'Leo',\n",
       "       'Riley', 'Noosh', 'Odin', 'Jerry', 'Georgie', 'Rontu', 'Cannon',\n",
       "       'Furzey', 'Daisy', 'Tuck', 'Barney', 'Vixen', 'Jarvis', 'Mimosa',\n",
       "       'Pickles', 'Brady', 'Luna', 'Charlie', 'Margo', 'Sadie', 'Hank',\n",
       "       'Tycho', 'Indie', 'Winnie', 'George', 'Bentley', 'Max', 'Dawn',\n",
       "       'Maddie', 'Monty', 'Sojourner', 'Winston', 'Odie', 'Arlo',\n",
       "       'Vincent', 'Lucy', 'Clark', 'Mookie', 'Meera', 'Ava', 'Eli', 'Ash',\n",
       "       'Tucker', 'Tobi', 'Chester', 'Wilson', 'Sunshine', 'Lipton',\n",
       "       'Bronte', 'Poppy', 'Gidget', 'Rhino', 'Willow', 'Orion', 'Eevee',\n",
       "       'Smiley', 'Miguel', 'Emanuel', 'Kuyu', 'Dutch', 'Pete', 'Scooter',\n",
       "       'Reggie', 'Lilly', 'Samson', 'Mia', 'Astrid', 'Malcolm', 'Dexter',\n",
       "       'Alfie', 'Fiona', 'Mutt', 'Bear', 'Doobert', 'Beebop', 'Alexander',\n",
       "       'Sailer', 'Brutus', 'Kona', 'Boots', 'Ralphie', 'Loki', 'Cupid',\n",
       "       'Pawnd', 'Pilot', 'Ike', 'Mo', 'Toby', 'Sweet', 'Pablo', 'Nala',\n",
       "       'Crawford', 'Gabe', 'Jimison', 'Duchess', 'Harlso', 'Sundance',\n",
       "       'Luca', 'Flash', 'Sunny', 'Howie', 'Jazzy', 'Anna', 'Finn', 'Bo',\n",
       "       'Wafer', 'Tom', 'Florence', 'Autumn', 'Buddy', 'Dido', 'Eugene',\n",
       "       'Ken', 'Strudel', 'Tebow', 'Chloe', 'Timber', 'Binky', 'Moose',\n",
       "       'Dudley', 'Comet', 'Akumi', 'Titan', 'Olivia', 'Alf', 'Oshie',\n",
       "       'Chubbs', 'Sky', 'Atlas', 'Eleanor', 'Layla', 'Rocky', 'Baron',\n",
       "       'Tyr', 'Bauer', 'Swagger', 'Brandi', 'Mary', 'Moe', 'Halo',\n",
       "       'Augie', 'Craig', 'Sam', 'Hunter', 'Pavlov', 'Phil', 'Kyro',\n",
       "       'Wallace', 'Ito', 'Ollie', 'Stephan', 'Lennon', 'Major', 'Duke',\n",
       "       'Sansa', 'Shooter', 'Django', 'Diogi', 'Sonny', 'Marley',\n",
       "       'Severus', 'Ronnie', 'Milo', 'Bones', 'Mauve', 'Chef', 'Doc',\n",
       "       'Peaches', 'Sobe', 'Longfellow', 'Mister', 'Iroh', 'Pancake',\n",
       "       'Snicku', 'Ruby', 'Brody', 'Mack', 'Nimbus', 'Laika', 'Maximus',\n",
       "       'Dobby', 'Moreton', 'Juno', 'Maude', 'Lily', 'Newt', 'Benji',\n",
       "       'Nida', 'Robin', 'Monster', 'Remus', 'Levi', 'Mabel', 'Misty',\n",
       "       'Betty', 'Mosby', 'Maggie', 'Bruce', 'Happy', 'Brownie', 'Rizzy',\n",
       "       'Stella', 'Butter', 'Frank', 'Tonks', 'Lincoln', 'Rory', 'Logan',\n",
       "       'Dale', 'Rizzo', 'Mattie', 'Pinot', 'Dallas', 'Hero', 'Frankie',\n",
       "       'Stormy', 'Mairi', 'Loomis', 'Godi', 'Cali', 'Deacon', 'Timmy',\n",
       "       'Sampson', 'Chipson', 'Oakley', 'Dash', 'Hercules', 'Jay', 'Mya',\n",
       "       'Strider', 'Wesley', 'Solomon', 'Huck', 'O', 'Blue', 'Anakin',\n",
       "       'Finley', 'Sprinkles', 'Heinrich', 'Shakespeare', 'Chelsea',\n",
       "       'Bungalo', 'Chip', 'Grey', 'Roosevelt', 'Willem', 'Davey',\n",
       "       'Dakota', 'Fizz', 'Dixie', 'Al', 'Jackson', 'Carbon', 'Klein',\n",
       "       'Kirby', 'Lou', 'Chevy', 'Tito', 'Philbert', 'Louie', 'Rupert',\n",
       "       'Rufus', 'Brudge', 'Shadoe', 'Angel', 'Brat', 'Tove', 'Gromit',\n",
       "       'Aubie', 'Kota', 'Leela', 'Glenn', 'Shelby', 'Sephie', 'Bonaparte',\n",
       "       'Albert', 'Wishes', 'Rose', 'Theo', 'Rocco', 'Fido', 'Emma',\n",
       "       'Spencer', 'Lilli', 'Boston', 'Brandonald', 'Corey', 'Leonard',\n",
       "       'Beckham', 'Devón', 'Gert', 'Watson', 'Keith', 'Dex', 'Ace',\n",
       "       'Tayzie', 'Grizzie', 'Gilbert', 'Meyer', 'Arnie', 'Zoe', 'Stewie',\n",
       "       'Calvin', 'Lilah', 'Spanky', 'Jameson', 'Piper', 'Atticus', 'Blu',\n",
       "       'Dietrich', 'Divine', 'Tripp', 'Cora', 'Huxley', 'Bookstore',\n",
       "       'Abby', 'Shiloh', 'Gustav', 'Arlen', 'Percy', 'Lenox', 'Sugar',\n",
       "       'Harvey', 'Blanket', 'Geno', 'Stark', 'Beya', 'Kilo', 'Kayla',\n",
       "       'Maxaroni', 'Bell', 'Doug', 'Edmund', 'Aqua', 'Theodore', 'Baloo',\n",
       "       'Chase', 'Nollie', 'Rorie', 'Simba', 'Charles', 'Bayley', 'Axel',\n",
       "       'Storkson', 'Remy', 'Chadrick', 'Kellogg', 'Buckley', 'Livvie',\n",
       "       'Terry', 'Hermione', 'Ralpher', 'Aldrick', 'Larry', 'Rooney',\n",
       "       'Crystal', 'Ziva', 'Stefan', 'Pupcasso', 'Puff', 'Flurpson',\n",
       "       'Coleman', 'Enchilada', 'Raymond', 'Rueben', 'Cilantro', 'Karll',\n",
       "       'Sprout', 'Blitz', 'Bloop', 'Colby', 'Lillie', 'Fred', 'Ashleigh',\n",
       "       'Kreggory', 'Sarge', 'Luther', 'Reginald', 'Ivar', 'Jangle',\n",
       "       'Schnitzel', 'Panda', 'Berkeley', 'Ralphé', 'Charleson', 'Clyde',\n",
       "       'Harnold', 'Sid', 'Pippa', 'Otis', 'Carper', 'Bowie',\n",
       "       'Alexanderson', 'Suki', 'Barclay', 'Ebby', 'Flávio', 'Smokey',\n",
       "       'Link', 'Jennifur', 'Bluebert', 'Stephanus', 'Bubbles', 'Zeus',\n",
       "       'Bertson', 'Nico', 'Michelangelope', 'Siba', 'Calbert', 'Curtis',\n",
       "       'Travis', 'Thumas', 'Kanu', 'Lance', 'Opie', 'Stubert', 'Kane',\n",
       "       'Olive', 'Chuckles', 'Staniel', 'Sora', 'Beemo', 'Gunner', 'Lacy',\n",
       "       'Tater', 'Olaf', 'Cecil', 'Vince', 'Karma', 'Billy', 'Walker',\n",
       "       'Rodney', 'Klevin', 'Malikai', 'Bobble', 'River', 'Jebberson',\n",
       "       'Remington', 'Farfle', 'Jiminus', 'Harper', 'Keurig', 'Clarkus',\n",
       "       'Finnegus', 'Cupcake', 'Kathmandu', 'Ellie', 'Katie', 'Kara',\n",
       "       'Adele', 'Zara', 'Ambrose', 'Jimothy', 'Bode', 'Terrenth', 'Reese',\n",
       "       'Chesterson', 'Lucia', 'Bisquick', 'Ralphson', 'Socks', 'Rambo',\n",
       "       'Fiji', 'Rilo', 'Bilbo', 'Coopson', 'Yoda', 'Millie', 'Chet',\n",
       "       'Crouton', 'Daniel', 'Kaia', 'Murphy', 'Dotsy', 'Eazy', 'Coops',\n",
       "       'Fillup', 'Miley', 'Charl', 'Reagan', 'Cuddles', 'Claude',\n",
       "       'Jessiga', 'Carter', 'Ole', 'Blipson', 'Reptar', 'Trevith', 'Berb',\n",
       "       'Bob', 'Colin', 'Brian', 'Oliviér', 'Grady', 'Kobe', 'Freddery',\n",
       "       'Bodie', 'Dunkin', 'Wally', 'Tupawc', 'Amber', 'Herschel', 'Edgar',\n",
       "       'Kingsley', 'Brockly', 'Richie', 'Molly', 'Vinscent', 'Cedrick',\n",
       "       'Hazel', 'Lolo', 'Eriq', 'Phred', 'Maxwell', 'Geoff', 'Covach',\n",
       "       'Durg', 'Fynn', 'Ricky', 'Herald', 'Lucky', 'Trip', 'Clarence',\n",
       "       'Hamrick', 'Brad', 'Pubert', 'Frönq', 'Derby', 'Lizzie', 'Blakely',\n",
       "       'Opal', 'Marq', 'Kramer', 'Tyrone', 'Gordon', 'Baxter', 'Mona',\n",
       "       'Horace', 'Crimson', 'Birf', 'Hammond', 'Lorelei', 'Marty',\n",
       "       'Brooks', 'Petrick', 'Hubertson', 'Gerbald', 'Oreo', 'Bruiser',\n",
       "       'Perry', 'Bobby', 'Jeph', 'Obi', 'Tino', 'Kulet', 'Lupe', 'Tiger',\n",
       "       'Jiminy', 'Griffin', 'Banjo', 'Brandy', 'Lulu', 'Darrel', 'Taco',\n",
       "       'Joey', 'Patrick', 'Kreg', 'Todo', 'Tess', 'Ulysses', 'Toffee',\n",
       "       'Apollo', 'Carly', 'Asher', 'Glacier', 'Chuck', 'Champ', 'Ozzie',\n",
       "       'Griswold', 'Cheesy', 'Moofasa', 'Hector', 'Goliath', 'Kawhi',\n",
       "       'Ozzy', 'Emmie', 'Penelope', 'Willie', 'Rinna', 'Mike', 'William',\n",
       "       'Dwight', 'Evy', 'Hurley', 'Rubio', 'Chompsky', 'Linda', 'Tug',\n",
       "       'Tango', 'Grizz', 'Jerome', 'Crumpet', 'Jessifer', 'Ralph',\n",
       "       'Sandy', 'Humphrey', 'Tassy', 'Juckson', 'Chuq', 'Tyrus', 'Karl',\n",
       "       'Godzilla', 'Vinnie', 'Kenneth', 'Herm', 'Bert', 'Striker',\n",
       "       'Donny', 'Pepper', 'Bernie', 'Buddah', 'Lenny', 'Arnold', 'Zuzu',\n",
       "       'Mollie', 'Laela', 'Tedders', 'Superpup', 'Rufio', 'Jeb', 'Rodman',\n",
       "       'Jonah', 'Chesney', 'Kenny', 'Henry', 'Bobbay', 'Mitch', 'Kaiya',\n",
       "       'Acro', 'Aiden', 'Obie', 'Dot', 'Shnuggles', 'Kendall', 'Jeffri',\n",
       "       'Steve', 'Eve', 'Mac', 'Fletcher', 'Kenzie', 'Pumpkin', 'Schnozz',\n",
       "       'Gustaf', 'Cheryl', 'Ed', 'Leonidas', 'Norman', 'Caryl', 'Scott',\n",
       "       'Taz', 'Darby', 'Jackie', 'Jazz', 'Franq', 'Pippin', 'Rolf',\n",
       "       'Snickers', 'Ridley', 'Cal', 'Bradley', 'Bubba', 'Tuco', 'Patch',\n",
       "       'Mojo', 'Batdog', 'Dylan', 'Mark', 'Alejandro', 'Scruffers', 'Pip',\n",
       "       'Julius', 'Tanner', 'Sparky', 'Anthony', 'Holly', 'Jett', 'Amy',\n",
       "       'Sage', 'Andy', 'Mason', 'Trigger', 'Antony', 'Creg', 'Traviss',\n",
       "       'Gin', 'Jeffrie', 'Danny', 'Ester', 'Pluto', 'Bloo', 'Edd',\n",
       "       'Paull', 'Willy', 'Herb', 'Damon', 'Peanut', 'Nigel', 'Butters',\n",
       "       'Sandra', 'Fabio', 'Randall', 'Liam', 'Tommy', 'Ben', 'Raphael',\n",
       "       'Julio', 'Andru', 'Kloey', 'Shawwn', 'Skye', 'Kollin', 'Ronduh',\n",
       "       'Billl', 'Saydee', 'Dug', 'Tessa', 'Sully', 'Kirk', 'Ralf',\n",
       "       'Clarq', 'Jaspers', 'Samsom', 'Terrance', 'Harrison', 'Chaz',\n",
       "       'Jeremy', 'Jaycob', 'Lambeau', 'Ruffles', 'Amélie', 'Bobb',\n",
       "       'Banditt', 'Kevon', 'Winifred', 'Hanz', 'Churlie', 'Zeek',\n",
       "       'Timofy', 'Maks', 'Jomathan', 'Kallie', 'Marvin', 'Spark',\n",
       "       'Gòrdón', 'Jo', 'Jareld', 'Torque', 'Ron', 'Skittles',\n",
       "       'Cleopatricia', 'Erik', 'Stu', 'Tedrick', 'Shaggy', 'Filup',\n",
       "       'Kial', 'Naphaniel', 'Dook', 'Hall', 'Philippe', 'Biden', 'Fwed',\n",
       "       'Genevieve', 'Joshwa', 'Timison', 'Bradlay', 'Pipsy', 'Clybe',\n",
       "       'Keet', 'Carll', 'Jockson', 'Josep', 'Lugan', 'Christoper'],\n",
       "      dtype=object)"
      ]
     },
     "execution_count": 31,
     "metadata": {},
     "output_type": "execute_result"
    }
   ],
   "source": [
    "# Printing all Unique names in the dataframe\n",
    "archive_clean[\"name\"].unique()"
   ]
  },
  {
   "cell_type": "markdown",
   "id": "e6672601",
   "metadata": {},
   "source": [
    "<hr>"
   ]
  },
  {
   "cell_type": "markdown",
   "id": "ee33fbff",
   "metadata": {},
   "source": [
    "## Issue 3"
   ]
  },
  {
   "cell_type": "markdown",
   "id": "be09a80e",
   "metadata": {},
   "source": [
    "### Define"
   ]
  },
  {
   "cell_type": "markdown",
   "id": "f5d13f4f",
   "metadata": {},
   "source": [
    "Since we cleaned all rows that don't contain a link for the WeRateDogs' tweet in Issue 1, then the missing URL's should be fixed now"
   ]
  },
  {
   "cell_type": "markdown",
   "id": "552a7266",
   "metadata": {},
   "source": [
    "### Test"
   ]
  },
  {
   "cell_type": "code",
   "execution_count": null,
   "id": "362d95a7",
   "metadata": {
    "execution": {
     "iopub.execute_input": "2025-04-27T12:28:33.969913Z",
     "iopub.status.busy": "2025-04-27T12:28:33.968538Z",
     "iopub.status.idle": "2025-04-27T12:28:33.988738Z",
     "shell.execute_reply": "2025-04-27T12:28:33.986400Z",
     "shell.execute_reply.started": "2025-04-27T12:28:33.969837Z"
    }
   },
   "outputs": [
    {
     "data": {
      "text/plain": [
       "np.int64(0)"
      ]
     },
     "execution_count": 32,
     "metadata": {},
     "output_type": "execute_result"
    }
   ],
   "source": [
    "archive_clean[\"expanded_urls\"].isna().sum()"
   ]
  },
  {
   "cell_type": "markdown",
   "id": "5160b414",
   "metadata": {},
   "source": [
    "So this issue got already fixed in issue 1"
   ]
  },
  {
   "cell_type": "markdown",
   "id": "c7d642f5",
   "metadata": {},
   "source": [
    "<hr>"
   ]
  },
  {
   "cell_type": "markdown",
   "id": "5590e2a6",
   "metadata": {},
   "source": [
    "## Issue 4"
   ]
  },
  {
   "cell_type": "markdown",
   "id": "1f824c0e",
   "metadata": {},
   "source": [
    "### Define"
   ]
  },
  {
   "cell_type": "markdown",
   "id": "596778dc",
   "metadata": {},
   "source": [
    "Transform the ID column to string using the .astype() function\n",
    "\n",
    "We can also drop the reply ID and retweet ID as they are not useful in our analysis anymore"
   ]
  },
  {
   "cell_type": "markdown",
   "id": "65a1d176",
   "metadata": {},
   "source": [
    "### Code"
   ]
  },
  {
   "cell_type": "code",
   "execution_count": null,
   "id": "35b2c2a5",
   "metadata": {
    "execution": {
     "iopub.execute_input": "2025-04-27T12:28:33.992403Z",
     "iopub.status.busy": "2025-04-27T12:28:33.991156Z",
     "iopub.status.idle": "2025-04-27T12:28:34.018980Z",
     "shell.execute_reply": "2025-04-27T12:28:34.016660Z",
     "shell.execute_reply.started": "2025-04-27T12:28:33.992338Z"
    }
   },
   "outputs": [],
   "source": [
    "# Since the ID column is named differently in 3rd dataframe, then we have to just assign manually for each dataframe\n",
    "\n",
    "archive_clean[\"tweet_id\"] = archive_clean[\"tweet_id\"].astype(str)\n",
    "predictions_clean[\"tweet_id\"] = predictions_clean[\"tweet_id\"].astype(str)\n",
    "tweet_metrics_clean[\"id\"] = tweet_metrics_clean[\"id\"].astype(str)\n",
    "\n",
    "# Dropping extra ID's in twitter_archive\n",
    "# Dropping also the retweeted_timestamp since we have already cleaned the data from retweets\n",
    "archive_clean = archive_clean.drop(\n",
    "    [\n",
    "        \"in_reply_to_status_id\",\n",
    "        \"in_reply_to_user_id\",\n",
    "        \"retweeted_status_id\",\n",
    "        \"retweeted_status_user_id\",\n",
    "        \"retweeted_status_timestamp\",\n",
    "    ],\n",
    "    axis=1,\n",
    ")"
   ]
  },
  {
   "cell_type": "markdown",
   "id": "c43be7db",
   "metadata": {},
   "source": [
    "### Test"
   ]
  },
  {
   "cell_type": "code",
   "execution_count": null,
   "id": "894c3b76",
   "metadata": {
    "execution": {
     "iopub.execute_input": "2025-04-27T12:28:34.024294Z",
     "iopub.status.busy": "2025-04-27T12:28:34.021931Z",
     "iopub.status.idle": "2025-04-27T12:28:34.039896Z",
     "shell.execute_reply": "2025-04-27T12:28:34.036543Z",
     "shell.execute_reply.started": "2025-04-27T12:28:34.024147Z"
    }
   },
   "outputs": [
    {
     "name": "stdout",
     "output_type": "stream",
     "text": [
      "Tweet ID type in the archive :  object \n",
      "\n",
      "Twitter Archive Enhanced columns : \n",
      "Index(['tweet_id', 'timestamp', 'source', 'text', 'expanded_urls',\n",
      "       'rating_numerator', 'rating_denominator', 'name', 'doggo', 'floofer',\n",
      "       'pupper', 'puppo'],\n",
      "      dtype='object')\n",
      "\n",
      "Tweet ID type in the predictions :  object \n",
      "\n",
      "Tweet ID type in the tweet's metrics :  object \n",
      "\n"
     ]
    }
   ],
   "source": [
    "print(\"Tweet ID type in the archive : \", archive_clean.tweet_id.dtype, \"\\n\")\n",
    "print(f\"Twitter Archive Enhanced columns : \\n{archive_clean.columns}\\n\")\n",
    "print(\n",
    "    \"Tweet ID type in the predictions : \",\n",
    "    predictions_clean.tweet_id.dtype,\n",
    "    \"\\n\",\n",
    ")\n",
    "print(\n",
    "    \"Tweet ID type in the tweet's metrics : \",\n",
    "    tweet_metrics_clean.id.dtype,\n",
    "    \"\\n\",\n",
    ")"
   ]
  },
  {
   "cell_type": "markdown",
   "id": "bb2d67cf",
   "metadata": {},
   "source": [
    "<hr>"
   ]
  },
  {
   "cell_type": "markdown",
   "id": "1fd58c12",
   "metadata": {},
   "source": [
    "## Issue 5"
   ]
  },
  {
   "cell_type": "markdown",
   "id": "ca249cce",
   "metadata": {},
   "source": [
    "### Define"
   ]
  },
  {
   "cell_type": "markdown",
   "id": "d0f52702",
   "metadata": {},
   "source": [
    "Transform timestamp into datetime format using pd.to_datetime()"
   ]
  },
  {
   "cell_type": "markdown",
   "id": "b308ade2",
   "metadata": {},
   "source": [
    "### Code"
   ]
  },
  {
   "cell_type": "code",
   "execution_count": null,
   "id": "36fafb46",
   "metadata": {
    "execution": {
     "iopub.execute_input": "2025-04-27T12:28:34.045745Z",
     "iopub.status.busy": "2025-04-27T12:28:34.044275Z",
     "iopub.status.idle": "2025-04-27T12:28:34.109672Z",
     "shell.execute_reply": "2025-04-27T12:28:34.106639Z",
     "shell.execute_reply.started": "2025-04-27T12:28:34.045666Z"
    }
   },
   "outputs": [],
   "source": [
    "archive_clean[\"timestamp\"] = pd.to_datetime(archive_clean[\"timestamp\"])"
   ]
  },
  {
   "cell_type": "markdown",
   "id": "82d696ef",
   "metadata": {},
   "source": [
    "### Test"
   ]
  },
  {
   "cell_type": "code",
   "execution_count": null,
   "id": "acc7cc1a",
   "metadata": {
    "execution": {
     "iopub.execute_input": "2025-04-27T12:28:34.113220Z",
     "iopub.status.busy": "2025-04-27T12:28:34.112421Z",
     "iopub.status.idle": "2025-04-27T12:28:34.125671Z",
     "shell.execute_reply": "2025-04-27T12:28:34.124109Z",
     "shell.execute_reply.started": "2025-04-27T12:28:34.113151Z"
    }
   },
   "outputs": [
    {
     "data": {
      "text/plain": [
       "datetime64[ns, UTC]"
      ]
     },
     "execution_count": 36,
     "metadata": {},
     "output_type": "execute_result"
    }
   ],
   "source": [
    "archive_clean[\"timestamp\"].dtype"
   ]
  },
  {
   "cell_type": "markdown",
   "id": "56dcf31a",
   "metadata": {},
   "source": [
    "<hr>"
   ]
  },
  {
   "cell_type": "markdown",
   "id": "169529f6",
   "metadata": {},
   "source": [
    "## Issue 6"
   ]
  },
  {
   "cell_type": "markdown",
   "id": "5503d3a3",
   "metadata": {},
   "source": [
    "### Define"
   ]
  },
  {
   "cell_type": "markdown",
   "id": "e637c06b",
   "metadata": {},
   "source": [
    "1. To fix that some ratings contain decimals, we can just extract the whole rating with the decimal and re-assign the ratings\n",
    "2. To fix non-realistic ratings, we have to manually check and replace them"
   ]
  },
  {
   "cell_type": "markdown",
   "id": "1b57e011",
   "metadata": {},
   "source": [
    "### Code"
   ]
  },
  {
   "cell_type": "code",
   "execution_count": null,
   "id": "1789d2c7",
   "metadata": {
    "execution": {
     "iopub.execute_input": "2025-04-27T12:28:34.128073Z",
     "iopub.status.busy": "2025-04-27T12:28:34.127170Z",
     "iopub.status.idle": "2025-04-27T12:28:34.174565Z",
     "shell.execute_reply": "2025-04-27T12:28:34.172110Z",
     "shell.execute_reply.started": "2025-04-27T12:28:34.128035Z"
    }
   },
   "outputs": [
    {
     "name": "stdout",
     "output_type": "stream",
     "text": [
      "rating_numerator\n",
      "12.00      450\n",
      "10.00      418\n",
      "11.00      396\n",
      "13.00      261\n",
      "9.00       151\n",
      "8.00        95\n",
      "7.00        52\n",
      "14.00       35\n",
      "5.00        32\n",
      "6.00        32\n",
      "3.00        19\n",
      "4.00        16\n",
      "2.00         9\n",
      "1.00         5\n",
      "0.00         2\n",
      "9.75         1\n",
      "24.00        1\n",
      "84.00        1\n",
      "13.50        1\n",
      "165.00       1\n",
      "11.27        1\n",
      "1776.00      1\n",
      "204.00       1\n",
      "80.00        1\n",
      "45.00        1\n",
      "50.00        1\n",
      "99.00        1\n",
      "44.00        1\n",
      "60.00        1\n",
      "121.00       1\n",
      "143.00       1\n",
      "11.26        1\n",
      "144.00       1\n",
      "88.00        1\n",
      "420.00       1\n",
      "Name: count, dtype: int64 \n",
      "\n",
      "rating_denominator\n",
      "10.0     1975\n",
      "50.0        3\n",
      "11.0        2\n",
      "80.0        2\n",
      "150.0       1\n",
      "7.0         1\n",
      "70.0        1\n",
      "20.0        1\n",
      "170.0       1\n",
      "90.0        1\n",
      "40.0        1\n",
      "130.0       1\n",
      "110.0       1\n",
      "120.0       1\n",
      "2.0         1\n",
      "Name: count, dtype: int64\n"
     ]
    },
    {
     "name": "stderr",
     "output_type": "stream",
     "text": [
      "<>:1: SyntaxWarning: invalid escape sequence '\\.'\n",
      "<>:1: SyntaxWarning: invalid escape sequence '\\.'\n",
      "C:\\Users\\HAMZA\\AppData\\Local\\Temp\\ipykernel_3772\\2158171709.py:1: SyntaxWarning: invalid escape sequence '\\.'\n",
      "  \"\"\"Regular Expression Explanation\n"
     ]
    }
   ],
   "source": [
    "\"\"\"Regular Expression Explanation\n",
    "1- Getting any number of digits [0-9]+ which are the integer value of the numerator\n",
    "2- Getting an optional group of a decimal and digits (?:\\.\\d+)?\n",
    "3- Escaping the / using \\/ to get the fraction sign\n",
    "4- Getting any amount of digits [0-9]+ which are the denominator\n",
    "\"\"\"\n",
    "\n",
    "# Defining a variable for the extracted ratings which will be returned as series by passing False in expanded\n",
    "ratings = archive_clean[\"text\"].str.extract(\n",
    "    r\"([0-9]+(?:\\.\\d+)?\\/[0-9]+)\", expand=False\n",
    ")\n",
    "\n",
    "# Re-Assigning the numerator to the first value from the splitted rating\n",
    "archive_clean[\"rating_numerator\"] = ratings.apply(\n",
    "    lambda rating: rating.split(\"/\")[0]\n",
    ")\n",
    "\n",
    "# Doing the same to the denominator but with second value\n",
    "archive_clean[\"rating_denominator\"] = ratings.apply(\n",
    "    lambda rating: rating.split(\"/\")[1]\n",
    ")\n",
    "\n",
    "# Transforming both columns to floats on the go\n",
    "archive_clean[\"rating_numerator\"] = archive_clean[\"rating_numerator\"].astype(\n",
    "    float\n",
    ")\n",
    "archive_clean[\"rating_denominator\"] = archive_clean[\n",
    "    \"rating_denominator\"\n",
    "].astype(float)\n",
    "\n",
    "# Checking frequency of ratings\n",
    "print(archive_clean[\"rating_numerator\"].value_counts(), \"\\n\")\n",
    "print(archive_clean[\"rating_denominator\"].value_counts())"
   ]
  },
  {
   "cell_type": "markdown",
   "id": "1ad15cf4",
   "metadata": {},
   "source": [
    "Okay so the strange numerators & denominators are \n",
    "1. Numerator : 1776 - 420 - 0\n",
    "2. Denominator : 7 - 2 - 170\n",
    "\n",
    "In the following cells of this issue, I will lookup each of the values and check possibility of changing that manually."
   ]
  },
  {
   "cell_type": "code",
   "execution_count": null,
   "id": "10a45b8c",
   "metadata": {
    "execution": {
     "iopub.execute_input": "2025-04-27T12:28:34.177647Z",
     "iopub.status.busy": "2025-04-27T12:28:34.176534Z",
     "iopub.status.idle": "2025-04-27T12:28:34.194850Z",
     "shell.execute_reply": "2025-04-27T12:28:34.193228Z",
     "shell.execute_reply.started": "2025-04-27T12:28:34.177589Z"
    }
   },
   "outputs": [
    {
     "data": {
      "text/plain": [
       "array([\"When you're so blinded by your systematic plagiarism that you forget what day it is. 0/10 https://t.co/YbEJPkg4Ag\",\n",
       "       \"This is Atticus. He's quite simply America af. 1776/10 https://t.co/GRXwMxLBkh\",\n",
       "       \"PUPDATE: can't see any. Even if I could, I couldn't reach them to pet. 0/10 much disappointment https://t.co/c7WXaB2nqX\",\n",
       "       'After so many requests... here you go.\\r\\n\\r\\nGood dogg. 420/10 https://t.co/yfAAo1gdeY'],\n",
       "      dtype=object)"
      ]
     },
     "execution_count": 38,
     "metadata": {},
     "output_type": "execute_result"
    }
   ],
   "source": [
    "# Filtering rows and then getting the value of the tweet's text\n",
    "archive_clean.loc[\n",
    "    (archive_clean[\"rating_numerator\"] == 1776)\n",
    "    | (archive_clean[\"rating_numerator\"] == 420)\n",
    "    | (archive_clean[\"rating_numerator\"] == 0),\n",
    "    \"text\",\n",
    "].values"
   ]
  },
  {
   "cell_type": "markdown",
   "id": "28ce9203",
   "metadata": {},
   "source": [
    "Unfortunately all of these rows have correctly extracted ratings and modifying that will be a **fraud**"
   ]
  },
  {
   "cell_type": "code",
   "execution_count": null,
   "id": "a7c32cfe",
   "metadata": {
    "execution": {
     "iopub.execute_input": "2025-04-27T12:28:34.199733Z",
     "iopub.status.busy": "2025-04-27T12:28:34.198237Z",
     "iopub.status.idle": "2025-04-27T12:28:34.221023Z",
     "shell.execute_reply": "2025-04-27T12:28:34.218865Z",
     "shell.execute_reply.started": "2025-04-27T12:28:34.199651Z"
    }
   },
   "outputs": [
    {
     "data": {
      "text/plain": [
       "array(['Meet Sam. She smiles 24/7 &amp; secretly aspires to be a reindeer. \\r\\nKeep Sam smiling by clicking and sharing this link:\\r\\nhttps://t.co/98tB8y7y7t https://t.co/LouL5vdvxx',\n",
       "       'Say hello to this unbelievably well behaved squad of doggos. 204/170 would try to pet all at once https://t.co/yGQI3He3xv',\n",
       "       'This is an Albanian 3 1/2 legged  Episcopalian. Loves well-polished hardwood flooring. Penis on the collar. 9/10 https://t.co/d9NcXFKwLv'],\n",
       "      dtype=object)"
      ]
     },
     "execution_count": 39,
     "metadata": {},
     "output_type": "execute_result"
    }
   ],
   "source": [
    "# Checking Denominator issues\n",
    "archive_clean.loc[\n",
    "    (archive_clean[\"rating_denominator\"] == 7)\n",
    "    | (archive_clean[\"rating_denominator\"] == 2)\n",
    "    | (archive_clean[\"rating_denominator\"] == 170),\n",
    "    \"text\",\n",
    "].values"
   ]
  },
  {
   "cell_type": "markdown",
   "id": "948d8dfa",
   "metadata": {},
   "source": [
    "Okay so the 7 and 2  denominators were indeed incorrect,  while the 170 is correct and must be kept"
   ]
  },
  {
   "cell_type": "code",
   "execution_count": null,
   "id": "d75c4039",
   "metadata": {
    "execution": {
     "iopub.execute_input": "2025-04-27T12:28:34.225838Z",
     "iopub.status.busy": "2025-04-27T12:28:34.224434Z",
     "iopub.status.idle": "2025-04-27T12:28:34.239597Z",
     "shell.execute_reply": "2025-04-27T12:28:34.237777Z",
     "shell.execute_reply.started": "2025-04-27T12:28:34.225794Z"
    }
   },
   "outputs": [],
   "source": [
    "# Manually fixing the 2 denominator issue\n",
    "archive_clean.loc[\n",
    "    archive_clean[\"rating_denominator\"] == 2,\n",
    "    [\"rating_numerator\", \"rating_denominator\"],\n",
    "] = (9, 10)"
   ]
  },
  {
   "cell_type": "code",
   "execution_count": null,
   "id": "2cffacca",
   "metadata": {
    "execution": {
     "iopub.execute_input": "2025-04-27T12:28:34.245380Z",
     "iopub.status.busy": "2025-04-27T12:28:34.243641Z",
     "iopub.status.idle": "2025-04-27T12:28:34.261220Z",
     "shell.execute_reply": "2025-04-27T12:28:34.259405Z",
     "shell.execute_reply.started": "2025-04-27T12:28:34.245199Z"
    }
   },
   "outputs": [],
   "source": [
    "# Manually fixing the row with denominator 7 by replacing both numerator and denominator with NaN\n",
    "archive_clean.loc[\n",
    "    archive_clean[\"rating_denominator\"] == 7,\n",
    "    [\"rating_numerator\", \"rating_denominator\"],\n",
    "] = np.nan"
   ]
  },
  {
   "cell_type": "markdown",
   "id": "b4aa1f26",
   "metadata": {},
   "source": [
    "### Test"
   ]
  },
  {
   "cell_type": "code",
   "execution_count": null,
   "id": "0a094a0c",
   "metadata": {
    "execution": {
     "iopub.execute_input": "2025-04-27T12:28:34.264787Z",
     "iopub.status.busy": "2025-04-27T12:28:34.263689Z",
     "iopub.status.idle": "2025-04-27T12:28:34.282195Z",
     "shell.execute_reply": "2025-04-27T12:28:34.280364Z",
     "shell.execute_reply.started": "2025-04-27T12:28:34.264718Z"
    }
   },
   "outputs": [
    {
     "name": "stdout",
     "output_type": "stream",
     "text": [
      "rating_numerator\n",
      "12.00      450\n",
      "10.00      418\n",
      "11.00      396\n",
      "13.00      261\n",
      "9.00       152\n",
      "8.00        95\n",
      "7.00        52\n",
      "14.00       35\n",
      "5.00        32\n",
      "6.00        32\n",
      "3.00        19\n",
      "4.00        16\n",
      "2.00         9\n",
      "1.00         4\n",
      "0.00         2\n",
      "84.00        1\n",
      "9.75         1\n",
      "13.50        1\n",
      "165.00       1\n",
      "11.27        1\n",
      "1776.00      1\n",
      "204.00       1\n",
      "80.00        1\n",
      "45.00        1\n",
      "50.00        1\n",
      "99.00        1\n",
      "44.00        1\n",
      "60.00        1\n",
      "121.00       1\n",
      "143.00       1\n",
      "11.26        1\n",
      "144.00       1\n",
      "88.00        1\n",
      "420.00       1\n",
      "Name: count, dtype: int64 \n",
      "\n",
      "rating_denominator\n",
      "10.0     1976\n",
      "50.0        3\n",
      "11.0        2\n",
      "80.0        2\n",
      "70.0        1\n",
      "170.0       1\n",
      "150.0       1\n",
      "20.0        1\n",
      "90.0        1\n",
      "40.0        1\n",
      "130.0       1\n",
      "110.0       1\n",
      "120.0       1\n",
      "Name: count, dtype: int64\n"
     ]
    }
   ],
   "source": [
    "# Checking frequency of ratings once again\n",
    "print(archive_clean[\"rating_numerator\"].value_counts(), \"\\n\")\n",
    "print(archive_clean[\"rating_denominator\"].value_counts())"
   ]
  },
  {
   "cell_type": "markdown",
   "id": "2174127d",
   "metadata": {},
   "source": [
    "Okay so most ratings are more real currently and correctly extracted\n",
    "\n",
    "Some of them don't make sense at all, but that's how WeRateDogs decided to rate them ;)"
   ]
  },
  {
   "cell_type": "markdown",
   "id": "7014694e-dc5c-4088-bc65-4e69a2583694",
   "metadata": {},
   "source": [
    "Regarding the issue we noticed of a denominator of zero in data assessment :\n",
    "\n",
    "Since it didn't get extracted here and got removed from the data,\n",
    "\n",
    "This means that the row 313 in the original archive ( not cleaned ) was a retweet and was dropped in issue 1"
   ]
  },
  {
   "cell_type": "markdown",
   "id": "1dee3b1b",
   "metadata": {},
   "source": [
    "<hr>"
   ]
  },
  {
   "cell_type": "markdown",
   "id": "299b3690",
   "metadata": {},
   "source": [
    "## Issue 7"
   ]
  },
  {
   "cell_type": "markdown",
   "id": "d4a1abc7",
   "metadata": {},
   "source": [
    "### Define"
   ]
  },
  {
   "cell_type": "markdown",
   "id": "96fa50b2",
   "metadata": {},
   "source": [
    "This issue will be solved later in Issue 12 where we will drop all of the dog_stages columns and replace them with one dog_stage column to represent the variable"
   ]
  },
  {
   "cell_type": "markdown",
   "id": "62ccb368",
   "metadata": {},
   "source": [
    "<hr>"
   ]
  },
  {
   "cell_type": "markdown",
   "id": "42f922ab",
   "metadata": {},
   "source": [
    "## Issue 8"
   ]
  },
  {
   "cell_type": "markdown",
   "id": "7b8aea22",
   "metadata": {},
   "source": [
    "### Define"
   ]
  },
  {
   "cell_type": "markdown",
   "id": "6002975c",
   "metadata": {},
   "source": [
    "We will then make all predictions in Title Casing as lowercase is more informal"
   ]
  },
  {
   "cell_type": "markdown",
   "id": "f7b02a17",
   "metadata": {},
   "source": [
    "### Code"
   ]
  },
  {
   "cell_type": "code",
   "execution_count": null,
   "id": "3146b28d",
   "metadata": {
    "execution": {
     "iopub.execute_input": "2025-04-27T12:28:34.286537Z",
     "iopub.status.busy": "2025-04-27T12:28:34.284556Z",
     "iopub.status.idle": "2025-04-27T12:28:34.305973Z",
     "shell.execute_reply": "2025-04-27T12:28:34.303661Z",
     "shell.execute_reply.started": "2025-04-27T12:28:34.286375Z"
    }
   },
   "outputs": [],
   "source": [
    "# Looping over the list of prediction columns we want to Title Case\n",
    "for prediction in [\"p1\", \"p2\", \"p3\"]:\n",
    "    # using .str.title() to achive our deisred Title Casing\n",
    "    predictions_clean[prediction] = predictions_clean[prediction].str.title()"
   ]
  },
  {
   "cell_type": "markdown",
   "id": "ef403af0",
   "metadata": {},
   "source": [
    "### Test"
   ]
  },
  {
   "cell_type": "code",
   "execution_count": null,
   "id": "a02cac25",
   "metadata": {
    "execution": {
     "iopub.execute_input": "2025-04-27T12:28:34.310018Z",
     "iopub.status.busy": "2025-04-27T12:28:34.308470Z",
     "iopub.status.idle": "2025-04-27T12:28:34.342044Z",
     "shell.execute_reply": "2025-04-27T12:28:34.339773Z",
     "shell.execute_reply.started": "2025-04-27T12:28:34.309939Z"
    }
   },
   "outputs": [
    {
     "data": {
      "text/html": [
       "<div>\n",
       "<style scoped>\n",
       "    .dataframe tbody tr th:only-of-type {\n",
       "        vertical-align: middle;\n",
       "    }\n",
       "\n",
       "    .dataframe tbody tr th {\n",
       "        vertical-align: top;\n",
       "    }\n",
       "\n",
       "    .dataframe thead th {\n",
       "        text-align: right;\n",
       "    }\n",
       "</style>\n",
       "<table border=\"1\" class=\"dataframe\">\n",
       "  <thead>\n",
       "    <tr style=\"text-align: right;\">\n",
       "      <th></th>\n",
       "      <th>tweet_id</th>\n",
       "      <th>jpg_url</th>\n",
       "      <th>img_num</th>\n",
       "      <th>p1</th>\n",
       "      <th>p1_conf</th>\n",
       "      <th>p1_dog</th>\n",
       "      <th>p2</th>\n",
       "      <th>p2_conf</th>\n",
       "      <th>p2_dog</th>\n",
       "      <th>p3</th>\n",
       "      <th>p3_conf</th>\n",
       "      <th>p3_dog</th>\n",
       "    </tr>\n",
       "  </thead>\n",
       "  <tbody>\n",
       "    <tr>\n",
       "      <th>0</th>\n",
       "      <td>666020888022790149</td>\n",
       "      <td>https://pbs.twimg.com/media/CT4udn0WwAA0aMy.jpg</td>\n",
       "      <td>1</td>\n",
       "      <td>Welsh_Springer_Spaniel</td>\n",
       "      <td>0.465074</td>\n",
       "      <td>True</td>\n",
       "      <td>Collie</td>\n",
       "      <td>0.156665</td>\n",
       "      <td>True</td>\n",
       "      <td>Shetland_Sheepdog</td>\n",
       "      <td>0.061428</td>\n",
       "      <td>True</td>\n",
       "    </tr>\n",
       "    <tr>\n",
       "      <th>1</th>\n",
       "      <td>666029285002620928</td>\n",
       "      <td>https://pbs.twimg.com/media/CT42GRgUYAA5iDo.jpg</td>\n",
       "      <td>1</td>\n",
       "      <td>Redbone</td>\n",
       "      <td>0.506826</td>\n",
       "      <td>True</td>\n",
       "      <td>Miniature_Pinscher</td>\n",
       "      <td>0.074192</td>\n",
       "      <td>True</td>\n",
       "      <td>Rhodesian_Ridgeback</td>\n",
       "      <td>0.072010</td>\n",
       "      <td>True</td>\n",
       "    </tr>\n",
       "    <tr>\n",
       "      <th>2</th>\n",
       "      <td>666033412701032449</td>\n",
       "      <td>https://pbs.twimg.com/media/CT4521TWwAEvMyu.jpg</td>\n",
       "      <td>1</td>\n",
       "      <td>German_Shepherd</td>\n",
       "      <td>0.596461</td>\n",
       "      <td>True</td>\n",
       "      <td>Malinois</td>\n",
       "      <td>0.138584</td>\n",
       "      <td>True</td>\n",
       "      <td>Bloodhound</td>\n",
       "      <td>0.116197</td>\n",
       "      <td>True</td>\n",
       "    </tr>\n",
       "    <tr>\n",
       "      <th>3</th>\n",
       "      <td>666044226329800704</td>\n",
       "      <td>https://pbs.twimg.com/media/CT5Dr8HUEAA-lEu.jpg</td>\n",
       "      <td>1</td>\n",
       "      <td>Rhodesian_Ridgeback</td>\n",
       "      <td>0.408143</td>\n",
       "      <td>True</td>\n",
       "      <td>Redbone</td>\n",
       "      <td>0.360687</td>\n",
       "      <td>True</td>\n",
       "      <td>Miniature_Pinscher</td>\n",
       "      <td>0.222752</td>\n",
       "      <td>True</td>\n",
       "    </tr>\n",
       "    <tr>\n",
       "      <th>4</th>\n",
       "      <td>666049248165822465</td>\n",
       "      <td>https://pbs.twimg.com/media/CT5IQmsXIAAKY4A.jpg</td>\n",
       "      <td>1</td>\n",
       "      <td>Miniature_Pinscher</td>\n",
       "      <td>0.560311</td>\n",
       "      <td>True</td>\n",
       "      <td>Rottweiler</td>\n",
       "      <td>0.243682</td>\n",
       "      <td>True</td>\n",
       "      <td>Doberman</td>\n",
       "      <td>0.154629</td>\n",
       "      <td>True</td>\n",
       "    </tr>\n",
       "    <tr>\n",
       "      <th>5</th>\n",
       "      <td>666050758794694657</td>\n",
       "      <td>https://pbs.twimg.com/media/CT5Jof1WUAEuVxN.jpg</td>\n",
       "      <td>1</td>\n",
       "      <td>Bernese_Mountain_Dog</td>\n",
       "      <td>0.651137</td>\n",
       "      <td>True</td>\n",
       "      <td>English_Springer</td>\n",
       "      <td>0.263788</td>\n",
       "      <td>True</td>\n",
       "      <td>Greater_Swiss_Mountain_Dog</td>\n",
       "      <td>0.016199</td>\n",
       "      <td>True</td>\n",
       "    </tr>\n",
       "    <tr>\n",
       "      <th>6</th>\n",
       "      <td>666051853826850816</td>\n",
       "      <td>https://pbs.twimg.com/media/CT5KoJ1WoAAJash.jpg</td>\n",
       "      <td>1</td>\n",
       "      <td>Box_Turtle</td>\n",
       "      <td>0.933012</td>\n",
       "      <td>False</td>\n",
       "      <td>Mud_Turtle</td>\n",
       "      <td>0.045885</td>\n",
       "      <td>False</td>\n",
       "      <td>Terrapin</td>\n",
       "      <td>0.017885</td>\n",
       "      <td>False</td>\n",
       "    </tr>\n",
       "  </tbody>\n",
       "</table>\n",
       "</div>"
      ],
      "text/plain": [
       "             tweet_id                                          jpg_url  \\\n",
       "0  666020888022790149  https://pbs.twimg.com/media/CT4udn0WwAA0aMy.jpg   \n",
       "1  666029285002620928  https://pbs.twimg.com/media/CT42GRgUYAA5iDo.jpg   \n",
       "2  666033412701032449  https://pbs.twimg.com/media/CT4521TWwAEvMyu.jpg   \n",
       "3  666044226329800704  https://pbs.twimg.com/media/CT5Dr8HUEAA-lEu.jpg   \n",
       "4  666049248165822465  https://pbs.twimg.com/media/CT5IQmsXIAAKY4A.jpg   \n",
       "5  666050758794694657  https://pbs.twimg.com/media/CT5Jof1WUAEuVxN.jpg   \n",
       "6  666051853826850816  https://pbs.twimg.com/media/CT5KoJ1WoAAJash.jpg   \n",
       "\n",
       "   img_num                      p1   p1_conf  p1_dog                  p2  \\\n",
       "0        1  Welsh_Springer_Spaniel  0.465074    True              Collie   \n",
       "1        1                 Redbone  0.506826    True  Miniature_Pinscher   \n",
       "2        1         German_Shepherd  0.596461    True            Malinois   \n",
       "3        1     Rhodesian_Ridgeback  0.408143    True             Redbone   \n",
       "4        1      Miniature_Pinscher  0.560311    True          Rottweiler   \n",
       "5        1    Bernese_Mountain_Dog  0.651137    True    English_Springer   \n",
       "6        1              Box_Turtle  0.933012   False          Mud_Turtle   \n",
       "\n",
       "    p2_conf  p2_dog                          p3   p3_conf  p3_dog  \n",
       "0  0.156665    True           Shetland_Sheepdog  0.061428    True  \n",
       "1  0.074192    True         Rhodesian_Ridgeback  0.072010    True  \n",
       "2  0.138584    True                  Bloodhound  0.116197    True  \n",
       "3  0.360687    True          Miniature_Pinscher  0.222752    True  \n",
       "4  0.243682    True                    Doberman  0.154629    True  \n",
       "5  0.263788    True  Greater_Swiss_Mountain_Dog  0.016199    True  \n",
       "6  0.045885   False                    Terrapin  0.017885   False  "
      ]
     },
     "execution_count": 44,
     "metadata": {},
     "output_type": "execute_result"
    }
   ],
   "source": [
    "predictions_clean.head(7)"
   ]
  },
  {
   "cell_type": "markdown",
   "id": "a9e4ff01",
   "metadata": {},
   "source": [
    "<hr>"
   ]
  },
  {
   "cell_type": "markdown",
   "id": "05d500d6",
   "metadata": {},
   "source": [
    "## Issue 9"
   ]
  },
  {
   "cell_type": "markdown",
   "id": "68306dfd",
   "metadata": {},
   "source": [
    "### Define"
   ]
  },
  {
   "cell_type": "markdown",
   "id": "6107fbd9",
   "metadata": {},
   "source": [
    "We will replace all underscores with a space using .replace() method"
   ]
  },
  {
   "cell_type": "markdown",
   "id": "c6c81052",
   "metadata": {},
   "source": [
    "### Code"
   ]
  },
  {
   "cell_type": "code",
   "execution_count": null,
   "id": "cfd342c4",
   "metadata": {
    "execution": {
     "iopub.execute_input": "2025-04-27T12:28:34.345448Z",
     "iopub.status.busy": "2025-04-27T12:28:34.344321Z",
     "iopub.status.idle": "2025-04-27T12:28:34.363476Z",
     "shell.execute_reply": "2025-04-27T12:28:34.361368Z",
     "shell.execute_reply.started": "2025-04-27T12:28:34.345398Z"
    }
   },
   "outputs": [],
   "source": [
    "for prediction in [\"p1\", \"p2\", \"p3\"]:\n",
    "    predictions_clean[prediction] = predictions_clean[prediction].str.replace(\n",
    "        \"_\", \" \"\n",
    "    )"
   ]
  },
  {
   "cell_type": "markdown",
   "id": "04451263",
   "metadata": {},
   "source": [
    "### Test"
   ]
  },
  {
   "cell_type": "code",
   "execution_count": null,
   "id": "81b277d6",
   "metadata": {
    "execution": {
     "iopub.execute_input": "2025-04-27T12:28:34.366412Z",
     "iopub.status.busy": "2025-04-27T12:28:34.365433Z",
     "iopub.status.idle": "2025-04-27T12:28:34.403797Z",
     "shell.execute_reply": "2025-04-27T12:28:34.402312Z",
     "shell.execute_reply.started": "2025-04-27T12:28:34.366350Z"
    }
   },
   "outputs": [
    {
     "data": {
      "text/html": [
       "<div>\n",
       "<style scoped>\n",
       "    .dataframe tbody tr th:only-of-type {\n",
       "        vertical-align: middle;\n",
       "    }\n",
       "\n",
       "    .dataframe tbody tr th {\n",
       "        vertical-align: top;\n",
       "    }\n",
       "\n",
       "    .dataframe thead th {\n",
       "        text-align: right;\n",
       "    }\n",
       "</style>\n",
       "<table border=\"1\" class=\"dataframe\">\n",
       "  <thead>\n",
       "    <tr style=\"text-align: right;\">\n",
       "      <th></th>\n",
       "      <th>tweet_id</th>\n",
       "      <th>jpg_url</th>\n",
       "      <th>img_num</th>\n",
       "      <th>p1</th>\n",
       "      <th>p1_conf</th>\n",
       "      <th>p1_dog</th>\n",
       "      <th>p2</th>\n",
       "      <th>p2_conf</th>\n",
       "      <th>p2_dog</th>\n",
       "      <th>p3</th>\n",
       "      <th>p3_conf</th>\n",
       "      <th>p3_dog</th>\n",
       "    </tr>\n",
       "  </thead>\n",
       "  <tbody>\n",
       "    <tr>\n",
       "      <th>0</th>\n",
       "      <td>666020888022790149</td>\n",
       "      <td>https://pbs.twimg.com/media/CT4udn0WwAA0aMy.jpg</td>\n",
       "      <td>1</td>\n",
       "      <td>Welsh Springer Spaniel</td>\n",
       "      <td>0.465074</td>\n",
       "      <td>True</td>\n",
       "      <td>Collie</td>\n",
       "      <td>0.156665</td>\n",
       "      <td>True</td>\n",
       "      <td>Shetland Sheepdog</td>\n",
       "      <td>0.061428</td>\n",
       "      <td>True</td>\n",
       "    </tr>\n",
       "    <tr>\n",
       "      <th>1</th>\n",
       "      <td>666029285002620928</td>\n",
       "      <td>https://pbs.twimg.com/media/CT42GRgUYAA5iDo.jpg</td>\n",
       "      <td>1</td>\n",
       "      <td>Redbone</td>\n",
       "      <td>0.506826</td>\n",
       "      <td>True</td>\n",
       "      <td>Miniature Pinscher</td>\n",
       "      <td>0.074192</td>\n",
       "      <td>True</td>\n",
       "      <td>Rhodesian Ridgeback</td>\n",
       "      <td>0.072010</td>\n",
       "      <td>True</td>\n",
       "    </tr>\n",
       "    <tr>\n",
       "      <th>2</th>\n",
       "      <td>666033412701032449</td>\n",
       "      <td>https://pbs.twimg.com/media/CT4521TWwAEvMyu.jpg</td>\n",
       "      <td>1</td>\n",
       "      <td>German Shepherd</td>\n",
       "      <td>0.596461</td>\n",
       "      <td>True</td>\n",
       "      <td>Malinois</td>\n",
       "      <td>0.138584</td>\n",
       "      <td>True</td>\n",
       "      <td>Bloodhound</td>\n",
       "      <td>0.116197</td>\n",
       "      <td>True</td>\n",
       "    </tr>\n",
       "    <tr>\n",
       "      <th>3</th>\n",
       "      <td>666044226329800704</td>\n",
       "      <td>https://pbs.twimg.com/media/CT5Dr8HUEAA-lEu.jpg</td>\n",
       "      <td>1</td>\n",
       "      <td>Rhodesian Ridgeback</td>\n",
       "      <td>0.408143</td>\n",
       "      <td>True</td>\n",
       "      <td>Redbone</td>\n",
       "      <td>0.360687</td>\n",
       "      <td>True</td>\n",
       "      <td>Miniature Pinscher</td>\n",
       "      <td>0.222752</td>\n",
       "      <td>True</td>\n",
       "    </tr>\n",
       "    <tr>\n",
       "      <th>4</th>\n",
       "      <td>666049248165822465</td>\n",
       "      <td>https://pbs.twimg.com/media/CT5IQmsXIAAKY4A.jpg</td>\n",
       "      <td>1</td>\n",
       "      <td>Miniature Pinscher</td>\n",
       "      <td>0.560311</td>\n",
       "      <td>True</td>\n",
       "      <td>Rottweiler</td>\n",
       "      <td>0.243682</td>\n",
       "      <td>True</td>\n",
       "      <td>Doberman</td>\n",
       "      <td>0.154629</td>\n",
       "      <td>True</td>\n",
       "    </tr>\n",
       "    <tr>\n",
       "      <th>5</th>\n",
       "      <td>666050758794694657</td>\n",
       "      <td>https://pbs.twimg.com/media/CT5Jof1WUAEuVxN.jpg</td>\n",
       "      <td>1</td>\n",
       "      <td>Bernese Mountain Dog</td>\n",
       "      <td>0.651137</td>\n",
       "      <td>True</td>\n",
       "      <td>English Springer</td>\n",
       "      <td>0.263788</td>\n",
       "      <td>True</td>\n",
       "      <td>Greater Swiss Mountain Dog</td>\n",
       "      <td>0.016199</td>\n",
       "      <td>True</td>\n",
       "    </tr>\n",
       "    <tr>\n",
       "      <th>6</th>\n",
       "      <td>666051853826850816</td>\n",
       "      <td>https://pbs.twimg.com/media/CT5KoJ1WoAAJash.jpg</td>\n",
       "      <td>1</td>\n",
       "      <td>Box Turtle</td>\n",
       "      <td>0.933012</td>\n",
       "      <td>False</td>\n",
       "      <td>Mud Turtle</td>\n",
       "      <td>0.045885</td>\n",
       "      <td>False</td>\n",
       "      <td>Terrapin</td>\n",
       "      <td>0.017885</td>\n",
       "      <td>False</td>\n",
       "    </tr>\n",
       "  </tbody>\n",
       "</table>\n",
       "</div>"
      ],
      "text/plain": [
       "             tweet_id                                          jpg_url  \\\n",
       "0  666020888022790149  https://pbs.twimg.com/media/CT4udn0WwAA0aMy.jpg   \n",
       "1  666029285002620928  https://pbs.twimg.com/media/CT42GRgUYAA5iDo.jpg   \n",
       "2  666033412701032449  https://pbs.twimg.com/media/CT4521TWwAEvMyu.jpg   \n",
       "3  666044226329800704  https://pbs.twimg.com/media/CT5Dr8HUEAA-lEu.jpg   \n",
       "4  666049248165822465  https://pbs.twimg.com/media/CT5IQmsXIAAKY4A.jpg   \n",
       "5  666050758794694657  https://pbs.twimg.com/media/CT5Jof1WUAEuVxN.jpg   \n",
       "6  666051853826850816  https://pbs.twimg.com/media/CT5KoJ1WoAAJash.jpg   \n",
       "\n",
       "   img_num                      p1   p1_conf  p1_dog                  p2  \\\n",
       "0        1  Welsh Springer Spaniel  0.465074    True              Collie   \n",
       "1        1                 Redbone  0.506826    True  Miniature Pinscher   \n",
       "2        1         German Shepherd  0.596461    True            Malinois   \n",
       "3        1     Rhodesian Ridgeback  0.408143    True             Redbone   \n",
       "4        1      Miniature Pinscher  0.560311    True          Rottweiler   \n",
       "5        1    Bernese Mountain Dog  0.651137    True    English Springer   \n",
       "6        1              Box Turtle  0.933012   False          Mud Turtle   \n",
       "\n",
       "    p2_conf  p2_dog                          p3   p3_conf  p3_dog  \n",
       "0  0.156665    True           Shetland Sheepdog  0.061428    True  \n",
       "1  0.074192    True         Rhodesian Ridgeback  0.072010    True  \n",
       "2  0.138584    True                  Bloodhound  0.116197    True  \n",
       "3  0.360687    True          Miniature Pinscher  0.222752    True  \n",
       "4  0.243682    True                    Doberman  0.154629    True  \n",
       "5  0.263788    True  Greater Swiss Mountain Dog  0.016199    True  \n",
       "6  0.045885   False                    Terrapin  0.017885   False  "
      ]
     },
     "execution_count": 46,
     "metadata": {},
     "output_type": "execute_result"
    }
   ],
   "source": [
    "predictions_clean.head(7)"
   ]
  },
  {
   "cell_type": "markdown",
   "id": "44ccc5d1",
   "metadata": {},
   "source": [
    "<hr>"
   ]
  },
  {
   "cell_type": "markdown",
   "id": "d343e29f",
   "metadata": {},
   "source": [
    "## Issue 10"
   ]
  },
  {
   "cell_type": "markdown",
   "id": "30917c81",
   "metadata": {},
   "source": [
    "### Define"
   ]
  },
  {
   "cell_type": "markdown",
   "id": "d3b63adf",
   "metadata": {},
   "source": [
    "Since the duplicated image files represent a duplicate prediction , then they must be dropped to ensure uniqueness of the data"
   ]
  },
  {
   "cell_type": "markdown",
   "id": "2a98b96e",
   "metadata": {},
   "source": [
    "### Code"
   ]
  },
  {
   "cell_type": "code",
   "execution_count": null,
   "id": "9fd3a683",
   "metadata": {
    "execution": {
     "iopub.execute_input": "2025-04-27T12:28:34.407894Z",
     "iopub.status.busy": "2025-04-27T12:28:34.406309Z",
     "iopub.status.idle": "2025-04-27T12:28:34.429355Z",
     "shell.execute_reply": "2025-04-27T12:28:34.427728Z",
     "shell.execute_reply.started": "2025-04-27T12:28:34.407848Z"
    }
   },
   "outputs": [
    {
     "name": "stdout",
     "output_type": "stream",
     "text": [
      "Predictions before dropping 2075\n",
      "Predictions after dropping 2009\n"
     ]
    }
   ],
   "source": [
    "# Getting a dataframe of the duplicated data\n",
    "duplicates = predictions_clean[predictions_clean[\"jpg_url\"].duplicated()]\n",
    "\n",
    "# Getting indices of duplicate rows\n",
    "indices = duplicates.index\n",
    "\n",
    "# Printing the number of rows in the dataframe before and after dropping\n",
    "print(\n",
    "    f\"Predictions before dropping {predictions_clean.shape[0]}\\nPredictions after dropping {predictions_clean.shape[0] - duplicates.shape[0]}\"\n",
    ")\n",
    "# Dropping duplicates\n",
    "predictions_clean = predictions_clean.drop(indices)"
   ]
  },
  {
   "cell_type": "markdown",
   "id": "ad5a306f",
   "metadata": {},
   "source": [
    "### Test"
   ]
  },
  {
   "cell_type": "code",
   "execution_count": null,
   "id": "8ee58c5c",
   "metadata": {
    "execution": {
     "iopub.execute_input": "2025-04-27T12:28:34.432831Z",
     "iopub.status.busy": "2025-04-27T12:28:34.431437Z",
     "iopub.status.idle": "2025-04-27T12:28:34.450046Z",
     "shell.execute_reply": "2025-04-27T12:28:34.446812Z",
     "shell.execute_reply.started": "2025-04-27T12:28:34.432732Z"
    }
   },
   "outputs": [
    {
     "data": {
      "text/plain": [
       "np.int64(0)"
      ]
     },
     "execution_count": 48,
     "metadata": {},
     "output_type": "execute_result"
    }
   ],
   "source": [
    "predictions_clean[\"jpg_url\"].duplicated().sum()"
   ]
  },
  {
   "cell_type": "markdown",
   "id": "dc10d8b6",
   "metadata": {},
   "source": [
    "<hr>"
   ]
  },
  {
   "cell_type": "markdown",
   "id": "a26899cc",
   "metadata": {},
   "source": [
    "## Issue 11"
   ]
  },
  {
   "cell_type": "markdown",
   "id": "287faf53",
   "metadata": {},
   "source": [
    "### Define"
   ]
  },
  {
   "cell_type": "markdown",
   "id": "49d895ce",
   "metadata": {},
   "source": [
    "Since we have no other source to get the missing likes from,\n",
    "\n",
    "We also can't fill them with zero as this will be considered as an outlier due to popularity of this account\n",
    "\n",
    "We can just fill with the mean\n",
    "\n",
    "As we noticed in assessment :\n",
    "The rows with missing likes / retweets are 180 rows\n",
    "\n",
    "The total number of rows is 2354\n",
    "\n",
    "So modifying these values won't significantly influence the data"
   ]
  },
  {
   "cell_type": "markdown",
   "id": "cf6286b2",
   "metadata": {},
   "source": [
    "### Code"
   ]
  },
  {
   "cell_type": "code",
   "execution_count": null,
   "id": "b8c94fff",
   "metadata": {
    "execution": {
     "iopub.execute_input": "2025-04-27T12:28:34.453215Z",
     "iopub.status.busy": "2025-04-27T12:28:34.452187Z",
     "iopub.status.idle": "2025-04-27T12:28:34.466881Z",
     "shell.execute_reply": "2025-04-27T12:28:34.464724Z",
     "shell.execute_reply.started": "2025-04-27T12:28:34.453152Z"
    }
   },
   "outputs": [],
   "source": [
    "tweet_metrics_clean[[\"favorite_count\", \"retweet_count\"]] = tweet_metrics_clean[\n",
    "    [\"favorite_count\", \"retweet_count\"]\n",
    "].replace(0, np.mean)"
   ]
  },
  {
   "cell_type": "markdown",
   "id": "3d6b4564",
   "metadata": {},
   "source": [
    "### Test"
   ]
  },
  {
   "cell_type": "code",
   "execution_count": null,
   "id": "ac7a614d",
   "metadata": {
    "execution": {
     "iopub.execute_input": "2025-04-27T12:28:34.470620Z",
     "iopub.status.busy": "2025-04-27T12:28:34.469425Z",
     "iopub.status.idle": "2025-04-27T12:28:34.489964Z",
     "shell.execute_reply": "2025-04-27T12:28:34.487767Z",
     "shell.execute_reply.started": "2025-04-27T12:28:34.470547Z"
    }
   },
   "outputs": [
    {
     "data": {
      "text/plain": [
       "0"
      ]
     },
     "execution_count": 50,
     "metadata": {},
     "output_type": "execute_result"
    }
   ],
   "source": [
    "# Filtering for zero values and using .shape[0] to get number of rows\n",
    "tweet_metrics_clean[\n",
    "    (tweet_metrics_clean[\"favorite_count\"] == 0)\n",
    "    | (tweet_metrics_clean[\"retweet_count\"] == 0)\n",
    "].shape[0]"
   ]
  },
  {
   "cell_type": "markdown",
   "id": "c02a9b6c",
   "metadata": {},
   "source": [
    "Issue fixed !"
   ]
  },
  {
   "cell_type": "markdown",
   "id": "38aece1e",
   "metadata": {},
   "source": [
    "<hr>"
   ]
  },
  {
   "cell_type": "markdown",
   "id": "bc1933eb",
   "metadata": {},
   "source": [
    "## Tidiness:"
   ]
  },
  {
   "cell_type": "markdown",
   "id": "f8e97c42",
   "metadata": {},
   "source": [
    "## Issue 12 & Issue 7"
   ]
  },
  {
   "cell_type": "markdown",
   "id": "b908f8ed",
   "metadata": {},
   "source": [
    "### Define"
   ]
  },
  {
   "cell_type": "markdown",
   "id": "3ecaa636",
   "metadata": {},
   "source": [
    "We can drop all of the dog_stages columns as they're dependant on the tweet's text column\n",
    "\n",
    "We can make one column for dog_stage which will contain the dog stage mentioned in the text column\n",
    "\n",
    "If no stage was mentioned and our regular expression didn't capture a stage, we will just place 'Unknown'"
   ]
  },
  {
   "cell_type": "markdown",
   "id": "eccfc031",
   "metadata": {},
   "source": [
    "### Code"
   ]
  },
  {
   "cell_type": "code",
   "execution_count": null,
   "id": "68cc09fa",
   "metadata": {
    "execution": {
     "iopub.execute_input": "2025-04-27T12:28:34.496484Z",
     "iopub.status.busy": "2025-04-27T12:28:34.495072Z",
     "iopub.status.idle": "2025-04-27T12:28:34.512304Z",
     "shell.execute_reply": "2025-04-27T12:28:34.510425Z",
     "shell.execute_reply.started": "2025-04-27T12:28:34.496406Z"
    }
   },
   "outputs": [],
   "source": [
    "# Dropping dog stages columns\n",
    "columns = [\"doggo\", \"floofer\", \"pupper\", \"puppo\"]\n",
    "archive_clean = archive_clean.drop(columns, axis=1)"
   ]
  },
  {
   "cell_type": "code",
   "execution_count": null,
   "id": "9269d59a",
   "metadata": {
    "execution": {
     "iopub.execute_input": "2025-04-27T12:28:34.516479Z",
     "iopub.status.busy": "2025-04-27T12:28:34.514735Z",
     "iopub.status.idle": "2025-04-27T12:28:34.541023Z",
     "shell.execute_reply": "2025-04-27T12:28:34.539004Z",
     "shell.execute_reply.started": "2025-04-27T12:28:34.516373Z"
    }
   },
   "outputs": [],
   "source": [
    "# Creating a new dog stage column and assigning it to the extracted dog stage from the text\n",
    "# Unknown value will be passed if no dog stage was found\n",
    "archive_clean[\"dog_stage\"] = archive_clean[\"text\"].str.extract(\n",
    "    \"(doggo|floofer|pupper|puppo)\"\n",
    ")\n",
    "\n",
    "# Replacing NaN's with Unknown for better human read-ability\n",
    "archive_clean[\"dog_stage\"] = archive_clean[\"dog_stage\"].replace(\n",
    "    np.nan, \"Unknown\"\n",
    ")"
   ]
  },
  {
   "cell_type": "markdown",
   "id": "e0138366",
   "metadata": {},
   "source": [
    "### Test"
   ]
  },
  {
   "cell_type": "code",
   "execution_count": null,
   "id": "0da4964b",
   "metadata": {
    "execution": {
     "iopub.execute_input": "2025-04-27T12:28:34.544052Z",
     "iopub.status.busy": "2025-04-27T12:28:34.542797Z",
     "iopub.status.idle": "2025-04-27T12:28:34.564828Z",
     "shell.execute_reply": "2025-04-27T12:28:34.563170Z",
     "shell.execute_reply.started": "2025-04-27T12:28:34.543957Z"
    }
   },
   "outputs": [
    {
     "name": "stdout",
     "output_type": "stream",
     "text": [
      "dog_stage\n",
      "Unknown    1667\n",
      "pupper      223\n",
      "doggo        72\n",
      "puppo        28\n",
      "floofer       3\n",
      "Name: count, dtype: int64\n"
     ]
    },
    {
     "data": {
      "text/plain": [
       "306     Unknown\n",
       "12        puppo\n",
       "308     Unknown\n",
       "863     Unknown\n",
       "1639    Unknown\n",
       "1627    Unknown\n",
       "1496    Unknown\n",
       "791     Unknown\n",
       "288     Unknown\n",
       "1952    Unknown\n",
       "1686    Unknown\n",
       "149     Unknown\n",
       "1328    Unknown\n",
       "1125    Unknown\n",
       "1307     pupper\n",
       "191       puppo\n",
       "878     Unknown\n",
       "2301    Unknown\n",
       "1353    Unknown\n",
       "322     Unknown\n",
       "Name: dog_stage, dtype: object"
      ]
     },
     "execution_count": 53,
     "metadata": {},
     "output_type": "execute_result"
    }
   ],
   "source": [
    "# Printing count of elements of dog_stage and also checking some sample rows\n",
    "print(archive_clean[\"dog_stage\"].value_counts())\n",
    "archive_clean[\"dog_stage\"].sample(20)"
   ]
  },
  {
   "cell_type": "markdown",
   "id": "88159cda",
   "metadata": {},
   "source": [
    "The number of Unknown is huge but we have no clue for the dog stage since it wasn't mentioned in the text of the tweet"
   ]
  },
  {
   "cell_type": "markdown",
   "id": "6c309676",
   "metadata": {},
   "source": [
    "<hr>"
   ]
  },
  {
   "cell_type": "markdown",
   "id": "945033a3",
   "metadata": {},
   "source": [
    "## Issue 13"
   ]
  },
  {
   "cell_type": "markdown",
   "id": "b121b2a1",
   "metadata": {},
   "source": [
    "### Define"
   ]
  },
  {
   "cell_type": "markdown",
   "id": "1fc8b369",
   "metadata": {},
   "source": [
    "We can make 4 new columns for the splitted TimeStamp using the .dt accessor of pandas"
   ]
  },
  {
   "cell_type": "markdown",
   "id": "e7999204",
   "metadata": {},
   "source": [
    "### Code"
   ]
  },
  {
   "cell_type": "code",
   "execution_count": null,
   "id": "3e6a45d4",
   "metadata": {
    "execution": {
     "iopub.execute_input": "2025-04-27T12:28:34.567892Z",
     "iopub.status.busy": "2025-04-27T12:28:34.566724Z",
     "iopub.status.idle": "2025-04-27T12:28:34.591188Z",
     "shell.execute_reply": "2025-04-27T12:28:34.589726Z",
     "shell.execute_reply.started": "2025-04-27T12:28:34.567841Z"
    }
   },
   "outputs": [],
   "source": [
    "# Using .dt accessor to get the desired values of the timestamp\n",
    "archive_clean[\"year\"] = archive_clean[\"timestamp\"].dt.year\n",
    "archive_clean[\"month\"] = archive_clean[\"timestamp\"].dt.month\n",
    "archive_clean[\"day\"] = archive_clean[\"timestamp\"].dt.day\n",
    "archive_clean[\"day_name\"] = archive_clean[\"timestamp\"].dt.day_name()\n",
    "\n",
    "# Dropping the timestamp column since it's now cleaned and splitted\n",
    "archive_clean = archive_clean.drop(\"timestamp\", axis=1)"
   ]
  },
  {
   "cell_type": "markdown",
   "id": "2d88fb70",
   "metadata": {},
   "source": [
    "### Test"
   ]
  },
  {
   "cell_type": "code",
   "execution_count": null,
   "id": "8b6e9d15",
   "metadata": {
    "execution": {
     "iopub.execute_input": "2025-04-27T12:28:34.593719Z",
     "iopub.status.busy": "2025-04-27T12:28:34.592958Z",
     "iopub.status.idle": "2025-04-27T12:28:34.615951Z",
     "shell.execute_reply": "2025-04-27T12:28:34.614419Z",
     "shell.execute_reply.started": "2025-04-27T12:28:34.593670Z"
    }
   },
   "outputs": [
    {
     "data": {
      "text/html": [
       "<div>\n",
       "<style scoped>\n",
       "    .dataframe tbody tr th:only-of-type {\n",
       "        vertical-align: middle;\n",
       "    }\n",
       "\n",
       "    .dataframe tbody tr th {\n",
       "        vertical-align: top;\n",
       "    }\n",
       "\n",
       "    .dataframe thead th {\n",
       "        text-align: right;\n",
       "    }\n",
       "</style>\n",
       "<table border=\"1\" class=\"dataframe\">\n",
       "  <thead>\n",
       "    <tr style=\"text-align: right;\">\n",
       "      <th></th>\n",
       "      <th>tweet_id</th>\n",
       "      <th>year</th>\n",
       "      <th>month</th>\n",
       "      <th>day</th>\n",
       "      <th>day_name</th>\n",
       "    </tr>\n",
       "  </thead>\n",
       "  <tbody>\n",
       "    <tr>\n",
       "      <th>1147</th>\n",
       "      <td>726935089318363137</td>\n",
       "      <td>2016</td>\n",
       "      <td>5</td>\n",
       "      <td>2</td>\n",
       "      <td>Monday</td>\n",
       "    </tr>\n",
       "    <tr>\n",
       "      <th>1882</th>\n",
       "      <td>674999807681908736</td>\n",
       "      <td>2015</td>\n",
       "      <td>12</td>\n",
       "      <td>10</td>\n",
       "      <td>Thursday</td>\n",
       "    </tr>\n",
       "    <tr>\n",
       "      <th>389</th>\n",
       "      <td>826476773533745153</td>\n",
       "      <td>2017</td>\n",
       "      <td>1</td>\n",
       "      <td>31</td>\n",
       "      <td>Tuesday</td>\n",
       "    </tr>\n",
       "    <tr>\n",
       "      <th>1036</th>\n",
       "      <td>744971049620602880</td>\n",
       "      <td>2016</td>\n",
       "      <td>6</td>\n",
       "      <td>20</td>\n",
       "      <td>Monday</td>\n",
       "    </tr>\n",
       "    <tr>\n",
       "      <th>1028</th>\n",
       "      <td>745789745784041472</td>\n",
       "      <td>2016</td>\n",
       "      <td>6</td>\n",
       "      <td>23</td>\n",
       "      <td>Thursday</td>\n",
       "    </tr>\n",
       "    <tr>\n",
       "      <th>65</th>\n",
       "      <td>879492040517615616</td>\n",
       "      <td>2017</td>\n",
       "      <td>6</td>\n",
       "      <td>27</td>\n",
       "      <td>Tuesday</td>\n",
       "    </tr>\n",
       "    <tr>\n",
       "      <th>0</th>\n",
       "      <td>892420643555336193</td>\n",
       "      <td>2017</td>\n",
       "      <td>8</td>\n",
       "      <td>1</td>\n",
       "      <td>Tuesday</td>\n",
       "    </tr>\n",
       "    <tr>\n",
       "      <th>2266</th>\n",
       "      <td>667530908589760512</td>\n",
       "      <td>2015</td>\n",
       "      <td>11</td>\n",
       "      <td>20</td>\n",
       "      <td>Friday</td>\n",
       "    </tr>\n",
       "    <tr>\n",
       "      <th>1550</th>\n",
       "      <td>689154315265683456</td>\n",
       "      <td>2016</td>\n",
       "      <td>1</td>\n",
       "      <td>18</td>\n",
       "      <td>Monday</td>\n",
       "    </tr>\n",
       "    <tr>\n",
       "      <th>1962</th>\n",
       "      <td>673355879178194945</td>\n",
       "      <td>2015</td>\n",
       "      <td>12</td>\n",
       "      <td>6</td>\n",
       "      <td>Sunday</td>\n",
       "    </tr>\n",
       "  </tbody>\n",
       "</table>\n",
       "</div>"
      ],
      "text/plain": [
       "                tweet_id  year  month  day  day_name\n",
       "1147  726935089318363137  2016      5    2    Monday\n",
       "1882  674999807681908736  2015     12   10  Thursday\n",
       "389   826476773533745153  2017      1   31   Tuesday\n",
       "1036  744971049620602880  2016      6   20    Monday\n",
       "1028  745789745784041472  2016      6   23  Thursday\n",
       "65    879492040517615616  2017      6   27   Tuesday\n",
       "0     892420643555336193  2017      8    1   Tuesday\n",
       "2266  667530908589760512  2015     11   20    Friday\n",
       "1550  689154315265683456  2016      1   18    Monday\n",
       "1962  673355879178194945  2015     12    6    Sunday"
      ]
     },
     "execution_count": 55,
     "metadata": {},
     "output_type": "execute_result"
    }
   ],
   "source": [
    "archive_clean.loc[:, [\"tweet_id\", \"year\", \"month\", \"day\", \"day_name\"]].sample(\n",
    "    10\n",
    ")"
   ]
  },
  {
   "cell_type": "markdown",
   "id": "49eb33bf",
   "metadata": {},
   "source": [
    "<hr>"
   ]
  },
  {
   "cell_type": "markdown",
   "id": "41c97448",
   "metadata": {},
   "source": [
    "## Issue 14"
   ]
  },
  {
   "cell_type": "markdown",
   "id": "1e675140",
   "metadata": {},
   "source": [
    "### Define"
   ]
  },
  {
   "cell_type": "markdown",
   "id": "77f1a198",
   "metadata": {},
   "source": [
    "We will use a regular expression to extract the link at end of tweet then assign it to a different column\n",
    "\n",
    "Then we remove it from the text column"
   ]
  },
  {
   "cell_type": "markdown",
   "id": "753b8870",
   "metadata": {},
   "source": [
    "### Code"
   ]
  },
  {
   "cell_type": "code",
   "execution_count": null,
   "id": "73e67215",
   "metadata": {
    "execution": {
     "iopub.execute_input": "2025-04-27T12:28:34.619168Z",
     "iopub.status.busy": "2025-04-27T12:28:34.617908Z",
     "iopub.status.idle": "2025-04-27T12:28:34.657137Z",
     "shell.execute_reply": "2025-04-27T12:28:34.653779Z",
     "shell.execute_reply.started": "2025-04-27T12:28:34.619102Z"
    }
   },
   "outputs": [],
   "source": [
    "# Extracting links using regex\n",
    "archive_clean[\"tweet_link\"] = archive_clean[\"text\"].str.extract(\n",
    "    \"(https://t.co/.*)\"\n",
    ")\n",
    "\n",
    "# Replacing links with '' using the regex parameter\n",
    "archive_clean[\"text\"] = archive_clean[\"text\"].str.replace(\n",
    "    # Adding an optional whitespace to remove the whitespace at last of text\n",
    "    \" ?https://t.co/.*\",\n",
    "    \"\",\n",
    "    regex=True,\n",
    ")"
   ]
  },
  {
   "cell_type": "markdown",
   "id": "c61dd004",
   "metadata": {},
   "source": [
    "### Test"
   ]
  },
  {
   "cell_type": "code",
   "execution_count": null,
   "id": "63012f76",
   "metadata": {
    "execution": {
     "iopub.execute_input": "2025-04-27T12:28:34.662344Z",
     "iopub.status.busy": "2025-04-27T12:28:34.661283Z",
     "iopub.status.idle": "2025-04-27T12:28:34.680219Z",
     "shell.execute_reply": "2025-04-27T12:28:34.678034Z",
     "shell.execute_reply.started": "2025-04-27T12:28:34.662266Z"
    }
   },
   "outputs": [
    {
     "data": {
      "text/plain": [
       "array([[\"This is Randall. He's from Chernobyl. Built playground himself. Has been stuck up there quite a while. 5/10 good dog\",\n",
       "        'https://t.co/pzrvc7wKGd'],\n",
       "       [\"C'mon guys. Please only send in dogs. We only rate dogs, not Exceptional-Tongued Peruvian Floor Bears. Thank you... 12/10\",\n",
       "        'https://t.co/z30iQLiXNo'],\n",
       "       [\"Please don't send in photos without dogs in them. We're not @porch_rates. Insubordinate and churlish. Pretty good porch tho 11/10\",\n",
       "        'https://t.co/HauE8M3Bu4'],\n",
       "       [\"This is Cilantro. She's a Fellation Gadzooks. Eyes are super magical af. 12/10 could get lost in\",\n",
       "        'https://t.co/yJ26LNuyj5'],\n",
       "       ['Reckless pupper here. Not even looking at road. Absolute menace. No regard for fellow pupper lives. 10/10 still cute',\n",
       "        'https://t.co/96IBkOYB7j'],\n",
       "       ['This pupper is sprouting a flower out of her head. 12/10 revolutionary af',\n",
       "        'https://t.co/glmvQBRjv4'],\n",
       "       ['Fascinating dog here. Loves beach. Oddly long nose for dog. Massive ass paws. Hard to cuddle w. 3/10 would still pet',\n",
       "        'https://t.co/IiSdmhkC5N']], dtype=object)"
      ]
     },
     "execution_count": 57,
     "metadata": {},
     "output_type": "execute_result"
    }
   ],
   "source": [
    "# Checking the tweet's text and the extracted links in 7 random rows\n",
    "archive_clean[[\"text\", \"tweet_link\"]].sample(7).values"
   ]
  },
  {
   "cell_type": "markdown",
   "id": "e5712fe4",
   "metadata": {},
   "source": [
    "<hr>"
   ]
  },
  {
   "cell_type": "markdown",
   "id": "a41fc55a",
   "metadata": {},
   "source": [
    "## Issue 15"
   ]
  },
  {
   "cell_type": "markdown",
   "id": "b3cd4cde",
   "metadata": {},
   "source": [
    "### Define"
   ]
  },
  {
   "cell_type": "markdown",
   "id": "3de6b4d3",
   "metadata": {},
   "source": [
    "We can just drop the column using .drop() with an axis of 1"
   ]
  },
  {
   "cell_type": "markdown",
   "id": "d305594e",
   "metadata": {},
   "source": [
    "### Code"
   ]
  },
  {
   "cell_type": "code",
   "execution_count": null,
   "id": "52a43dec",
   "metadata": {
    "execution": {
     "iopub.execute_input": "2025-04-27T12:28:34.684317Z",
     "iopub.status.busy": "2025-04-27T12:28:34.683160Z",
     "iopub.status.idle": "2025-04-27T12:28:34.697589Z",
     "shell.execute_reply": "2025-04-27T12:28:34.694462Z",
     "shell.execute_reply.started": "2025-04-27T12:28:34.684256Z"
    }
   },
   "outputs": [],
   "source": [
    "predictions_clean = predictions_clean.drop(\"img_num\", axis=1)"
   ]
  },
  {
   "cell_type": "markdown",
   "id": "787a58c9",
   "metadata": {},
   "source": [
    "### Test"
   ]
  },
  {
   "cell_type": "code",
   "execution_count": null,
   "id": "bdd86163",
   "metadata": {
    "execution": {
     "iopub.execute_input": "2025-04-27T12:28:34.702223Z",
     "iopub.status.busy": "2025-04-27T12:28:34.701000Z",
     "iopub.status.idle": "2025-04-27T12:28:34.740799Z",
     "shell.execute_reply": "2025-04-27T12:28:34.737904Z",
     "shell.execute_reply.started": "2025-04-27T12:28:34.702116Z"
    }
   },
   "outputs": [
    {
     "data": {
      "text/html": [
       "<div>\n",
       "<style scoped>\n",
       "    .dataframe tbody tr th:only-of-type {\n",
       "        vertical-align: middle;\n",
       "    }\n",
       "\n",
       "    .dataframe tbody tr th {\n",
       "        vertical-align: top;\n",
       "    }\n",
       "\n",
       "    .dataframe thead th {\n",
       "        text-align: right;\n",
       "    }\n",
       "</style>\n",
       "<table border=\"1\" class=\"dataframe\">\n",
       "  <thead>\n",
       "    <tr style=\"text-align: right;\">\n",
       "      <th></th>\n",
       "      <th>tweet_id</th>\n",
       "      <th>jpg_url</th>\n",
       "      <th>p1</th>\n",
       "      <th>p1_conf</th>\n",
       "      <th>p1_dog</th>\n",
       "      <th>p2</th>\n",
       "      <th>p2_conf</th>\n",
       "      <th>p2_dog</th>\n",
       "      <th>p3</th>\n",
       "      <th>p3_conf</th>\n",
       "      <th>p3_dog</th>\n",
       "    </tr>\n",
       "  </thead>\n",
       "  <tbody>\n",
       "    <tr>\n",
       "      <th>0</th>\n",
       "      <td>666020888022790149</td>\n",
       "      <td>https://pbs.twimg.com/media/CT4udn0WwAA0aMy.jpg</td>\n",
       "      <td>Welsh Springer Spaniel</td>\n",
       "      <td>0.465074</td>\n",
       "      <td>True</td>\n",
       "      <td>Collie</td>\n",
       "      <td>0.156665</td>\n",
       "      <td>True</td>\n",
       "      <td>Shetland Sheepdog</td>\n",
       "      <td>0.061428</td>\n",
       "      <td>True</td>\n",
       "    </tr>\n",
       "    <tr>\n",
       "      <th>1</th>\n",
       "      <td>666029285002620928</td>\n",
       "      <td>https://pbs.twimg.com/media/CT42GRgUYAA5iDo.jpg</td>\n",
       "      <td>Redbone</td>\n",
       "      <td>0.506826</td>\n",
       "      <td>True</td>\n",
       "      <td>Miniature Pinscher</td>\n",
       "      <td>0.074192</td>\n",
       "      <td>True</td>\n",
       "      <td>Rhodesian Ridgeback</td>\n",
       "      <td>0.072010</td>\n",
       "      <td>True</td>\n",
       "    </tr>\n",
       "    <tr>\n",
       "      <th>2</th>\n",
       "      <td>666033412701032449</td>\n",
       "      <td>https://pbs.twimg.com/media/CT4521TWwAEvMyu.jpg</td>\n",
       "      <td>German Shepherd</td>\n",
       "      <td>0.596461</td>\n",
       "      <td>True</td>\n",
       "      <td>Malinois</td>\n",
       "      <td>0.138584</td>\n",
       "      <td>True</td>\n",
       "      <td>Bloodhound</td>\n",
       "      <td>0.116197</td>\n",
       "      <td>True</td>\n",
       "    </tr>\n",
       "    <tr>\n",
       "      <th>3</th>\n",
       "      <td>666044226329800704</td>\n",
       "      <td>https://pbs.twimg.com/media/CT5Dr8HUEAA-lEu.jpg</td>\n",
       "      <td>Rhodesian Ridgeback</td>\n",
       "      <td>0.408143</td>\n",
       "      <td>True</td>\n",
       "      <td>Redbone</td>\n",
       "      <td>0.360687</td>\n",
       "      <td>True</td>\n",
       "      <td>Miniature Pinscher</td>\n",
       "      <td>0.222752</td>\n",
       "      <td>True</td>\n",
       "    </tr>\n",
       "    <tr>\n",
       "      <th>4</th>\n",
       "      <td>666049248165822465</td>\n",
       "      <td>https://pbs.twimg.com/media/CT5IQmsXIAAKY4A.jpg</td>\n",
       "      <td>Miniature Pinscher</td>\n",
       "      <td>0.560311</td>\n",
       "      <td>True</td>\n",
       "      <td>Rottweiler</td>\n",
       "      <td>0.243682</td>\n",
       "      <td>True</td>\n",
       "      <td>Doberman</td>\n",
       "      <td>0.154629</td>\n",
       "      <td>True</td>\n",
       "    </tr>\n",
       "    <tr>\n",
       "      <th>5</th>\n",
       "      <td>666050758794694657</td>\n",
       "      <td>https://pbs.twimg.com/media/CT5Jof1WUAEuVxN.jpg</td>\n",
       "      <td>Bernese Mountain Dog</td>\n",
       "      <td>0.651137</td>\n",
       "      <td>True</td>\n",
       "      <td>English Springer</td>\n",
       "      <td>0.263788</td>\n",
       "      <td>True</td>\n",
       "      <td>Greater Swiss Mountain Dog</td>\n",
       "      <td>0.016199</td>\n",
       "      <td>True</td>\n",
       "    </tr>\n",
       "    <tr>\n",
       "      <th>6</th>\n",
       "      <td>666051853826850816</td>\n",
       "      <td>https://pbs.twimg.com/media/CT5KoJ1WoAAJash.jpg</td>\n",
       "      <td>Box Turtle</td>\n",
       "      <td>0.933012</td>\n",
       "      <td>False</td>\n",
       "      <td>Mud Turtle</td>\n",
       "      <td>0.045885</td>\n",
       "      <td>False</td>\n",
       "      <td>Terrapin</td>\n",
       "      <td>0.017885</td>\n",
       "      <td>False</td>\n",
       "    </tr>\n",
       "  </tbody>\n",
       "</table>\n",
       "</div>"
      ],
      "text/plain": [
       "             tweet_id                                          jpg_url  \\\n",
       "0  666020888022790149  https://pbs.twimg.com/media/CT4udn0WwAA0aMy.jpg   \n",
       "1  666029285002620928  https://pbs.twimg.com/media/CT42GRgUYAA5iDo.jpg   \n",
       "2  666033412701032449  https://pbs.twimg.com/media/CT4521TWwAEvMyu.jpg   \n",
       "3  666044226329800704  https://pbs.twimg.com/media/CT5Dr8HUEAA-lEu.jpg   \n",
       "4  666049248165822465  https://pbs.twimg.com/media/CT5IQmsXIAAKY4A.jpg   \n",
       "5  666050758794694657  https://pbs.twimg.com/media/CT5Jof1WUAEuVxN.jpg   \n",
       "6  666051853826850816  https://pbs.twimg.com/media/CT5KoJ1WoAAJash.jpg   \n",
       "\n",
       "                       p1   p1_conf  p1_dog                  p2   p2_conf  \\\n",
       "0  Welsh Springer Spaniel  0.465074    True              Collie  0.156665   \n",
       "1                 Redbone  0.506826    True  Miniature Pinscher  0.074192   \n",
       "2         German Shepherd  0.596461    True            Malinois  0.138584   \n",
       "3     Rhodesian Ridgeback  0.408143    True             Redbone  0.360687   \n",
       "4      Miniature Pinscher  0.560311    True          Rottweiler  0.243682   \n",
       "5    Bernese Mountain Dog  0.651137    True    English Springer  0.263788   \n",
       "6              Box Turtle  0.933012   False          Mud Turtle  0.045885   \n",
       "\n",
       "   p2_dog                          p3   p3_conf  p3_dog  \n",
       "0    True           Shetland Sheepdog  0.061428    True  \n",
       "1    True         Rhodesian Ridgeback  0.072010    True  \n",
       "2    True                  Bloodhound  0.116197    True  \n",
       "3    True          Miniature Pinscher  0.222752    True  \n",
       "4    True                    Doberman  0.154629    True  \n",
       "5    True  Greater Swiss Mountain Dog  0.016199    True  \n",
       "6   False                    Terrapin  0.017885   False  "
      ]
     },
     "execution_count": 59,
     "metadata": {},
     "output_type": "execute_result"
    }
   ],
   "source": [
    "predictions_clean.head(7)"
   ]
  },
  {
   "cell_type": "markdown",
   "id": "43000212",
   "metadata": {},
   "source": [
    "<hr>"
   ]
  },
  {
   "cell_type": "markdown",
   "id": "77cd5de0",
   "metadata": {},
   "source": [
    "## Issue 16"
   ]
  },
  {
   "cell_type": "markdown",
   "id": "dea98bce",
   "metadata": {},
   "source": [
    "### Define"
   ]
  },
  {
   "cell_type": "markdown",
   "id": "c0638e63",
   "metadata": {},
   "source": [
    "We can merge the data on tweet_id as a unique Identifer and use left way for keeping only matching tweets from the archive"
   ]
  },
  {
   "cell_type": "markdown",
   "id": "d386d611",
   "metadata": {},
   "source": [
    "### Code"
   ]
  },
  {
   "cell_type": "code",
   "execution_count": null,
   "id": "2436545f",
   "metadata": {
    "execution": {
     "iopub.execute_input": "2025-04-27T12:28:34.744598Z",
     "iopub.status.busy": "2025-04-27T12:28:34.743232Z",
     "iopub.status.idle": "2025-04-27T12:28:34.784427Z",
     "shell.execute_reply": "2025-04-27T12:28:34.783155Z",
     "shell.execute_reply.started": "2025-04-27T12:28:34.744499Z"
    }
   },
   "outputs": [],
   "source": [
    "# Renaming the ID column in likes / retweets dataframe so it matches the 2 other dataframes\n",
    "tweet_metrics_clean = tweet_metrics_clean.rename(columns={\"id\": \"tweet_id\"})\n",
    "\n",
    "# Since merge() accepts only two dataframes at once we can merge twice then\n",
    "merged_1 = pd.merge(\n",
    "    left=archive_clean, right=predictions_clean, how=\"left\", on=\"tweet_id\"\n",
    ")\n",
    "\n",
    "archive_master = pd.merge(\n",
    "    left=merged_1, right=tweet_metrics_clean, how=\"left\", on=\"tweet_id\"\n",
    ")"
   ]
  },
  {
   "cell_type": "markdown",
   "id": "a097281c",
   "metadata": {},
   "source": [
    "### Test"
   ]
  },
  {
   "cell_type": "code",
   "execution_count": null,
   "id": "cd7dd35c",
   "metadata": {
    "execution": {
     "iopub.execute_input": "2025-04-27T12:28:34.786927Z",
     "iopub.status.busy": "2025-04-27T12:28:34.785991Z",
     "iopub.status.idle": "2025-04-27T12:28:34.846492Z",
     "shell.execute_reply": "2025-04-27T12:28:34.844880Z",
     "shell.execute_reply.started": "2025-04-27T12:28:34.786882Z"
    }
   },
   "outputs": [
    {
     "data": {
      "text/html": [
       "<div>\n",
       "<style scoped>\n",
       "    .dataframe tbody tr th:only-of-type {\n",
       "        vertical-align: middle;\n",
       "    }\n",
       "\n",
       "    .dataframe tbody tr th {\n",
       "        vertical-align: top;\n",
       "    }\n",
       "\n",
       "    .dataframe thead th {\n",
       "        text-align: right;\n",
       "    }\n",
       "</style>\n",
       "<table border=\"1\" class=\"dataframe\">\n",
       "  <thead>\n",
       "    <tr style=\"text-align: right;\">\n",
       "      <th></th>\n",
       "      <th>tweet_id</th>\n",
       "      <th>source</th>\n",
       "      <th>text</th>\n",
       "      <th>expanded_urls</th>\n",
       "      <th>rating_numerator</th>\n",
       "      <th>rating_denominator</th>\n",
       "      <th>name</th>\n",
       "      <th>dog_stage</th>\n",
       "      <th>year</th>\n",
       "      <th>month</th>\n",
       "      <th>...</th>\n",
       "      <th>p1_conf</th>\n",
       "      <th>p1_dog</th>\n",
       "      <th>p2</th>\n",
       "      <th>p2_conf</th>\n",
       "      <th>p2_dog</th>\n",
       "      <th>p3</th>\n",
       "      <th>p3_conf</th>\n",
       "      <th>p3_dog</th>\n",
       "      <th>favorite_count</th>\n",
       "      <th>retweet_count</th>\n",
       "    </tr>\n",
       "  </thead>\n",
       "  <tbody>\n",
       "    <tr>\n",
       "      <th>1858</th>\n",
       "      <td>668507509523615744</td>\n",
       "      <td>&lt;a href=\"http://twitter.com/download/iphone\" r...</td>\n",
       "      <td>This is a Birmingham Quagmire named Chuk. Love...</td>\n",
       "      <td>https://twitter.com/dog_rates/status/668507509...</td>\n",
       "      <td>10.0</td>\n",
       "      <td>10.0</td>\n",
       "      <td>Unknown</td>\n",
       "      <td>Unknown</td>\n",
       "      <td>2015</td>\n",
       "      <td>11</td>\n",
       "      <td>...</td>\n",
       "      <td>0.055379</td>\n",
       "      <td>True</td>\n",
       "      <td>Shetland Sheepdog</td>\n",
       "      <td>0.054322</td>\n",
       "      <td>True</td>\n",
       "      <td>Whippet</td>\n",
       "      <td>0.051913</td>\n",
       "      <td>True</td>\n",
       "      <td>345</td>\n",
       "      <td>116</td>\n",
       "    </tr>\n",
       "    <tr>\n",
       "      <th>88</th>\n",
       "      <td>871762521631449091</td>\n",
       "      <td>&lt;a href=\"http://twitter.com/download/iphone\" r...</td>\n",
       "      <td>This is Rover. As part of pupper protocol he h...</td>\n",
       "      <td>https://twitter.com/dog_rates/status/871762521...</td>\n",
       "      <td>12.0</td>\n",
       "      <td>10.0</td>\n",
       "      <td>Rover</td>\n",
       "      <td>pupper</td>\n",
       "      <td>2017</td>\n",
       "      <td>6</td>\n",
       "      <td>...</td>\n",
       "      <td>0.921393</td>\n",
       "      <td>True</td>\n",
       "      <td>Golden Retriever</td>\n",
       "      <td>0.064608</td>\n",
       "      <td>True</td>\n",
       "      <td>Bloodhound</td>\n",
       "      <td>0.003383</td>\n",
       "      <td>True</td>\n",
       "      <td>20787</td>\n",
       "      <td>3678</td>\n",
       "    </tr>\n",
       "    <tr>\n",
       "      <th>1983</th>\n",
       "      <td>666058600524156928</td>\n",
       "      <td>&lt;a href=\"http://twitter.com/download/iphone\" r...</td>\n",
       "      <td>Here is the Rand Paul of retrievers folks! He'...</td>\n",
       "      <td>https://twitter.com/dog_rates/status/666058600...</td>\n",
       "      <td>8.0</td>\n",
       "      <td>10.0</td>\n",
       "      <td>Unknown</td>\n",
       "      <td>Unknown</td>\n",
       "      <td>2015</td>\n",
       "      <td>11</td>\n",
       "      <td>...</td>\n",
       "      <td>0.201493</td>\n",
       "      <td>True</td>\n",
       "      <td>Komondor</td>\n",
       "      <td>0.192305</td>\n",
       "      <td>True</td>\n",
       "      <td>Soft-Coated Wheaten Terrier</td>\n",
       "      <td>0.082086</td>\n",
       "      <td>True</td>\n",
       "      <td>115</td>\n",
       "      <td>61</td>\n",
       "    </tr>\n",
       "    <tr>\n",
       "      <th>1951</th>\n",
       "      <td>666701168228331520</td>\n",
       "      <td>&lt;a href=\"http://twitter.com/download/iphone\" r...</td>\n",
       "      <td>This is a golden Buckminsterfullerene named Jo...</td>\n",
       "      <td>https://twitter.com/dog_rates/status/666701168...</td>\n",
       "      <td>8.0</td>\n",
       "      <td>10.0</td>\n",
       "      <td>Unknown</td>\n",
       "      <td>Unknown</td>\n",
       "      <td>2015</td>\n",
       "      <td>11</td>\n",
       "      <td>...</td>\n",
       "      <td>0.887707</td>\n",
       "      <td>True</td>\n",
       "      <td>Chihuahua</td>\n",
       "      <td>0.029307</td>\n",
       "      <td>True</td>\n",
       "      <td>French Bulldog</td>\n",
       "      <td>0.020756</td>\n",
       "      <td>True</td>\n",
       "      <td>449</td>\n",
       "      <td>234</td>\n",
       "    </tr>\n",
       "    <tr>\n",
       "      <th>1527</th>\n",
       "      <td>675047298674663426</td>\n",
       "      <td>&lt;a href=\"http://twitter.com/download/iphone\" r...</td>\n",
       "      <td>This is a fluffy albino Bacardi Columbia mix. ...</td>\n",
       "      <td>https://twitter.com/dog_rates/status/675047298...</td>\n",
       "      <td>11.0</td>\n",
       "      <td>10.0</td>\n",
       "      <td>Unknown</td>\n",
       "      <td>Unknown</td>\n",
       "      <td>2015</td>\n",
       "      <td>12</td>\n",
       "      <td>...</td>\n",
       "      <td>0.978007</td>\n",
       "      <td>True</td>\n",
       "      <td>Chow</td>\n",
       "      <td>0.007121</td>\n",
       "      <td>True</td>\n",
       "      <td>Pomeranian</td>\n",
       "      <td>0.006398</td>\n",
       "      <td>True</td>\n",
       "      <td>1141</td>\n",
       "      <td>366</td>\n",
       "    </tr>\n",
       "    <tr>\n",
       "      <th>1117</th>\n",
       "      <td>698355670425473025</td>\n",
       "      <td>&lt;a href=\"http://twitter.com/download/iphone\" r...</td>\n",
       "      <td>This is Jessiga. She's a Tasmanian McCringlebe...</td>\n",
       "      <td>https://twitter.com/dog_rates/status/698355670...</td>\n",
       "      <td>10.0</td>\n",
       "      <td>10.0</td>\n",
       "      <td>Jessiga</td>\n",
       "      <td>Unknown</td>\n",
       "      <td>2016</td>\n",
       "      <td>2</td>\n",
       "      <td>...</td>\n",
       "      <td>0.990191</td>\n",
       "      <td>True</td>\n",
       "      <td>Pekinese</td>\n",
       "      <td>0.002799</td>\n",
       "      <td>True</td>\n",
       "      <td>Sunglasses</td>\n",
       "      <td>0.001310</td>\n",
       "      <td>False</td>\n",
       "      <td>2046</td>\n",
       "      <td>516</td>\n",
       "    </tr>\n",
       "    <tr>\n",
       "      <th>598</th>\n",
       "      <td>770293558247038976</td>\n",
       "      <td>&lt;a href=\"http://twitter.com/download/iphone\" r...</td>\n",
       "      <td>This is Jackson. There's nothing abnormal abou...</td>\n",
       "      <td>https://twitter.com/dog_rates/status/770293558...</td>\n",
       "      <td>10.0</td>\n",
       "      <td>10.0</td>\n",
       "      <td>Jackson</td>\n",
       "      <td>Unknown</td>\n",
       "      <td>2016</td>\n",
       "      <td>8</td>\n",
       "      <td>...</td>\n",
       "      <td>0.931668</td>\n",
       "      <td>True</td>\n",
       "      <td>Mexican Hairless</td>\n",
       "      <td>0.038896</td>\n",
       "      <td>True</td>\n",
       "      <td>Whippet</td>\n",
       "      <td>0.013151</td>\n",
       "      <td>True</td>\n",
       "      <td>6923</td>\n",
       "      <td>1718</td>\n",
       "    </tr>\n",
       "  </tbody>\n",
       "</table>\n",
       "<p>7 rows × 25 columns</p>\n",
       "</div>"
      ],
      "text/plain": [
       "                tweet_id                                             source  \\\n",
       "1858  668507509523615744  <a href=\"http://twitter.com/download/iphone\" r...   \n",
       "88    871762521631449091  <a href=\"http://twitter.com/download/iphone\" r...   \n",
       "1983  666058600524156928  <a href=\"http://twitter.com/download/iphone\" r...   \n",
       "1951  666701168228331520  <a href=\"http://twitter.com/download/iphone\" r...   \n",
       "1527  675047298674663426  <a href=\"http://twitter.com/download/iphone\" r...   \n",
       "1117  698355670425473025  <a href=\"http://twitter.com/download/iphone\" r...   \n",
       "598   770293558247038976  <a href=\"http://twitter.com/download/iphone\" r...   \n",
       "\n",
       "                                                   text  \\\n",
       "1858  This is a Birmingham Quagmire named Chuk. Love...   \n",
       "88    This is Rover. As part of pupper protocol he h...   \n",
       "1983  Here is the Rand Paul of retrievers folks! He'...   \n",
       "1951  This is a golden Buckminsterfullerene named Jo...   \n",
       "1527  This is a fluffy albino Bacardi Columbia mix. ...   \n",
       "1117  This is Jessiga. She's a Tasmanian McCringlebe...   \n",
       "598   This is Jackson. There's nothing abnormal abou...   \n",
       "\n",
       "                                          expanded_urls  rating_numerator  \\\n",
       "1858  https://twitter.com/dog_rates/status/668507509...              10.0   \n",
       "88    https://twitter.com/dog_rates/status/871762521...              12.0   \n",
       "1983  https://twitter.com/dog_rates/status/666058600...               8.0   \n",
       "1951  https://twitter.com/dog_rates/status/666701168...               8.0   \n",
       "1527  https://twitter.com/dog_rates/status/675047298...              11.0   \n",
       "1117  https://twitter.com/dog_rates/status/698355670...              10.0   \n",
       "598   https://twitter.com/dog_rates/status/770293558...              10.0   \n",
       "\n",
       "      rating_denominator     name dog_stage  year  month  ...   p1_conf  \\\n",
       "1858                10.0  Unknown   Unknown  2015     11  ...  0.055379   \n",
       "88                  10.0    Rover    pupper  2017      6  ...  0.921393   \n",
       "1983                10.0  Unknown   Unknown  2015     11  ...  0.201493   \n",
       "1951                10.0  Unknown   Unknown  2015     11  ...  0.887707   \n",
       "1527                10.0  Unknown   Unknown  2015     12  ...  0.978007   \n",
       "1117                10.0  Jessiga   Unknown  2016      2  ...  0.990191   \n",
       "598                 10.0  Jackson   Unknown  2016      8  ...  0.931668   \n",
       "\n",
       "     p1_dog                 p2   p2_conf p2_dog                           p3  \\\n",
       "1858   True  Shetland Sheepdog  0.054322   True                      Whippet   \n",
       "88     True   Golden Retriever  0.064608   True                   Bloodhound   \n",
       "1983   True           Komondor  0.192305   True  Soft-Coated Wheaten Terrier   \n",
       "1951   True          Chihuahua  0.029307   True               French Bulldog   \n",
       "1527   True               Chow  0.007121   True                   Pomeranian   \n",
       "1117   True           Pekinese  0.002799   True                   Sunglasses   \n",
       "598    True   Mexican Hairless  0.038896   True                      Whippet   \n",
       "\n",
       "       p3_conf p3_dog  favorite_count  retweet_count  \n",
       "1858  0.051913   True             345            116  \n",
       "88    0.003383   True           20787           3678  \n",
       "1983  0.082086   True             115             61  \n",
       "1951  0.020756   True             449            234  \n",
       "1527  0.006398   True            1141            366  \n",
       "1117  0.001310  False            2046            516  \n",
       "598   0.013151   True            6923           1718  \n",
       "\n",
       "[7 rows x 25 columns]"
      ]
     },
     "execution_count": 61,
     "metadata": {},
     "output_type": "execute_result"
    }
   ],
   "source": [
    "archive_master.sample(7)"
   ]
  },
  {
   "cell_type": "markdown",
   "id": "18bb2bf7",
   "metadata": {},
   "source": [
    "<hr>"
   ]
  },
  {
   "cell_type": "markdown",
   "id": "5dd45ac2",
   "metadata": {},
   "source": [
    "<h1 id = \"storing\">Storing Data</h1>"
   ]
  },
  {
   "cell_type": "markdown",
   "id": "00606c73",
   "metadata": {},
   "source": [
    "### Exporting as CSV"
   ]
  },
  {
   "cell_type": "code",
   "execution_count": null,
   "id": "b8d2a485",
   "metadata": {
    "execution": {
     "iopub.execute_input": "2025-04-27T12:28:34.851947Z",
     "iopub.status.busy": "2025-04-27T12:28:34.850702Z",
     "iopub.status.idle": "2025-04-27T12:28:34.952297Z",
     "shell.execute_reply": "2025-04-27T12:28:34.951121Z",
     "shell.execute_reply.started": "2025-04-27T12:28:34.851885Z"
    }
   },
   "outputs": [],
   "source": [
    "# Passing False in index parameter so there is no column for the index\n",
    "archive_master.to_csv(\"data/twitter_archive_master.csv\", index=False)"
   ]
  },
  {
   "cell_type": "markdown",
   "id": "bb262d55",
   "metadata": {},
   "source": [
    "### Exporting as a SQL Database"
   ]
  },
  {
   "cell_type": "code",
   "execution_count": null,
   "id": "9d772bf9",
   "metadata": {
    "execution": {
     "iopub.execute_input": "2025-04-27T12:28:34.954882Z",
     "iopub.status.busy": "2025-04-27T12:28:34.954029Z",
     "iopub.status.idle": "2025-04-27T12:28:35.001751Z",
     "shell.execute_reply": "2025-04-27T12:28:35.000381Z",
     "shell.execute_reply.started": "2025-04-27T12:28:34.954827Z"
    }
   },
   "outputs": [],
   "source": [
    "engine = create_engine(\"sqlite:///data/twitter_archive_master.db\")"
   ]
  },
  {
   "cell_type": "code",
   "execution_count": null,
   "id": "74c7b916",
   "metadata": {
    "execution": {
     "iopub.execute_input": "2025-04-27T12:28:35.004375Z",
     "iopub.status.busy": "2025-04-27T12:28:35.003747Z",
     "iopub.status.idle": "2025-04-27T12:28:35.032145Z",
     "shell.execute_reply": "2025-04-27T12:28:35.030227Z",
     "shell.execute_reply.started": "2025-04-27T12:28:35.004308Z"
    }
   },
   "outputs": [
    {
     "name": "stdout",
     "output_type": "stream",
     "text": [
      "Table Already exists in the database\n"
     ]
    }
   ],
   "source": [
    "try:\n",
    "    archive_master.to_sql(\"twitter_archive_master\", engine, index=False)\n",
    "except:\n",
    "    print(\"Table Already exists in the database\")"
   ]
  },
  {
   "cell_type": "markdown",
   "id": "1219423b-b3c7-44d9-a201-64c947cc8a2a",
   "metadata": {},
   "source": [
    "<hr>"
   ]
  },
  {
   "cell_type": "markdown",
   "id": "8d62f51c",
   "metadata": {},
   "source": [
    "<h1 id = \"explore\">Insights & Visualizations</h1>\n",
    "Here we will explore trends and relations within the data and make some insights and conclusions"
   ]
  },
  {
   "cell_type": "markdown",
   "id": "a2af2606",
   "metadata": {},
   "source": [
    "### What's the most common dog breed in the tweets ?"
   ]
  },
  {
   "cell_type": "markdown",
   "id": "971f5ac9-2659-40d4-93c8-a4906c841c72",
   "metadata": {},
   "source": [
    "#### Feature Engineering : Dog breed\n",
    "Since some first predictions aren't dogs we have to extract only the predictions which are dogs"
   ]
  },
  {
   "cell_type": "code",
   "execution_count": null,
   "id": "c9b4253f-4bb6-40a9-af42-066eedd941b9",
   "metadata": {
    "execution": {
     "iopub.execute_input": "2025-04-27T12:28:35.035238Z",
     "iopub.status.busy": "2025-04-27T12:28:35.034338Z",
     "iopub.status.idle": "2025-04-27T12:28:36.245357Z",
     "shell.execute_reply": "2025-04-27T12:28:36.244470Z",
     "shell.execute_reply.started": "2025-04-27T12:28:35.035197Z"
    }
   },
   "outputs": [
    {
     "data": {
      "text/plain": [
       "1506                 Cocker Spaniel\n",
       "949                         Whippet\n",
       "667              Labrador Retriever\n",
       "1303    Soft-Coated Wheaten Terrier\n",
       "1087             Norwegian Elkhound\n",
       "Name: breed, dtype: object"
      ]
     },
     "execution_count": 65,
     "metadata": {},
     "output_type": "execute_result"
    }
   ],
   "source": [
    "# Making an empty series for our result\n",
    "breeds = pd.Series()\n",
    "\n",
    "# Iterating over the rows\n",
    "for index, row in archive_master.iterrows():\n",
    "\n",
    "    # Checking whether the predictions represent a dog or not\n",
    "    # If the prediction is a dog, then the breed series gets assigned a breed name\n",
    "    # Otherwise, a NaN gets assigned\n",
    "    if row[\"p1_dog\"]:\n",
    "        breeds[index] = row[\"p1\"]\n",
    "    elif row[\"p2_dog\"]:\n",
    "        breeds[index] = row[\"p2\"]\n",
    "    elif row[\"p3_dog\"]:\n",
    "        breeds[index] = row[\"p3\"]\n",
    "\n",
    "# Making a new column from the resulted series\n",
    "archive_master[\"breed\"] = breeds\n",
    "\n",
    "# Printing a sample\n",
    "archive_master[\"breed\"].sample(5)"
   ]
  },
  {
   "cell_type": "code",
   "execution_count": null,
   "id": "f6b06296",
   "metadata": {
    "execution": {
     "iopub.execute_input": "2025-04-27T12:28:36.248455Z",
     "iopub.status.busy": "2025-04-27T12:28:36.247584Z",
     "iopub.status.idle": "2025-04-27T12:28:36.264431Z",
     "shell.execute_reply": "2025-04-27T12:28:36.262528Z",
     "shell.execute_reply.started": "2025-04-27T12:28:36.248390Z"
    }
   },
   "outputs": [
    {
     "name": "stdout",
     "output_type": "stream",
     "text": [
      "Top 10 dog breeds by frequency in Data : \n"
     ]
    },
    {
     "data": {
      "text/plain": [
       "breed\n",
       "Golden Retriever      158\n",
       "Labrador Retriever    108\n",
       "Pembroke               95\n",
       "Chihuahua              91\n",
       "Pug                    62\n",
       "Toy Poodle             51\n",
       "Chow                   48\n",
       "Samoyed                42\n",
       "Pomeranian             42\n",
       "Malamute               33\n",
       "Name: count, dtype: int64"
      ]
     },
     "execution_count": 66,
     "metadata": {},
     "output_type": "execute_result"
    }
   ],
   "source": [
    "# Getting top 10 common breeds\n",
    "print(\"Top 10 dog breeds by frequency in Data : \")\n",
    "archive_master[\"breed\"].value_counts()[:10]"
   ]
  },
  {
   "cell_type": "markdown",
   "id": "d10f750f",
   "metadata": {},
   "source": [
    "So the **Golden Retriever** was the most common breed by **158** occurences"
   ]
  },
  {
   "cell_type": "markdown",
   "id": "e9fad88c-dea1-4a05-a7ae-c744464de0dc",
   "metadata": {},
   "source": [
    "<hr>"
   ]
  },
  {
   "cell_type": "markdown",
   "id": "e4327a50",
   "metadata": {},
   "source": [
    "### Which year had the highest average likes on the tweets?"
   ]
  },
  {
   "cell_type": "code",
   "execution_count": null,
   "id": "265fa81e",
   "metadata": {
    "execution": {
     "iopub.execute_input": "2025-04-27T12:28:36.267692Z",
     "iopub.status.busy": "2025-04-27T12:28:36.266903Z",
     "iopub.status.idle": "2025-04-27T12:28:36.289505Z",
     "shell.execute_reply": "2025-04-27T12:28:36.287523Z",
     "shell.execute_reply.started": "2025-04-27T12:28:36.267623Z"
    }
   },
   "outputs": [
    {
     "name": "stdout",
     "output_type": "stream",
     "text": [
      "Average number of likes per year :\n"
     ]
    },
    {
     "data": {
      "text/plain": [
       "year\n",
       "2015     2500.909366\n",
       "2016     7719.279261\n",
       "2017    23984.568627\n",
       "Name: favorite_count, dtype: object"
      ]
     },
     "execution_count": 67,
     "metadata": {},
     "output_type": "execute_result"
    }
   ],
   "source": [
    "# Grouping by year then getting average likes\n",
    "print(\"Average number of likes per year :\")\n",
    "archive_master.groupby(\"year\")[\"favorite_count\"].mean()"
   ]
  },
  {
   "cell_type": "markdown",
   "id": "1a59a6ff",
   "metadata": {},
   "source": [
    "So 2017 was the most popular year for the account after it comes 2016 then 2015"
   ]
  },
  {
   "cell_type": "markdown",
   "id": "0269b16c-ceb4-4982-b1d8-012d5d09bb67",
   "metadata": {},
   "source": [
    "<hr>"
   ]
  },
  {
   "cell_type": "markdown",
   "id": "7351d3d2",
   "metadata": {},
   "source": [
    "### What is the most liked dog name?"
   ]
  },
  {
   "cell_type": "code",
   "execution_count": null,
   "id": "d5660d5f",
   "metadata": {
    "execution": {
     "iopub.execute_input": "2025-04-27T12:28:36.293591Z",
     "iopub.status.busy": "2025-04-27T12:28:36.292615Z",
     "iopub.status.idle": "2025-04-27T12:28:36.437646Z",
     "shell.execute_reply": "2025-04-27T12:28:36.436273Z",
     "shell.execute_reply.started": "2025-04-27T12:28:36.293524Z"
    }
   },
   "outputs": [
    {
     "name": "stdout",
     "output_type": "stream",
     "text": [
      "Average number of likes per dog name :\n"
     ]
    },
    {
     "data": {
      "text/plain": [
       "name\n",
       "Duddles       107956.0\n",
       "Stephan       107015.0\n",
       "Jamesy        106827.0\n",
       "Lilly          73397.0\n",
       "Aja            71144.0\n",
       "                ...   \n",
       "Lugan            244.0\n",
       "Keet             227.0\n",
       "Fwed             211.0\n",
       "Kallie           211.0\n",
       "Christoper       196.0\n",
       "Name: favorite_count, Length: 909, dtype: object"
      ]
     },
     "execution_count": 68,
     "metadata": {},
     "output_type": "execute_result"
    }
   ],
   "source": [
    "# Grouping by dog's name then getting average likes\n",
    "names_rating = archive_master.groupby(\"name\")[\"favorite_count\"].mean()\n",
    "\n",
    "print(\"Average number of likes per dog name :\")\n",
    "\n",
    "# Printing the sorted values descendingly\n",
    "names_rating.sort_values(ascending=False)"
   ]
  },
  {
   "cell_type": "markdown",
   "id": "fec6839b",
   "metadata": {},
   "source": [
    "So the dog named Duddles was the most liked in our data, good name :D"
   ]
  },
  {
   "cell_type": "markdown",
   "id": "1498219a-6b5b-4be8-bbd4-fcecf1a8dda7",
   "metadata": {},
   "source": [
    "<hr>"
   ]
  },
  {
   "cell_type": "markdown",
   "id": "8a08b5ac-235e-4068-94e6-a7469828f7ff",
   "metadata": {},
   "source": [
    "### What is the most retweeted picture?"
   ]
  },
  {
   "cell_type": "code",
   "execution_count": null,
   "id": "a82e1860-db48-4ce3-a3b5-3deedfd1b031",
   "metadata": {
    "execution": {
     "iopub.execute_input": "2025-04-27T12:28:36.439806Z",
     "iopub.status.busy": "2025-04-27T12:28:36.439122Z",
     "iopub.status.idle": "2025-04-27T12:28:36.457007Z",
     "shell.execute_reply": "2025-04-27T12:28:36.455345Z",
     "shell.execute_reply.started": "2025-04-27T12:28:36.439767Z"
    }
   },
   "outputs": [
    {
     "name": "stdout",
     "output_type": "stream",
     "text": [
      "Tweet : Here's a doggo realizing you can stand in a pool. 13/10 enlightened af (vid by Tina Conrad)\n",
      "Retweets : 79515\n"
     ]
    },
    {
     "data": {
      "text/html": [
       "<img src=\"https://pbs.twimg.com/ext_tw_video_thumb/744234667679821824/pu/img/1GaWmtJtdqzZV7jy.jpg\"/>"
      ],
      "text/plain": [
       "<IPython.core.display.Image object>"
      ]
     },
     "execution_count": 69,
     "metadata": {},
     "output_type": "execute_result"
    }
   ],
   "source": [
    "# https://stackoverflow.com/questions/11854847/how-can-i-display-an-image-from-a-file-in-jupyter-notebook\n",
    "from IPython.display import Image\n",
    "\n",
    "# Getting row with max retweet_count\n",
    "row = archive_master[\n",
    "    archive_master[\"retweet_count\"] == archive_master[\"retweet_count\"].max()\n",
    "]\n",
    "\n",
    "# Since I got the index with the url after calling [\"jpg_url\"], I used .values[0] to get first value, i.e the link\n",
    "url = row[\"jpg_url\"].values[0]\n",
    "\n",
    "# Printing the text and retweets also to get some context of the picture displayed below\n",
    "print(\n",
    "    f\"Tweet : {row[\"text\"].values[0]}\\nRetweets : {row[\"retweet_count\"].values[0]}\"\n",
    ")\n",
    "Image(url=url)"
   ]
  },
  {
   "cell_type": "markdown",
   "id": "c1c014dd-af10-4811-aad8-b9520a1742a8",
   "metadata": {},
   "source": [
    "Aww cute golden dog"
   ]
  },
  {
   "cell_type": "markdown",
   "id": "14057e95-d223-49f6-8fcd-6dcc2aef9aeb",
   "metadata": {},
   "source": [
    "<hr>"
   ]
  },
  {
   "cell_type": "markdown",
   "id": "69ca72f8",
   "metadata": {},
   "source": [
    "## Insights Conclusions\n",
    "- The Golden Retriever is the most common dog breed in our archived tweets\n",
    "- 2017 was the account's most popular year in the data\n",
    "- Duddles was the most liked dog\n",
    "- The image above of a golden dog swimming was the most retweeted"
   ]
  },
  {
   "cell_type": "markdown",
   "id": "6284158b-7130-46de-819a-aaf05f92b9e4",
   "metadata": {},
   "source": [
    "<hr>"
   ]
  },
  {
   "cell_type": "markdown",
   "id": "9d8e9588",
   "metadata": {},
   "source": [
    "## Visualization : What're the average likes for each day of the week?"
   ]
  },
  {
   "cell_type": "code",
   "execution_count": null,
   "id": "703ad314",
   "metadata": {
    "execution": {
     "iopub.execute_input": "2025-04-27T12:28:36.461057Z",
     "iopub.status.busy": "2025-04-27T12:28:36.459222Z",
     "iopub.status.idle": "2025-04-27T12:28:36.786057Z",
     "shell.execute_reply": "2025-04-27T12:28:36.784822Z",
     "shell.execute_reply.started": "2025-04-27T12:28:36.460988Z"
    }
   },
   "outputs": [
    {
     "data": {
      "image/png": "[encoded data removed]",
      "text/plain": [
       "<Figure size 640x480 with 1 Axes>"
      ]
     },
     "metadata": {},
     "output_type": "display_data"
    }
   ],
   "source": [
    "# Setting seaborn theme for more stylish visualizations\n",
    "sns.set_theme(style=\"darkgrid\", palette=\"mako\")\n",
    "\n",
    "# Grouping by day name then getting average likes\n",
    "likes_day = archive_master.groupby(\"day_name\")[\"favorite_count\"].mean()\n",
    "\n",
    "# Sorting for better visualization\n",
    "likes_day = likes_day.sort_values(ascending=False)\n",
    "\n",
    "# Making the plot\n",
    "plt.bar(x=likes_day.index, height=likes_day)\n",
    "\n",
    "# Setting rotation for week days so they don't overlap\n",
    "plt.xticks(rotation=45)\n",
    "\n",
    "# Setting title and labels\n",
    "plt.title(\n",
    "    \"Average likes per day of week\", loc=\"center\", fontdict={\"fontsize\": \"20\"}\n",
    ")\n",
    "plt.xlabel(\"Day of Week\")\n",
    "plt.ylabel(\"Number of Likes\")\n",
    "\n",
    "# Showing Plot\n",
    "plt.show()"
   ]
  },
  {
   "cell_type": "markdown",
   "id": "4f933c57",
   "metadata": {},
   "source": [
    "So **Wedenesday** was the day with highest average likes in the data\n",
    "\n",
    "Meanwhile, **Thursday** was the least"
   ]
  },
  {
   "cell_type": "markdown",
   "id": "3d9e32c3-603e-49ca-8635-11c71ac67d1f",
   "metadata": {},
   "source": [
    "<hr>"
   ]
  },
  {
   "cell_type": "markdown",
   "id": "d9daa162-89de-40c7-933b-cee35fa7c449",
   "metadata": {},
   "source": [
    "## Visualization : Is there a relationship between likes and retweets? "
   ]
  },
  {
   "cell_type": "code",
   "execution_count": null,
   "id": "aabdef00-3bdb-4120-85d2-4542995ebc5e",
   "metadata": {
    "execution": {
     "iopub.execute_input": "2025-04-27T12:28:36.788317Z",
     "iopub.status.busy": "2025-04-27T12:28:36.787650Z",
     "iopub.status.idle": "2025-04-27T12:28:37.158494Z",
     "shell.execute_reply": "2025-04-27T12:28:37.157071Z",
     "shell.execute_reply.started": "2025-04-27T12:28:36.788254Z"
    }
   },
   "outputs": [
    {
     "data": {
      "image/png": "[encoded data removed]",
      "text/plain": [
       "<Figure size 640x480 with 1 Axes>"
      ]
     },
     "metadata": {},
     "output_type": "display_data"
    }
   ],
   "source": [
    "# Making the plot\n",
    "plt.scatter(\n",
    "    x=archive_master[\"retweet_count\"], y=archive_master[\"favorite_count\"]\n",
    ")\n",
    "\n",
    "# Assigning title and labels\n",
    "plt.title(\"Retweets vs Likes\", fontdict={\"fontsize\": \"20\"})\n",
    "plt.xlabel(\"Retweets Count\")\n",
    "plt.ylabel(\"Likes / Favorites Count\")\n",
    "\n",
    "# Assigning a better yticks range than the default\n",
    "plt.yticks(np.arange(0, 140000, 10000))\n",
    "\n",
    "# Displaying the plot\n",
    "plt.show()"
   ]
  },
  {
   "cell_type": "markdown",
   "id": "ad4a1e79-9c05-41ca-b17d-5d644ea14f9d",
   "metadata": {},
   "source": [
    "As shown in the scatter plot, it's a postitive correlation.\n",
    "\n",
    "Where if the likes increase on a post that increases its popularity and the retweets number increases also.\n",
    "\n",
    "Also, **most** of our data has likes and retweets in a range of 0 - 50,000"
   ]
  },
  {
   "cell_type": "markdown",
   "id": "0e6f1566-33a4-466e-afba-9c1682e7ec23",
   "metadata": {},
   "source": [
    "<hr>"
   ]
  },
  {
   "cell_type": "markdown",
   "id": "085b54da-f3fd-4dee-b4e7-a0e8b02fabc4",
   "metadata": {},
   "source": [
    "Here, we have come to the end of our notebook, a full report of our work here is documented in :\n",
    "<ul>\n",
    "    <li><a href = \"wrangle_report.pdf\">Wrangle Report</a></li>\n",
    "    <li><a href = \"act_report.pdf\">Act Report</a></li>\n",
    "</ul>"
   ]
  },
  {
   "cell_type": "markdown",
   "id": "2f46e5af-bb34-4177-83a2-2afa41497132",
   "metadata": {},
   "source": [
    "<hr>"
   ]
  },
  {
   "cell_type": "markdown",
   "id": "02956734-dc26-4dc3-b7fd-71a841fdd17c",
   "metadata": {},
   "source": [
    "# Sources : \n",
    "- [Pandas Docs](https://pandas.pydata.org/docs/)\n",
    "- [Stackoverflow](https://stackoverflow.com)\n",
    "- [Regex101](https://regex101.com/)"
   ]
  }
 ],
 "metadata": {
  "kernelspec": {
   "display_name": "Python 3 (ipykernel)",
   "language": "python",
   "name": "python3"
  },
  "language_info": {
   "codemirror_mode": {
    "name": "ipython",
    "version": 3
   },
   "file_extension": ".py",
   "mimetype": "text/x-python",
   "name": "python",
   "nbconvert_exporter": "python",
   "pygments_lexer": "ipython3",
   "version": "3.13.2"
  },
  "widgets": {
   "application/vnd.jupyter.widget-state+json": {
    "state": {},
    "version_major": 2,
    "version_minor": 0
   }
  }
 },
 "nbformat": 4,
 "nbformat_minor": 5
}
