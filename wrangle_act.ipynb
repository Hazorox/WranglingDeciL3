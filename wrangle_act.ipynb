{
 "cells": [
  {
   "cell_type": "markdown",
   "id": "b72dcee4-dcf3-47f9-a0e4-488418f70e90",
   "metadata": {},
   "source": [
    "# Introduction : WeRateDogs' Analysis\n",
    "In this project, I will wrangle and analyze the twitter archive of WeRateDogs' as of 2015 - 2017.\n",
    "\n",
    "I will gather, assess and clean the data and make sure that I produce a clean dataset that can be used in all cases.\n",
    "\n",
    "Later in the notebook, I will analyze the produced data and get some insights from it and make some charts."
   ]
  },
  {
   "cell_type": "markdown",
   "id": "920b63c6",
   "metadata": {},
   "source": [
    "<h1>Table of Contents</h1>\n",
    "<ol>\n",
    "    <li><a href = \"#gathering\">Data Gathering</a></li>\n",
    "    <li><a href = \"#assessment\">Data Assessment</a></li>\n",
    "    <li><a href = \"#cleaning\">Data Cleaning</a></li>\n",
    "    <li><a href = \"#storing\">Storing Data</a></li>\n",
    "    <li><a href = \"#explore\">Insights & Visualizations</a></li>\n",
    "</ol>"
   ]
  },
  {
   "cell_type": "markdown",
   "id": "7a6a9442",
   "metadata": {},
   "source": [
    "<hr>"
   ]
  },
  {
   "cell_type": "markdown",
   "id": "a8a6e586-3d03-4475-939b-3e0f5afbf36b",
   "metadata": {},
   "source": [
    "# Data Wrangling : "
   ]
  },
  {
   "cell_type": "markdown",
   "id": "f81bfb63",
   "metadata": {},
   "source": [
    "<h1 id = \"gathering\">Data Gathering</h1>"
   ]
  },
  {
   "cell_type": "markdown",
   "id": "3f8555f2",
   "metadata": {},
   "source": [
    "## Pre-Gathering : Importing packages and libraries"
   ]
  },
  {
   "cell_type": "code",
   "execution_count": 78,
   "id": "4e69e60b",
   "metadata": {
    "execution": {
     "iopub.execute_input": "2025-04-27T12:28:09.812628Z",
     "iopub.status.busy": "2025-04-27T12:28:09.811815Z",
     "iopub.status.idle": "2025-04-27T12:28:22.427201Z",
     "shell.execute_reply": "2025-04-27T12:28:22.425958Z",
     "shell.execute_reply.started": "2025-04-27T12:28:09.812594Z"
    }
   },
   "outputs": [],
   "source": [
    "# Please run this cell if the libraries & packages below aren't installed on the computer\n",
    "# %pip install pandas matplotlib seaborn numpy requests sqlalchemy tweepy"
   ]
  },
  {
   "cell_type": "code",
   "execution_count": 79,
   "id": "c6fe26dd",
   "metadata": {
    "execution": {
     "iopub.execute_input": "2025-04-27T12:28:22.430530Z",
     "iopub.status.busy": "2025-04-27T12:28:22.429420Z",
     "iopub.status.idle": "2025-04-27T12:28:30.949016Z",
     "shell.execute_reply": "2025-04-27T12:28:30.947631Z",
     "shell.execute_reply.started": "2025-04-27T12:28:22.430493Z"
    }
   },
   "outputs": [],
   "source": [
    "import json\n",
    "from timeit import default_timer as timer\n",
    "import matplotlib.pyplot as plt\n",
    "import numpy as np\n",
    "import pandas as pd\n",
    "import requests\n",
    "import seaborn as sns\n",
    "import tweepy\n",
    "import sqlalchemy as sql\n",
    "\n",
    "# Getting matplotlib's charts inline\n",
    "%matplotlib inline"
   ]
  },
  {
   "cell_type": "markdown",
   "id": "c007e930",
   "metadata": {},
   "source": [
    "<hr>"
   ]
  },
  {
   "cell_type": "markdown",
   "id": "6fbac159",
   "metadata": {},
   "source": [
    "## 1 - Twitter Archive Enhanced"
   ]
  },
  {
   "cell_type": "code",
   "execution_count": 80,
   "id": "da67b15c",
   "metadata": {
    "execution": {
     "iopub.execute_input": "2025-04-27T12:28:30.950920Z",
     "iopub.status.busy": "2025-04-27T12:28:30.950390Z",
     "iopub.status.idle": "2025-04-27T12:28:31.079145Z",
     "shell.execute_reply": "2025-04-27T12:28:31.078161Z",
     "shell.execute_reply.started": "2025-04-27T12:28:30.950884Z"
    }
   },
   "outputs": [
    {
     "data": {
      "application/vnd.microsoft.datawrangler.viewer.v0+json": {
       "columns": [
        {
         "name": "index",
         "rawType": "int64",
         "type": "integer"
        },
        {
         "name": "tweet_id",
         "rawType": "int64",
         "type": "integer"
        },
        {
         "name": "in_reply_to_status_id",
         "rawType": "float64",
         "type": "float"
        },
        {
         "name": "in_reply_to_user_id",
         "rawType": "float64",
         "type": "float"
        },
        {
         "name": "timestamp",
         "rawType": "object",
         "type": "string"
        },
        {
         "name": "source",
         "rawType": "object",
         "type": "string"
        },
        {
         "name": "text",
         "rawType": "object",
         "type": "string"
        },
        {
         "name": "retweeted_status_id",
         "rawType": "float64",
         "type": "float"
        },
        {
         "name": "retweeted_status_user_id",
         "rawType": "float64",
         "type": "float"
        },
        {
         "name": "retweeted_status_timestamp",
         "rawType": "object",
         "type": "unknown"
        },
        {
         "name": "expanded_urls",
         "rawType": "object",
         "type": "string"
        },
        {
         "name": "rating_numerator",
         "rawType": "int64",
         "type": "integer"
        },
        {
         "name": "rating_denominator",
         "rawType": "int64",
         "type": "integer"
        },
        {
         "name": "name",
         "rawType": "object",
         "type": "unknown"
        },
        {
         "name": "doggo",
         "rawType": "object",
         "type": "unknown"
        },
        {
         "name": "floofer",
         "rawType": "object",
         "type": "unknown"
        },
        {
         "name": "pupper",
         "rawType": "object",
         "type": "unknown"
        },
        {
         "name": "puppo",
         "rawType": "object",
         "type": "unknown"
        }
       ],
       "conversionMethod": "pd.DataFrame",
       "ref": "89be6972-1224-4c49-ab27-de3db2a3a33c",
       "rows": [
        [
         "0",
         "892420643555336193",
         null,
         null,
         "2017-08-01 16:23:56 +0000",
         "<a href=\"http://twitter.com/download/iphone\" rel=\"nofollow\">Twitter for iPhone</a>",
         "This is Phineas. He's a mystical boy. Only ever appears in the hole of a donut. 13/10 https://t.co/MgUWQ76dJU",
         null,
         null,
         null,
         "https://twitter.com/dog_rates/status/892420643555336193/photo/1",
         "13",
         "10",
         "Phineas",
         null,
         null,
         null,
         null
        ],
        [
         "1",
         "892177421306343426",
         null,
         null,
         "2017-08-01 00:17:27 +0000",
         "<a href=\"http://twitter.com/download/iphone\" rel=\"nofollow\">Twitter for iPhone</a>",
         "This is Tilly. She's just checking pup on you. Hopes you're doing ok. If not, she's available for pats, snugs, boops, the whole bit. 13/10 https://t.co/0Xxu71qeIV",
         null,
         null,
         null,
         "https://twitter.com/dog_rates/status/892177421306343426/photo/1",
         "13",
         "10",
         "Tilly",
         null,
         null,
         null,
         null
        ],
        [
         "2",
         "891815181378084864",
         null,
         null,
         "2017-07-31 00:18:03 +0000",
         "<a href=\"http://twitter.com/download/iphone\" rel=\"nofollow\">Twitter for iPhone</a>",
         "This is Archie. He is a rare Norwegian Pouncing Corgo. Lives in the tall grass. You never know when one may strike. 12/10 https://t.co/wUnZnhtVJB",
         null,
         null,
         null,
         "https://twitter.com/dog_rates/status/891815181378084864/photo/1",
         "12",
         "10",
         "Archie",
         null,
         null,
         null,
         null
        ],
        [
         "3",
         "891689557279858688",
         null,
         null,
         "2017-07-30 15:58:51 +0000",
         "<a href=\"http://twitter.com/download/iphone\" rel=\"nofollow\">Twitter for iPhone</a>",
         "This is Darla. She commenced a snooze mid meal. 13/10 happens to the best of us https://t.co/tD36da7qLQ",
         null,
         null,
         null,
         "https://twitter.com/dog_rates/status/891689557279858688/photo/1",
         "13",
         "10",
         "Darla",
         null,
         null,
         null,
         null
        ],
        [
         "4",
         "891327558926688256",
         null,
         null,
         "2017-07-29 16:00:24 +0000",
         "<a href=\"http://twitter.com/download/iphone\" rel=\"nofollow\">Twitter for iPhone</a>",
         "This is Franklin. He would like you to stop calling him \"cute.\" He is a very fierce shark and should be respected as such. 12/10 #BarkWeek https://t.co/AtUZn91f7f",
         null,
         null,
         null,
         "https://twitter.com/dog_rates/status/891327558926688256/photo/1,https://twitter.com/dog_rates/status/891327558926688256/photo/1",
         "12",
         "10",
         "Franklin",
         null,
         null,
         null,
         null
        ],
        [
         "5",
         "891087950875897856",
         null,
         null,
         "2017-07-29 00:08:17 +0000",
         "<a href=\"http://twitter.com/download/iphone\" rel=\"nofollow\">Twitter for iPhone</a>",
         "Here we have a majestic great white breaching off South Africa's coast. Absolutely h*ckin breathtaking. 13/10 (IG: tucker_marlo) #BarkWeek https://t.co/kQ04fDDRmh",
         null,
         null,
         null,
         "https://twitter.com/dog_rates/status/891087950875897856/photo/1",
         "13",
         "10",
         null,
         null,
         null,
         null,
         null
        ],
        [
         "6",
         "890971913173991426",
         null,
         null,
         "2017-07-28 16:27:12 +0000",
         "<a href=\"http://twitter.com/download/iphone\" rel=\"nofollow\">Twitter for iPhone</a>",
         "Meet Jax. He enjoys ice cream so much he gets nervous around it. 13/10 help Jax enjoy more things by clicking below\r\n\r\nhttps://t.co/Zr4hWfAs1H https://t.co/tVJBRMnhxl",
         null,
         null,
         null,
         "https://gofundme.com/ydvmve-surgery-for-jax,https://twitter.com/dog_rates/status/890971913173991426/photo/1",
         "13",
         "10",
         "Jax",
         null,
         null,
         null,
         null
        ]
       ],
       "shape": {
        "columns": 17,
        "rows": 7
       }
      },
      "text/html": [
       "<div>\n",
       "<style scoped>\n",
       "    .dataframe tbody tr th:only-of-type {\n",
       "        vertical-align: middle;\n",
       "    }\n",
       "\n",
       "    .dataframe tbody tr th {\n",
       "        vertical-align: top;\n",
       "    }\n",
       "\n",
       "    .dataframe thead th {\n",
       "        text-align: right;\n",
       "    }\n",
       "</style>\n",
       "<table border=\"1\" class=\"dataframe\">\n",
       "  <thead>\n",
       "    <tr style=\"text-align: right;\">\n",
       "      <th></th>\n",
       "      <th>tweet_id</th>\n",
       "      <th>in_reply_to_status_id</th>\n",
       "      <th>in_reply_to_user_id</th>\n",
       "      <th>timestamp</th>\n",
       "      <th>source</th>\n",
       "      <th>text</th>\n",
       "      <th>retweeted_status_id</th>\n",
       "      <th>retweeted_status_user_id</th>\n",
       "      <th>retweeted_status_timestamp</th>\n",
       "      <th>expanded_urls</th>\n",
       "      <th>rating_numerator</th>\n",
       "      <th>rating_denominator</th>\n",
       "      <th>name</th>\n",
       "      <th>doggo</th>\n",
       "      <th>floofer</th>\n",
       "      <th>pupper</th>\n",
       "      <th>puppo</th>\n",
       "    </tr>\n",
       "  </thead>\n",
       "  <tbody>\n",
       "    <tr>\n",
       "      <th>0</th>\n",
       "      <td>892420643555336193</td>\n",
       "      <td>NaN</td>\n",
       "      <td>NaN</td>\n",
       "      <td>2017-08-01 16:23:56 +0000</td>\n",
       "      <td>&lt;a href=\"http://twitter.com/download/iphone\" r...</td>\n",
       "      <td>This is Phineas. He's a mystical boy. Only eve...</td>\n",
       "      <td>NaN</td>\n",
       "      <td>NaN</td>\n",
       "      <td>NaN</td>\n",
       "      <td>https://twitter.com/dog_rates/status/892420643...</td>\n",
       "      <td>13</td>\n",
       "      <td>10</td>\n",
       "      <td>Phineas</td>\n",
       "      <td>NaN</td>\n",
       "      <td>NaN</td>\n",
       "      <td>NaN</td>\n",
       "      <td>NaN</td>\n",
       "    </tr>\n",
       "    <tr>\n",
       "      <th>1</th>\n",
       "      <td>892177421306343426</td>\n",
       "      <td>NaN</td>\n",
       "      <td>NaN</td>\n",
       "      <td>2017-08-01 00:17:27 +0000</td>\n",
       "      <td>&lt;a href=\"http://twitter.com/download/iphone\" r...</td>\n",
       "      <td>This is Tilly. She's just checking pup on you....</td>\n",
       "      <td>NaN</td>\n",
       "      <td>NaN</td>\n",
       "      <td>NaN</td>\n",
       "      <td>https://twitter.com/dog_rates/status/892177421...</td>\n",
       "      <td>13</td>\n",
       "      <td>10</td>\n",
       "      <td>Tilly</td>\n",
       "      <td>NaN</td>\n",
       "      <td>NaN</td>\n",
       "      <td>NaN</td>\n",
       "      <td>NaN</td>\n",
       "    </tr>\n",
       "    <tr>\n",
       "      <th>2</th>\n",
       "      <td>891815181378084864</td>\n",
       "      <td>NaN</td>\n",
       "      <td>NaN</td>\n",
       "      <td>2017-07-31 00:18:03 +0000</td>\n",
       "      <td>&lt;a href=\"http://twitter.com/download/iphone\" r...</td>\n",
       "      <td>This is Archie. He is a rare Norwegian Pouncin...</td>\n",
       "      <td>NaN</td>\n",
       "      <td>NaN</td>\n",
       "      <td>NaN</td>\n",
       "      <td>https://twitter.com/dog_rates/status/891815181...</td>\n",
       "      <td>12</td>\n",
       "      <td>10</td>\n",
       "      <td>Archie</td>\n",
       "      <td>NaN</td>\n",
       "      <td>NaN</td>\n",
       "      <td>NaN</td>\n",
       "      <td>NaN</td>\n",
       "    </tr>\n",
       "    <tr>\n",
       "      <th>3</th>\n",
       "      <td>891689557279858688</td>\n",
       "      <td>NaN</td>\n",
       "      <td>NaN</td>\n",
       "      <td>2017-07-30 15:58:51 +0000</td>\n",
       "      <td>&lt;a href=\"http://twitter.com/download/iphone\" r...</td>\n",
       "      <td>This is Darla. She commenced a snooze mid meal...</td>\n",
       "      <td>NaN</td>\n",
       "      <td>NaN</td>\n",
       "      <td>NaN</td>\n",
       "      <td>https://twitter.com/dog_rates/status/891689557...</td>\n",
       "      <td>13</td>\n",
       "      <td>10</td>\n",
       "      <td>Darla</td>\n",
       "      <td>NaN</td>\n",
       "      <td>NaN</td>\n",
       "      <td>NaN</td>\n",
       "      <td>NaN</td>\n",
       "    </tr>\n",
       "    <tr>\n",
       "      <th>4</th>\n",
       "      <td>891327558926688256</td>\n",
       "      <td>NaN</td>\n",
       "      <td>NaN</td>\n",
       "      <td>2017-07-29 16:00:24 +0000</td>\n",
       "      <td>&lt;a href=\"http://twitter.com/download/iphone\" r...</td>\n",
       "      <td>This is Franklin. He would like you to stop ca...</td>\n",
       "      <td>NaN</td>\n",
       "      <td>NaN</td>\n",
       "      <td>NaN</td>\n",
       "      <td>https://twitter.com/dog_rates/status/891327558...</td>\n",
       "      <td>12</td>\n",
       "      <td>10</td>\n",
       "      <td>Franklin</td>\n",
       "      <td>NaN</td>\n",
       "      <td>NaN</td>\n",
       "      <td>NaN</td>\n",
       "      <td>NaN</td>\n",
       "    </tr>\n",
       "    <tr>\n",
       "      <th>5</th>\n",
       "      <td>891087950875897856</td>\n",
       "      <td>NaN</td>\n",
       "      <td>NaN</td>\n",
       "      <td>2017-07-29 00:08:17 +0000</td>\n",
       "      <td>&lt;a href=\"http://twitter.com/download/iphone\" r...</td>\n",
       "      <td>Here we have a majestic great white breaching ...</td>\n",
       "      <td>NaN</td>\n",
       "      <td>NaN</td>\n",
       "      <td>NaN</td>\n",
       "      <td>https://twitter.com/dog_rates/status/891087950...</td>\n",
       "      <td>13</td>\n",
       "      <td>10</td>\n",
       "      <td>NaN</td>\n",
       "      <td>NaN</td>\n",
       "      <td>NaN</td>\n",
       "      <td>NaN</td>\n",
       "      <td>NaN</td>\n",
       "    </tr>\n",
       "    <tr>\n",
       "      <th>6</th>\n",
       "      <td>890971913173991426</td>\n",
       "      <td>NaN</td>\n",
       "      <td>NaN</td>\n",
       "      <td>2017-07-28 16:27:12 +0000</td>\n",
       "      <td>&lt;a href=\"http://twitter.com/download/iphone\" r...</td>\n",
       "      <td>Meet Jax. He enjoys ice cream so much he gets ...</td>\n",
       "      <td>NaN</td>\n",
       "      <td>NaN</td>\n",
       "      <td>NaN</td>\n",
       "      <td>https://gofundme.com/ydvmve-surgery-for-jax,ht...</td>\n",
       "      <td>13</td>\n",
       "      <td>10</td>\n",
       "      <td>Jax</td>\n",
       "      <td>NaN</td>\n",
       "      <td>NaN</td>\n",
       "      <td>NaN</td>\n",
       "      <td>NaN</td>\n",
       "    </tr>\n",
       "  </tbody>\n",
       "</table>\n",
       "</div>"
      ],
      "text/plain": [
       "             tweet_id  in_reply_to_status_id  in_reply_to_user_id  \\\n",
       "0  892420643555336193                    NaN                  NaN   \n",
       "1  892177421306343426                    NaN                  NaN   \n",
       "2  891815181378084864                    NaN                  NaN   \n",
       "3  891689557279858688                    NaN                  NaN   \n",
       "4  891327558926688256                    NaN                  NaN   \n",
       "5  891087950875897856                    NaN                  NaN   \n",
       "6  890971913173991426                    NaN                  NaN   \n",
       "\n",
       "                   timestamp  \\\n",
       "0  2017-08-01 16:23:56 +0000   \n",
       "1  2017-08-01 00:17:27 +0000   \n",
       "2  2017-07-31 00:18:03 +0000   \n",
       "3  2017-07-30 15:58:51 +0000   \n",
       "4  2017-07-29 16:00:24 +0000   \n",
       "5  2017-07-29 00:08:17 +0000   \n",
       "6  2017-07-28 16:27:12 +0000   \n",
       "\n",
       "                                              source  \\\n",
       "0  <a href=\"http://twitter.com/download/iphone\" r...   \n",
       "1  <a href=\"http://twitter.com/download/iphone\" r...   \n",
       "2  <a href=\"http://twitter.com/download/iphone\" r...   \n",
       "3  <a href=\"http://twitter.com/download/iphone\" r...   \n",
       "4  <a href=\"http://twitter.com/download/iphone\" r...   \n",
       "5  <a href=\"http://twitter.com/download/iphone\" r...   \n",
       "6  <a href=\"http://twitter.com/download/iphone\" r...   \n",
       "\n",
       "                                                text  retweeted_status_id  \\\n",
       "0  This is Phineas. He's a mystical boy. Only eve...                  NaN   \n",
       "1  This is Tilly. She's just checking pup on you....                  NaN   \n",
       "2  This is Archie. He is a rare Norwegian Pouncin...                  NaN   \n",
       "3  This is Darla. She commenced a snooze mid meal...                  NaN   \n",
       "4  This is Franklin. He would like you to stop ca...                  NaN   \n",
       "5  Here we have a majestic great white breaching ...                  NaN   \n",
       "6  Meet Jax. He enjoys ice cream so much he gets ...                  NaN   \n",
       "\n",
       "   retweeted_status_user_id retweeted_status_timestamp  \\\n",
       "0                       NaN                        NaN   \n",
       "1                       NaN                        NaN   \n",
       "2                       NaN                        NaN   \n",
       "3                       NaN                        NaN   \n",
       "4                       NaN                        NaN   \n",
       "5                       NaN                        NaN   \n",
       "6                       NaN                        NaN   \n",
       "\n",
       "                                       expanded_urls  rating_numerator  \\\n",
       "0  https://twitter.com/dog_rates/status/892420643...                13   \n",
       "1  https://twitter.com/dog_rates/status/892177421...                13   \n",
       "2  https://twitter.com/dog_rates/status/891815181...                12   \n",
       "3  https://twitter.com/dog_rates/status/891689557...                13   \n",
       "4  https://twitter.com/dog_rates/status/891327558...                12   \n",
       "5  https://twitter.com/dog_rates/status/891087950...                13   \n",
       "6  https://gofundme.com/ydvmve-surgery-for-jax,ht...                13   \n",
       "\n",
       "   rating_denominator      name doggo floofer pupper puppo  \n",
       "0                  10   Phineas   NaN     NaN    NaN   NaN  \n",
       "1                  10     Tilly   NaN     NaN    NaN   NaN  \n",
       "2                  10    Archie   NaN     NaN    NaN   NaN  \n",
       "3                  10     Darla   NaN     NaN    NaN   NaN  \n",
       "4                  10  Franklin   NaN     NaN    NaN   NaN  \n",
       "5                  10       NaN   NaN     NaN    NaN   NaN  \n",
       "6                  10       Jax   NaN     NaN    NaN   NaN  "
      ]
     },
     "execution_count": 80,
     "metadata": {},
     "output_type": "execute_result"
    }
   ],
   "source": [
    "archive = pd.read_csv(\"data/twitter-archive-enhanced.csv\")\n",
    "archive.head(7)"
   ]
  },
  {
   "cell_type": "markdown",
   "id": "f7704538",
   "metadata": {},
   "source": [
    "<hr>"
   ]
  },
  {
   "cell_type": "markdown",
   "id": "a06b2f4b",
   "metadata": {},
   "source": [
    "## 2 - Image Predictions"
   ]
  },
  {
   "cell_type": "markdown",
   "id": "1b7dcc36",
   "metadata": {},
   "source": [
    "### Downloading Data"
   ]
  },
  {
   "cell_type": "code",
   "execution_count": 81,
   "id": "3afa6978",
   "metadata": {
    "execution": {
     "iopub.execute_input": "2025-04-27T12:28:31.082672Z",
     "iopub.status.busy": "2025-04-27T12:28:31.082268Z",
     "iopub.status.idle": "2025-04-27T12:28:32.178852Z",
     "shell.execute_reply": "2025-04-27T12:28:32.177583Z",
     "shell.execute_reply.started": "2025-04-27T12:28:31.082638Z"
    }
   },
   "outputs": [],
   "source": [
    "# Defining the target url\n",
    "url = \"https://d17h27t6h515a5.cloudfront.net/topher/2017/August/599fd2ad_image-predictions/image-predictions.tsv\"\n",
    "\n",
    "# Doing a GET request on the url\n",
    "response = requests.get(url)\n",
    "\n",
    "# Writing the returned bytes into the file using response.content\n",
    "with open(\"data/image-predictions.tsv\", \"wb\") as file:\n",
    "    file.write(response.content)"
   ]
  },
  {
   "cell_type": "markdown",
   "id": "bd9e6727",
   "metadata": {},
   "source": [
    "### Loading up Data into a DataFrame"
   ]
  },
  {
   "cell_type": "code",
   "execution_count": 82,
   "id": "39eab4ca",
   "metadata": {
    "execution": {
     "iopub.execute_input": "2025-04-27T12:28:32.181246Z",
     "iopub.status.busy": "2025-04-27T12:28:32.180490Z",
     "iopub.status.idle": "2025-04-27T12:28:32.254549Z",
     "shell.execute_reply": "2025-04-27T12:28:32.253112Z",
     "shell.execute_reply.started": "2025-04-27T12:28:32.181210Z"
    }
   },
   "outputs": [
    {
     "data": {
      "application/vnd.microsoft.datawrangler.viewer.v0+json": {
       "columns": [
        {
         "name": "index",
         "rawType": "int64",
         "type": "integer"
        },
        {
         "name": "tweet_id",
         "rawType": "int64",
         "type": "integer"
        },
        {
         "name": "jpg_url",
         "rawType": "object",
         "type": "string"
        },
        {
         "name": "img_num",
         "rawType": "int64",
         "type": "integer"
        },
        {
         "name": "p1",
         "rawType": "object",
         "type": "string"
        },
        {
         "name": "p1_conf",
         "rawType": "float64",
         "type": "float"
        },
        {
         "name": "p1_dog",
         "rawType": "bool",
         "type": "boolean"
        },
        {
         "name": "p2",
         "rawType": "object",
         "type": "string"
        },
        {
         "name": "p2_conf",
         "rawType": "float64",
         "type": "float"
        },
        {
         "name": "p2_dog",
         "rawType": "bool",
         "type": "boolean"
        },
        {
         "name": "p3",
         "rawType": "object",
         "type": "string"
        },
        {
         "name": "p3_conf",
         "rawType": "float64",
         "type": "float"
        },
        {
         "name": "p3_dog",
         "rawType": "bool",
         "type": "boolean"
        }
       ],
       "conversionMethod": "pd.DataFrame",
       "ref": "b1ec5737-1f77-4b5f-8e53-5822a18264fe",
       "rows": [
        [
         "0",
         "666020888022790149",
         "https://pbs.twimg.com/media/CT4udn0WwAA0aMy.jpg",
         "1",
         "Welsh_springer_spaniel",
         "0.465074",
         "True",
         "collie",
         "0.156665",
         "True",
         "Shetland_sheepdog",
         "0.0614285",
         "True"
        ],
        [
         "1",
         "666029285002620928",
         "https://pbs.twimg.com/media/CT42GRgUYAA5iDo.jpg",
         "1",
         "redbone",
         "0.506826",
         "True",
         "miniature_pinscher",
         "0.0741916999999999",
         "True",
         "Rhodesian_ridgeback",
         "0.07201",
         "True"
        ],
        [
         "2",
         "666033412701032449",
         "https://pbs.twimg.com/media/CT4521TWwAEvMyu.jpg",
         "1",
         "German_shepherd",
         "0.596461",
         "True",
         "malinois",
         "0.1385839999999999",
         "True",
         "bloodhound",
         "0.116197",
         "True"
        ],
        [
         "3",
         "666044226329800704",
         "https://pbs.twimg.com/media/CT5Dr8HUEAA-lEu.jpg",
         "1",
         "Rhodesian_ridgeback",
         "0.408143",
         "True",
         "redbone",
         "0.360687",
         "True",
         "miniature_pinscher",
         "0.222752",
         "True"
        ],
        [
         "4",
         "666049248165822465",
         "https://pbs.twimg.com/media/CT5IQmsXIAAKY4A.jpg",
         "1",
         "miniature_pinscher",
         "0.560311",
         "True",
         "Rottweiler",
         "0.243682",
         "True",
         "Doberman",
         "0.154629",
         "True"
        ],
        [
         "5",
         "666050758794694657",
         "https://pbs.twimg.com/media/CT5Jof1WUAEuVxN.jpg",
         "1",
         "Bernese_mountain_dog",
         "0.651137",
         "True",
         "English_springer",
         "0.263788",
         "True",
         "Greater_Swiss_Mountain_dog",
         "0.0161992",
         "True"
        ],
        [
         "6",
         "666051853826850816",
         "https://pbs.twimg.com/media/CT5KoJ1WoAAJash.jpg",
         "1",
         "box_turtle",
         "0.933012",
         "False",
         "mud_turtle",
         "0.0458854",
         "False",
         "terrapin",
         "0.0178852999999999",
         "False"
        ]
       ],
       "shape": {
        "columns": 12,
        "rows": 7
       }
      },
      "text/html": [
       "<div>\n",
       "<style scoped>\n",
       "    .dataframe tbody tr th:only-of-type {\n",
       "        vertical-align: middle;\n",
       "    }\n",
       "\n",
       "    .dataframe tbody tr th {\n",
       "        vertical-align: top;\n",
       "    }\n",
       "\n",
       "    .dataframe thead th {\n",
       "        text-align: right;\n",
       "    }\n",
       "</style>\n",
       "<table border=\"1\" class=\"dataframe\">\n",
       "  <thead>\n",
       "    <tr style=\"text-align: right;\">\n",
       "      <th></th>\n",
       "      <th>tweet_id</th>\n",
       "      <th>jpg_url</th>\n",
       "      <th>img_num</th>\n",
       "      <th>p1</th>\n",
       "      <th>p1_conf</th>\n",
       "      <th>p1_dog</th>\n",
       "      <th>p2</th>\n",
       "      <th>p2_conf</th>\n",
       "      <th>p2_dog</th>\n",
       "      <th>p3</th>\n",
       "      <th>p3_conf</th>\n",
       "      <th>p3_dog</th>\n",
       "    </tr>\n",
       "  </thead>\n",
       "  <tbody>\n",
       "    <tr>\n",
       "      <th>0</th>\n",
       "      <td>666020888022790149</td>\n",
       "      <td>https://pbs.twimg.com/media/CT4udn0WwAA0aMy.jpg</td>\n",
       "      <td>1</td>\n",
       "      <td>Welsh_springer_spaniel</td>\n",
       "      <td>0.465074</td>\n",
       "      <td>True</td>\n",
       "      <td>collie</td>\n",
       "      <td>0.156665</td>\n",
       "      <td>True</td>\n",
       "      <td>Shetland_sheepdog</td>\n",
       "      <td>0.061428</td>\n",
       "      <td>True</td>\n",
       "    </tr>\n",
       "    <tr>\n",
       "      <th>1</th>\n",
       "      <td>666029285002620928</td>\n",
       "      <td>https://pbs.twimg.com/media/CT42GRgUYAA5iDo.jpg</td>\n",
       "      <td>1</td>\n",
       "      <td>redbone</td>\n",
       "      <td>0.506826</td>\n",
       "      <td>True</td>\n",
       "      <td>miniature_pinscher</td>\n",
       "      <td>0.074192</td>\n",
       "      <td>True</td>\n",
       "      <td>Rhodesian_ridgeback</td>\n",
       "      <td>0.072010</td>\n",
       "      <td>True</td>\n",
       "    </tr>\n",
       "    <tr>\n",
       "      <th>2</th>\n",
       "      <td>666033412701032449</td>\n",
       "      <td>https://pbs.twimg.com/media/CT4521TWwAEvMyu.jpg</td>\n",
       "      <td>1</td>\n",
       "      <td>German_shepherd</td>\n",
       "      <td>0.596461</td>\n",
       "      <td>True</td>\n",
       "      <td>malinois</td>\n",
       "      <td>0.138584</td>\n",
       "      <td>True</td>\n",
       "      <td>bloodhound</td>\n",
       "      <td>0.116197</td>\n",
       "      <td>True</td>\n",
       "    </tr>\n",
       "    <tr>\n",
       "      <th>3</th>\n",
       "      <td>666044226329800704</td>\n",
       "      <td>https://pbs.twimg.com/media/CT5Dr8HUEAA-lEu.jpg</td>\n",
       "      <td>1</td>\n",
       "      <td>Rhodesian_ridgeback</td>\n",
       "      <td>0.408143</td>\n",
       "      <td>True</td>\n",
       "      <td>redbone</td>\n",
       "      <td>0.360687</td>\n",
       "      <td>True</td>\n",
       "      <td>miniature_pinscher</td>\n",
       "      <td>0.222752</td>\n",
       "      <td>True</td>\n",
       "    </tr>\n",
       "    <tr>\n",
       "      <th>4</th>\n",
       "      <td>666049248165822465</td>\n",
       "      <td>https://pbs.twimg.com/media/CT5IQmsXIAAKY4A.jpg</td>\n",
       "      <td>1</td>\n",
       "      <td>miniature_pinscher</td>\n",
       "      <td>0.560311</td>\n",
       "      <td>True</td>\n",
       "      <td>Rottweiler</td>\n",
       "      <td>0.243682</td>\n",
       "      <td>True</td>\n",
       "      <td>Doberman</td>\n",
       "      <td>0.154629</td>\n",
       "      <td>True</td>\n",
       "    </tr>\n",
       "    <tr>\n",
       "      <th>5</th>\n",
       "      <td>666050758794694657</td>\n",
       "      <td>https://pbs.twimg.com/media/CT5Jof1WUAEuVxN.jpg</td>\n",
       "      <td>1</td>\n",
       "      <td>Bernese_mountain_dog</td>\n",
       "      <td>0.651137</td>\n",
       "      <td>True</td>\n",
       "      <td>English_springer</td>\n",
       "      <td>0.263788</td>\n",
       "      <td>True</td>\n",
       "      <td>Greater_Swiss_Mountain_dog</td>\n",
       "      <td>0.016199</td>\n",
       "      <td>True</td>\n",
       "    </tr>\n",
       "    <tr>\n",
       "      <th>6</th>\n",
       "      <td>666051853826850816</td>\n",
       "      <td>https://pbs.twimg.com/media/CT5KoJ1WoAAJash.jpg</td>\n",
       "      <td>1</td>\n",
       "      <td>box_turtle</td>\n",
       "      <td>0.933012</td>\n",
       "      <td>False</td>\n",
       "      <td>mud_turtle</td>\n",
       "      <td>0.045885</td>\n",
       "      <td>False</td>\n",
       "      <td>terrapin</td>\n",
       "      <td>0.017885</td>\n",
       "      <td>False</td>\n",
       "    </tr>\n",
       "  </tbody>\n",
       "</table>\n",
       "</div>"
      ],
      "text/plain": [
       "             tweet_id                                          jpg_url  \\\n",
       "0  666020888022790149  https://pbs.twimg.com/media/CT4udn0WwAA0aMy.jpg   \n",
       "1  666029285002620928  https://pbs.twimg.com/media/CT42GRgUYAA5iDo.jpg   \n",
       "2  666033412701032449  https://pbs.twimg.com/media/CT4521TWwAEvMyu.jpg   \n",
       "3  666044226329800704  https://pbs.twimg.com/media/CT5Dr8HUEAA-lEu.jpg   \n",
       "4  666049248165822465  https://pbs.twimg.com/media/CT5IQmsXIAAKY4A.jpg   \n",
       "5  666050758794694657  https://pbs.twimg.com/media/CT5Jof1WUAEuVxN.jpg   \n",
       "6  666051853826850816  https://pbs.twimg.com/media/CT5KoJ1WoAAJash.jpg   \n",
       "\n",
       "   img_num                      p1   p1_conf  p1_dog                  p2  \\\n",
       "0        1  Welsh_springer_spaniel  0.465074    True              collie   \n",
       "1        1                 redbone  0.506826    True  miniature_pinscher   \n",
       "2        1         German_shepherd  0.596461    True            malinois   \n",
       "3        1     Rhodesian_ridgeback  0.408143    True             redbone   \n",
       "4        1      miniature_pinscher  0.560311    True          Rottweiler   \n",
       "5        1    Bernese_mountain_dog  0.651137    True    English_springer   \n",
       "6        1              box_turtle  0.933012   False          mud_turtle   \n",
       "\n",
       "    p2_conf  p2_dog                          p3   p3_conf  p3_dog  \n",
       "0  0.156665    True           Shetland_sheepdog  0.061428    True  \n",
       "1  0.074192    True         Rhodesian_ridgeback  0.072010    True  \n",
       "2  0.138584    True                  bloodhound  0.116197    True  \n",
       "3  0.360687    True          miniature_pinscher  0.222752    True  \n",
       "4  0.243682    True                    Doberman  0.154629    True  \n",
       "5  0.263788    True  Greater_Swiss_Mountain_dog  0.016199    True  \n",
       "6  0.045885   False                    terrapin  0.017885   False  "
      ]
     },
     "execution_count": 82,
     "metadata": {},
     "output_type": "execute_result"
    }
   ],
   "source": [
    "# The read_csv accepts TSV file but I had to determine the seperator which was \\t (Tab)\n",
    "predictions = pd.read_csv(\"data/image-predictions.tsv\", sep=\"\\t\")\n",
    "predictions.head(7)"
   ]
  },
  {
   "cell_type": "markdown",
   "id": "8d21da78",
   "metadata": {},
   "source": [
    "<hr>"
   ]
  },
  {
   "cell_type": "markdown",
   "id": "ddc38fbe",
   "metadata": {},
   "source": [
    "## 3 - Tweets"
   ]
  },
  {
   "cell_type": "markdown",
   "id": "c09a65d7",
   "metadata": {},
   "source": [
    "### Downloading JSON data of tweets USING Tweepy"
   ]
  },
  {
   "cell_type": "code",
   "execution_count": 83,
   "id": "71d798b1-5188-4703-b294-025606c63ee0",
   "metadata": {
    "execution": {
     "iopub.execute_input": "2025-04-27T12:28:32.258325Z",
     "iopub.status.busy": "2025-04-27T12:28:32.257317Z",
     "iopub.status.idle": "2025-04-27T12:28:32.274404Z",
     "shell.execute_reply": "2025-04-27T12:28:32.271773Z",
     "shell.execute_reply.started": "2025-04-27T12:28:32.258279Z"
    }
   },
   "outputs": [
    {
     "name": "stdout",
     "output_type": "stream",
     "text": [
      "The key is hidden so skipping this cell\n"
     ]
    }
   ],
   "source": [
    "# Query Twitter API for each tweet in the Twitter archive and save JSON in a text file\n",
    "# These are hidden to comply with Twitter's API terms and conditions\n",
    "consumer_key = \"HIDDEN\"\n",
    "consumer_secret = \"HIDDEN\"\n",
    "access_token = \"HIDDEN\"\n",
    "access_secret = \"HIDDEN\"\n",
    "if consumer_key == \"HIDDEN\":\n",
    "    print(\"The key is hidden so skipping this cell\")\n",
    "else:\n",
    "    auth = tweepy.OAuthHandler(consumer_key, consumer_secret)\n",
    "    auth.set_access_token(access_token, access_secret)\n",
    "\n",
    "    api = tweepy.API(auth, wait_on_rate_limit=True)\n",
    "\n",
    "    # NOTE TO STUDENT WITH MOBILE VERIFICATION ISSUES:\n",
    "    # archive is a DataFrame with the twitter_archive_enhanced.csv file. You may have to\n",
    "    # change line 17 to match the name of your DataFrame with twitter_archive_enhanced.csv\n",
    "\n",
    "    # NOTE TO REVIEWER: this student had mobile verification issues so the following\n",
    "    # Twitter API code was sent to this student from a Udacity instructor\n",
    "    # Tweet IDs for which to gather additional data via Twitter's API\n",
    "    tweet_ids = archive.tweet_id.values\n",
    "    len(tweet_ids)\n",
    "\n",
    "    # Query Twitter's API for JSON data for each tweet ID in the Twitter archive\n",
    "    count = 0\n",
    "    fails_dict = {}\n",
    "    start = timer()\n",
    "    # Save each tweet's returned JSON as a new line in a .txt file\n",
    "    with open(\"tweet_json.txt\", \"w\") as outfile:\n",
    "        # This loop will likely take 20-30 minutes to run because of Twitter's rate limit\n",
    "        for tweet_id in tweet_ids:\n",
    "            count += 1\n",
    "            print(str(count) + \": \" + str(tweet_id))\n",
    "            try:\n",
    "                tweet = api.get_status(tweet_id, tweet_mode=\"extended\")\n",
    "                print(\"Success\")\n",
    "                json.dump(tweet._json, outfile)\n",
    "                outfile.write(\"\\n\")\n",
    "            except tweepy.TweepError as e:\n",
    "                print(\"Fail\")\n",
    "                fails_dict[tweet_id] = e\n",
    "                pass\n",
    "    end = timer()\n",
    "    print(end - start)\n",
    "    print(fails_dict)"
   ]
  },
  {
   "cell_type": "markdown",
   "id": "75c1676b",
   "metadata": {},
   "source": [
    "Due to the new Access-Levels of the X API, I couldn't fetch the tweets using tweepy as I was limited to 100 posts per month  \n",
    "I also had a rate limit of 15minutes between each GET request so it was technically impossible to get the data without paying for a higher access level\n",
    "\n",
    "Note : I was also limited to certain endpoints in the free access level and get_status didn't work on free tier"
   ]
  },
  {
   "cell_type": "markdown",
   "id": "84b9ed47-6841-4fa7-b001-bd2348e46dff",
   "metadata": {},
   "source": [
    "As a result, I manually downloaded the text file containing the json from classroom and continued"
   ]
  },
  {
   "cell_type": "markdown",
   "id": "c10e938a",
   "metadata": {},
   "source": [
    "### Transforming JSON data into a Pandas DataFrame"
   ]
  },
  {
   "cell_type": "code",
   "execution_count": 84,
   "id": "f67fdc46",
   "metadata": {
    "execution": {
     "iopub.execute_input": "2025-04-27T12:28:32.277967Z",
     "iopub.status.busy": "2025-04-27T12:28:32.276899Z",
     "iopub.status.idle": "2025-04-27T12:28:33.205896Z",
     "shell.execute_reply": "2025-04-27T12:28:33.204337Z",
     "shell.execute_reply.started": "2025-04-27T12:28:32.277926Z"
    }
   },
   "outputs": [
    {
     "data": {
      "application/vnd.microsoft.datawrangler.viewer.v0+json": {
       "columns": [
        {
         "name": "index",
         "rawType": "int64",
         "type": "integer"
        },
        {
         "name": "id",
         "rawType": "int64",
         "type": "integer"
        },
        {
         "name": "favorite_count",
         "rawType": "int64",
         "type": "integer"
        },
        {
         "name": "retweet_count",
         "rawType": "int64",
         "type": "integer"
        }
       ],
       "conversionMethod": "pd.DataFrame",
       "ref": "a0bedd8a-827d-4109-87d1-0e86a53dfdcf",
       "rows": [
        [
         "0",
         "892420643555336193",
         "39467",
         "8853"
        ],
        [
         "1",
         "892177421306343426",
         "33819",
         "6514"
        ],
        [
         "2",
         "891815181378084864",
         "25461",
         "4328"
        ],
        [
         "3",
         "891689557279858688",
         "42908",
         "8964"
        ],
        [
         "4",
         "891327558926688256",
         "41048",
         "9774"
        ],
        [
         "5",
         "891087950875897856",
         "20562",
         "3261"
        ],
        [
         "6",
         "890971913173991426",
         "12041",
         "2158"
        ]
       ],
       "shape": {
        "columns": 3,
        "rows": 7
       }
      },
      "text/html": [
       "<div>\n",
       "<style scoped>\n",
       "    .dataframe tbody tr th:only-of-type {\n",
       "        vertical-align: middle;\n",
       "    }\n",
       "\n",
       "    .dataframe tbody tr th {\n",
       "        vertical-align: top;\n",
       "    }\n",
       "\n",
       "    .dataframe thead th {\n",
       "        text-align: right;\n",
       "    }\n",
       "</style>\n",
       "<table border=\"1\" class=\"dataframe\">\n",
       "  <thead>\n",
       "    <tr style=\"text-align: right;\">\n",
       "      <th></th>\n",
       "      <th>id</th>\n",
       "      <th>favorite_count</th>\n",
       "      <th>retweet_count</th>\n",
       "    </tr>\n",
       "  </thead>\n",
       "  <tbody>\n",
       "    <tr>\n",
       "      <th>0</th>\n",
       "      <td>892420643555336193</td>\n",
       "      <td>39467</td>\n",
       "      <td>8853</td>\n",
       "    </tr>\n",
       "    <tr>\n",
       "      <th>1</th>\n",
       "      <td>892177421306343426</td>\n",
       "      <td>33819</td>\n",
       "      <td>6514</td>\n",
       "    </tr>\n",
       "    <tr>\n",
       "      <th>2</th>\n",
       "      <td>891815181378084864</td>\n",
       "      <td>25461</td>\n",
       "      <td>4328</td>\n",
       "    </tr>\n",
       "    <tr>\n",
       "      <th>3</th>\n",
       "      <td>891689557279858688</td>\n",
       "      <td>42908</td>\n",
       "      <td>8964</td>\n",
       "    </tr>\n",
       "    <tr>\n",
       "      <th>4</th>\n",
       "      <td>891327558926688256</td>\n",
       "      <td>41048</td>\n",
       "      <td>9774</td>\n",
       "    </tr>\n",
       "    <tr>\n",
       "      <th>5</th>\n",
       "      <td>891087950875897856</td>\n",
       "      <td>20562</td>\n",
       "      <td>3261</td>\n",
       "    </tr>\n",
       "    <tr>\n",
       "      <th>6</th>\n",
       "      <td>890971913173991426</td>\n",
       "      <td>12041</td>\n",
       "      <td>2158</td>\n",
       "    </tr>\n",
       "  </tbody>\n",
       "</table>\n",
       "</div>"
      ],
      "text/plain": [
       "                   id  favorite_count  retweet_count\n",
       "0  892420643555336193           39467           8853\n",
       "1  892177421306343426           33819           6514\n",
       "2  891815181378084864           25461           4328\n",
       "3  891689557279858688           42908           8964\n",
       "4  891327558926688256           41048           9774\n",
       "5  891087950875897856           20562           3261\n",
       "6  890971913173991426           12041           2158"
      ]
     },
     "execution_count": 84,
     "metadata": {},
     "output_type": "execute_result"
    }
   ],
   "source": [
    "# Loading the json data as a dataframe\n",
    "# Since each row is inserted in its own line, I addedd the lines parameter\n",
    "json_df = pd.read_json(\"data/tweet-json.txt\", lines=True)\n",
    "\n",
    "# Selecting the columns we need from the json dataframe\n",
    "tweet_metrics = json_df[[\"id\", \"favorite_count\", \"retweet_count\"]]\n",
    "tweet_metrics.head(7)"
   ]
  },
  {
   "cell_type": "markdown",
   "id": "a8c61b5f",
   "metadata": {},
   "source": [
    "<hr>"
   ]
  },
  {
   "cell_type": "markdown",
   "id": "70c48016",
   "metadata": {},
   "source": [
    "<h1 id = \"assessment\">Data Assessment</h1>"
   ]
  },
  {
   "cell_type": "markdown",
   "id": "6c32e474",
   "metadata": {},
   "source": [
    "From the main 5 Data Quality Aspects:\n",
    "1. Completeness\n",
    "2. Uniqueness\n",
    "3. Validity\n",
    "4. Accuracy\n",
    "5. Consistency\n",
    "\n",
    "Definition of Tidy Data from [here](https://cran.r-project.org/web/packages/tidyr/vignettes/tidy-data.html) :\n",
    "1. Each Variable forms a column\n",
    "2. Each observation forms a row\n",
    "3. Each type of observational unit forms a table"
   ]
  },
  {
   "cell_type": "markdown",
   "id": "98629595",
   "metadata": {},
   "source": [
    "## 1 - Twitter Archive Enahnced"
   ]
  },
  {
   "cell_type": "markdown",
   "id": "d0bfc3a9",
   "metadata": {},
   "source": [
    "<h4>Visual Assessment</h4>"
   ]
  },
  {
   "cell_type": "code",
   "execution_count": 85,
   "id": "ba020495",
   "metadata": {
    "execution": {
     "iopub.execute_input": "2025-04-27T12:28:33.208297Z",
     "iopub.status.busy": "2025-04-27T12:28:33.207685Z",
     "iopub.status.idle": "2025-04-27T12:28:33.254301Z",
     "shell.execute_reply": "2025-04-27T12:28:33.252686Z",
     "shell.execute_reply.started": "2025-04-27T12:28:33.208257Z"
    }
   },
   "outputs": [
    {
     "data": {
      "application/vnd.microsoft.datawrangler.viewer.v0+json": {
       "columns": [
        {
         "name": "index",
         "rawType": "int64",
         "type": "integer"
        },
        {
         "name": "tweet_id",
         "rawType": "int64",
         "type": "integer"
        },
        {
         "name": "in_reply_to_status_id",
         "rawType": "float64",
         "type": "float"
        },
        {
         "name": "in_reply_to_user_id",
         "rawType": "float64",
         "type": "float"
        },
        {
         "name": "timestamp",
         "rawType": "object",
         "type": "string"
        },
        {
         "name": "source",
         "rawType": "object",
         "type": "string"
        },
        {
         "name": "text",
         "rawType": "object",
         "type": "string"
        },
        {
         "name": "retweeted_status_id",
         "rawType": "float64",
         "type": "float"
        },
        {
         "name": "retweeted_status_user_id",
         "rawType": "float64",
         "type": "float"
        },
        {
         "name": "retweeted_status_timestamp",
         "rawType": "object",
         "type": "unknown"
        },
        {
         "name": "expanded_urls",
         "rawType": "object",
         "type": "unknown"
        },
        {
         "name": "rating_numerator",
         "rawType": "int64",
         "type": "integer"
        },
        {
         "name": "rating_denominator",
         "rawType": "int64",
         "type": "integer"
        },
        {
         "name": "name",
         "rawType": "object",
         "type": "unknown"
        },
        {
         "name": "doggo",
         "rawType": "object",
         "type": "unknown"
        },
        {
         "name": "floofer",
         "rawType": "object",
         "type": "unknown"
        },
        {
         "name": "pupper",
         "rawType": "object",
         "type": "unknown"
        },
        {
         "name": "puppo",
         "rawType": "object",
         "type": "unknown"
        }
       ],
       "conversionMethod": "pd.DataFrame",
       "ref": "fe50d507-271b-4050-a320-807381857dba",
       "rows": [
        [
         "0",
         "892420643555336193",
         null,
         null,
         "2017-08-01 16:23:56 +0000",
         "<a href=\"http://twitter.com/download/iphone\" rel=\"nofollow\">Twitter for iPhone</a>",
         "This is Phineas. He's a mystical boy. Only ever appears in the hole of a donut. 13/10 https://t.co/MgUWQ76dJU",
         null,
         null,
         null,
         "https://twitter.com/dog_rates/status/892420643555336193/photo/1",
         "13",
         "10",
         "Phineas",
         null,
         null,
         null,
         null
        ],
        [
         "1",
         "892177421306343426",
         null,
         null,
         "2017-08-01 00:17:27 +0000",
         "<a href=\"http://twitter.com/download/iphone\" rel=\"nofollow\">Twitter for iPhone</a>",
         "This is Tilly. She's just checking pup on you. Hopes you're doing ok. If not, she's available for pats, snugs, boops, the whole bit. 13/10 https://t.co/0Xxu71qeIV",
         null,
         null,
         null,
         "https://twitter.com/dog_rates/status/892177421306343426/photo/1",
         "13",
         "10",
         "Tilly",
         null,
         null,
         null,
         null
        ],
        [
         "2",
         "891815181378084864",
         null,
         null,
         "2017-07-31 00:18:03 +0000",
         "<a href=\"http://twitter.com/download/iphone\" rel=\"nofollow\">Twitter for iPhone</a>",
         "This is Archie. He is a rare Norwegian Pouncing Corgo. Lives in the tall grass. You never know when one may strike. 12/10 https://t.co/wUnZnhtVJB",
         null,
         null,
         null,
         "https://twitter.com/dog_rates/status/891815181378084864/photo/1",
         "12",
         "10",
         "Archie",
         null,
         null,
         null,
         null
        ],
        [
         "3",
         "891689557279858688",
         null,
         null,
         "2017-07-30 15:58:51 +0000",
         "<a href=\"http://twitter.com/download/iphone\" rel=\"nofollow\">Twitter for iPhone</a>",
         "This is Darla. She commenced a snooze mid meal. 13/10 happens to the best of us https://t.co/tD36da7qLQ",
         null,
         null,
         null,
         "https://twitter.com/dog_rates/status/891689557279858688/photo/1",
         "13",
         "10",
         "Darla",
         null,
         null,
         null,
         null
        ],
        [
         "4",
         "891327558926688256",
         null,
         null,
         "2017-07-29 16:00:24 +0000",
         "<a href=\"http://twitter.com/download/iphone\" rel=\"nofollow\">Twitter for iPhone</a>",
         "This is Franklin. He would like you to stop calling him \"cute.\" He is a very fierce shark and should be respected as such. 12/10 #BarkWeek https://t.co/AtUZn91f7f",
         null,
         null,
         null,
         "https://twitter.com/dog_rates/status/891327558926688256/photo/1,https://twitter.com/dog_rates/status/891327558926688256/photo/1",
         "12",
         "10",
         "Franklin",
         null,
         null,
         null,
         null
        ],
        [
         "5",
         "891087950875897856",
         null,
         null,
         "2017-07-29 00:08:17 +0000",
         "<a href=\"http://twitter.com/download/iphone\" rel=\"nofollow\">Twitter for iPhone</a>",
         "Here we have a majestic great white breaching off South Africa's coast. Absolutely h*ckin breathtaking. 13/10 (IG: tucker_marlo) #BarkWeek https://t.co/kQ04fDDRmh",
         null,
         null,
         null,
         "https://twitter.com/dog_rates/status/891087950875897856/photo/1",
         "13",
         "10",
         null,
         null,
         null,
         null,
         null
        ],
        [
         "6",
         "890971913173991426",
         null,
         null,
         "2017-07-28 16:27:12 +0000",
         "<a href=\"http://twitter.com/download/iphone\" rel=\"nofollow\">Twitter for iPhone</a>",
         "Meet Jax. He enjoys ice cream so much he gets nervous around it. 13/10 help Jax enjoy more things by clicking below\r\n\r\nhttps://t.co/Zr4hWfAs1H https://t.co/tVJBRMnhxl",
         null,
         null,
         null,
         "https://gofundme.com/ydvmve-surgery-for-jax,https://twitter.com/dog_rates/status/890971913173991426/photo/1",
         "13",
         "10",
         "Jax",
         null,
         null,
         null,
         null
        ],
        [
         "7",
         "890729181411237888",
         null,
         null,
         "2017-07-28 00:22:40 +0000",
         "<a href=\"http://twitter.com/download/iphone\" rel=\"nofollow\">Twitter for iPhone</a>",
         "When you watch your owner call another dog a good boy but then they turn back to you and say you're a great boy. 13/10 https://t.co/v0nONBcwxq",
         null,
         null,
         null,
         "https://twitter.com/dog_rates/status/890729181411237888/photo/1,https://twitter.com/dog_rates/status/890729181411237888/photo/1",
         "13",
         "10",
         null,
         null,
         null,
         null,
         null
        ],
        [
         "8",
         "890609185150312448",
         null,
         null,
         "2017-07-27 16:25:51 +0000",
         "<a href=\"http://twitter.com/download/iphone\" rel=\"nofollow\">Twitter for iPhone</a>",
         "This is Zoey. She doesn't want to be one of the scary sharks. Just wants to be a snuggly pettable boatpet. 13/10 #BarkWeek https://t.co/9TwLuAGH0b",
         null,
         null,
         null,
         "https://twitter.com/dog_rates/status/890609185150312448/photo/1",
         "13",
         "10",
         "Zoey",
         null,
         null,
         null,
         null
        ],
        [
         "9",
         "890240255349198849",
         null,
         null,
         "2017-07-26 15:59:51 +0000",
         "<a href=\"http://twitter.com/download/iphone\" rel=\"nofollow\">Twitter for iPhone</a>",
         "This is Cassie. She is a college pup. Studying international doggo communication and stick theory. 14/10 so elegant much sophisticate https://t.co/t1bfwz5S2A",
         null,
         null,
         null,
         "https://twitter.com/dog_rates/status/890240255349198849/photo/1",
         "14",
         "10",
         "Cassie",
         "doggo",
         null,
         null,
         null
        ],
        [
         "10",
         "890006608113172480",
         null,
         null,
         "2017-07-26 00:31:25 +0000",
         "<a href=\"http://twitter.com/download/iphone\" rel=\"nofollow\">Twitter for iPhone</a>",
         "This is Koda. He is a South Australian deckshark. Deceptively deadly. Frighteningly majestic. 13/10 would risk a petting #BarkWeek https://t.co/dVPW0B0Mme",
         null,
         null,
         null,
         "https://twitter.com/dog_rates/status/890006608113172480/photo/1,https://twitter.com/dog_rates/status/890006608113172480/photo/1",
         "13",
         "10",
         "Koda",
         null,
         null,
         null,
         null
        ],
        [
         "11",
         "889880896479866881",
         null,
         null,
         "2017-07-25 16:11:53 +0000",
         "<a href=\"http://twitter.com/download/iphone\" rel=\"nofollow\">Twitter for iPhone</a>",
         "This is Bruno. He is a service shark. Only gets out of the water to assist you. 13/10 terrifyingly good boy https://t.co/u1XPQMl29g",
         null,
         null,
         null,
         "https://twitter.com/dog_rates/status/889880896479866881/photo/1",
         "13",
         "10",
         "Bruno",
         null,
         null,
         null,
         null
        ],
        [
         "12",
         "889665388333682689",
         null,
         null,
         "2017-07-25 01:55:32 +0000",
         "<a href=\"http://twitter.com/download/iphone\" rel=\"nofollow\">Twitter for iPhone</a>",
         "Here's a puppo that seems to be on the fence about something haha no but seriously someone help her. 13/10 https://t.co/BxvuXk0UCm",
         null,
         null,
         null,
         "https://twitter.com/dog_rates/status/889665388333682689/photo/1",
         "13",
         "10",
         null,
         null,
         null,
         null,
         "puppo"
        ],
        [
         "13",
         "889638837579907072",
         null,
         null,
         "2017-07-25 00:10:02 +0000",
         "<a href=\"http://twitter.com/download/iphone\" rel=\"nofollow\">Twitter for iPhone</a>",
         "This is Ted. He does his best. Sometimes that's not enough. But it's ok. 12/10 would assist https://t.co/f8dEDcrKSR",
         null,
         null,
         null,
         "https://twitter.com/dog_rates/status/889638837579907072/photo/1,https://twitter.com/dog_rates/status/889638837579907072/photo/1",
         "12",
         "10",
         "Ted",
         null,
         null,
         null,
         null
        ],
        [
         "14",
         "889531135344209921",
         null,
         null,
         "2017-07-24 17:02:04 +0000",
         "<a href=\"http://twitter.com/download/iphone\" rel=\"nofollow\">Twitter for iPhone</a>",
         "This is Stuart. He's sporting his favorite fanny pack. Secretly filled with bones only. 13/10 puppared puppo #BarkWeek https://t.co/y70o6h3isq",
         null,
         null,
         null,
         "https://twitter.com/dog_rates/status/889531135344209921/photo/1",
         "13",
         "10",
         "Stuart",
         null,
         null,
         null,
         "puppo"
        ],
        [
         "15",
         "889278841981685760",
         null,
         null,
         "2017-07-24 00:19:32 +0000",
         "<a href=\"http://twitter.com/download/iphone\" rel=\"nofollow\">Twitter for iPhone</a>",
         "This is Oliver. You're witnessing one of his many brutal attacks. Seems to be playing with his victim. 13/10 fr*ckin frightening #BarkWeek https://t.co/WpHvrQedPb",
         null,
         null,
         null,
         "https://twitter.com/dog_rates/status/889278841981685760/video/1",
         "13",
         "10",
         "Oliver",
         null,
         null,
         null,
         null
        ],
        [
         "16",
         "888917238123831296",
         null,
         null,
         "2017-07-23 00:22:39 +0000",
         "<a href=\"http://twitter.com/download/iphone\" rel=\"nofollow\">Twitter for iPhone</a>",
         "This is Jim. He found a fren. Taught him how to sit like the good boys. 12/10 for both https://t.co/chxruIOUJN",
         null,
         null,
         null,
         "https://twitter.com/dog_rates/status/888917238123831296/photo/1",
         "12",
         "10",
         "Jim",
         null,
         null,
         null,
         null
        ],
        [
         "17",
         "888804989199671297",
         null,
         null,
         "2017-07-22 16:56:37 +0000",
         "<a href=\"http://twitter.com/download/iphone\" rel=\"nofollow\">Twitter for iPhone</a>",
         "This is Zeke. He has a new stick. Very proud of it. Would like you to throw it for him without taking it. 13/10 would do my best https://t.co/HTQ77yNQ5K",
         null,
         null,
         null,
         "https://twitter.com/dog_rates/status/888804989199671297/photo/1,https://twitter.com/dog_rates/status/888804989199671297/photo/1",
         "13",
         "10",
         "Zeke",
         null,
         null,
         null,
         null
        ],
        [
         "18",
         "888554962724278272",
         null,
         null,
         "2017-07-22 00:23:06 +0000",
         "<a href=\"http://twitter.com/download/iphone\" rel=\"nofollow\">Twitter for iPhone</a>",
         "This is Ralphus. He's powering up. Attempting maximum borkdrive. 13/10 inspirational af https://t.co/YnYAFCTTiK",
         null,
         null,
         null,
         "https://twitter.com/dog_rates/status/888554962724278272/photo/1,https://twitter.com/dog_rates/status/888554962724278272/photo/1,https://twitter.com/dog_rates/status/888554962724278272/photo/1,https://twitter.com/dog_rates/status/888554962724278272/photo/1",
         "13",
         "10",
         "Ralphus",
         null,
         null,
         null,
         null
        ],
        [
         "19",
         "888202515573088257",
         null,
         null,
         "2017-07-21 01:02:36 +0000",
         "<a href=\"http://twitter.com/download/iphone\" rel=\"nofollow\">Twitter for iPhone</a>",
         "RT @dog_rates: This is Canela. She attempted some fancy porch pics. They were unsuccessful. 13/10 someone help her https://t.co/cLyzpcUcMX",
         "8.874739571039519e+17",
         "4196983835.0",
         "2017-07-19 00:47:34 +0000",
         "https://twitter.com/dog_rates/status/887473957103951883/photo/1,https://twitter.com/dog_rates/status/887473957103951883/photo/1,https://twitter.com/dog_rates/status/887473957103951883/photo/1,https://twitter.com/dog_rates/status/887473957103951883/photo/1",
         "13",
         "10",
         "Canela",
         null,
         null,
         null,
         null
        ],
        [
         "20",
         "888078434458587136",
         null,
         null,
         "2017-07-20 16:49:33 +0000",
         "<a href=\"http://twitter.com/download/iphone\" rel=\"nofollow\">Twitter for iPhone</a>",
         "This is Gerald. He was just told he didn't get the job he interviewed for. A h*ckin injustice. 12/10 didn't want the job anyway https://t.co/DK7iDPfuRX",
         null,
         null,
         null,
         "https://twitter.com/dog_rates/status/888078434458587136/photo/1,https://twitter.com/dog_rates/status/888078434458587136/photo/1",
         "12",
         "10",
         "Gerald",
         null,
         null,
         null,
         null
        ],
        [
         "21",
         "887705289381826560",
         null,
         null,
         "2017-07-19 16:06:48 +0000",
         "<a href=\"http://twitter.com/download/iphone\" rel=\"nofollow\">Twitter for iPhone</a>",
         "This is Jeffrey. He has a monopoly on the pool noodles. Currently running a 'boop for two' midweek sale. 13/10 h*ckin strategic https://t.co/PhrUk20Q64",
         null,
         null,
         null,
         "https://twitter.com/dog_rates/status/887705289381826560/photo/1",
         "13",
         "10",
         "Jeffrey",
         null,
         null,
         null,
         null
        ],
        [
         "22",
         "887517139158093824",
         null,
         null,
         "2017-07-19 03:39:09 +0000",
         "<a href=\"http://twitter.com/download/iphone\" rel=\"nofollow\">Twitter for iPhone</a>",
         "I've yet to rate a Venezuelan Hover Wiener. This is such an honor. 14/10 paw-inspiring af (IG: roxy.thedoxy) https://t.co/20VrLAA8ba",
         null,
         null,
         null,
         "https://twitter.com/dog_rates/status/887517139158093824/video/1",
         "14",
         "10",
         "such",
         null,
         null,
         null,
         null
        ],
        [
         "23",
         "887473957103951883",
         null,
         null,
         "2017-07-19 00:47:34 +0000",
         "<a href=\"http://twitter.com/download/iphone\" rel=\"nofollow\">Twitter for iPhone</a>",
         "This is Canela. She attempted some fancy porch pics. They were unsuccessful. 13/10 someone help her https://t.co/cLyzpcUcMX",
         null,
         null,
         null,
         "https://twitter.com/dog_rates/status/887473957103951883/photo/1,https://twitter.com/dog_rates/status/887473957103951883/photo/1",
         "13",
         "10",
         "Canela",
         null,
         null,
         null,
         null
        ],
        [
         "24",
         "887343217045368832",
         null,
         null,
         "2017-07-18 16:08:03 +0000",
         "<a href=\"http://twitter.com/download/iphone\" rel=\"nofollow\">Twitter for iPhone</a>",
         "You may not have known you needed to see this today. 13/10 please enjoy (IG: emmylouroo) https://t.co/WZqNqygEyV",
         null,
         null,
         null,
         "https://twitter.com/dog_rates/status/887343217045368832/video/1",
         "13",
         "10",
         null,
         null,
         null,
         null,
         null
        ],
        [
         "25",
         "887101392804085760",
         null,
         null,
         "2017-07-18 00:07:08 +0000",
         "<a href=\"http://twitter.com/download/iphone\" rel=\"nofollow\">Twitter for iPhone</a>",
         "This... is a Jubilant Antarctic House Bear. We only rate dogs. Please only send dogs. Thank you... 12/10 would suffocate in floof https://t.co/4Ad1jzJSdp",
         null,
         null,
         null,
         "https://twitter.com/dog_rates/status/887101392804085760/photo/1",
         "12",
         "10",
         null,
         null,
         null,
         null,
         null
        ],
        [
         "26",
         "886983233522544640",
         null,
         null,
         "2017-07-17 16:17:36 +0000",
         "<a href=\"http://twitter.com/download/iphone\" rel=\"nofollow\">Twitter for iPhone</a>",
         "This is Maya. She's very shy. Rarely leaves her cup. 13/10 would find her an environment to thrive in https://t.co/I6oNy0CgiT",
         null,
         null,
         null,
         "https://twitter.com/dog_rates/status/886983233522544640/photo/1,https://twitter.com/dog_rates/status/886983233522544640/photo/1",
         "13",
         "10",
         "Maya",
         null,
         null,
         null,
         null
        ],
        [
         "27",
         "886736880519319552",
         null,
         null,
         "2017-07-16 23:58:41 +0000",
         "<a href=\"http://twitter.com/download/iphone\" rel=\"nofollow\">Twitter for iPhone</a>",
         "This is Mingus. He's a wonderful father to his smol pup. Confirmed 13/10, but he needs your help\r\n\r\nhttps://t.co/bVi0Yr4Cff https://t.co/ISvKOSkd5b",
         null,
         null,
         null,
         "https://www.gofundme.com/mingusneedsus,https://twitter.com/dog_rates/status/886736880519319552/photo/1,https://twitter.com/dog_rates/status/886736880519319552/photo/1",
         "13",
         "10",
         "Mingus",
         null,
         null,
         null,
         null
        ],
        [
         "28",
         "886680336477933568",
         null,
         null,
         "2017-07-16 20:14:00 +0000",
         "<a href=\"http://twitter.com/download/iphone\" rel=\"nofollow\">Twitter for iPhone</a>",
         "This is Derek. He's late for a dog meeting. 13/10 pet...al to the metal https://t.co/BCoWue0abA",
         null,
         null,
         null,
         "https://twitter.com/dog_rates/status/886680336477933568/photo/1",
         "13",
         "10",
         "Derek",
         null,
         null,
         null,
         null
        ],
        [
         "29",
         "886366144734445568",
         null,
         null,
         "2017-07-15 23:25:31 +0000",
         "<a href=\"http://twitter.com/download/iphone\" rel=\"nofollow\">Twitter for iPhone</a>",
         "This is Roscoe. Another pupper fallen victim to spontaneous tongue ejections. Get the BlepiPen immediate. 12/10 deep breaths Roscoe https://t.co/RGE08MIJox",
         null,
         null,
         null,
         "https://twitter.com/dog_rates/status/886366144734445568/photo/1,https://twitter.com/dog_rates/status/886366144734445568/photo/1",
         "12",
         "10",
         "Roscoe",
         null,
         null,
         "pupper",
         null
        ],
        [
         "30",
         "886267009285017600",
         "8.862663570751283e+17",
         "2281181600.0",
         "2017-07-15 16:51:35 +0000",
         "<a href=\"http://twitter.com/download/iphone\" rel=\"nofollow\">Twitter for iPhone</a>",
         "@NonWhiteHat @MayhewMayhem omg hello tanner you are a scary good boy 12/10 would pet with extreme caution",
         null,
         null,
         null,
         null,
         "12",
         "10",
         null,
         null,
         null,
         null,
         null
        ],
        [
         "31",
         "886258384151887873",
         null,
         null,
         "2017-07-15 16:17:19 +0000",
         "<a href=\"http://twitter.com/download/iphone\" rel=\"nofollow\">Twitter for iPhone</a>",
         "This is Waffles. His doggles are pupside down. Unsure how to fix. 13/10 someone assist Waffles https://t.co/xZDA9Qsq1O",
         null,
         null,
         null,
         "https://twitter.com/dog_rates/status/886258384151887873/photo/1",
         "13",
         "10",
         "Waffles",
         null,
         null,
         null,
         null
        ],
        [
         "32",
         "886054160059072513",
         null,
         null,
         "2017-07-15 02:45:48 +0000",
         "<a href=\"http://twitter.com/download/iphone\" rel=\"nofollow\">Twitter for iPhone</a>",
         "RT @Athletics: 12/10 #BATP https://t.co/WxwJmvjfxo",
         "8.860537344211026e+17",
         "19607400.0",
         "2017-07-15 02:44:07 +0000",
         "https://twitter.com/dog_rates/status/886053434075471873,https://twitter.com/dog_rates/status/886053434075471873",
         "12",
         "10",
         null,
         null,
         null,
         null,
         null
        ],
        [
         "33",
         "885984800019947520",
         null,
         null,
         "2017-07-14 22:10:11 +0000",
         "<a href=\"http://twitter.com/download/iphone\" rel=\"nofollow\">Twitter for iPhone</a>",
         "Viewer discretion advised. This is Jimbo. He will rip ur finger right h*ckin off. Other dog clearly an accessory. 12/10 pls pet with caution https://t.co/BuveP0uMF1",
         null,
         null,
         null,
         "https://twitter.com/dog_rates/status/885984800019947520/photo/1",
         "12",
         "10",
         "Jimbo",
         null,
         null,
         null,
         null
        ],
        [
         "34",
         "885528943205470208",
         null,
         null,
         "2017-07-13 15:58:47 +0000",
         "<a href=\"http://twitter.com/download/iphone\" rel=\"nofollow\">Twitter for iPhone</a>",
         "This is Maisey. She fell asleep mid-excavation. Happens to the best of us. 13/10 would pat noggin approvingly https://t.co/tp1kQ8i9JF",
         null,
         null,
         null,
         "https://twitter.com/dog_rates/status/885528943205470208/photo/1",
         "13",
         "10",
         "Maisey",
         null,
         null,
         null,
         null
        ],
        [
         "35",
         "885518971528720385",
         null,
         null,
         "2017-07-13 15:19:09 +0000",
         "<a href=\"http://twitter.com/download/iphone\" rel=\"nofollow\">Twitter for iPhone</a>",
         "I have a new hero and his name is Howard. 14/10 https://t.co/gzLHboL7Sk",
         null,
         null,
         null,
         "https://twitter.com/4bonds2carbon/status/885517367337512960",
         "14",
         "10",
         null,
         null,
         null,
         null,
         null
        ],
        [
         "36",
         "885311592912609280",
         null,
         null,
         "2017-07-13 01:35:06 +0000",
         "<a href=\"http://twitter.com/download/iphone\" rel=\"nofollow\">Twitter for iPhone</a>",
         "RT @dog_rates: This is Lilly. She just parallel barked. Kindly requests a reward now. 13/10 would pet so well https://t.co/SATN4If5H5",
         "8.305833205850685e+17",
         "4196983835.0",
         "2017-02-12 01:04:29 +0000",
         "https://twitter.com/dog_rates/status/830583320585068544/photo/1,https://twitter.com/dog_rates/status/830583320585068544/photo/1,https://twitter.com/dog_rates/status/830583320585068544/photo/1,https://twitter.com/dog_rates/status/830583320585068544/photo/1",
         "13",
         "10",
         "Lilly",
         null,
         null,
         null,
         null
        ],
        [
         "37",
         "885167619883638784",
         null,
         null,
         "2017-07-12 16:03:00 +0000",
         "<a href=\"http://twitter.com/download/iphone\" rel=\"nofollow\">Twitter for iPhone</a>",
         "Here we have a corgi undercover as a malamute. Pawbably doing important investigative work. Zero control over tongue happenings. 13/10 https://t.co/44ItaMubBf",
         null,
         null,
         null,
         "https://twitter.com/dog_rates/status/885167619883638784/photo/1,https://twitter.com/dog_rates/status/885167619883638784/photo/1,https://twitter.com/dog_rates/status/885167619883638784/photo/1,https://twitter.com/dog_rates/status/885167619883638784/photo/1",
         "13",
         "10",
         null,
         null,
         null,
         null,
         null
        ],
        [
         "38",
         "884925521741709313",
         null,
         null,
         "2017-07-12 00:01:00 +0000",
         "<a href=\"http://twitter.com/download/iphone\" rel=\"nofollow\">Twitter for iPhone</a>",
         "This is Earl. He found a hat. Nervous about what you think of it. 12/10 it's delightful, Earl https://t.co/MYJvdlNRVa",
         null,
         null,
         null,
         "https://twitter.com/dog_rates/status/884925521741709313/photo/1",
         "12",
         "10",
         "Earl",
         null,
         null,
         null,
         null
        ],
        [
         "39",
         "884876753390489601",
         null,
         null,
         "2017-07-11 20:47:12 +0000",
         "<a href=\"http://twitter.com/download/iphone\" rel=\"nofollow\">Twitter for iPhone</a>",
         "This is Lola. It's her first time outside. Must test the earth and taste the atmosphere. 13/10 you're doing great Lola https://t.co/74TKAUsLkO",
         null,
         null,
         null,
         "https://twitter.com/dog_rates/status/884876753390489601/photo/1,https://twitter.com/dog_rates/status/884876753390489601/photo/1,https://twitter.com/dog_rates/status/884876753390489601/photo/1,https://twitter.com/dog_rates/status/884876753390489601/photo/1",
         "13",
         "10",
         "Lola",
         null,
         null,
         null,
         null
        ],
        [
         "40",
         "884562892145688576",
         null,
         null,
         "2017-07-11 00:00:02 +0000",
         "<a href=\"http://twitter.com/download/iphone\" rel=\"nofollow\">Twitter for iPhone</a>",
         "This is Kevin. He's just so happy. 13/10 what is your secret Kevin https://t.co/1r4MFCbCX5",
         null,
         null,
         null,
         "https://twitter.com/dog_rates/status/884562892145688576/photo/1",
         "13",
         "10",
         "Kevin",
         null,
         null,
         null,
         null
        ],
        [
         "41",
         "884441805382717440",
         null,
         null,
         "2017-07-10 15:58:53 +0000",
         "<a href=\"http://twitter.com/download/iphone\" rel=\"nofollow\">Twitter for iPhone</a>",
         "I present to you, Pup in Hat. Pup in Hat is great for all occasions. Extremely versatile. Compact as h*ck. 14/10 (IG: itselizabethgales) https://t.co/vvBOcC2VdC",
         null,
         null,
         null,
         "https://twitter.com/dog_rates/status/884441805382717440/photo/1",
         "14",
         "10",
         null,
         null,
         null,
         null,
         null
        ],
        [
         "42",
         "884247878851493888",
         null,
         null,
         "2017-07-10 03:08:17 +0000",
         "<a href=\"http://twitter.com/download/iphone\" rel=\"nofollow\">Twitter for iPhone</a>",
         "OMG HE DIDN'T MEAN TO HE WAS JUST TRYING A LITTLE BARKOUR HE'S SUPER SORRY 13/10 WOULD FORGIVE IMMEDIATE https://t.co/uF3pQ8Wubj",
         null,
         null,
         null,
         "https://twitter.com/kaijohnson_19/status/883965650754039809",
         "13",
         "10",
         null,
         null,
         null,
         null,
         null
        ],
        [
         "43",
         "884162670584377345",
         null,
         null,
         "2017-07-09 21:29:42 +0000",
         "<a href=\"http://twitter.com/download/iphone\" rel=\"nofollow\">Twitter for iPhone</a>",
         "Meet Yogi. He doesn't have any important dog meetings today he just enjoys looking his best at all times. 12/10 for dangerously dapper doggo https://t.co/YSI00BzTBZ",
         null,
         null,
         null,
         "https://twitter.com/dog_rates/status/884162670584377345/photo/1",
         "12",
         "10",
         "Yogi",
         "doggo",
         null,
         null,
         null
        ],
        [
         "44",
         "883838122936631299",
         null,
         null,
         "2017-07-09 00:00:04 +0000",
         "<a href=\"http://twitter.com/download/iphone\" rel=\"nofollow\">Twitter for iPhone</a>",
         "This is Noah. He can't believe someone made this mess. Got the vacuum out for you though. Offered to help clean pup. 12/10 super good boy https://t.co/V85xujjDDY",
         null,
         null,
         null,
         "https://twitter.com/dog_rates/status/883838122936631299/photo/1",
         "12",
         "10",
         "Noah",
         null,
         null,
         null,
         null
        ],
        [
         "45",
         "883482846933004288",
         null,
         null,
         "2017-07-08 00:28:19 +0000",
         "<a href=\"http://twitter.com/download/iphone\" rel=\"nofollow\">Twitter for iPhone</a>",
         "This is Bella. She hopes her smile made you smile. If not, she is also offering you her favorite monkey. 13.5/10 https://t.co/qjrljjt948",
         null,
         null,
         null,
         "https://twitter.com/dog_rates/status/883482846933004288/photo/1,https://twitter.com/dog_rates/status/883482846933004288/photo/1",
         "5",
         "10",
         "Bella",
         null,
         null,
         null,
         null
        ],
        [
         "46",
         "883360690899218434",
         null,
         null,
         "2017-07-07 16:22:55 +0000",
         "<a href=\"http://twitter.com/download/iphone\" rel=\"nofollow\">Twitter for iPhone</a>",
         "Meet Grizzwald. He may be the floofiest floofer I ever did see. Lost eyes saving a schoolbus from a volcano erpuption. 13/10 heroic as h*ck https://t.co/rf661IFEYP",
         null,
         null,
         null,
         "https://twitter.com/dog_rates/status/883360690899218434/photo/1",
         "13",
         "10",
         "Grizzwald",
         null,
         "floofer",
         null,
         null
        ],
        [
         "47",
         "883117836046086144",
         null,
         null,
         "2017-07-07 00:17:54 +0000",
         "<a href=\"http://twitter.com/download/iphone\" rel=\"nofollow\">Twitter for iPhone</a>",
         "Please only send dogs. We don't rate mechanics, no matter how h*ckin good. Thank you... 13/10 would sneak a pat https://t.co/Se5fZ9wp5E",
         null,
         null,
         null,
         "https://twitter.com/dog_rates/status/883117836046086144/photo/1,https://twitter.com/dog_rates/status/883117836046086144/photo/1",
         "13",
         "10",
         null,
         null,
         null,
         null,
         null
        ],
        [
         "48",
         "882992080364220416",
         null,
         null,
         "2017-07-06 15:58:11 +0000",
         "<a href=\"http://twitter.com/download/iphone\" rel=\"nofollow\">Twitter for iPhone</a>",
         "This is Rusty. He wasn't ready for the first pic. Clearly puppared for the second. 13/10 confirmed great boy https://t.co/tyER0KpdXj",
         null,
         null,
         null,
         "https://twitter.com/dog_rates/status/882992080364220416/photo/1,https://twitter.com/dog_rates/status/882992080364220416/photo/1",
         "13",
         "10",
         "Rusty",
         null,
         null,
         null,
         null
        ],
        [
         "49",
         "882762694511734784",
         null,
         null,
         "2017-07-06 00:46:41 +0000",
         "<a href=\"http://twitter.com/download/iphone\" rel=\"nofollow\">Twitter for iPhone</a>",
         "This is Gus. He's quite the cheeky pupper. Already perfected the disinterested wink. 12/10 would let steal my girl https://t.co/D43I96SlVu",
         null,
         null,
         null,
         "https://twitter.com/dog_rates/status/882762694511734784/photo/1",
         "12",
         "10",
         "Gus",
         null,
         null,
         "pupper",
         null
        ]
       ],
       "shape": {
        "columns": 17,
        "rows": 2356
       }
      },
      "text/html": [
       "<div>\n",
       "<style scoped>\n",
       "    .dataframe tbody tr th:only-of-type {\n",
       "        vertical-align: middle;\n",
       "    }\n",
       "\n",
       "    .dataframe tbody tr th {\n",
       "        vertical-align: top;\n",
       "    }\n",
       "\n",
       "    .dataframe thead th {\n",
       "        text-align: right;\n",
       "    }\n",
       "</style>\n",
       "<table border=\"1\" class=\"dataframe\">\n",
       "  <thead>\n",
       "    <tr style=\"text-align: right;\">\n",
       "      <th></th>\n",
       "      <th>tweet_id</th>\n",
       "      <th>in_reply_to_status_id</th>\n",
       "      <th>in_reply_to_user_id</th>\n",
       "      <th>timestamp</th>\n",
       "      <th>source</th>\n",
       "      <th>text</th>\n",
       "      <th>retweeted_status_id</th>\n",
       "      <th>retweeted_status_user_id</th>\n",
       "      <th>retweeted_status_timestamp</th>\n",
       "      <th>expanded_urls</th>\n",
       "      <th>rating_numerator</th>\n",
       "      <th>rating_denominator</th>\n",
       "      <th>name</th>\n",
       "      <th>doggo</th>\n",
       "      <th>floofer</th>\n",
       "      <th>pupper</th>\n",
       "      <th>puppo</th>\n",
       "    </tr>\n",
       "  </thead>\n",
       "  <tbody>\n",
       "    <tr>\n",
       "      <th>0</th>\n",
       "      <td>892420643555336193</td>\n",
       "      <td>NaN</td>\n",
       "      <td>NaN</td>\n",
       "      <td>2017-08-01 16:23:56 +0000</td>\n",
       "      <td>&lt;a href=\"http://twitter.com/download/iphone\" r...</td>\n",
       "      <td>This is Phineas. He's a mystical boy. Only eve...</td>\n",
       "      <td>NaN</td>\n",
       "      <td>NaN</td>\n",
       "      <td>NaN</td>\n",
       "      <td>https://twitter.com/dog_rates/status/892420643...</td>\n",
       "      <td>13</td>\n",
       "      <td>10</td>\n",
       "      <td>Phineas</td>\n",
       "      <td>NaN</td>\n",
       "      <td>NaN</td>\n",
       "      <td>NaN</td>\n",
       "      <td>NaN</td>\n",
       "    </tr>\n",
       "    <tr>\n",
       "      <th>1</th>\n",
       "      <td>892177421306343426</td>\n",
       "      <td>NaN</td>\n",
       "      <td>NaN</td>\n",
       "      <td>2017-08-01 00:17:27 +0000</td>\n",
       "      <td>&lt;a href=\"http://twitter.com/download/iphone\" r...</td>\n",
       "      <td>This is Tilly. She's just checking pup on you....</td>\n",
       "      <td>NaN</td>\n",
       "      <td>NaN</td>\n",
       "      <td>NaN</td>\n",
       "      <td>https://twitter.com/dog_rates/status/892177421...</td>\n",
       "      <td>13</td>\n",
       "      <td>10</td>\n",
       "      <td>Tilly</td>\n",
       "      <td>NaN</td>\n",
       "      <td>NaN</td>\n",
       "      <td>NaN</td>\n",
       "      <td>NaN</td>\n",
       "    </tr>\n",
       "    <tr>\n",
       "      <th>2</th>\n",
       "      <td>891815181378084864</td>\n",
       "      <td>NaN</td>\n",
       "      <td>NaN</td>\n",
       "      <td>2017-07-31 00:18:03 +0000</td>\n",
       "      <td>&lt;a href=\"http://twitter.com/download/iphone\" r...</td>\n",
       "      <td>This is Archie. He is a rare Norwegian Pouncin...</td>\n",
       "      <td>NaN</td>\n",
       "      <td>NaN</td>\n",
       "      <td>NaN</td>\n",
       "      <td>https://twitter.com/dog_rates/status/891815181...</td>\n",
       "      <td>12</td>\n",
       "      <td>10</td>\n",
       "      <td>Archie</td>\n",
       "      <td>NaN</td>\n",
       "      <td>NaN</td>\n",
       "      <td>NaN</td>\n",
       "      <td>NaN</td>\n",
       "    </tr>\n",
       "    <tr>\n",
       "      <th>3</th>\n",
       "      <td>891689557279858688</td>\n",
       "      <td>NaN</td>\n",
       "      <td>NaN</td>\n",
       "      <td>2017-07-30 15:58:51 +0000</td>\n",
       "      <td>&lt;a href=\"http://twitter.com/download/iphone\" r...</td>\n",
       "      <td>This is Darla. She commenced a snooze mid meal...</td>\n",
       "      <td>NaN</td>\n",
       "      <td>NaN</td>\n",
       "      <td>NaN</td>\n",
       "      <td>https://twitter.com/dog_rates/status/891689557...</td>\n",
       "      <td>13</td>\n",
       "      <td>10</td>\n",
       "      <td>Darla</td>\n",
       "      <td>NaN</td>\n",
       "      <td>NaN</td>\n",
       "      <td>NaN</td>\n",
       "      <td>NaN</td>\n",
       "    </tr>\n",
       "    <tr>\n",
       "      <th>4</th>\n",
       "      <td>891327558926688256</td>\n",
       "      <td>NaN</td>\n",
       "      <td>NaN</td>\n",
       "      <td>2017-07-29 16:00:24 +0000</td>\n",
       "      <td>&lt;a href=\"http://twitter.com/download/iphone\" r...</td>\n",
       "      <td>This is Franklin. He would like you to stop ca...</td>\n",
       "      <td>NaN</td>\n",
       "      <td>NaN</td>\n",
       "      <td>NaN</td>\n",
       "      <td>https://twitter.com/dog_rates/status/891327558...</td>\n",
       "      <td>12</td>\n",
       "      <td>10</td>\n",
       "      <td>Franklin</td>\n",
       "      <td>NaN</td>\n",
       "      <td>NaN</td>\n",
       "      <td>NaN</td>\n",
       "      <td>NaN</td>\n",
       "    </tr>\n",
       "    <tr>\n",
       "      <th>...</th>\n",
       "      <td>...</td>\n",
       "      <td>...</td>\n",
       "      <td>...</td>\n",
       "      <td>...</td>\n",
       "      <td>...</td>\n",
       "      <td>...</td>\n",
       "      <td>...</td>\n",
       "      <td>...</td>\n",
       "      <td>...</td>\n",
       "      <td>...</td>\n",
       "      <td>...</td>\n",
       "      <td>...</td>\n",
       "      <td>...</td>\n",
       "      <td>...</td>\n",
       "      <td>...</td>\n",
       "      <td>...</td>\n",
       "      <td>...</td>\n",
       "    </tr>\n",
       "    <tr>\n",
       "      <th>2351</th>\n",
       "      <td>666049248165822465</td>\n",
       "      <td>NaN</td>\n",
       "      <td>NaN</td>\n",
       "      <td>2015-11-16 00:24:50 +0000</td>\n",
       "      <td>&lt;a href=\"http://twitter.com/download/iphone\" r...</td>\n",
       "      <td>Here we have a 1949 1st generation vulpix. Enj...</td>\n",
       "      <td>NaN</td>\n",
       "      <td>NaN</td>\n",
       "      <td>NaN</td>\n",
       "      <td>https://twitter.com/dog_rates/status/666049248...</td>\n",
       "      <td>5</td>\n",
       "      <td>10</td>\n",
       "      <td>NaN</td>\n",
       "      <td>NaN</td>\n",
       "      <td>NaN</td>\n",
       "      <td>NaN</td>\n",
       "      <td>NaN</td>\n",
       "    </tr>\n",
       "    <tr>\n",
       "      <th>2352</th>\n",
       "      <td>666044226329800704</td>\n",
       "      <td>NaN</td>\n",
       "      <td>NaN</td>\n",
       "      <td>2015-11-16 00:04:52 +0000</td>\n",
       "      <td>&lt;a href=\"http://twitter.com/download/iphone\" r...</td>\n",
       "      <td>This is a purebred Piers Morgan. Loves to Netf...</td>\n",
       "      <td>NaN</td>\n",
       "      <td>NaN</td>\n",
       "      <td>NaN</td>\n",
       "      <td>https://twitter.com/dog_rates/status/666044226...</td>\n",
       "      <td>6</td>\n",
       "      <td>10</td>\n",
       "      <td>a</td>\n",
       "      <td>NaN</td>\n",
       "      <td>NaN</td>\n",
       "      <td>NaN</td>\n",
       "      <td>NaN</td>\n",
       "    </tr>\n",
       "    <tr>\n",
       "      <th>2353</th>\n",
       "      <td>666033412701032449</td>\n",
       "      <td>NaN</td>\n",
       "      <td>NaN</td>\n",
       "      <td>2015-11-15 23:21:54 +0000</td>\n",
       "      <td>&lt;a href=\"http://twitter.com/download/iphone\" r...</td>\n",
       "      <td>Here is a very happy pup. Big fan of well-main...</td>\n",
       "      <td>NaN</td>\n",
       "      <td>NaN</td>\n",
       "      <td>NaN</td>\n",
       "      <td>https://twitter.com/dog_rates/status/666033412...</td>\n",
       "      <td>9</td>\n",
       "      <td>10</td>\n",
       "      <td>a</td>\n",
       "      <td>NaN</td>\n",
       "      <td>NaN</td>\n",
       "      <td>NaN</td>\n",
       "      <td>NaN</td>\n",
       "    </tr>\n",
       "    <tr>\n",
       "      <th>2354</th>\n",
       "      <td>666029285002620928</td>\n",
       "      <td>NaN</td>\n",
       "      <td>NaN</td>\n",
       "      <td>2015-11-15 23:05:30 +0000</td>\n",
       "      <td>&lt;a href=\"http://twitter.com/download/iphone\" r...</td>\n",
       "      <td>This is a western brown Mitsubishi terrier. Up...</td>\n",
       "      <td>NaN</td>\n",
       "      <td>NaN</td>\n",
       "      <td>NaN</td>\n",
       "      <td>https://twitter.com/dog_rates/status/666029285...</td>\n",
       "      <td>7</td>\n",
       "      <td>10</td>\n",
       "      <td>a</td>\n",
       "      <td>NaN</td>\n",
       "      <td>NaN</td>\n",
       "      <td>NaN</td>\n",
       "      <td>NaN</td>\n",
       "    </tr>\n",
       "    <tr>\n",
       "      <th>2355</th>\n",
       "      <td>666020888022790149</td>\n",
       "      <td>NaN</td>\n",
       "      <td>NaN</td>\n",
       "      <td>2015-11-15 22:32:08 +0000</td>\n",
       "      <td>&lt;a href=\"http://twitter.com/download/iphone\" r...</td>\n",
       "      <td>Here we have a Japanese Irish Setter. Lost eye...</td>\n",
       "      <td>NaN</td>\n",
       "      <td>NaN</td>\n",
       "      <td>NaN</td>\n",
       "      <td>https://twitter.com/dog_rates/status/666020888...</td>\n",
       "      <td>8</td>\n",
       "      <td>10</td>\n",
       "      <td>NaN</td>\n",
       "      <td>NaN</td>\n",
       "      <td>NaN</td>\n",
       "      <td>NaN</td>\n",
       "      <td>NaN</td>\n",
       "    </tr>\n",
       "  </tbody>\n",
       "</table>\n",
       "<p>2356 rows × 17 columns</p>\n",
       "</div>"
      ],
      "text/plain": [
       "                tweet_id  in_reply_to_status_id  in_reply_to_user_id  \\\n",
       "0     892420643555336193                    NaN                  NaN   \n",
       "1     892177421306343426                    NaN                  NaN   \n",
       "2     891815181378084864                    NaN                  NaN   \n",
       "3     891689557279858688                    NaN                  NaN   \n",
       "4     891327558926688256                    NaN                  NaN   \n",
       "...                  ...                    ...                  ...   \n",
       "2351  666049248165822465                    NaN                  NaN   \n",
       "2352  666044226329800704                    NaN                  NaN   \n",
       "2353  666033412701032449                    NaN                  NaN   \n",
       "2354  666029285002620928                    NaN                  NaN   \n",
       "2355  666020888022790149                    NaN                  NaN   \n",
       "\n",
       "                      timestamp  \\\n",
       "0     2017-08-01 16:23:56 +0000   \n",
       "1     2017-08-01 00:17:27 +0000   \n",
       "2     2017-07-31 00:18:03 +0000   \n",
       "3     2017-07-30 15:58:51 +0000   \n",
       "4     2017-07-29 16:00:24 +0000   \n",
       "...                         ...   \n",
       "2351  2015-11-16 00:24:50 +0000   \n",
       "2352  2015-11-16 00:04:52 +0000   \n",
       "2353  2015-11-15 23:21:54 +0000   \n",
       "2354  2015-11-15 23:05:30 +0000   \n",
       "2355  2015-11-15 22:32:08 +0000   \n",
       "\n",
       "                                                 source  \\\n",
       "0     <a href=\"http://twitter.com/download/iphone\" r...   \n",
       "1     <a href=\"http://twitter.com/download/iphone\" r...   \n",
       "2     <a href=\"http://twitter.com/download/iphone\" r...   \n",
       "3     <a href=\"http://twitter.com/download/iphone\" r...   \n",
       "4     <a href=\"http://twitter.com/download/iphone\" r...   \n",
       "...                                                 ...   \n",
       "2351  <a href=\"http://twitter.com/download/iphone\" r...   \n",
       "2352  <a href=\"http://twitter.com/download/iphone\" r...   \n",
       "2353  <a href=\"http://twitter.com/download/iphone\" r...   \n",
       "2354  <a href=\"http://twitter.com/download/iphone\" r...   \n",
       "2355  <a href=\"http://twitter.com/download/iphone\" r...   \n",
       "\n",
       "                                                   text  retweeted_status_id  \\\n",
       "0     This is Phineas. He's a mystical boy. Only eve...                  NaN   \n",
       "1     This is Tilly. She's just checking pup on you....                  NaN   \n",
       "2     This is Archie. He is a rare Norwegian Pouncin...                  NaN   \n",
       "3     This is Darla. She commenced a snooze mid meal...                  NaN   \n",
       "4     This is Franklin. He would like you to stop ca...                  NaN   \n",
       "...                                                 ...                  ...   \n",
       "2351  Here we have a 1949 1st generation vulpix. Enj...                  NaN   \n",
       "2352  This is a purebred Piers Morgan. Loves to Netf...                  NaN   \n",
       "2353  Here is a very happy pup. Big fan of well-main...                  NaN   \n",
       "2354  This is a western brown Mitsubishi terrier. Up...                  NaN   \n",
       "2355  Here we have a Japanese Irish Setter. Lost eye...                  NaN   \n",
       "\n",
       "      retweeted_status_user_id retweeted_status_timestamp  \\\n",
       "0                          NaN                        NaN   \n",
       "1                          NaN                        NaN   \n",
       "2                          NaN                        NaN   \n",
       "3                          NaN                        NaN   \n",
       "4                          NaN                        NaN   \n",
       "...                        ...                        ...   \n",
       "2351                       NaN                        NaN   \n",
       "2352                       NaN                        NaN   \n",
       "2353                       NaN                        NaN   \n",
       "2354                       NaN                        NaN   \n",
       "2355                       NaN                        NaN   \n",
       "\n",
       "                                          expanded_urls  rating_numerator  \\\n",
       "0     https://twitter.com/dog_rates/status/892420643...                13   \n",
       "1     https://twitter.com/dog_rates/status/892177421...                13   \n",
       "2     https://twitter.com/dog_rates/status/891815181...                12   \n",
       "3     https://twitter.com/dog_rates/status/891689557...                13   \n",
       "4     https://twitter.com/dog_rates/status/891327558...                12   \n",
       "...                                                 ...               ...   \n",
       "2351  https://twitter.com/dog_rates/status/666049248...                 5   \n",
       "2352  https://twitter.com/dog_rates/status/666044226...                 6   \n",
       "2353  https://twitter.com/dog_rates/status/666033412...                 9   \n",
       "2354  https://twitter.com/dog_rates/status/666029285...                 7   \n",
       "2355  https://twitter.com/dog_rates/status/666020888...                 8   \n",
       "\n",
       "      rating_denominator      name doggo floofer pupper puppo  \n",
       "0                     10   Phineas   NaN     NaN    NaN   NaN  \n",
       "1                     10     Tilly   NaN     NaN    NaN   NaN  \n",
       "2                     10    Archie   NaN     NaN    NaN   NaN  \n",
       "3                     10     Darla   NaN     NaN    NaN   NaN  \n",
       "4                     10  Franklin   NaN     NaN    NaN   NaN  \n",
       "...                  ...       ...   ...     ...    ...   ...  \n",
       "2351                  10       NaN   NaN     NaN    NaN   NaN  \n",
       "2352                  10         a   NaN     NaN    NaN   NaN  \n",
       "2353                  10         a   NaN     NaN    NaN   NaN  \n",
       "2354                  10         a   NaN     NaN    NaN   NaN  \n",
       "2355                  10       NaN   NaN     NaN    NaN   NaN  \n",
       "\n",
       "[2356 rows x 17 columns]"
      ]
     },
     "execution_count": 85,
     "metadata": {},
     "output_type": "execute_result"
    }
   ],
   "source": [
    "archive"
   ]
  },
  {
   "cell_type": "markdown",
   "id": "3dc924e7",
   "metadata": {},
   "source": [
    "I opened the data in google sheets and did both Directed Visual Assessment & Non-Directed Visual Assessment and noticed multiple issues as written below : \n",
    "\n",
    "I noticed that the rating denominator in row 313 is zero which is odd so I will print the row's text to validate"
   ]
  },
  {
   "cell_type": "code",
   "execution_count": 86,
   "id": "dfef4eb8",
   "metadata": {
    "execution": {
     "iopub.execute_input": "2025-04-27T12:28:33.258823Z",
     "iopub.status.busy": "2025-04-27T12:28:33.256559Z",
     "iopub.status.idle": "2025-04-27T12:28:33.270200Z",
     "shell.execute_reply": "2025-04-27T12:28:33.268165Z",
     "shell.execute_reply.started": "2025-04-27T12:28:33.258748Z"
    }
   },
   "outputs": [
    {
     "data": {
      "text/plain": [
       "\"@jonnysun @Lin_Manuel ok jomny I know you're excited but 960/00 isn't a valid rating, 13/10 is tho\""
      ]
     },
     "execution_count": 86,
     "metadata": {},
     "output_type": "execute_result"
    }
   ],
   "source": [
    "archive.iloc[313][\"text\"]"
   ]
  },
  {
   "cell_type": "markdown",
   "id": "f4e10636",
   "metadata": {},
   "source": [
    "So yeah the rating was incorrectly extracted from the text so we have to fix this"
   ]
  },
  {
   "cell_type": "markdown",
   "id": "e56c42c8",
   "metadata": {},
   "source": [
    "1. Quality :\n",
    "   - Data in in_reply_to_status_id & retweeted_status_id is represented as numbers (ex 8.86E + 17 in row 31)\n",
    "   - Presence of duplicated data (retweets) which came in multiple formats as follows :\n",
    "      1. \"RT\" at the beginning of Text column.\n",
    "      2. Presence of a link to post by another profile rather then WeRateDogs in expanded_urls.\n",
    "      3. The retweeted_status_id doesn't equal NaN.\n",
    "   - Wrong rating denominator (ex row 313)\n",
    "2. Tidiness : \n",
    "   - All dog stages columns represent one variable (column) which is the dog stage.\n",
    "   - TimeStamps can be splitted into 4 columns, Year, Month, Day and Day of Week\n",
    "   - The text column contains tweet url at last which should be in a seperate column"
   ]
  },
  {
   "cell_type": "markdown",
   "id": "97e56da2",
   "metadata": {},
   "source": [
    "<hr>"
   ]
  },
  {
   "cell_type": "markdown",
   "id": "bd75194f",
   "metadata": {},
   "source": [
    "<h4>Programmatic Assessment</h4>"
   ]
  },
  {
   "cell_type": "markdown",
   "id": "0a9f1da3",
   "metadata": {},
   "source": [
    "<h5>DataFrame's Basic Info</h5>"
   ]
  },
  {
   "cell_type": "code",
   "execution_count": 87,
   "id": "d5cfb55a",
   "metadata": {
    "execution": {
     "iopub.execute_input": "2025-04-27T12:28:33.281916Z",
     "iopub.status.busy": "2025-04-27T12:28:33.280586Z",
     "iopub.status.idle": "2025-04-27T12:28:33.322552Z",
     "shell.execute_reply": "2025-04-27T12:28:33.320536Z",
     "shell.execute_reply.started": "2025-04-27T12:28:33.281835Z"
    }
   },
   "outputs": [
    {
     "name": "stdout",
     "output_type": "stream",
     "text": [
      "<class 'pandas.core.frame.DataFrame'>\n",
      "RangeIndex: 2356 entries, 0 to 2355\n",
      "Data columns (total 17 columns):\n",
      " #   Column                      Non-Null Count  Dtype  \n",
      "---  ------                      --------------  -----  \n",
      " 0   tweet_id                    2356 non-null   int64  \n",
      " 1   in_reply_to_status_id       78 non-null     float64\n",
      " 2   in_reply_to_user_id         78 non-null     float64\n",
      " 3   timestamp                   2356 non-null   object \n",
      " 4   source                      2356 non-null   object \n",
      " 5   text                        2356 non-null   object \n",
      " 6   retweeted_status_id         181 non-null    float64\n",
      " 7   retweeted_status_user_id    181 non-null    float64\n",
      " 8   retweeted_status_timestamp  181 non-null    object \n",
      " 9   expanded_urls               2297 non-null   object \n",
      " 10  rating_numerator            2356 non-null   int64  \n",
      " 11  rating_denominator          2356 non-null   int64  \n",
      " 12  name                        1611 non-null   object \n",
      " 13  doggo                       97 non-null     object \n",
      " 14  floofer                     10 non-null     object \n",
      " 15  pupper                      257 non-null    object \n",
      " 16  puppo                       30 non-null     object \n",
      "dtypes: float64(4), int64(3), object(10)\n",
      "memory usage: 313.0+ KB\n"
     ]
    }
   ],
   "source": [
    "archive.info()"
   ]
  },
  {
   "cell_type": "markdown",
   "id": "023da65f",
   "metadata": {},
   "source": [
    "<h5>Uniqueness</h5>"
   ]
  },
  {
   "cell_type": "code",
   "execution_count": 88,
   "id": "b7b27ecc",
   "metadata": {
    "execution": {
     "iopub.execute_input": "2025-04-27T12:28:33.326259Z",
     "iopub.status.busy": "2025-04-27T12:28:33.325178Z",
     "iopub.status.idle": "2025-04-27T12:28:33.342052Z",
     "shell.execute_reply": "2025-04-27T12:28:33.338439Z",
     "shell.execute_reply.started": "2025-04-27T12:28:33.326205Z"
    }
   },
   "outputs": [
    {
     "data": {
      "text/plain": [
       "np.int64(0)"
      ]
     },
     "execution_count": 88,
     "metadata": {},
     "output_type": "execute_result"
    }
   ],
   "source": [
    "# Since the Tweet ID is a unique identifier, then we can validate for duplicates by checking the Tweet ID column\n",
    "archive[\"tweet_id\"].duplicated().sum()"
   ]
  },
  {
   "cell_type": "markdown",
   "id": "889962b5",
   "metadata": {},
   "source": [
    "So the data has no duplicates at all, awesome!"
   ]
  },
  {
   "cell_type": "markdown",
   "id": "b49054d2",
   "metadata": {},
   "source": [
    "<hr>"
   ]
  },
  {
   "cell_type": "markdown",
   "id": "e55fcede",
   "metadata": {},
   "source": [
    "<h5>Completeness</h5>"
   ]
  },
  {
   "cell_type": "code",
   "execution_count": 89,
   "id": "f69606b2",
   "metadata": {
    "execution": {
     "iopub.execute_input": "2025-04-27T12:28:33.346526Z",
     "iopub.status.busy": "2025-04-27T12:28:33.345534Z",
     "iopub.status.idle": "2025-04-27T12:28:33.373205Z",
     "shell.execute_reply": "2025-04-27T12:28:33.369397Z",
     "shell.execute_reply.started": "2025-04-27T12:28:33.346431Z"
    }
   },
   "outputs": [
    {
     "data": {
      "text/plain": [
       "tweet_id                         0\n",
       "in_reply_to_status_id         2278\n",
       "in_reply_to_user_id           2278\n",
       "timestamp                        0\n",
       "source                           0\n",
       "text                             0\n",
       "retweeted_status_id           2175\n",
       "retweeted_status_user_id      2175\n",
       "retweeted_status_timestamp    2175\n",
       "expanded_urls                   59\n",
       "rating_numerator                 0\n",
       "rating_denominator               0\n",
       "name                           745\n",
       "doggo                         2259\n",
       "floofer                       2346\n",
       "pupper                        2099\n",
       "puppo                         2326\n",
       "dtype: int64"
      ]
     },
     "execution_count": 89,
     "metadata": {},
     "output_type": "execute_result"
    }
   ],
   "source": [
    "# priting sum of NaNs in each column\n",
    "archive.isna().sum()"
   ]
  },
  {
   "cell_type": "markdown",
   "id": "cee3df40",
   "metadata": {},
   "source": [
    "1. The missing values in *in_reply_to* columns and *retweeted_status* columns represent that the tweet wasn't a reply / retweet\n",
    "2. The missing values in *name* indiciate that it wasn't mentioned in the text of tweet\n",
    "3.  *expanded_urls* shall be further investigated after removing retweets\n",
    "4. Meanwhile the missing values in the dog stages column will be mostly fixed once we transform the columns into 1 variable (dog stage)"
   ]
  },
  {
   "cell_type": "markdown",
   "id": "e585487c",
   "metadata": {},
   "source": [
    "<hr>"
   ]
  },
  {
   "cell_type": "markdown",
   "id": "84bb00d0",
   "metadata": {},
   "source": [
    "<h5>Validity</h5>"
   ]
  },
  {
   "cell_type": "markdown",
   "id": "f7a53eed",
   "metadata": {},
   "source": [
    "Since there are some columns like text columns that are open and scarcely have a standard value, we will loop over the following columns:\n",
    "- Rating Numerator\n",
    "- Rating Denominator\n",
    "- dog stages columns"
   ]
  },
  {
   "cell_type": "code",
   "execution_count": 90,
   "id": "9267c0bf",
   "metadata": {
    "execution": {
     "iopub.execute_input": "2025-04-27T12:28:33.378183Z",
     "iopub.status.busy": "2025-04-27T12:28:33.376314Z",
     "iopub.status.idle": "2025-04-27T12:28:33.397397Z",
     "shell.execute_reply": "2025-04-27T12:28:33.395776Z",
     "shell.execute_reply.started": "2025-04-27T12:28:33.378108Z"
    }
   },
   "outputs": [
    {
     "name": "stdout",
     "output_type": "stream",
     "text": [
      "rating_numerator : [  13   12   14    5   17   11   10  420  666    6   15  182  960    0\n",
      "   75    7   84    9   24    8    1   27    3    4  165 1776  204   50\n",
      "   99   80   45   60   44  143  121   20   26    2  144   88]\n",
      "\n",
      "\n",
      "rating_denominator : [ 10   0  15  70   7  11 150 170  20  50  90  80  40 130 110  16 120   2]\n",
      "\n",
      "\n",
      "doggo : [nan 'doggo']\n",
      "\n",
      "\n",
      "floofer : [nan 'floofer']\n",
      "\n",
      "\n",
      "pupper : [nan 'pupper']\n",
      "\n",
      "\n",
      "puppo : [nan 'puppo']\n",
      "\n",
      "\n"
     ]
    }
   ],
   "source": [
    "# Defining required columns\n",
    "columns = [\n",
    "    \"rating_numerator\",\n",
    "    \"rating_denominator\",\n",
    "    \"doggo\",\n",
    "    \"floofer\",\n",
    "    \"pupper\",\n",
    "    \"puppo\",\n",
    "]\n",
    "\n",
    "\n",
    "# Defining a function for later use in other data sources\n",
    "def get_unique(df, columns):\n",
    "    \"\"\"function's parameters:\n",
    "    df >> a dataframe\n",
    "    columns >> columns that belong to the dataframe argument\n",
    "    \"\"\"\n",
    "\n",
    "    # looping over the passed columns\n",
    "    for column in columns:\n",
    "\n",
    "        # Printing the unique elements of the column in a formatted string\n",
    "        print(f\"{column} : {df[column].unique()}\\n\\n\")\n",
    "\n",
    "\n",
    "# Calling function with the twitter archive and required columns\n",
    "get_unique(archive, columns)"
   ]
  },
  {
   "cell_type": "markdown",
   "id": "eeae7cf8",
   "metadata": {},
   "source": [
    "1. Dog Stages : Each columns has the suitable required values, perfect!\n",
    "2. Rating Numerator and Denominator don't make sense so they need to be fixed"
   ]
  },
  {
   "cell_type": "markdown",
   "id": "004587ed",
   "metadata": {},
   "source": [
    "<hr>"
   ]
  },
  {
   "cell_type": "markdown",
   "id": "5731f5ae",
   "metadata": {},
   "source": [
    "<h5>Data Types</h5>"
   ]
  },
  {
   "cell_type": "code",
   "execution_count": 91,
   "id": "97ef1d49",
   "metadata": {
    "execution": {
     "iopub.execute_input": "2025-04-27T12:28:33.401483Z",
     "iopub.status.busy": "2025-04-27T12:28:33.399961Z",
     "iopub.status.idle": "2025-04-27T12:28:33.423276Z",
     "shell.execute_reply": "2025-04-27T12:28:33.419490Z",
     "shell.execute_reply.started": "2025-04-27T12:28:33.401411Z"
    }
   },
   "outputs": [
    {
     "data": {
      "text/plain": [
       "tweet_id                        int64\n",
       "in_reply_to_status_id         float64\n",
       "in_reply_to_user_id           float64\n",
       "timestamp                      object\n",
       "source                         object\n",
       "text                           object\n",
       "retweeted_status_id           float64\n",
       "retweeted_status_user_id      float64\n",
       "retweeted_status_timestamp     object\n",
       "expanded_urls                  object\n",
       "rating_numerator                int64\n",
       "rating_denominator              int64\n",
       "name                           object\n",
       "doggo                          object\n",
       "floofer                        object\n",
       "pupper                         object\n",
       "puppo                          object\n",
       "dtype: object"
      ]
     },
     "execution_count": 91,
     "metadata": {},
     "output_type": "execute_result"
    }
   ],
   "source": [
    "archive.dtypes"
   ]
  },
  {
   "cell_type": "markdown",
   "id": "6f21d7b5",
   "metadata": {},
   "source": [
    "Here are the columns we have to transform in the cleaning stage\n",
    "- All columns that carry an ID must be transformed to string as they hold no numerical value / meaning\n",
    "- timestamp & retweeted_status_timestamp > Datetime for correct analysis"
   ]
  },
  {
   "cell_type": "markdown",
   "id": "289ce0a4",
   "metadata": {},
   "source": [
    "<hr>"
   ]
  },
  {
   "cell_type": "markdown",
   "id": "4140a6aa",
   "metadata": {},
   "source": [
    "## 2 - Image Predictions"
   ]
  },
  {
   "cell_type": "markdown",
   "id": "67857443",
   "metadata": {},
   "source": [
    "<h4>Visual Assessment</h4>"
   ]
  },
  {
   "cell_type": "code",
   "execution_count": 92,
   "id": "51758513",
   "metadata": {
    "execution": {
     "iopub.execute_input": "2025-04-27T12:28:33.429389Z",
     "iopub.status.busy": "2025-04-27T12:28:33.426945Z",
     "iopub.status.idle": "2025-04-27T12:28:33.475258Z",
     "shell.execute_reply": "2025-04-27T12:28:33.472157Z",
     "shell.execute_reply.started": "2025-04-27T12:28:33.429272Z"
    }
   },
   "outputs": [
    {
     "data": {
      "application/vnd.microsoft.datawrangler.viewer.v0+json": {
       "columns": [
        {
         "name": "index",
         "rawType": "int64",
         "type": "integer"
        },
        {
         "name": "tweet_id",
         "rawType": "int64",
         "type": "integer"
        },
        {
         "name": "jpg_url",
         "rawType": "object",
         "type": "string"
        },
        {
         "name": "img_num",
         "rawType": "int64",
         "type": "integer"
        },
        {
         "name": "p1",
         "rawType": "object",
         "type": "string"
        },
        {
         "name": "p1_conf",
         "rawType": "float64",
         "type": "float"
        },
        {
         "name": "p1_dog",
         "rawType": "bool",
         "type": "boolean"
        },
        {
         "name": "p2",
         "rawType": "object",
         "type": "string"
        },
        {
         "name": "p2_conf",
         "rawType": "float64",
         "type": "float"
        },
        {
         "name": "p2_dog",
         "rawType": "bool",
         "type": "boolean"
        },
        {
         "name": "p3",
         "rawType": "object",
         "type": "string"
        },
        {
         "name": "p3_conf",
         "rawType": "float64",
         "type": "float"
        },
        {
         "name": "p3_dog",
         "rawType": "bool",
         "type": "boolean"
        }
       ],
       "conversionMethod": "pd.DataFrame",
       "ref": "105d10d0-47e7-4f93-a9ab-1c79945ba346",
       "rows": [
        [
         "0",
         "666020888022790149",
         "https://pbs.twimg.com/media/CT4udn0WwAA0aMy.jpg",
         "1",
         "Welsh_springer_spaniel",
         "0.465074",
         "True",
         "collie",
         "0.156665",
         "True",
         "Shetland_sheepdog",
         "0.0614285",
         "True"
        ],
        [
         "1",
         "666029285002620928",
         "https://pbs.twimg.com/media/CT42GRgUYAA5iDo.jpg",
         "1",
         "redbone",
         "0.506826",
         "True",
         "miniature_pinscher",
         "0.0741916999999999",
         "True",
         "Rhodesian_ridgeback",
         "0.07201",
         "True"
        ],
        [
         "2",
         "666033412701032449",
         "https://pbs.twimg.com/media/CT4521TWwAEvMyu.jpg",
         "1",
         "German_shepherd",
         "0.596461",
         "True",
         "malinois",
         "0.1385839999999999",
         "True",
         "bloodhound",
         "0.116197",
         "True"
        ],
        [
         "3",
         "666044226329800704",
         "https://pbs.twimg.com/media/CT5Dr8HUEAA-lEu.jpg",
         "1",
         "Rhodesian_ridgeback",
         "0.408143",
         "True",
         "redbone",
         "0.360687",
         "True",
         "miniature_pinscher",
         "0.222752",
         "True"
        ],
        [
         "4",
         "666049248165822465",
         "https://pbs.twimg.com/media/CT5IQmsXIAAKY4A.jpg",
         "1",
         "miniature_pinscher",
         "0.560311",
         "True",
         "Rottweiler",
         "0.243682",
         "True",
         "Doberman",
         "0.154629",
         "True"
        ],
        [
         "5",
         "666050758794694657",
         "https://pbs.twimg.com/media/CT5Jof1WUAEuVxN.jpg",
         "1",
         "Bernese_mountain_dog",
         "0.651137",
         "True",
         "English_springer",
         "0.263788",
         "True",
         "Greater_Swiss_Mountain_dog",
         "0.0161992",
         "True"
        ],
        [
         "6",
         "666051853826850816",
         "https://pbs.twimg.com/media/CT5KoJ1WoAAJash.jpg",
         "1",
         "box_turtle",
         "0.933012",
         "False",
         "mud_turtle",
         "0.0458854",
         "False",
         "terrapin",
         "0.0178852999999999",
         "False"
        ],
        [
         "7",
         "666055525042405380",
         "https://pbs.twimg.com/media/CT5N9tpXIAAifs1.jpg",
         "1",
         "chow",
         "0.692517",
         "True",
         "Tibetan_mastiff",
         "0.0582793999999999",
         "True",
         "fur_coat",
         "0.0544486",
         "False"
        ],
        [
         "8",
         "666057090499244032",
         "https://pbs.twimg.com/media/CT5PY90WoAAQGLo.jpg",
         "1",
         "shopping_cart",
         "0.962465",
         "False",
         "shopping_basket",
         "0.0145937999999999",
         "False",
         "golden_retriever",
         "0.00795896",
         "True"
        ],
        [
         "9",
         "666058600524156928",
         "https://pbs.twimg.com/media/CT5Qw94XAAA_2dP.jpg",
         "1",
         "miniature_poodle",
         "0.201493",
         "True",
         "komondor",
         "0.192305",
         "True",
         "soft-coated_wheaten_terrier",
         "0.0820861",
         "True"
        ],
        [
         "10",
         "666063827256086533",
         "https://pbs.twimg.com/media/CT5Vg_wXIAAXfnj.jpg",
         "1",
         "golden_retriever",
         "0.77593",
         "True",
         "Tibetan_mastiff",
         "0.0937178",
         "True",
         "Labrador_retriever",
         "0.0724266",
         "True"
        ],
        [
         "11",
         "666071193221509120",
         "https://pbs.twimg.com/media/CT5cN_3WEAAlOoZ.jpg",
         "1",
         "Gordon_setter",
         "0.503672",
         "True",
         "Yorkshire_terrier",
         "0.174201",
         "True",
         "Pekinese",
         "0.109454",
         "True"
        ],
        [
         "12",
         "666073100786774016",
         "https://pbs.twimg.com/media/CT5d9DZXAAALcwe.jpg",
         "1",
         "Walker_hound",
         "0.260857",
         "True",
         "English_foxhound",
         "0.1753819999999999",
         "True",
         "Ibizan_hound",
         "0.0974705",
         "True"
        ],
        [
         "13",
         "666082916733198337",
         "https://pbs.twimg.com/media/CT5m4VGWEAAtKc8.jpg",
         "1",
         "pug",
         "0.489814",
         "True",
         "bull_mastiff",
         "0.4047219999999999",
         "True",
         "French_bulldog",
         "0.0489595",
         "True"
        ],
        [
         "14",
         "666094000022159362",
         "https://pbs.twimg.com/media/CT5w9gUW4AAsBNN.jpg",
         "1",
         "bloodhound",
         "0.195217",
         "True",
         "German_shepherd",
         "0.0782598",
         "True",
         "malinois",
         "0.0756278",
         "True"
        ],
        [
         "15",
         "666099513787052032",
         "https://pbs.twimg.com/media/CT51-JJUEAA6hV8.jpg",
         "1",
         "Lhasa",
         "0.58233",
         "True",
         "Shih-Tzu",
         "0.166192",
         "True",
         "Dandie_Dinmont",
         "0.0896883",
         "True"
        ],
        [
         "16",
         "666102155909144576",
         "https://pbs.twimg.com/media/CT54YGiWUAEZnoK.jpg",
         "1",
         "English_setter",
         "0.298617",
         "True",
         "Newfoundland",
         "0.149842",
         "True",
         "borzoi",
         "0.133649",
         "True"
        ],
        [
         "17",
         "666104133288665088",
         "https://pbs.twimg.com/media/CT56LSZWoAAlJj2.jpg",
         "1",
         "hen",
         "0.965932",
         "False",
         "cock",
         "0.0339194",
         "False",
         "partridge",
         "5.20658e-05",
         "False"
        ],
        [
         "18",
         "666268910803644416",
         "https://pbs.twimg.com/media/CT8QCd1WEAADXws.jpg",
         "1",
         "desktop_computer",
         "0.086502",
         "False",
         "desk",
         "0.0855474",
         "False",
         "bookcase",
         "0.0794797",
         "False"
        ],
        [
         "19",
         "666273097616637952",
         "https://pbs.twimg.com/media/CT8T1mtUwAA3aqm.jpg",
         "1",
         "Italian_greyhound",
         "0.176053",
         "True",
         "toy_terrier",
         "0.111884",
         "True",
         "basenji",
         "0.111152",
         "True"
        ],
        [
         "20",
         "666287406224695296",
         "https://pbs.twimg.com/media/CT8g3BpUEAAuFjg.jpg",
         "1",
         "Maltese_dog",
         "0.8575309999999999",
         "True",
         "toy_poodle",
         "0.0630638",
         "True",
         "miniature_poodle",
         "0.0255806",
         "True"
        ],
        [
         "21",
         "666293911632134144",
         "https://pbs.twimg.com/media/CT8mx7KW4AEQu8N.jpg",
         "1",
         "three-toed_sloth",
         "0.914671",
         "False",
         "otter",
         "0.01525",
         "False",
         "great_grey_owl",
         "0.0132072",
         "False"
        ],
        [
         "22",
         "666337882303524864",
         "https://pbs.twimg.com/media/CT9OwFIWEAMuRje.jpg",
         "1",
         "ox",
         "0.4166689999999999",
         "False",
         "Newfoundland",
         "0.278407",
         "True",
         "groenendael",
         "0.102643",
         "True"
        ],
        [
         "23",
         "666345417576210432",
         "https://pbs.twimg.com/media/CT9Vn7PWoAA_ZCM.jpg",
         "1",
         "golden_retriever",
         "0.8587440000000001",
         "True",
         "Chesapeake_Bay_retriever",
         "0.0547868",
         "True",
         "Labrador_retriever",
         "0.0142408999999999",
         "True"
        ],
        [
         "24",
         "666353288456101888",
         "https://pbs.twimg.com/media/CT9cx0tUEAAhNN_.jpg",
         "1",
         "malamute",
         "0.3368739999999999",
         "True",
         "Siberian_husky",
         "0.147655",
         "True",
         "Eskimo_dog",
         "0.0934123999999999",
         "True"
        ],
        [
         "25",
         "666362758909284353",
         "https://pbs.twimg.com/media/CT9lXGsUcAAyUFt.jpg",
         "1",
         "guinea_pig",
         "0.996496",
         "False",
         "skunk",
         "0.00240245",
         "False",
         "hamster",
         "0.000460863",
         "False"
        ],
        [
         "26",
         "666373753744588802",
         "https://pbs.twimg.com/media/CT9vZEYWUAAlZ05.jpg",
         "1",
         "soft-coated_wheaten_terrier",
         "0.326467",
         "True",
         "Afghan_hound",
         "0.259551",
         "True",
         "briard",
         "0.206803",
         "True"
        ],
        [
         "27",
         "666396247373291520",
         "https://pbs.twimg.com/media/CT-D2ZHWIAA3gK1.jpg",
         "1",
         "Chihuahua",
         "0.978108",
         "True",
         "toy_terrier",
         "0.00939697",
         "True",
         "papillon",
         "0.00457681",
         "True"
        ],
        [
         "28",
         "666407126856765440",
         "https://pbs.twimg.com/media/CT-NvwmW4AAugGZ.jpg",
         "1",
         "black-and-tan_coonhound",
         "0.529139",
         "True",
         "bloodhound",
         "0.24422",
         "True",
         "flat-coated_retriever",
         "0.17381",
         "True"
        ],
        [
         "29",
         "666411507551481857",
         "https://pbs.twimg.com/media/CT-RugiWIAELEaq.jpg",
         "1",
         "coho",
         "0.40464",
         "False",
         "barracouta",
         "0.271485",
         "False",
         "gar",
         "0.189945",
         "False"
        ],
        [
         "30",
         "666418789513326592",
         "https://pbs.twimg.com/media/CT-YWb7U8AA7QnN.jpg",
         "1",
         "toy_terrier",
         "0.14968",
         "True",
         "papillon",
         "0.148258",
         "True",
         "Chihuahua",
         "0.14286",
         "True"
        ],
        [
         "31",
         "666421158376562688",
         "https://pbs.twimg.com/media/CT-aggCXAAIMfT3.jpg",
         "1",
         "Blenheim_spaniel",
         "0.906777",
         "True",
         "cocker_spaniel",
         "0.0903464",
         "True",
         "Shih-Tzu",
         "0.00111687",
         "True"
        ],
        [
         "32",
         "666428276349472768",
         "https://pbs.twimg.com/media/CT-g-0DUwAEQdSn.jpg",
         "1",
         "Pembroke",
         "0.371361",
         "True",
         "chow",
         "0.249394",
         "True",
         "Pomeranian",
         "0.241878",
         "True"
        ],
        [
         "33",
         "666430724426358785",
         "https://pbs.twimg.com/media/CT-jNYqW4AAPi2M.jpg",
         "1",
         "llama",
         "0.505184",
         "False",
         "Irish_terrier",
         "0.104109",
         "True",
         "dingo",
         "0.0620712",
         "False"
        ],
        [
         "34",
         "666435652385423360",
         "https://pbs.twimg.com/media/CT-nsTQWEAEkyDn.jpg",
         "1",
         "Chesapeake_Bay_retriever",
         "0.18413",
         "True",
         "chain_saw",
         "0.0567753",
         "False",
         "power_drill",
         "0.0367634",
         "False"
        ],
        [
         "35",
         "666437273139982337",
         "https://pbs.twimg.com/media/CT-pKmRWIAAxUWj.jpg",
         "1",
         "Chihuahua",
         "0.6718529999999999",
         "True",
         "beagle",
         "0.12468",
         "True",
         "Saluki",
         "0.0440941999999999",
         "True"
        ],
        [
         "36",
         "666447344410484738",
         "https://pbs.twimg.com/media/CT-yU5QWwAEjLX5.jpg",
         "1",
         "curly-coated_retriever",
         "0.322084",
         "True",
         "giant_schnauzer",
         "0.287955",
         "True",
         "Labrador_retriever",
         "0.166331",
         "True"
        ],
        [
         "37",
         "666454714377183233",
         "https://pbs.twimg.com/media/CT-5Bs-WUAA2JeC.jpg",
         "1",
         "dalmatian",
         "0.278954",
         "True",
         "Labrador_retriever",
         "0.237612",
         "True",
         "Great_Pyrenees",
         "0.171106",
         "True"
        ],
        [
         "38",
         "666644823164719104",
         "https://pbs.twimg.com/media/CUBl6IwVAAA9_zT.jpg",
         "1",
         "Ibizan_hound",
         "0.0443334",
         "True",
         "Pembroke",
         "0.0432093",
         "True",
         "West_Highland_white_terrier",
         "0.0389056",
         "True"
        ],
        [
         "39",
         "666649482315059201",
         "https://pbs.twimg.com/media/CUBqKnLWwAA5OQB.jpg",
         "1",
         "Border_collie",
         "0.4478029999999999",
         "True",
         "English_springer",
         "0.170497",
         "True",
         "collie",
         "0.139206",
         "True"
        ],
        [
         "40",
         "666691418707132416",
         "https://pbs.twimg.com/media/CUCQTpEWEAA7EDz.jpg",
         "1",
         "German_shepherd",
         "0.975401",
         "True",
         "beagle",
         "0.00868727",
         "True",
         "bloodhound",
         "0.00539404",
         "True"
        ],
        [
         "41",
         "666701168228331520",
         "https://pbs.twimg.com/media/CUCZLHlUAAAeAig.jpg",
         "1",
         "Labrador_retriever",
         "0.887707",
         "True",
         "Chihuahua",
         "0.029307",
         "True",
         "French_bulldog",
         "0.0207563",
         "True"
        ],
        [
         "42",
         "666739327293083650",
         "https://pbs.twimg.com/media/CUC74aTWoAInZey.jpg",
         "1",
         "miniature_poodle",
         "0.546933",
         "True",
         "cocker_spaniel",
         "0.1652549999999999",
         "True",
         "toy_poodle",
         "0.0959589",
         "True"
        ],
        [
         "43",
         "666776908487630848",
         "https://pbs.twimg.com/media/CUDeDoWUYAAD-EM.jpg",
         "1",
         "seat_belt",
         "0.375057",
         "False",
         "miniature_pinscher",
         "0.167175",
         "True",
         "Chihuahua",
         "0.0869506",
         "True"
        ],
        [
         "44",
         "666781792255496192",
         "https://pbs.twimg.com/media/CUDigRXXIAATI_H.jpg",
         "1",
         "Italian_greyhound",
         "0.618316",
         "True",
         "Weimaraner",
         "0.151363",
         "True",
         "vizsla",
         "0.0859891",
         "True"
        ],
        [
         "45",
         "666786068205871104",
         "https://pbs.twimg.com/media/CUDmZIkWcAAIPPe.jpg",
         "1",
         "snail",
         "0.999888",
         "False",
         "slug",
         "5.51417e-05",
         "False",
         "acorn",
         "2.6258e-05",
         "False"
        ],
        [
         "46",
         "666804364988780544",
         "https://pbs.twimg.com/media/CUD3A7YWoAA82N0.jpg",
         "1",
         "English_setter",
         "0.328792",
         "True",
         "Brittany_spaniel",
         "0.283545",
         "True",
         "Ibizan_hound",
         "0.0574615",
         "True"
        ],
        [
         "47",
         "666817836334096384",
         "https://pbs.twimg.com/media/CUEDSMEWEAAuXVZ.jpg",
         "1",
         "miniature_schnauzer",
         "0.496953",
         "True",
         "standard_schnauzer",
         "0.285276",
         "True",
         "giant_schnauzer",
         "0.0737636999999999",
         "True"
        ],
        [
         "48",
         "666826780179869698",
         "https://pbs.twimg.com/media/CUELa0NUkAAscGC.jpg",
         "1",
         "Maltese_dog",
         "0.359383",
         "True",
         "teddy",
         "0.148759",
         "False",
         "West_Highland_white_terrier",
         "0.1060069999999999",
         "True"
        ],
        [
         "49",
         "666835007768551424",
         "https://pbs.twimg.com/media/CUES51dXIAEahyG.jpg",
         "1",
         "Airedale",
         "0.448459",
         "True",
         "toy_poodle",
         "0.12403",
         "True",
         "teddy",
         "0.1101829999999999",
         "False"
        ]
       ],
       "shape": {
        "columns": 12,
        "rows": 2075
       }
      },
      "text/html": [
       "<div>\n",
       "<style scoped>\n",
       "    .dataframe tbody tr th:only-of-type {\n",
       "        vertical-align: middle;\n",
       "    }\n",
       "\n",
       "    .dataframe tbody tr th {\n",
       "        vertical-align: top;\n",
       "    }\n",
       "\n",
       "    .dataframe thead th {\n",
       "        text-align: right;\n",
       "    }\n",
       "</style>\n",
       "<table border=\"1\" class=\"dataframe\">\n",
       "  <thead>\n",
       "    <tr style=\"text-align: right;\">\n",
       "      <th></th>\n",
       "      <th>tweet_id</th>\n",
       "      <th>jpg_url</th>\n",
       "      <th>img_num</th>\n",
       "      <th>p1</th>\n",
       "      <th>p1_conf</th>\n",
       "      <th>p1_dog</th>\n",
       "      <th>p2</th>\n",
       "      <th>p2_conf</th>\n",
       "      <th>p2_dog</th>\n",
       "      <th>p3</th>\n",
       "      <th>p3_conf</th>\n",
       "      <th>p3_dog</th>\n",
       "    </tr>\n",
       "  </thead>\n",
       "  <tbody>\n",
       "    <tr>\n",
       "      <th>0</th>\n",
       "      <td>666020888022790149</td>\n",
       "      <td>https://pbs.twimg.com/media/CT4udn0WwAA0aMy.jpg</td>\n",
       "      <td>1</td>\n",
       "      <td>Welsh_springer_spaniel</td>\n",
       "      <td>0.465074</td>\n",
       "      <td>True</td>\n",
       "      <td>collie</td>\n",
       "      <td>0.156665</td>\n",
       "      <td>True</td>\n",
       "      <td>Shetland_sheepdog</td>\n",
       "      <td>0.061428</td>\n",
       "      <td>True</td>\n",
       "    </tr>\n",
       "    <tr>\n",
       "      <th>1</th>\n",
       "      <td>666029285002620928</td>\n",
       "      <td>https://pbs.twimg.com/media/CT42GRgUYAA5iDo.jpg</td>\n",
       "      <td>1</td>\n",
       "      <td>redbone</td>\n",
       "      <td>0.506826</td>\n",
       "      <td>True</td>\n",
       "      <td>miniature_pinscher</td>\n",
       "      <td>0.074192</td>\n",
       "      <td>True</td>\n",
       "      <td>Rhodesian_ridgeback</td>\n",
       "      <td>0.072010</td>\n",
       "      <td>True</td>\n",
       "    </tr>\n",
       "    <tr>\n",
       "      <th>2</th>\n",
       "      <td>666033412701032449</td>\n",
       "      <td>https://pbs.twimg.com/media/CT4521TWwAEvMyu.jpg</td>\n",
       "      <td>1</td>\n",
       "      <td>German_shepherd</td>\n",
       "      <td>0.596461</td>\n",
       "      <td>True</td>\n",
       "      <td>malinois</td>\n",
       "      <td>0.138584</td>\n",
       "      <td>True</td>\n",
       "      <td>bloodhound</td>\n",
       "      <td>0.116197</td>\n",
       "      <td>True</td>\n",
       "    </tr>\n",
       "    <tr>\n",
       "      <th>3</th>\n",
       "      <td>666044226329800704</td>\n",
       "      <td>https://pbs.twimg.com/media/CT5Dr8HUEAA-lEu.jpg</td>\n",
       "      <td>1</td>\n",
       "      <td>Rhodesian_ridgeback</td>\n",
       "      <td>0.408143</td>\n",
       "      <td>True</td>\n",
       "      <td>redbone</td>\n",
       "      <td>0.360687</td>\n",
       "      <td>True</td>\n",
       "      <td>miniature_pinscher</td>\n",
       "      <td>0.222752</td>\n",
       "      <td>True</td>\n",
       "    </tr>\n",
       "    <tr>\n",
       "      <th>4</th>\n",
       "      <td>666049248165822465</td>\n",
       "      <td>https://pbs.twimg.com/media/CT5IQmsXIAAKY4A.jpg</td>\n",
       "      <td>1</td>\n",
       "      <td>miniature_pinscher</td>\n",
       "      <td>0.560311</td>\n",
       "      <td>True</td>\n",
       "      <td>Rottweiler</td>\n",
       "      <td>0.243682</td>\n",
       "      <td>True</td>\n",
       "      <td>Doberman</td>\n",
       "      <td>0.154629</td>\n",
       "      <td>True</td>\n",
       "    </tr>\n",
       "    <tr>\n",
       "      <th>...</th>\n",
       "      <td>...</td>\n",
       "      <td>...</td>\n",
       "      <td>...</td>\n",
       "      <td>...</td>\n",
       "      <td>...</td>\n",
       "      <td>...</td>\n",
       "      <td>...</td>\n",
       "      <td>...</td>\n",
       "      <td>...</td>\n",
       "      <td>...</td>\n",
       "      <td>...</td>\n",
       "      <td>...</td>\n",
       "    </tr>\n",
       "    <tr>\n",
       "      <th>2070</th>\n",
       "      <td>891327558926688256</td>\n",
       "      <td>https://pbs.twimg.com/media/DF6hr6BUMAAzZgT.jpg</td>\n",
       "      <td>2</td>\n",
       "      <td>basset</td>\n",
       "      <td>0.555712</td>\n",
       "      <td>True</td>\n",
       "      <td>English_springer</td>\n",
       "      <td>0.225770</td>\n",
       "      <td>True</td>\n",
       "      <td>German_short-haired_pointer</td>\n",
       "      <td>0.175219</td>\n",
       "      <td>True</td>\n",
       "    </tr>\n",
       "    <tr>\n",
       "      <th>2071</th>\n",
       "      <td>891689557279858688</td>\n",
       "      <td>https://pbs.twimg.com/media/DF_q7IAWsAEuuN8.jpg</td>\n",
       "      <td>1</td>\n",
       "      <td>paper_towel</td>\n",
       "      <td>0.170278</td>\n",
       "      <td>False</td>\n",
       "      <td>Labrador_retriever</td>\n",
       "      <td>0.168086</td>\n",
       "      <td>True</td>\n",
       "      <td>spatula</td>\n",
       "      <td>0.040836</td>\n",
       "      <td>False</td>\n",
       "    </tr>\n",
       "    <tr>\n",
       "      <th>2072</th>\n",
       "      <td>891815181378084864</td>\n",
       "      <td>https://pbs.twimg.com/media/DGBdLU1WsAANxJ9.jpg</td>\n",
       "      <td>1</td>\n",
       "      <td>Chihuahua</td>\n",
       "      <td>0.716012</td>\n",
       "      <td>True</td>\n",
       "      <td>malamute</td>\n",
       "      <td>0.078253</td>\n",
       "      <td>True</td>\n",
       "      <td>kelpie</td>\n",
       "      <td>0.031379</td>\n",
       "      <td>True</td>\n",
       "    </tr>\n",
       "    <tr>\n",
       "      <th>2073</th>\n",
       "      <td>892177421306343426</td>\n",
       "      <td>https://pbs.twimg.com/media/DGGmoV4XsAAUL6n.jpg</td>\n",
       "      <td>1</td>\n",
       "      <td>Chihuahua</td>\n",
       "      <td>0.323581</td>\n",
       "      <td>True</td>\n",
       "      <td>Pekinese</td>\n",
       "      <td>0.090647</td>\n",
       "      <td>True</td>\n",
       "      <td>papillon</td>\n",
       "      <td>0.068957</td>\n",
       "      <td>True</td>\n",
       "    </tr>\n",
       "    <tr>\n",
       "      <th>2074</th>\n",
       "      <td>892420643555336193</td>\n",
       "      <td>https://pbs.twimg.com/media/DGKD1-bXoAAIAUK.jpg</td>\n",
       "      <td>1</td>\n",
       "      <td>orange</td>\n",
       "      <td>0.097049</td>\n",
       "      <td>False</td>\n",
       "      <td>bagel</td>\n",
       "      <td>0.085851</td>\n",
       "      <td>False</td>\n",
       "      <td>banana</td>\n",
       "      <td>0.076110</td>\n",
       "      <td>False</td>\n",
       "    </tr>\n",
       "  </tbody>\n",
       "</table>\n",
       "<p>2075 rows × 12 columns</p>\n",
       "</div>"
      ],
      "text/plain": [
       "                tweet_id                                          jpg_url  \\\n",
       "0     666020888022790149  https://pbs.twimg.com/media/CT4udn0WwAA0aMy.jpg   \n",
       "1     666029285002620928  https://pbs.twimg.com/media/CT42GRgUYAA5iDo.jpg   \n",
       "2     666033412701032449  https://pbs.twimg.com/media/CT4521TWwAEvMyu.jpg   \n",
       "3     666044226329800704  https://pbs.twimg.com/media/CT5Dr8HUEAA-lEu.jpg   \n",
       "4     666049248165822465  https://pbs.twimg.com/media/CT5IQmsXIAAKY4A.jpg   \n",
       "...                  ...                                              ...   \n",
       "2070  891327558926688256  https://pbs.twimg.com/media/DF6hr6BUMAAzZgT.jpg   \n",
       "2071  891689557279858688  https://pbs.twimg.com/media/DF_q7IAWsAEuuN8.jpg   \n",
       "2072  891815181378084864  https://pbs.twimg.com/media/DGBdLU1WsAANxJ9.jpg   \n",
       "2073  892177421306343426  https://pbs.twimg.com/media/DGGmoV4XsAAUL6n.jpg   \n",
       "2074  892420643555336193  https://pbs.twimg.com/media/DGKD1-bXoAAIAUK.jpg   \n",
       "\n",
       "      img_num                      p1   p1_conf  p1_dog                  p2  \\\n",
       "0           1  Welsh_springer_spaniel  0.465074    True              collie   \n",
       "1           1                 redbone  0.506826    True  miniature_pinscher   \n",
       "2           1         German_shepherd  0.596461    True            malinois   \n",
       "3           1     Rhodesian_ridgeback  0.408143    True             redbone   \n",
       "4           1      miniature_pinscher  0.560311    True          Rottweiler   \n",
       "...       ...                     ...       ...     ...                 ...   \n",
       "2070        2                  basset  0.555712    True    English_springer   \n",
       "2071        1             paper_towel  0.170278   False  Labrador_retriever   \n",
       "2072        1               Chihuahua  0.716012    True            malamute   \n",
       "2073        1               Chihuahua  0.323581    True            Pekinese   \n",
       "2074        1                  orange  0.097049   False               bagel   \n",
       "\n",
       "       p2_conf  p2_dog                           p3   p3_conf  p3_dog  \n",
       "0     0.156665    True            Shetland_sheepdog  0.061428    True  \n",
       "1     0.074192    True          Rhodesian_ridgeback  0.072010    True  \n",
       "2     0.138584    True                   bloodhound  0.116197    True  \n",
       "3     0.360687    True           miniature_pinscher  0.222752    True  \n",
       "4     0.243682    True                     Doberman  0.154629    True  \n",
       "...        ...     ...                          ...       ...     ...  \n",
       "2070  0.225770    True  German_short-haired_pointer  0.175219    True  \n",
       "2071  0.168086    True                      spatula  0.040836   False  \n",
       "2072  0.078253    True                       kelpie  0.031379    True  \n",
       "2073  0.090647    True                     papillon  0.068957    True  \n",
       "2074  0.085851   False                       banana  0.076110   False  \n",
       "\n",
       "[2075 rows x 12 columns]"
      ]
     },
     "execution_count": 92,
     "metadata": {},
     "output_type": "execute_result"
    }
   ],
   "source": [
    "predictions"
   ]
  },
  {
   "cell_type": "markdown",
   "id": "d23234ff",
   "metadata": {},
   "source": [
    "I also opened this data in google sheets and after some Non-Directed Visual Assessment here are the issues I concluded :  \n",
    "Quality : Inconsistency of the predictions where they are sometimes title-cased and sometimes all lowercase\n",
    "\n",
    "Tidiness : \n",
    "- The img_num column doesn't have really that much benefit in our data so it can be dropped\n",
    "- The underscores in the breed predictions aren't friendly for the human reader\n"
   ]
  },
  {
   "cell_type": "markdown",
   "id": "8bcd16a0",
   "metadata": {},
   "source": [
    "<hr>"
   ]
  },
  {
   "cell_type": "markdown",
   "id": "adc23993",
   "metadata": {},
   "source": [
    "<h4>Programmatic Assessment</h4>"
   ]
  },
  {
   "cell_type": "markdown",
   "id": "516a0d1b",
   "metadata": {},
   "source": [
    "<h5>DataFrame's Basic Info</h5>"
   ]
  },
  {
   "cell_type": "code",
   "execution_count": 93,
   "id": "e50c5c74",
   "metadata": {
    "execution": {
     "iopub.execute_input": "2025-04-27T12:28:33.480490Z",
     "iopub.status.busy": "2025-04-27T12:28:33.479275Z",
     "iopub.status.idle": "2025-04-27T12:28:33.503018Z",
     "shell.execute_reply": "2025-04-27T12:28:33.500998Z",
     "shell.execute_reply.started": "2025-04-27T12:28:33.480428Z"
    }
   },
   "outputs": [
    {
     "name": "stdout",
     "output_type": "stream",
     "text": [
      "<class 'pandas.core.frame.DataFrame'>\n",
      "RangeIndex: 2075 entries, 0 to 2074\n",
      "Data columns (total 12 columns):\n",
      " #   Column    Non-Null Count  Dtype  \n",
      "---  ------    --------------  -----  \n",
      " 0   tweet_id  2075 non-null   int64  \n",
      " 1   jpg_url   2075 non-null   object \n",
      " 2   img_num   2075 non-null   int64  \n",
      " 3   p1        2075 non-null   object \n",
      " 4   p1_conf   2075 non-null   float64\n",
      " 5   p1_dog    2075 non-null   bool   \n",
      " 6   p2        2075 non-null   object \n",
      " 7   p2_conf   2075 non-null   float64\n",
      " 8   p2_dog    2075 non-null   bool   \n",
      " 9   p3        2075 non-null   object \n",
      " 10  p3_conf   2075 non-null   float64\n",
      " 11  p3_dog    2075 non-null   bool   \n",
      "dtypes: bool(3), float64(3), int64(2), object(4)\n",
      "memory usage: 152.1+ KB\n"
     ]
    }
   ],
   "source": [
    "predictions.info()"
   ]
  },
  {
   "cell_type": "markdown",
   "id": "7618a4df",
   "metadata": {},
   "source": [
    "<hr>"
   ]
  },
  {
   "cell_type": "markdown",
   "id": "4bae120b",
   "metadata": {},
   "source": [
    "<h5>Uniqueness</h5>"
   ]
  },
  {
   "cell_type": "code",
   "execution_count": 94,
   "id": "f605b6f2",
   "metadata": {
    "execution": {
     "iopub.execute_input": "2025-04-27T12:28:33.507258Z",
     "iopub.status.busy": "2025-04-27T12:28:33.505794Z",
     "iopub.status.idle": "2025-04-27T12:28:33.522388Z",
     "shell.execute_reply": "2025-04-27T12:28:33.521000Z",
     "shell.execute_reply.started": "2025-04-27T12:28:33.507211Z"
    }
   },
   "outputs": [
    {
     "data": {
      "text/plain": [
       "np.int64(66)"
      ]
     },
     "execution_count": 94,
     "metadata": {},
     "output_type": "execute_result"
    }
   ],
   "source": [
    "# Since the entire data of this dataframe is built on the jpg file of the dog, then we must search for duplicates\n",
    "predictions[\"jpg_url\"].duplicated().sum()"
   ]
  },
  {
   "cell_type": "markdown",
   "id": "05d5234c",
   "metadata": {},
   "source": [
    "66 duplicate images in the data that should be removed"
   ]
  },
  {
   "cell_type": "markdown",
   "id": "0cd6a10c",
   "metadata": {},
   "source": [
    "<hr>"
   ]
  },
  {
   "cell_type": "markdown",
   "id": "401ca5b9",
   "metadata": {},
   "source": [
    "<h5>Completeness</h5>"
   ]
  },
  {
   "cell_type": "code",
   "execution_count": 95,
   "id": "f777b71f",
   "metadata": {
    "execution": {
     "iopub.execute_input": "2025-04-27T12:28:33.526500Z",
     "iopub.status.busy": "2025-04-27T12:28:33.525361Z",
     "iopub.status.idle": "2025-04-27T12:28:33.543413Z",
     "shell.execute_reply": "2025-04-27T12:28:33.541585Z",
     "shell.execute_reply.started": "2025-04-27T12:28:33.526430Z"
    }
   },
   "outputs": [
    {
     "data": {
      "text/plain": [
       "tweet_id    0\n",
       "jpg_url     0\n",
       "img_num     0\n",
       "p1          0\n",
       "p1_conf     0\n",
       "p1_dog      0\n",
       "p2          0\n",
       "p2_conf     0\n",
       "p2_dog      0\n",
       "p3          0\n",
       "p3_conf     0\n",
       "p3_dog      0\n",
       "dtype: int64"
      ]
     },
     "execution_count": 95,
     "metadata": {},
     "output_type": "execute_result"
    }
   ],
   "source": [
    "# Missing Data (NaNs)\n",
    "predictions.isna().sum()"
   ]
  },
  {
   "cell_type": "markdown",
   "id": "9a108e73",
   "metadata": {},
   "source": [
    "The data is complete !"
   ]
  },
  {
   "cell_type": "markdown",
   "id": "fec7590b",
   "metadata": {},
   "source": [
    "<hr>"
   ]
  },
  {
   "cell_type": "markdown",
   "id": "52302659",
   "metadata": {},
   "source": [
    "<h5>Validity</h5>"
   ]
  },
  {
   "cell_type": "code",
   "execution_count": 96,
   "id": "1188a951",
   "metadata": {
    "execution": {
     "iopub.execute_input": "2025-04-27T12:28:33.546819Z",
     "iopub.status.busy": "2025-04-27T12:28:33.545527Z",
     "iopub.status.idle": "2025-04-27T12:28:33.572181Z",
     "shell.execute_reply": "2025-04-27T12:28:33.569529Z",
     "shell.execute_reply.started": "2025-04-27T12:28:33.546697Z"
    }
   },
   "outputs": [
    {
     "name": "stdout",
     "output_type": "stream",
     "text": [
      "p1_conf : [0.465074  0.506826  0.596461  ... 0.716012  0.323581  0.0970486]\n",
      "\n",
      "\n",
      "p1_dog : [ True False]\n",
      "\n",
      "\n",
      "p2 : ['collie' 'miniature_pinscher' 'malinois' 'redbone' 'Rottweiler'\n",
      " 'English_springer' 'mud_turtle' 'Tibetan_mastiff' 'shopping_basket'\n",
      " 'komondor' 'Yorkshire_terrier' 'English_foxhound' 'bull_mastiff'\n",
      " 'German_shepherd' 'Shih-Tzu' 'Newfoundland' 'cock' 'desk' 'toy_terrier'\n",
      " 'toy_poodle' 'otter' 'Chesapeake_Bay_retriever' 'Siberian_husky' 'skunk'\n",
      " 'Afghan_hound' 'bloodhound' 'barracouta' 'papillon' 'cocker_spaniel'\n",
      " 'chow' 'Irish_terrier' 'chain_saw' 'beagle' 'giant_schnauzer'\n",
      " 'Labrador_retriever' 'Pembroke' 'Chihuahua' 'Weimaraner' 'slug'\n",
      " 'Brittany_spaniel' 'standard_schnauzer' 'teddy' 'armadillo'\n",
      " 'African_hunting_dog' 'vizsla' 'doormat' 'pug' 'Italian_greyhound'\n",
      " 'Samoyed' 'Pomeranian' 'miniature_poodle' 'Lakeland_terrier'\n",
      " 'Irish_setter' 'swab' 'malamute' 'bath_towel' 'Border_collie' 'Leonberg'\n",
      " 'drake' 'French_bulldog' 'ice_bear' 'Christmas_stocking'\n",
      " 'golden_retriever' 'standard_poodle' 'dhole' 'kuvasz' 'Cardigan'\n",
      " 'silky_terrier' 'spotlight' 'dishwasher' 'bighorn' 'tow_truck'\n",
      " 'hummingbird' 'English_setter' 'prayer_rug' 'frilled_lizard' 'Pekinese'\n",
      " 'ox' 'boxer' 'hog' 'guinea_pig' 'hen' 'wallaby' 'cowboy_boot' 'cornet'\n",
      " 'minivan' 'paddle' 'basset' 'hamper' 'Bedlington_terrier'\n",
      " 'Shetland_sheepdog' 'bow' 'Lhasa' 'pelican' 'toaster' 'groenendael'\n",
      " 'Australian_terrier' 'llama' 'knee_pad' 'pillow' 'Ibizan_hound'\n",
      " 'Old_English_sheepdog' 'Welsh_springer_spaniel' 'coral_reef' 'bison'\n",
      " 'waffle_iron' 'tabby' 'bib' 'police_van' 'Eskimo_dog' 'breastplate'\n",
      " 'German_short-haired_pointer' 'Norfolk_terrier' 'Blenheim_spaniel'\n",
      " 'pickup' 'miniature_schnauzer' 'lampshade' 'Tibetan_terrier'\n",
      " 'Siamese_cat' 'borzoi' 'studio_couch' 'toilet_seat' 'hamster' 'seat_belt'\n",
      " 'keeshond' 'koala' 'hair_spray' 'Saint_Bernard' 'tray'\n",
      " 'American_Staffordshire_terrier' 'birdhouse' 'terrapin'\n",
      " 'Staffordshire_bullterrier' 'briard' 'West_Highland_white_terrier'\n",
      " 'spotted_salamander' 'tennis_ball' 'porcupine' 'cardigan' 'corn'\n",
      " 'basenji' 'otterhound' 'European_gallinule' 'indri' 'tailed_frog'\n",
      " 'beach_wagon' 'siamang' 'orange' 'home_theater' 'cairn' 'hare'\n",
      " 'Norwegian_elkhound' 'Brabancon_griffon' 'American_black_bear'\n",
      " 'sulphur_butterfly' 'Sealyham_terrier' 'Walker_hound' 'tarantula'\n",
      " 'Persian_cat' 'coral_fungus' 'accordion' 'kelpie' 'Great_Pyrenees'\n",
      " 'wood_rabbit' 'black-and-tan_coonhound' 'sunglasses' 'plow' 'whippet'\n",
      " 'rain_barrel' 'bathtub' 'tiger' 'snail' 'tick' 'wire-haired_fox_terrier'\n",
      " 'water_bottle' 'wig' 'platypus' 'Irish_wolfhound' 'ram' 'gorilla'\n",
      " 'entertainment_center' 'toucan' 'mask' 'shopping_cart' 'Sussex_spaniel'\n",
      " 'crate' 'grey_whale' 'badger' 'Airedale' 'Arabian_camel' 'cockroach'\n",
      " 'lifeboat' 'rotisserie' 'goldfish' 'stingray' 'warthog' 'bobsled'\n",
      " 'rhinoceros_beetle' 'beaver' 'brown_bear' 'Maltese_dog' 'weasel' 'quill'\n",
      " 'Rhodesian_ridgeback' 'Arctic_fox' 'ashcan' 'bow_tie'\n",
      " 'soft-coated_wheaten_terrier' 'schipperke' 'bearskin'\n",
      " 'Kerry_blue_terrier' 'ice_lolly' 'American_alligator' 'mosquito_net'\n",
      " 'sea_lion' 'Boston_bull' 'nail' 'black-footed_ferret' 'promontory'\n",
      " 'sarong' 'Doberman' 'space_heater' 'Great_Dane' 'mailbox' 'Saluki'\n",
      " 'bakery' 'sandal' 'leafhopper' 'barrel' 'water_buffalo' 'polecat'\n",
      " 'macaque' 'Japanese_spaniel' 'folding_chair' 'trench_coat' 'Angora'\n",
      " 'junco' 'crib' 'dalmatian' 'snowmobile' 'flat-coated_retriever'\n",
      " 'streetcar' 'window_screen' 'bannister' 'hair_slide' 'meerkat' 'cannon'\n",
      " 'jaguar' 'Border_terrier' 'Greater_Swiss_Mountain_dog' 'hay' 'apron'\n",
      " 'cloak' 'radiator' 'muzzle' 'feather_boa' 'rifle' 'chimpanzee'\n",
      " 'loggerhead' 'torch' 'Mexican_hairless' 'spindle' 'triceratops'\n",
      " 'Appenzeller' 'stove' 'dingo' 'oscilloscope' 'common_newt' 'hotdog'\n",
      " 'medicine_chest' 'quail' 'horse_cart' 'four-poster' 'pier' 'red_fox'\n",
      " 'affenpinscher' 'assault_rifle' 'mashed_potato' 'moped' 'hyena'\n",
      " 'seashore' 'tub' 'sports_car' 'swing' 'mink' 'bluetick' 'neck_brace'\n",
      " 'grey_fox' 'mongoose' 'fur_coat' 'Scotch_terrier' 'spatula' 'paper_towel'\n",
      " 'shoji' 'toyshop' 'banded_gecko' 'peacock' 'crossword_puzzle' 'tree_frog'\n",
      " 'wombat' 'turnstile' 'sleeping_bag' 'quilt' 'Gila_monster' 'giant_panda'\n",
      " 'Dandie_Dinmont' 'handkerchief' 'sombrero' 'Indian_elephant' 'coffee_mug'\n",
      " 'gibbon' 'carton' 'screw' 'minibus' 'hatchet' 'window_shade' 'lawn_mower'\n",
      " 'washbasin' 'sock' 'prison' 'patio' 'china_cabinet' 'chain_mail'\n",
      " 'breakwater' 'computer_keyboard' 'goose' 'lakeside' 'solar_dish'\n",
      " 'table_lamp' 'Windsor_tie' 'punching_bag' 'comic_book' 'sunglass'\n",
      " 'great_white_shark' 'timber_wolf' 'fountain' 'dugong' 'marmot'\n",
      " 'barbershop' 'shovel' 'curly-coated_retriever' 'lesser_panda' 'monitor'\n",
      " 'crutch' 'cash_machine' 'printer' 'volcano' 'wallet' 'laptop'\n",
      " 'bathing_cap' 'confectionery' 'dam' 'killer_whale' 'canoe'\n",
      " 'Madagascar_cat' 'jean' 'boathouse' 'cliff' 'maillot' 'iPod'\n",
      " 'hand-held_computer' 'black_widow' 'Norwich_terrier' 'necklace'\n",
      " 'dining_table' 'binoculars' 'cradle' 'sea_urchin' 'cougar' 'EntleBucher'\n",
      " 'basketball' 'lighter' 'saltshaker' 'harvester' 'television' 'envelope'\n",
      " 'house_finch' 'web_site' 'palace' 'shower_curtain' 'cab' 'snorkel'\n",
      " 'jigsaw_puzzle' 'sweatshirt' 'white_wolf' 'sliding_door' 'academic_gown'\n",
      " 'cowboy_hat' 'can_opener' 'cup' 'rule' 'soccer_ball' 'bucket' 'racket'\n",
      " 'menu' 'purse' 'Bernese_mountain_dog' 'dumbbell' 'projectile' 'dock'\n",
      " 'oxygen_mask' 'sandbar' 'umbrella' 'shower_cap' 'bagel']\n",
      "\n",
      "\n",
      "p2_conf : [0.156665  0.0741917 0.138584  ... 0.078253  0.0906465 0.0858511]\n",
      "\n",
      "\n",
      "p2_dog : [ True False]\n",
      "\n",
      "\n",
      "p3 : ['Shetland_sheepdog' 'Rhodesian_ridgeback' 'bloodhound'\n",
      " 'miniature_pinscher' 'Doberman' 'Greater_Swiss_Mountain_dog' 'terrapin'\n",
      " 'fur_coat' 'golden_retriever' 'soft-coated_wheaten_terrier'\n",
      " 'Labrador_retriever' 'Pekinese' 'Ibizan_hound' 'French_bulldog'\n",
      " 'malinois' 'Dandie_Dinmont' 'borzoi' 'partridge' 'bookcase' 'basenji'\n",
      " 'miniature_poodle' 'great_grey_owl' 'groenendael' 'Eskimo_dog' 'hamster'\n",
      " 'briard' 'papillon' 'flat-coated_retriever' 'gar' 'Chihuahua' 'Shih-Tzu'\n",
      " 'Pomeranian' 'dingo' 'power_drill' 'Saluki' 'Great_Pyrenees'\n",
      " 'West_Highland_white_terrier' 'collie' 'toy_poodle' 'vizsla' 'acorn'\n",
      " 'giant_schnauzer' 'teddy' 'common_iguana' 'wig' 'water_buffalo' 'coyote'\n",
      " 'seat_belt' 'kelpie' 'space_heater' 'Brabancon_griffon' 'standard_poodle'\n",
      " 'beagle' 'Irish_water_spaniel' 'bluetick' 'Weimaraner'\n",
      " 'Chesapeake_Bay_retriever' 'toilet_tissue' 'black-and-tan_coonhound'\n",
      " 'kuvasz' 'Christmas_stocking' 'badger' 'hen' 'Staffordshire_bullterrier'\n",
      " 'Yorkshire_terrier' 'Lakeland_terrier' 'weasel' 'ski_mask'\n",
      " 'cocker_spaniel' 'Australian_terrier' 'lampshade' 'oscilloscope' 'ram'\n",
      " 'jeep' 'ice_bear' 'African_grey' 'Great_Dane' 'curly-coated_retriever'\n",
      " 'doormat' 'African_chameleon' 'schipperke' 'muzzle' 'triceratops'\n",
      " 'Newfoundland' 'Band_Aid' 'wood_rabbit' 'white_wolf' 'giant_panda'\n",
      " 'Welsh_springer_spaniel' 'French_horn' 'toy_terrier' 'Pembroke'\n",
      " 'Cardigan' 'bassinet' 'pug' 'Afghan_hound'\n",
      " 'American_Staffordshire_terrier' 'whippet' 'English_setter' 'panpipe'\n",
      " 'crane' 'mouse' 'titi' 'Angora' 'Boston_bull' 'silky_terrier'\n",
      " 'Japanese_spaniel' 'sandbar' 'balance_beam' 'black-footed_ferret'\n",
      " 'miniature_schnauzer' 'Blenheim_spaniel' 'bathtub' 'Saint_Bernard'\n",
      " 'redbone' 'goldfish' 'Norfolk_terrier' 'llama' 'koala' 'pillow' 'jersey'\n",
      " 'chow' 'minibus' 'malamute' 'bulletproof_vest' 'beach_wagon' 'cairn'\n",
      " 'plunger' 'paper_towel' 'wing' 'English_foxhound' 'Brittany_spaniel'\n",
      " 'bolete' 'ashcan' 'box_turtle' 'guinea_pig' 'bison' 'bull_mastiff'\n",
      " 'racket' 'cardoon' 'Tibetan_mastiff' 'window_screen' 'Irish_terrier'\n",
      " 'agama' 'common_newt' 'car_wheel' 'gorilla' 'bagel' 'clumber'\n",
      " 'Egyptian_cat' 'television' 'boxer' 'brown_bear' 'leafhopper'\n",
      " 'German_shepherd' 'Border_collie' 'menu' 'wolf_spider' 'bathing_cap'\n",
      " 'stinkhorn' 'drumstick' 'mask' 'Scottish_deerhound' 'shower_curtain'\n",
      " 'Appenzeller' 'plastic_bag' 'swimming_trunks' 'prairie_chicken'\n",
      " 'red_wolf' 'Maltese_dog' 'snail' 'gibbon' 'Gordon_setter' 'black_swan'\n",
      " 'beacon' 'wool' 'cowboy_boot' 'Rottweiler' 'poncho' 'swing' 'Arctic_fox'\n",
      " 'bib' 'Italian_greyhound' 'steam_locomotive' 'fountain' 'chickadee'\n",
      " 'abaya' 'Border_terrier' 'bubble' 'chimpanzee' 'hammerhead'\n",
      " 'Norwegian_elkhound' 'Norwich_terrier' 'Airedale' 'Siamese_cat'\n",
      " 'sea_cucumber' 'seashore' 'nipple' 'moped' 'Arabian_camel' 'crayfish'\n",
      " 'wallaby' 'wire-haired_fox_terrier' 'toilet_seat' 'Old_English_sheepdog'\n",
      " 'pajama' 'Walker_hound' 'shovel' 'bucket' 'Sealyham_terrier'\n",
      " 'Windsor_tie' 'Siberian_husky' 'quill' 'Persian_cat'\n",
      " 'European_fire_salamander' 'three-toed_sloth' 'swab' 'echidna'\n",
      " 'tennis_ball' 'Lhasa' 'coral_reef' 'keeshond' 'mink' 'screw' 'basset'\n",
      " 'wreck' 'kimono' 'German_short-haired_pointer' 'joystick' 'microwave'\n",
      " 'Tibetan_terrier' 'Irish_wolfhound' 'Samoyed' 'loggerhead' 'French_loaf'\n",
      " 'Irish_setter' 'komondor' 'purse' 'greenhouse' 'broccoli'\n",
      " 'shopping_basket' 'macaque' 'squirrel_monkey' 'green_lizard'\n",
      " 'parallel_bars' 'cloak' 'chest' 'sundial' 'mosquito_net' 'bath_towel'\n",
      " 'cuirass' 'zebra' 'lumbermill' 'wallet' 'feather_boa' 'English_springer'\n",
      " 'electric_fan' 'hippopotamus' 'ox' 'quilt' 'assault_rifle' 'axolotl'\n",
      " 'pot' 'toyshop' 'pizza' 'scuba_diver' 'beaver' 'Mexican_hairless' 'cliff'\n",
      " 'loupe' 'wild_boar' 'jaguar' 'hog' 'polecat' 'lion' 'EntleBucher'\n",
      " 'hand-held_computer' 'washbasin' 'whiptail' 'rock_crab' 'hare' 'shoji'\n",
      " 'sombrero' 'bell_cote' 'rifle' 'goose' 'pickup' 'sunglasses' 'limousine'\n",
      " 'bow_tie' 'pretzel' 'marmot' 'ice_lolly' 'vacuum' 'dalmatian' 'prison'\n",
      " 'shower_cap' 'sliding_door' 'dugong' 'otterhound' 'eel' 'binder'\n",
      " 'bullfrog' 'soap_dispenser' 'sea_lion' 'carton' 'brass' 'mitten'\n",
      " 'golfcart' 'cougar' 'warthog' 'umbrella' 'neck_brace' 'cup' 'book_jacket'\n",
      " 'padlock' 'cab' 'chime' 'Leonberg' 'viaduct' 'American_black_bear' 'tub'\n",
      " 'hand_blower' 'king_penguin' 'rotisserie' 'bannister' 'passenger_car'\n",
      " 'mongoose' 'dhole' 'consomme' 'valley' 'park_bench' 'mushroom' 'barrow'\n",
      " 'parachute' 'desktop_computer' 'snorkel' 'wok' 'affenpinscher'\n",
      " 'space_shuttle' 'rain_barrel' 'ballplayer' 'mountain_tent' 'oxcart'\n",
      " 'buckeye' 'sunglass' 'croquet_ball' 'refrigerator' 'snow_leopard'\n",
      " 'tripod' 'rapeseed' 'tiger_cat' 'Bernese_mountain_dog' 'notebook'\n",
      " 'maraca' 'pool_table' 'lakeside' 'theater_curtain' 'pier' 'cheetah'\n",
      " 'mousetrap' 'pop_bottle' 'soccer_ball' 'wombat' 'rhinoceros_beetle'\n",
      " 'paddlewheel' 'paintbrush' 'maze' 'hatchet' 'chain' 'jigsaw_puzzle'\n",
      " 'switch' 'Kerry_blue_terrier' 'barbell' 'convertible'\n",
      " 'entertainment_center' 'file' 'guillotine' 'nail' 'standard_schnauzer'\n",
      " 'bow' 'grocery_store' 'boathouse' 'conch' 'Bouvier_des_Flandres'\n",
      " 'grey_fox' 'shopping_cart' 'meerkat' 'grand_piano' 'envelope' 'screen'\n",
      " 'coffeepot' 'printer' 'otter' 'restaurant' 'bonnet' 'crossword_puzzle'\n",
      " 'go-kart' 'Sussex_spaniel' 'orangutan' 'canoe' 'barber_chair'\n",
      " 'traffic_light' 'ibex' 'can_opener' 'Indian_elephant' 'spatula' 'banana']\n",
      "\n",
      "\n",
      "p3_conf : [0.0614285 0.07201   0.116197  ... 0.0313789 0.0689569 0.07611  ]\n",
      "\n",
      "\n",
      "p3_dog : [ True False]\n",
      "\n",
      "\n"
     ]
    }
   ],
   "source": [
    "# We will call the function which we have defined earlier and pass to it the columns names we want to check\n",
    "# Since the first prediction column is the 4th index then we can start the slice from it\n",
    "columns = predictions.columns[4:]\n",
    "get_unique(predictions, columns)"
   ]
  },
  {
   "cell_type": "markdown",
   "id": "4811af17",
   "metadata": {},
   "source": [
    "Okay so here are my conclusions for the validity of this dataframe:\n",
    "- Predictions condifdence are all float numbers and valid\n",
    "- Some predictions don't make any sense at all but they can be ignored since the p_dog will then be *False*"
   ]
  },
  {
   "cell_type": "markdown",
   "id": "e96a31b6",
   "metadata": {},
   "source": [
    "<hr>"
   ]
  },
  {
   "cell_type": "markdown",
   "id": "503dd204",
   "metadata": {},
   "source": [
    "<h5>Data Types</h5>"
   ]
  },
  {
   "cell_type": "code",
   "execution_count": 97,
   "id": "245930bc",
   "metadata": {
    "execution": {
     "iopub.execute_input": "2025-04-27T12:28:33.578224Z",
     "iopub.status.busy": "2025-04-27T12:28:33.576996Z",
     "iopub.status.idle": "2025-04-27T12:28:33.594241Z",
     "shell.execute_reply": "2025-04-27T12:28:33.592422Z",
     "shell.execute_reply.started": "2025-04-27T12:28:33.578152Z"
    }
   },
   "outputs": [
    {
     "data": {
      "text/plain": [
       "tweet_id      int64\n",
       "jpg_url      object\n",
       "img_num       int64\n",
       "p1           object\n",
       "p1_conf     float64\n",
       "p1_dog         bool\n",
       "p2           object\n",
       "p2_conf     float64\n",
       "p2_dog         bool\n",
       "p3           object\n",
       "p3_conf     float64\n",
       "p3_dog         bool\n",
       "dtype: object"
      ]
     },
     "execution_count": 97,
     "metadata": {},
     "output_type": "execute_result"
    }
   ],
   "source": [
    "predictions.dtypes"
   ]
  },
  {
   "cell_type": "markdown",
   "id": "4a10e044",
   "metadata": {},
   "source": [
    "Okay, so all columns have the matching data type except for the **tweet_id** which must be transformed into a string"
   ]
  },
  {
   "cell_type": "markdown",
   "id": "95862deb",
   "metadata": {},
   "source": [
    "<hr>"
   ]
  },
  {
   "cell_type": "markdown",
   "id": "f91a10fa",
   "metadata": {},
   "source": [
    "## 3 - Tweets Likes & Retweets"
   ]
  },
  {
   "cell_type": "markdown",
   "id": "66af2ad6",
   "metadata": {},
   "source": [
    "<h4>Visual Assessment</h4>"
   ]
  },
  {
   "cell_type": "code",
   "execution_count": 98,
   "id": "bdc3f751",
   "metadata": {
    "execution": {
     "iopub.execute_input": "2025-04-27T12:28:33.598628Z",
     "iopub.status.busy": "2025-04-27T12:28:33.597028Z",
     "iopub.status.idle": "2025-04-27T12:28:33.619481Z",
     "shell.execute_reply": "2025-04-27T12:28:33.617774Z",
     "shell.execute_reply.started": "2025-04-27T12:28:33.598528Z"
    }
   },
   "outputs": [
    {
     "data": {
      "application/vnd.microsoft.datawrangler.viewer.v0+json": {
       "columns": [
        {
         "name": "index",
         "rawType": "int64",
         "type": "integer"
        },
        {
         "name": "id",
         "rawType": "int64",
         "type": "integer"
        },
        {
         "name": "favorite_count",
         "rawType": "int64",
         "type": "integer"
        },
        {
         "name": "retweet_count",
         "rawType": "int64",
         "type": "integer"
        }
       ],
       "conversionMethod": "pd.DataFrame",
       "ref": "e32e9153-971a-46fe-a317-0c941e406c43",
       "rows": [
        [
         "0",
         "892420643555336193",
         "39467",
         "8853"
        ],
        [
         "1",
         "892177421306343426",
         "33819",
         "6514"
        ],
        [
         "2",
         "891815181378084864",
         "25461",
         "4328"
        ],
        [
         "3",
         "891689557279858688",
         "42908",
         "8964"
        ],
        [
         "4",
         "891327558926688256",
         "41048",
         "9774"
        ],
        [
         "5",
         "891087950875897856",
         "20562",
         "3261"
        ],
        [
         "6",
         "890971913173991426",
         "12041",
         "2158"
        ],
        [
         "7",
         "890729181411237888",
         "56848",
         "16716"
        ],
        [
         "8",
         "890609185150312448",
         "28226",
         "4429"
        ],
        [
         "9",
         "890240255349198849",
         "32467",
         "7711"
        ],
        [
         "10",
         "890006608113172480",
         "31166",
         "7624"
        ],
        [
         "11",
         "889880896479866881",
         "28268",
         "5156"
        ],
        [
         "12",
         "889665388333682689",
         "38818",
         "8538"
        ],
        [
         "13",
         "889638837579907072",
         "27672",
         "4735"
        ],
        [
         "14",
         "889531135344209921",
         "15359",
         "2321"
        ],
        [
         "15",
         "889278841981685760",
         "25652",
         "5637"
        ],
        [
         "16",
         "888917238123831296",
         "29611",
         "4709"
        ],
        [
         "17",
         "888804989199671297",
         "26080",
         "4559"
        ],
        [
         "18",
         "888554962724278272",
         "20290",
         "3732"
        ],
        [
         "19",
         "888078434458587136",
         "22201",
         "3653"
        ],
        [
         "20",
         "887705289381826560",
         "30779",
         "5609"
        ],
        [
         "21",
         "887517139158093824",
         "46959",
         "12082"
        ],
        [
         "22",
         "887473957103951883",
         "69871",
         "18781"
        ],
        [
         "23",
         "887343217045368832",
         "34222",
         "10737"
        ],
        [
         "24",
         "887101392804085760",
         "31061",
         "6167"
        ],
        [
         "25",
         "886983233522544640",
         "35859",
         "8084"
        ],
        [
         "26",
         "886736880519319552",
         "12306",
         "3443"
        ],
        [
         "27",
         "886680336477933568",
         "22798",
         "4610"
        ],
        [
         "28",
         "886366144734445568",
         "21524",
         "3316"
        ],
        [
         "29",
         "886267009285017600",
         "117",
         "4"
        ],
        [
         "30",
         "886258384151887873",
         "28469",
         "6523"
        ],
        [
         "31",
         "886054160059072513",
         "0",
         "108"
        ],
        [
         "32",
         "885984800019947520",
         "33382",
         "7097"
        ],
        [
         "33",
         "885528943205470208",
         "36689",
         "6683"
        ],
        [
         "34",
         "885518971528720385",
         "20788",
         "3899"
        ],
        [
         "35",
         "885311592912609280",
         "0",
         "19297"
        ],
        [
         "36",
         "885167619883638784",
         "22367",
         "4556"
        ],
        [
         "37",
         "884925521741709313",
         "68152",
         "16439"
        ],
        [
         "38",
         "884876753390489601",
         "28514",
         "6096"
        ],
        [
         "39",
         "884562892145688576",
         "24765",
         "5100"
        ],
        [
         "40",
         "884441805382717440",
         "27478",
         "5856"
        ],
        [
         "41",
         "884247878851493888",
         "74423",
         "21298"
        ],
        [
         "42",
         "884162670584377345",
         "20771",
         "3128"
        ],
        [
         "43",
         "883838122936631299",
         "22349",
         "3586"
        ],
        [
         "44",
         "883482846933004288",
         "46860",
         "10407"
        ],
        [
         "45",
         "883360690899218434",
         "22986",
         "3825"
        ],
        [
         "46",
         "883117836046086144",
         "37914",
         "6949"
        ],
        [
         "47",
         "882992080364220416",
         "24445",
         "4122"
        ],
        [
         "48",
         "882762694511734784",
         "28903",
         "5134"
        ],
        [
         "49",
         "882627270321602560",
         "28382",
         "6342"
        ]
       ],
       "shape": {
        "columns": 3,
        "rows": 2354
       }
      },
      "text/html": [
       "<div>\n",
       "<style scoped>\n",
       "    .dataframe tbody tr th:only-of-type {\n",
       "        vertical-align: middle;\n",
       "    }\n",
       "\n",
       "    .dataframe tbody tr th {\n",
       "        vertical-align: top;\n",
       "    }\n",
       "\n",
       "    .dataframe thead th {\n",
       "        text-align: right;\n",
       "    }\n",
       "</style>\n",
       "<table border=\"1\" class=\"dataframe\">\n",
       "  <thead>\n",
       "    <tr style=\"text-align: right;\">\n",
       "      <th></th>\n",
       "      <th>id</th>\n",
       "      <th>favorite_count</th>\n",
       "      <th>retweet_count</th>\n",
       "    </tr>\n",
       "  </thead>\n",
       "  <tbody>\n",
       "    <tr>\n",
       "      <th>0</th>\n",
       "      <td>892420643555336193</td>\n",
       "      <td>39467</td>\n",
       "      <td>8853</td>\n",
       "    </tr>\n",
       "    <tr>\n",
       "      <th>1</th>\n",
       "      <td>892177421306343426</td>\n",
       "      <td>33819</td>\n",
       "      <td>6514</td>\n",
       "    </tr>\n",
       "    <tr>\n",
       "      <th>2</th>\n",
       "      <td>891815181378084864</td>\n",
       "      <td>25461</td>\n",
       "      <td>4328</td>\n",
       "    </tr>\n",
       "    <tr>\n",
       "      <th>3</th>\n",
       "      <td>891689557279858688</td>\n",
       "      <td>42908</td>\n",
       "      <td>8964</td>\n",
       "    </tr>\n",
       "    <tr>\n",
       "      <th>4</th>\n",
       "      <td>891327558926688256</td>\n",
       "      <td>41048</td>\n",
       "      <td>9774</td>\n",
       "    </tr>\n",
       "    <tr>\n",
       "      <th>...</th>\n",
       "      <td>...</td>\n",
       "      <td>...</td>\n",
       "      <td>...</td>\n",
       "    </tr>\n",
       "    <tr>\n",
       "      <th>2349</th>\n",
       "      <td>666049248165822465</td>\n",
       "      <td>111</td>\n",
       "      <td>41</td>\n",
       "    </tr>\n",
       "    <tr>\n",
       "      <th>2350</th>\n",
       "      <td>666044226329800704</td>\n",
       "      <td>311</td>\n",
       "      <td>147</td>\n",
       "    </tr>\n",
       "    <tr>\n",
       "      <th>2351</th>\n",
       "      <td>666033412701032449</td>\n",
       "      <td>128</td>\n",
       "      <td>47</td>\n",
       "    </tr>\n",
       "    <tr>\n",
       "      <th>2352</th>\n",
       "      <td>666029285002620928</td>\n",
       "      <td>132</td>\n",
       "      <td>48</td>\n",
       "    </tr>\n",
       "    <tr>\n",
       "      <th>2353</th>\n",
       "      <td>666020888022790149</td>\n",
       "      <td>2535</td>\n",
       "      <td>532</td>\n",
       "    </tr>\n",
       "  </tbody>\n",
       "</table>\n",
       "<p>2354 rows × 3 columns</p>\n",
       "</div>"
      ],
      "text/plain": [
       "                      id  favorite_count  retweet_count\n",
       "0     892420643555336193           39467           8853\n",
       "1     892177421306343426           33819           6514\n",
       "2     891815181378084864           25461           4328\n",
       "3     891689557279858688           42908           8964\n",
       "4     891327558926688256           41048           9774\n",
       "...                  ...             ...            ...\n",
       "2349  666049248165822465             111             41\n",
       "2350  666044226329800704             311            147\n",
       "2351  666033412701032449             128             47\n",
       "2352  666029285002620928             132             48\n",
       "2353  666020888022790149            2535            532\n",
       "\n",
       "[2354 rows x 3 columns]"
      ]
     },
     "execution_count": 98,
     "metadata": {},
     "output_type": "execute_result"
    }
   ],
   "source": [
    "tweet_metrics"
   ]
  },
  {
   "cell_type": "markdown",
   "id": "c1708b99",
   "metadata": {},
   "source": [
    "I also loaded this data in google sheets and here is what I found:\n",
    "- Errorneous datatype for the tweet_id as it's represented as 8.34574E + 17 in a row\n",
    "- there are many missing values represented as zeros in the data which will be confirmed in programmatic assessment"
   ]
  },
  {
   "cell_type": "markdown",
   "id": "2de97588",
   "metadata": {},
   "source": [
    "<hr>"
   ]
  },
  {
   "cell_type": "markdown",
   "id": "ec975f47",
   "metadata": {},
   "source": [
    "<h4>Programmatic Assessment</h4>"
   ]
  },
  {
   "cell_type": "markdown",
   "id": "76fc89b5",
   "metadata": {},
   "source": [
    "<h5>DataFrame's Basic Info</h5>"
   ]
  },
  {
   "cell_type": "code",
   "execution_count": 99,
   "id": "71c3f063",
   "metadata": {
    "execution": {
     "iopub.execute_input": "2025-04-27T12:28:33.623659Z",
     "iopub.status.busy": "2025-04-27T12:28:33.621645Z",
     "iopub.status.idle": "2025-04-27T12:28:33.646259Z",
     "shell.execute_reply": "2025-04-27T12:28:33.644123Z",
     "shell.execute_reply.started": "2025-04-27T12:28:33.622531Z"
    }
   },
   "outputs": [
    {
     "name": "stdout",
     "output_type": "stream",
     "text": [
      "<class 'pandas.core.frame.DataFrame'>\n",
      "RangeIndex: 2354 entries, 0 to 2353\n",
      "Data columns (total 3 columns):\n",
      " #   Column          Non-Null Count  Dtype\n",
      "---  ------          --------------  -----\n",
      " 0   id              2354 non-null   int64\n",
      " 1   favorite_count  2354 non-null   int64\n",
      " 2   retweet_count   2354 non-null   int64\n",
      "dtypes: int64(3)\n",
      "memory usage: 55.3 KB\n"
     ]
    }
   ],
   "source": [
    "tweet_metrics.info()"
   ]
  },
  {
   "cell_type": "markdown",
   "id": "5ef4da17",
   "metadata": {},
   "source": [
    "<hr>"
   ]
  },
  {
   "cell_type": "markdown",
   "id": "0fb2dfe7",
   "metadata": {},
   "source": [
    "<h5>Uniqueness</h5>"
   ]
  },
  {
   "cell_type": "code",
   "execution_count": 100,
   "id": "41b4af81",
   "metadata": {
    "execution": {
     "iopub.execute_input": "2025-04-27T12:28:33.651529Z",
     "iopub.status.busy": "2025-04-27T12:28:33.650423Z",
     "iopub.status.idle": "2025-04-27T12:28:33.666918Z",
     "shell.execute_reply": "2025-04-27T12:28:33.663867Z",
     "shell.execute_reply.started": "2025-04-27T12:28:33.651458Z"
    }
   },
   "outputs": [
    {
     "data": {
      "text/plain": [
       "np.int64(0)"
      ]
     },
     "execution_count": 100,
     "metadata": {},
     "output_type": "execute_result"
    }
   ],
   "source": [
    "# Since the Tweet_Id is the unique Identifier, then we will use it for checking\n",
    "tweet_metrics[\"id\"].duplicated().sum()"
   ]
  },
  {
   "cell_type": "markdown",
   "id": "4062f6d6",
   "metadata": {},
   "source": [
    "No Duplicates!"
   ]
  },
  {
   "cell_type": "markdown",
   "id": "d6b53cd3",
   "metadata": {},
   "source": [
    "<hr>"
   ]
  },
  {
   "cell_type": "markdown",
   "id": "6e974989",
   "metadata": {},
   "source": [
    "<h5>Validity</h5>"
   ]
  },
  {
   "cell_type": "code",
   "execution_count": 101,
   "id": "4070eee1",
   "metadata": {
    "execution": {
     "iopub.execute_input": "2025-04-27T12:28:33.671582Z",
     "iopub.status.busy": "2025-04-27T12:28:33.669149Z",
     "iopub.status.idle": "2025-04-27T12:28:33.709833Z",
     "shell.execute_reply": "2025-04-27T12:28:33.707144Z",
     "shell.execute_reply.started": "2025-04-27T12:28:33.670712Z"
    }
   },
   "outputs": [
    {
     "data": {
      "application/vnd.microsoft.datawrangler.viewer.v0+json": {
       "columns": [
        {
         "name": "index",
         "rawType": "object",
         "type": "string"
        },
        {
         "name": "favorite_count",
         "rawType": "float64",
         "type": "float"
        },
        {
         "name": "retweet_count",
         "rawType": "float64",
         "type": "float"
        }
       ],
       "conversionMethod": "pd.DataFrame",
       "ref": "b9df19dd-ba00-429d-9771-4df8d3243da4",
       "rows": [
        [
         "count",
         "2354.0",
         "2354.0"
        ],
        [
         "mean",
         "8080.968564146135",
         "3164.7973661852166"
        ],
        [
         "std",
         "11814.771334127436",
         "5284.770363535315"
        ],
        [
         "min",
         "0.0",
         "0.0"
        ],
        [
         "25%",
         "1415.0",
         "624.5"
        ],
        [
         "50%",
         "3603.5",
         "1473.5"
        ],
        [
         "75%",
         "10122.25",
         "3652.0"
        ],
        [
         "max",
         "132810.0",
         "79515.0"
        ]
       ],
       "shape": {
        "columns": 2,
        "rows": 8
       }
      },
      "text/html": [
       "<div>\n",
       "<style scoped>\n",
       "    .dataframe tbody tr th:only-of-type {\n",
       "        vertical-align: middle;\n",
       "    }\n",
       "\n",
       "    .dataframe tbody tr th {\n",
       "        vertical-align: top;\n",
       "    }\n",
       "\n",
       "    .dataframe thead th {\n",
       "        text-align: right;\n",
       "    }\n",
       "</style>\n",
       "<table border=\"1\" class=\"dataframe\">\n",
       "  <thead>\n",
       "    <tr style=\"text-align: right;\">\n",
       "      <th></th>\n",
       "      <th>favorite_count</th>\n",
       "      <th>retweet_count</th>\n",
       "    </tr>\n",
       "  </thead>\n",
       "  <tbody>\n",
       "    <tr>\n",
       "      <th>count</th>\n",
       "      <td>2354.000000</td>\n",
       "      <td>2354.000000</td>\n",
       "    </tr>\n",
       "    <tr>\n",
       "      <th>mean</th>\n",
       "      <td>8080.968564</td>\n",
       "      <td>3164.797366</td>\n",
       "    </tr>\n",
       "    <tr>\n",
       "      <th>std</th>\n",
       "      <td>11814.771334</td>\n",
       "      <td>5284.770364</td>\n",
       "    </tr>\n",
       "    <tr>\n",
       "      <th>min</th>\n",
       "      <td>0.000000</td>\n",
       "      <td>0.000000</td>\n",
       "    </tr>\n",
       "    <tr>\n",
       "      <th>25%</th>\n",
       "      <td>1415.000000</td>\n",
       "      <td>624.500000</td>\n",
       "    </tr>\n",
       "    <tr>\n",
       "      <th>50%</th>\n",
       "      <td>3603.500000</td>\n",
       "      <td>1473.500000</td>\n",
       "    </tr>\n",
       "    <tr>\n",
       "      <th>75%</th>\n",
       "      <td>10122.250000</td>\n",
       "      <td>3652.000000</td>\n",
       "    </tr>\n",
       "    <tr>\n",
       "      <th>max</th>\n",
       "      <td>132810.000000</td>\n",
       "      <td>79515.000000</td>\n",
       "    </tr>\n",
       "  </tbody>\n",
       "</table>\n",
       "</div>"
      ],
      "text/plain": [
       "       favorite_count  retweet_count\n",
       "count     2354.000000    2354.000000\n",
       "mean      8080.968564    3164.797366\n",
       "std      11814.771334    5284.770364\n",
       "min          0.000000       0.000000\n",
       "25%       1415.000000     624.500000\n",
       "50%       3603.500000    1473.500000\n",
       "75%      10122.250000    3652.000000\n",
       "max     132810.000000   79515.000000"
      ]
     },
     "execution_count": 101,
     "metadata": {},
     "output_type": "execute_result"
    }
   ],
   "source": [
    "# Since the two columns here are numerical, we will verify the validity using .describe()\n",
    "# Excluding Tweet_id since it holds no numerical value/meaning\n",
    "tweet_metrics.loc[:, \"favorite_count\":].describe()"
   ]
  },
  {
   "cell_type": "markdown",
   "id": "00050092",
   "metadata": {},
   "source": [
    "Okay so this data is valid as there are neither negative values nor non-realistic values  \n",
    "\n",
    "regarding the huge gap between the max and 3<sup>rd</sup> quartile, this is totally fine since this is the nature of social media.  \n",
    "\n",
    "Some tweets blow up and go as a trend, some others get buried and ignored  \n",
    "so the max number isn't fake and accurate"
   ]
  },
  {
   "cell_type": "markdown",
   "id": "e0e87355",
   "metadata": {},
   "source": [
    "<hr>"
   ]
  },
  {
   "cell_type": "markdown",
   "id": "0558ae9f",
   "metadata": {},
   "source": [
    "<h5>Completeness</h5>\n",
    "Here we will confirm what we noticed in the visual assessment which was :  <br>\n",
    "There are many zero values which will likely be representing a missing value"
   ]
  },
  {
   "cell_type": "code",
   "execution_count": 102,
   "id": "e94318ef",
   "metadata": {
    "execution": {
     "iopub.execute_input": "2025-04-27T12:28:33.713826Z",
     "iopub.status.busy": "2025-04-27T12:28:33.712749Z",
     "iopub.status.idle": "2025-04-27T12:28:33.729305Z",
     "shell.execute_reply": "2025-04-27T12:28:33.727414Z",
     "shell.execute_reply.started": "2025-04-27T12:28:33.713766Z"
    }
   },
   "outputs": [
    {
     "data": {
      "text/plain": [
       "180"
      ]
     },
     "execution_count": 102,
     "metadata": {},
     "output_type": "execute_result"
    }
   ],
   "source": [
    "# Using boolean indexing to get the rows with zeros in either the retweets or likes\n",
    "# Using .shape to return dimensions then accessing first element to get number of rows\n",
    "tweet_metrics[\n",
    "    (tweet_metrics[\"favorite_count\"] == 0)\n",
    "    | (tweet_metrics[\"retweet_count\"] == 0)\n",
    "].shape[0]"
   ]
  },
  {
   "cell_type": "markdown",
   "id": "f33a194e",
   "metadata": {},
   "source": [
    "So the data has 180 rows containing a zero in either the retweets or likes.  \n",
    "\n",
    "This shall be considered as missing values since this profile is popular and it's very unlikey that a post doesn't have likes / retweets  \n",
    "\n",
    "I also confirmed that this data was missing by looking up the original post of one of these rows. It didn't have zero likes / retweets"
   ]
  },
  {
   "cell_type": "markdown",
   "id": "89c18e82",
   "metadata": {},
   "source": [
    "<hr>"
   ]
  },
  {
   "cell_type": "markdown",
   "id": "f6dea353",
   "metadata": {},
   "source": [
    "<h5>Data Types</h5>"
   ]
  },
  {
   "cell_type": "code",
   "execution_count": 103,
   "id": "46193b2b",
   "metadata": {
    "execution": {
     "iopub.execute_input": "2025-04-27T12:28:33.734006Z",
     "iopub.status.busy": "2025-04-27T12:28:33.731877Z",
     "iopub.status.idle": "2025-04-27T12:28:33.747117Z",
     "shell.execute_reply": "2025-04-27T12:28:33.745575Z",
     "shell.execute_reply.started": "2025-04-27T12:28:33.733920Z"
    }
   },
   "outputs": [
    {
     "data": {
      "text/plain": [
       "id                int64\n",
       "favorite_count    int64\n",
       "retweet_count     int64\n",
       "dtype: object"
      ]
     },
     "execution_count": 103,
     "metadata": {},
     "output_type": "execute_result"
    }
   ],
   "source": [
    "tweet_metrics.dtypes"
   ]
  },
  {
   "cell_type": "markdown",
   "id": "4c1dc1db",
   "metadata": {},
   "source": [
    "Okay so only the id column needs to be transformed to a string as it was interpreted as an integer when loading it"
   ]
  },
  {
   "cell_type": "markdown",
   "id": "bce0fa0c",
   "metadata": {},
   "source": [
    "<hr>"
   ]
  },
  {
   "cell_type": "markdown",
   "id": "47733147",
   "metadata": {},
   "source": [
    "## Data Assessment Conclusion"
   ]
  },
  {
   "cell_type": "markdown",
   "id": "97300f76",
   "metadata": {},
   "source": [
    "### Quality :\n",
    "1. Twitter Archive Enhanced :\n",
    "    - There are duplicated rows that don't belong to our data which are the retweets\n",
    "    - Missing / Inaccurate Dog Names\n",
    "    - Missing expanded_urls\n",
    "    - All **ID** columns should be in **String** format ( Applies to all other dataframes )\n",
    "    - Time Stamps should be in datetime format\n",
    "    - Inaccurate Rating Numerators / Denominators\n",
    "    - Missing Dog Stages where some rows have \"None\" in all dog stage columns\n",
    "2. Image Predictions :\n",
    "    - Inconsistency of predictions (title cased and lowercase predictions)\n",
    "    - Underscores in predictions prevent human readability\n",
    "    - 66 duplicates in jpg_url\n",
    "3. Tweets Likes & Retweets :\n",
    "    - Missing Values in Likes & Retweets\n",
    "\n",
    "### Tidiness :\n",
    "1. Twitter Archive Enhanced :\n",
    "   - Dog Stages must be in one column\n",
    "   - Time stamps can be splitted into Year, Month, Day and Day of Week\n",
    "   - The Text column also contains the tweet link which should be in a seperate column\n",
    "\n",
    "2. Image Predictions : The img_num can be dropped since we don't need it in the analysis\n",
    "3. General : All of our dataframes are on one topic which are the tweets of the dogs and ratings, so they should be in one master dataframe \n",
    "   "
   ]
  },
  {
   "cell_type": "markdown",
   "id": "893e5085",
   "metadata": {},
   "source": [
    "<hr>"
   ]
  },
  {
   "cell_type": "markdown",
   "id": "793f6e0f",
   "metadata": {},
   "source": [
    "<h1 id = \"cleaning\">Data Cleaning</h1>"
   ]
  },
  {
   "cell_type": "markdown",
   "id": "6062e599",
   "metadata": {},
   "source": [
    "<p id = \"copy\">Pre-Cleaning :  Defining new dataframes for the cleaned dataframes</p>"
   ]
  },
  {
   "cell_type": "code",
   "execution_count": 104,
   "id": "d9fd7f26",
   "metadata": {
    "execution": {
     "iopub.execute_input": "2025-04-27T12:28:33.752149Z",
     "iopub.status.busy": "2025-04-27T12:28:33.750548Z",
     "iopub.status.idle": "2025-04-27T12:28:33.767216Z",
     "shell.execute_reply": "2025-04-27T12:28:33.765273Z",
     "shell.execute_reply.started": "2025-04-27T12:28:33.752034Z"
    }
   },
   "outputs": [],
   "source": [
    "archive_clean = archive.copy()\n",
    "predictions_clean = predictions.copy()\n",
    "tweet_metrics_clean = tweet_metrics.copy()"
   ]
  },
  {
   "cell_type": "markdown",
   "id": "9fd6e737",
   "metadata": {},
   "source": [
    "## Quality :"
   ]
  },
  {
   "cell_type": "markdown",
   "id": "dbcb5a80",
   "metadata": {},
   "source": [
    "## Issue 1"
   ]
  },
  {
   "cell_type": "markdown",
   "id": "eb820c74",
   "metadata": {},
   "source": [
    "### Define"
   ]
  },
  {
   "cell_type": "markdown",
   "id": "84a25911",
   "metadata": {},
   "source": [
    "As we concluded in Assessment step, the retweets have multiple formats as :\n",
    "1. Some Retweets start with an RT in the text column\n",
    "2. Some others don't have RT but the expanded_urls contains the original tweet link which isn't from WeRateDogs\n",
    "3. Some others don't have neither 1 or 2 and just have the retweet ID in its own column\n",
    "\n",
    "so we will filter the archive dataframe based on these 3 conditions and drop them"
   ]
  },
  {
   "cell_type": "markdown",
   "id": "df6bf152",
   "metadata": {},
   "source": [
    "### Code"
   ]
  },
  {
   "cell_type": "code",
   "execution_count": 105,
   "id": "21d04159",
   "metadata": {
    "execution": {
     "iopub.execute_input": "2025-04-27T12:28:33.787992Z",
     "iopub.status.busy": "2025-04-27T12:28:33.786950Z",
     "iopub.status.idle": "2025-04-27T12:28:33.827777Z",
     "shell.execute_reply": "2025-04-27T12:28:33.819583Z",
     "shell.execute_reply.started": "2025-04-27T12:28:33.787862Z"
    }
   },
   "outputs": [
    {
     "name": "stdout",
     "output_type": "stream",
     "text": [
      "Archive before dropping : 2356\n",
      "Archive after dropping : 1993\n"
     ]
    }
   ],
   "source": [
    "retweets = archive_clean[\n",
    "    # Where the retweet ID is present\n",
    "    (~archive_clean.retweeted_status_id.isna())\n",
    "    |\n",
    "    # Where the text column starts with RT\n",
    "    (archive_clean.text.str[:2] == \"RT\")\n",
    "    |\n",
    "    # Where the expanded url doesn't contain a post from we rate dogs\n",
    "    (\n",
    "        ~archive_clean.expanded_urls.str.contains(\n",
    "            \"https://twitter.com/dog_rates/status/\", na=False\n",
    "        )\n",
    "    )\n",
    "]\n",
    "# Printing the number of the rows of the archive before and after dropping\n",
    "print(\n",
    "    f\"Archive before dropping : {archive_clean.shape[0]}\\nArchive after dropping : {archive_clean.shape[0] - retweets.shape[0]}\"\n",
    ")\n",
    "# Extracting Indices of the retweet rows\n",
    "indices = retweets.index\n",
    "\n",
    "# Dropping retweets by their indices\n",
    "archive_clean = archive_clean.drop(indices)"
   ]
  },
  {
   "cell_type": "markdown",
   "id": "2b81838a-ad0b-4b5a-b67a-88e73b070cdb",
   "metadata": {},
   "source": [
    "Okay so the number of dropped rows isn't huge and doesn't strongly affect our analysis"
   ]
  },
  {
   "cell_type": "markdown",
   "id": "91b8ba7d",
   "metadata": {},
   "source": [
    "### Test"
   ]
  },
  {
   "cell_type": "code",
   "execution_count": 106,
   "id": "2d04ab0c",
   "metadata": {
    "execution": {
     "iopub.execute_input": "2025-04-27T12:28:33.836502Z",
     "iopub.status.busy": "2025-04-27T12:28:33.832346Z",
     "iopub.status.idle": "2025-04-27T12:28:33.892900Z",
     "shell.execute_reply": "2025-04-27T12:28:33.891199Z",
     "shell.execute_reply.started": "2025-04-27T12:28:33.836423Z"
    }
   },
   "outputs": [
    {
     "data": {
      "application/vnd.microsoft.datawrangler.viewer.v0+json": {
       "columns": [
        {
         "name": "index",
         "rawType": "int64",
         "type": "integer"
        },
        {
         "name": "tweet_id",
         "rawType": "int64",
         "type": "integer"
        },
        {
         "name": "in_reply_to_status_id",
         "rawType": "float64",
         "type": "float"
        },
        {
         "name": "in_reply_to_user_id",
         "rawType": "float64",
         "type": "float"
        },
        {
         "name": "timestamp",
         "rawType": "object",
         "type": "string"
        },
        {
         "name": "source",
         "rawType": "object",
         "type": "string"
        },
        {
         "name": "text",
         "rawType": "object",
         "type": "string"
        },
        {
         "name": "retweeted_status_id",
         "rawType": "float64",
         "type": "float"
        },
        {
         "name": "retweeted_status_user_id",
         "rawType": "float64",
         "type": "float"
        },
        {
         "name": "retweeted_status_timestamp",
         "rawType": "object",
         "type": "unknown"
        },
        {
         "name": "expanded_urls",
         "rawType": "object",
         "type": "string"
        },
        {
         "name": "rating_numerator",
         "rawType": "int64",
         "type": "integer"
        },
        {
         "name": "rating_denominator",
         "rawType": "int64",
         "type": "integer"
        },
        {
         "name": "name",
         "rawType": "object",
         "type": "unknown"
        },
        {
         "name": "doggo",
         "rawType": "object",
         "type": "unknown"
        },
        {
         "name": "floofer",
         "rawType": "object",
         "type": "unknown"
        },
        {
         "name": "pupper",
         "rawType": "object",
         "type": "unknown"
        },
        {
         "name": "puppo",
         "rawType": "object",
         "type": "unknown"
        }
       ],
       "conversionMethod": "pd.DataFrame",
       "ref": "c1d250cd-5e66-4a07-b909-b733a93a2378",
       "rows": [
        [
         "493",
         "813202720496779264",
         null,
         null,
         "2016-12-26 02:00:11 +0000",
         "<a href=\"http://twitter.com/download/iphone\" rel=\"nofollow\">Twitter for iPhone</a>",
         "Here's a doggo who has concluded that Christmas is entirely too bright. Requests you tone it down a notch. 11/10 https://t.co/cD967DjnIn",
         null,
         null,
         null,
         "https://twitter.com/dog_rates/status/813202720496779264/photo/1",
         "11",
         "10",
         null,
         "doggo",
         null,
         null,
         null
        ],
        [
         "1503",
         "692017291282812928",
         null,
         null,
         "2016-01-26 16:12:33 +0000",
         "<a href=\"http://twitter.com/download/iphone\" rel=\"nofollow\">Twitter for iPhone</a>",
         "This is Kingsley Wellensworth III. He owns 7 range rovers. Has a cardigan collection. Would rather be sailing. 9/10 https://t.co/BE4ahQ0IO2",
         null,
         null,
         null,
         "https://twitter.com/dog_rates/status/692017291282812928/photo/1",
         "9",
         "10",
         "Kingsley",
         null,
         null,
         null,
         null
        ],
        [
         "678",
         "789268448748703744",
         null,
         null,
         "2016-10-21 00:53:56 +0000",
         "<a href=\"http://twitter.com/download/iphone\" rel=\"nofollow\">Twitter for iPhone</a>",
         "This is Stella. She's happier than I will ever be. 10/10 would trade lives with https://t.co/JSs2bfDtTS",
         null,
         null,
         null,
         "https://twitter.com/dog_rates/status/789268448748703744/photo/1",
         "10",
         "10",
         "Stella",
         null,
         null,
         null,
         null
        ],
        [
         "2126",
         "670338931251150849",
         null,
         null,
         "2015-11-27 20:30:30 +0000",
         "<a href=\"http://twitter.com/download/iphone\" rel=\"nofollow\">Twitter for iPhone</a>",
         "This is Butters. He's not ready for Thanksgiving to be over. 10/10 poor Butters https://t.co/iTc578yDmY",
         null,
         null,
         null,
         "https://twitter.com/dog_rates/status/670338931251150849/photo/1",
         "10",
         "10",
         "Butters",
         null,
         null,
         null,
         null
        ],
        [
         "1572",
         "687664829264453632",
         null,
         null,
         "2016-01-14 15:57:26 +0000",
         "<a href=\"http://twitter.com/download/iphone\" rel=\"nofollow\">Twitter for iPhone</a>",
         "Meet Opal. He's a Belgian Dijon Poofster. Upset because his hood makes him look like blond Justin Timberlake. 11/10 https://t.co/IAt3jRZ5ez",
         null,
         null,
         null,
         "https://twitter.com/dog_rates/status/687664829264453632/photo/1",
         "11",
         "10",
         "Opal",
         null,
         null,
         null,
         null
        ],
        [
         "1315",
         "706681918348251136",
         null,
         null,
         "2016-03-07 03:24:33 +0000",
         "<a href=\"http://twitter.com/download/iphone\" rel=\"nofollow\">Twitter for iPhone</a>",
         "Say hello to Katie. She's a Mitsubishi Hufflepuff. Curly af. 12/10 I'd do terrible things to acquire such a pup https://t.co/CFPIcGcwJv",
         null,
         null,
         null,
         "https://twitter.com/dog_rates/status/706681918348251136/photo/1,https://twitter.com/dog_rates/status/706681918348251136/photo/1,https://twitter.com/dog_rates/status/706681918348251136/photo/1",
         "12",
         "10",
         "Katie",
         null,
         null,
         null,
         null
        ],
        [
         "86",
         "875747767867523072",
         null,
         null,
         "2017-06-16 16:11:53 +0000",
         "<a href=\"http://twitter.com/download/iphone\" rel=\"nofollow\">Twitter for iPhone</a>",
         "This is Goose. He's a womanizer. Cheeky as h*ck, but also deep. Tongue slip game on another level. 13/10 will steal your girl https://t.co/V2WlACRJCN",
         null,
         null,
         null,
         "https://twitter.com/dog_rates/status/875747767867523072/photo/1",
         "13",
         "10",
         "Goose",
         null,
         null,
         null,
         null
        ],
        [
         "1150",
         "726224900189511680",
         null,
         null,
         "2016-04-30 01:41:23 +0000",
         "<a href=\"http://twitter.com/download/iphone\" rel=\"nofollow\">Twitter for iPhone</a>",
         "I'm getting super heckin frustrated with you all sending in non canines like this ostrich. We only rate dogs... 9/10 https://t.co/Rgbni2Ns8z",
         null,
         null,
         null,
         "https://twitter.com/dog_rates/status/726224900189511680/photo/1",
         "9",
         "10",
         null,
         null,
         null,
         null,
         null
        ],
        [
         "717",
         "783695101801398276",
         null,
         null,
         "2016-10-05 15:47:27 +0000",
         "<a href=\"http://twitter.com/download/iphone\" rel=\"nofollow\">Twitter for iPhone</a>",
         "This is Loomis. He's the leader of the Kenneth search party. The passion is almost overwhelming. 12/10 one day he will be free https://t.co/kCRKlFg4AY",
         null,
         null,
         null,
         "https://twitter.com/dog_rates/status/783695101801398276/photo/1,https://twitter.com/dog_rates/status/783695101801398276/photo/1,https://twitter.com/dog_rates/status/783695101801398276/photo/1",
         "12",
         "10",
         "Loomis",
         null,
         null,
         null,
         null
        ],
        [
         "1954",
         "673656262056419329",
         null,
         null,
         "2015-12-07 00:12:23 +0000",
         "<a href=\"http://twitter.com/download/iphone\" rel=\"nofollow\">Twitter for iPhone</a>",
         "This is Albert AKA King Banana Peel. He's a kind ruler of the kitchen. Very jubilant pupper. 10/10 overall great dog https://t.co/PN8hxgZ9We",
         null,
         null,
         null,
         "https://twitter.com/dog_rates/status/673656262056419329/photo/1",
         "10",
         "10",
         "Albert",
         null,
         null,
         "pupper",
         null
        ]
       ],
       "shape": {
        "columns": 17,
        "rows": 10
       }
      },
      "text/html": [
       "<div>\n",
       "<style scoped>\n",
       "    .dataframe tbody tr th:only-of-type {\n",
       "        vertical-align: middle;\n",
       "    }\n",
       "\n",
       "    .dataframe tbody tr th {\n",
       "        vertical-align: top;\n",
       "    }\n",
       "\n",
       "    .dataframe thead th {\n",
       "        text-align: right;\n",
       "    }\n",
       "</style>\n",
       "<table border=\"1\" class=\"dataframe\">\n",
       "  <thead>\n",
       "    <tr style=\"text-align: right;\">\n",
       "      <th></th>\n",
       "      <th>tweet_id</th>\n",
       "      <th>in_reply_to_status_id</th>\n",
       "      <th>in_reply_to_user_id</th>\n",
       "      <th>timestamp</th>\n",
       "      <th>source</th>\n",
       "      <th>text</th>\n",
       "      <th>retweeted_status_id</th>\n",
       "      <th>retweeted_status_user_id</th>\n",
       "      <th>retweeted_status_timestamp</th>\n",
       "      <th>expanded_urls</th>\n",
       "      <th>rating_numerator</th>\n",
       "      <th>rating_denominator</th>\n",
       "      <th>name</th>\n",
       "      <th>doggo</th>\n",
       "      <th>floofer</th>\n",
       "      <th>pupper</th>\n",
       "      <th>puppo</th>\n",
       "    </tr>\n",
       "  </thead>\n",
       "  <tbody>\n",
       "    <tr>\n",
       "      <th>493</th>\n",
       "      <td>813202720496779264</td>\n",
       "      <td>NaN</td>\n",
       "      <td>NaN</td>\n",
       "      <td>2016-12-26 02:00:11 +0000</td>\n",
       "      <td>&lt;a href=\"http://twitter.com/download/iphone\" r...</td>\n",
       "      <td>Here's a doggo who has concluded that Christma...</td>\n",
       "      <td>NaN</td>\n",
       "      <td>NaN</td>\n",
       "      <td>NaN</td>\n",
       "      <td>https://twitter.com/dog_rates/status/813202720...</td>\n",
       "      <td>11</td>\n",
       "      <td>10</td>\n",
       "      <td>NaN</td>\n",
       "      <td>doggo</td>\n",
       "      <td>NaN</td>\n",
       "      <td>NaN</td>\n",
       "      <td>NaN</td>\n",
       "    </tr>\n",
       "    <tr>\n",
       "      <th>1503</th>\n",
       "      <td>692017291282812928</td>\n",
       "      <td>NaN</td>\n",
       "      <td>NaN</td>\n",
       "      <td>2016-01-26 16:12:33 +0000</td>\n",
       "      <td>&lt;a href=\"http://twitter.com/download/iphone\" r...</td>\n",
       "      <td>This is Kingsley Wellensworth III. He owns 7 r...</td>\n",
       "      <td>NaN</td>\n",
       "      <td>NaN</td>\n",
       "      <td>NaN</td>\n",
       "      <td>https://twitter.com/dog_rates/status/692017291...</td>\n",
       "      <td>9</td>\n",
       "      <td>10</td>\n",
       "      <td>Kingsley</td>\n",
       "      <td>NaN</td>\n",
       "      <td>NaN</td>\n",
       "      <td>NaN</td>\n",
       "      <td>NaN</td>\n",
       "    </tr>\n",
       "    <tr>\n",
       "      <th>678</th>\n",
       "      <td>789268448748703744</td>\n",
       "      <td>NaN</td>\n",
       "      <td>NaN</td>\n",
       "      <td>2016-10-21 00:53:56 +0000</td>\n",
       "      <td>&lt;a href=\"http://twitter.com/download/iphone\" r...</td>\n",
       "      <td>This is Stella. She's happier than I will ever...</td>\n",
       "      <td>NaN</td>\n",
       "      <td>NaN</td>\n",
       "      <td>NaN</td>\n",
       "      <td>https://twitter.com/dog_rates/status/789268448...</td>\n",
       "      <td>10</td>\n",
       "      <td>10</td>\n",
       "      <td>Stella</td>\n",
       "      <td>NaN</td>\n",
       "      <td>NaN</td>\n",
       "      <td>NaN</td>\n",
       "      <td>NaN</td>\n",
       "    </tr>\n",
       "    <tr>\n",
       "      <th>2126</th>\n",
       "      <td>670338931251150849</td>\n",
       "      <td>NaN</td>\n",
       "      <td>NaN</td>\n",
       "      <td>2015-11-27 20:30:30 +0000</td>\n",
       "      <td>&lt;a href=\"http://twitter.com/download/iphone\" r...</td>\n",
       "      <td>This is Butters. He's not ready for Thanksgivi...</td>\n",
       "      <td>NaN</td>\n",
       "      <td>NaN</td>\n",
       "      <td>NaN</td>\n",
       "      <td>https://twitter.com/dog_rates/status/670338931...</td>\n",
       "      <td>10</td>\n",
       "      <td>10</td>\n",
       "      <td>Butters</td>\n",
       "      <td>NaN</td>\n",
       "      <td>NaN</td>\n",
       "      <td>NaN</td>\n",
       "      <td>NaN</td>\n",
       "    </tr>\n",
       "    <tr>\n",
       "      <th>1572</th>\n",
       "      <td>687664829264453632</td>\n",
       "      <td>NaN</td>\n",
       "      <td>NaN</td>\n",
       "      <td>2016-01-14 15:57:26 +0000</td>\n",
       "      <td>&lt;a href=\"http://twitter.com/download/iphone\" r...</td>\n",
       "      <td>Meet Opal. He's a Belgian Dijon Poofster. Upse...</td>\n",
       "      <td>NaN</td>\n",
       "      <td>NaN</td>\n",
       "      <td>NaN</td>\n",
       "      <td>https://twitter.com/dog_rates/status/687664829...</td>\n",
       "      <td>11</td>\n",
       "      <td>10</td>\n",
       "      <td>Opal</td>\n",
       "      <td>NaN</td>\n",
       "      <td>NaN</td>\n",
       "      <td>NaN</td>\n",
       "      <td>NaN</td>\n",
       "    </tr>\n",
       "    <tr>\n",
       "      <th>1315</th>\n",
       "      <td>706681918348251136</td>\n",
       "      <td>NaN</td>\n",
       "      <td>NaN</td>\n",
       "      <td>2016-03-07 03:24:33 +0000</td>\n",
       "      <td>&lt;a href=\"http://twitter.com/download/iphone\" r...</td>\n",
       "      <td>Say hello to Katie. She's a Mitsubishi Hufflep...</td>\n",
       "      <td>NaN</td>\n",
       "      <td>NaN</td>\n",
       "      <td>NaN</td>\n",
       "      <td>https://twitter.com/dog_rates/status/706681918...</td>\n",
       "      <td>12</td>\n",
       "      <td>10</td>\n",
       "      <td>Katie</td>\n",
       "      <td>NaN</td>\n",
       "      <td>NaN</td>\n",
       "      <td>NaN</td>\n",
       "      <td>NaN</td>\n",
       "    </tr>\n",
       "    <tr>\n",
       "      <th>86</th>\n",
       "      <td>875747767867523072</td>\n",
       "      <td>NaN</td>\n",
       "      <td>NaN</td>\n",
       "      <td>2017-06-16 16:11:53 +0000</td>\n",
       "      <td>&lt;a href=\"http://twitter.com/download/iphone\" r...</td>\n",
       "      <td>This is Goose. He's a womanizer. Cheeky as h*c...</td>\n",
       "      <td>NaN</td>\n",
       "      <td>NaN</td>\n",
       "      <td>NaN</td>\n",
       "      <td>https://twitter.com/dog_rates/status/875747767...</td>\n",
       "      <td>13</td>\n",
       "      <td>10</td>\n",
       "      <td>Goose</td>\n",
       "      <td>NaN</td>\n",
       "      <td>NaN</td>\n",
       "      <td>NaN</td>\n",
       "      <td>NaN</td>\n",
       "    </tr>\n",
       "    <tr>\n",
       "      <th>1150</th>\n",
       "      <td>726224900189511680</td>\n",
       "      <td>NaN</td>\n",
       "      <td>NaN</td>\n",
       "      <td>2016-04-30 01:41:23 +0000</td>\n",
       "      <td>&lt;a href=\"http://twitter.com/download/iphone\" r...</td>\n",
       "      <td>I'm getting super heckin frustrated with you a...</td>\n",
       "      <td>NaN</td>\n",
       "      <td>NaN</td>\n",
       "      <td>NaN</td>\n",
       "      <td>https://twitter.com/dog_rates/status/726224900...</td>\n",
       "      <td>9</td>\n",
       "      <td>10</td>\n",
       "      <td>NaN</td>\n",
       "      <td>NaN</td>\n",
       "      <td>NaN</td>\n",
       "      <td>NaN</td>\n",
       "      <td>NaN</td>\n",
       "    </tr>\n",
       "    <tr>\n",
       "      <th>717</th>\n",
       "      <td>783695101801398276</td>\n",
       "      <td>NaN</td>\n",
       "      <td>NaN</td>\n",
       "      <td>2016-10-05 15:47:27 +0000</td>\n",
       "      <td>&lt;a href=\"http://twitter.com/download/iphone\" r...</td>\n",
       "      <td>This is Loomis. He's the leader of the Kenneth...</td>\n",
       "      <td>NaN</td>\n",
       "      <td>NaN</td>\n",
       "      <td>NaN</td>\n",
       "      <td>https://twitter.com/dog_rates/status/783695101...</td>\n",
       "      <td>12</td>\n",
       "      <td>10</td>\n",
       "      <td>Loomis</td>\n",
       "      <td>NaN</td>\n",
       "      <td>NaN</td>\n",
       "      <td>NaN</td>\n",
       "      <td>NaN</td>\n",
       "    </tr>\n",
       "    <tr>\n",
       "      <th>1954</th>\n",
       "      <td>673656262056419329</td>\n",
       "      <td>NaN</td>\n",
       "      <td>NaN</td>\n",
       "      <td>2015-12-07 00:12:23 +0000</td>\n",
       "      <td>&lt;a href=\"http://twitter.com/download/iphone\" r...</td>\n",
       "      <td>This is Albert AKA King Banana Peel. He's a ki...</td>\n",
       "      <td>NaN</td>\n",
       "      <td>NaN</td>\n",
       "      <td>NaN</td>\n",
       "      <td>https://twitter.com/dog_rates/status/673656262...</td>\n",
       "      <td>10</td>\n",
       "      <td>10</td>\n",
       "      <td>Albert</td>\n",
       "      <td>NaN</td>\n",
       "      <td>NaN</td>\n",
       "      <td>pupper</td>\n",
       "      <td>NaN</td>\n",
       "    </tr>\n",
       "  </tbody>\n",
       "</table>\n",
       "</div>"
      ],
      "text/plain": [
       "                tweet_id  in_reply_to_status_id  in_reply_to_user_id  \\\n",
       "493   813202720496779264                    NaN                  NaN   \n",
       "1503  692017291282812928                    NaN                  NaN   \n",
       "678   789268448748703744                    NaN                  NaN   \n",
       "2126  670338931251150849                    NaN                  NaN   \n",
       "1572  687664829264453632                    NaN                  NaN   \n",
       "1315  706681918348251136                    NaN                  NaN   \n",
       "86    875747767867523072                    NaN                  NaN   \n",
       "1150  726224900189511680                    NaN                  NaN   \n",
       "717   783695101801398276                    NaN                  NaN   \n",
       "1954  673656262056419329                    NaN                  NaN   \n",
       "\n",
       "                      timestamp  \\\n",
       "493   2016-12-26 02:00:11 +0000   \n",
       "1503  2016-01-26 16:12:33 +0000   \n",
       "678   2016-10-21 00:53:56 +0000   \n",
       "2126  2015-11-27 20:30:30 +0000   \n",
       "1572  2016-01-14 15:57:26 +0000   \n",
       "1315  2016-03-07 03:24:33 +0000   \n",
       "86    2017-06-16 16:11:53 +0000   \n",
       "1150  2016-04-30 01:41:23 +0000   \n",
       "717   2016-10-05 15:47:27 +0000   \n",
       "1954  2015-12-07 00:12:23 +0000   \n",
       "\n",
       "                                                 source  \\\n",
       "493   <a href=\"http://twitter.com/download/iphone\" r...   \n",
       "1503  <a href=\"http://twitter.com/download/iphone\" r...   \n",
       "678   <a href=\"http://twitter.com/download/iphone\" r...   \n",
       "2126  <a href=\"http://twitter.com/download/iphone\" r...   \n",
       "1572  <a href=\"http://twitter.com/download/iphone\" r...   \n",
       "1315  <a href=\"http://twitter.com/download/iphone\" r...   \n",
       "86    <a href=\"http://twitter.com/download/iphone\" r...   \n",
       "1150  <a href=\"http://twitter.com/download/iphone\" r...   \n",
       "717   <a href=\"http://twitter.com/download/iphone\" r...   \n",
       "1954  <a href=\"http://twitter.com/download/iphone\" r...   \n",
       "\n",
       "                                                   text  retweeted_status_id  \\\n",
       "493   Here's a doggo who has concluded that Christma...                  NaN   \n",
       "1503  This is Kingsley Wellensworth III. He owns 7 r...                  NaN   \n",
       "678   This is Stella. She's happier than I will ever...                  NaN   \n",
       "2126  This is Butters. He's not ready for Thanksgivi...                  NaN   \n",
       "1572  Meet Opal. He's a Belgian Dijon Poofster. Upse...                  NaN   \n",
       "1315  Say hello to Katie. She's a Mitsubishi Hufflep...                  NaN   \n",
       "86    This is Goose. He's a womanizer. Cheeky as h*c...                  NaN   \n",
       "1150  I'm getting super heckin frustrated with you a...                  NaN   \n",
       "717   This is Loomis. He's the leader of the Kenneth...                  NaN   \n",
       "1954  This is Albert AKA King Banana Peel. He's a ki...                  NaN   \n",
       "\n",
       "      retweeted_status_user_id retweeted_status_timestamp  \\\n",
       "493                        NaN                        NaN   \n",
       "1503                       NaN                        NaN   \n",
       "678                        NaN                        NaN   \n",
       "2126                       NaN                        NaN   \n",
       "1572                       NaN                        NaN   \n",
       "1315                       NaN                        NaN   \n",
       "86                         NaN                        NaN   \n",
       "1150                       NaN                        NaN   \n",
       "717                        NaN                        NaN   \n",
       "1954                       NaN                        NaN   \n",
       "\n",
       "                                          expanded_urls  rating_numerator  \\\n",
       "493   https://twitter.com/dog_rates/status/813202720...                11   \n",
       "1503  https://twitter.com/dog_rates/status/692017291...                 9   \n",
       "678   https://twitter.com/dog_rates/status/789268448...                10   \n",
       "2126  https://twitter.com/dog_rates/status/670338931...                10   \n",
       "1572  https://twitter.com/dog_rates/status/687664829...                11   \n",
       "1315  https://twitter.com/dog_rates/status/706681918...                12   \n",
       "86    https://twitter.com/dog_rates/status/875747767...                13   \n",
       "1150  https://twitter.com/dog_rates/status/726224900...                 9   \n",
       "717   https://twitter.com/dog_rates/status/783695101...                12   \n",
       "1954  https://twitter.com/dog_rates/status/673656262...                10   \n",
       "\n",
       "      rating_denominator      name  doggo floofer  pupper puppo  \n",
       "493                   10       NaN  doggo     NaN     NaN   NaN  \n",
       "1503                  10  Kingsley    NaN     NaN     NaN   NaN  \n",
       "678                   10    Stella    NaN     NaN     NaN   NaN  \n",
       "2126                  10   Butters    NaN     NaN     NaN   NaN  \n",
       "1572                  10      Opal    NaN     NaN     NaN   NaN  \n",
       "1315                  10     Katie    NaN     NaN     NaN   NaN  \n",
       "86                    10     Goose    NaN     NaN     NaN   NaN  \n",
       "1150                  10       NaN    NaN     NaN     NaN   NaN  \n",
       "717                   10    Loomis    NaN     NaN     NaN   NaN  \n",
       "1954                  10    Albert    NaN     NaN  pupper   NaN  "
      ]
     },
     "execution_count": 106,
     "metadata": {},
     "output_type": "execute_result"
    }
   ],
   "source": [
    "# Print out data and check multiple posts to ensure absence of retweets\n",
    "archive_clean.sample(10)"
   ]
  },
  {
   "cell_type": "markdown",
   "id": "e1e9c995",
   "metadata": {},
   "source": [
    "<hr>"
   ]
  },
  {
   "cell_type": "markdown",
   "id": "978abab1",
   "metadata": {},
   "source": [
    "## Issue 2"
   ]
  },
  {
   "cell_type": "markdown",
   "id": "dd1f0474",
   "metadata": {},
   "source": [
    "### Define"
   ]
  },
  {
   "cell_type": "markdown",
   "id": "15418011",
   "metadata": {},
   "source": [
    "There are two formats of inaccurate names which are :\n",
    "1. None which will be transformed to 'Unknown' for better readability\n",
    "2. random names like 'one' or 'a' whose first letter is mostly lowercase so we can filter for these rows and replace their names with 'Unknown'"
   ]
  },
  {
   "cell_type": "markdown",
   "id": "b1253d09",
   "metadata": {},
   "source": [
    "### Code"
   ]
  },
  {
   "cell_type": "code",
   "execution_count": 107,
   "id": "9b0e1641",
   "metadata": {
    "execution": {
     "iopub.execute_input": "2025-04-27T12:28:33.897671Z",
     "iopub.status.busy": "2025-04-27T12:28:33.896397Z",
     "iopub.status.idle": "2025-04-27T12:28:33.937557Z",
     "shell.execute_reply": "2025-04-27T12:28:33.935886Z",
     "shell.execute_reply.started": "2025-04-27T12:28:33.897612Z"
    }
   },
   "outputs": [],
   "source": [
    "# Replacing NaN and None values with 'Unknown' for readability\n",
    "archive_clean[\"name\"] = archive_clean[\"name\"].replace(\n",
    "    {np.nan: \"Unknown\", \"None\": \"Unknown\"}\n",
    ")\n",
    "\n",
    "# Filtering for incorrect names\n",
    "# Getting unique names of dogs\n",
    "names = archive_clean[\"name\"].unique()\n",
    "# Empty list for incorrect names\n",
    "incorrect_names = []\n",
    "# Looping over names where if the name isn't titled then it's added to the incorrect_names\n",
    "for name in names:\n",
    "    if not (str.istitle(name)):\n",
    "        incorrect_names.append(name)\n",
    "\n",
    "# Replacing all incorrect names with 'Unknown'\n",
    "archive_clean[\"name\"] = archive_clean[\"name\"].replace(\n",
    "    incorrect_names, \"Unknown\"\n",
    ")"
   ]
  },
  {
   "cell_type": "markdown",
   "id": "2cd2a8b8",
   "metadata": {},
   "source": [
    "### Test"
   ]
  },
  {
   "cell_type": "code",
   "execution_count": 108,
   "id": "24a838b5",
   "metadata": {
    "execution": {
     "iopub.execute_input": "2025-04-27T12:28:33.940529Z",
     "iopub.status.busy": "2025-04-27T12:28:33.939400Z",
     "iopub.status.idle": "2025-04-27T12:28:33.958403Z",
     "shell.execute_reply": "2025-04-27T12:28:33.955474Z",
     "shell.execute_reply.started": "2025-04-27T12:28:33.940458Z"
    }
   },
   "outputs": [
    {
     "data": {
      "text/plain": [
       "array(['Phineas', 'Tilly', 'Archie', 'Darla', 'Franklin', 'Unknown',\n",
       "       'Jax', 'Zoey', 'Cassie', 'Koda', 'Bruno', 'Ted', 'Stuart',\n",
       "       'Oliver', 'Jim', 'Zeke', 'Ralphus', 'Gerald', 'Jeffrey', 'Canela',\n",
       "       'Maya', 'Mingus', 'Derek', 'Roscoe', 'Waffles', 'Jimbo', 'Maisey',\n",
       "       'Earl', 'Lola', 'Kevin', 'Yogi', 'Noah', 'Bella', 'Grizzwald',\n",
       "       'Rusty', 'Gus', 'Stanley', 'Alfy', 'Koko', 'Rey', 'Gary', 'Elliot',\n",
       "       'Louis', 'Jesse', 'Romeo', 'Bailey', 'Duddles', 'Jack', 'Steven',\n",
       "       'Beau', 'Snoopy', 'Shadow', 'Emmy', 'Aja', 'Penny', 'Dante',\n",
       "       'Nelly', 'Ginger', 'Benedict', 'Venti', 'Goose', 'Nugget', 'Cash',\n",
       "       'Jed', 'Sebastian', 'Sierra', 'Monkey', 'Harry', 'Kody', 'Lassie',\n",
       "       'Rover', 'Napolean', 'Boomer', 'Cody', 'Rumble', 'Clifford',\n",
       "       'Dewey', 'Scout', 'Gizmo', 'Walter', 'Cooper', 'Harold', 'Shikha',\n",
       "       'Lili', 'Jamesy', 'Coco', 'Sammy', 'Meatball', 'Paisley', 'Albus',\n",
       "       'Neptune', 'Belle', 'Quinn', 'Zooey', 'Dave', 'Jersey', 'Hobbes',\n",
       "       'Burt', 'Lorenzo', 'Carl', 'Jordy', 'Milky', 'Trooper', 'Sophie',\n",
       "       'Wyatt', 'Rosie', 'Thor', 'Oscar', 'Callie', 'Cermet', 'Marlee',\n",
       "       'Arya', 'Einstein', 'Alice', 'Rumpole', 'Benny', 'Aspen', 'Jarod',\n",
       "       'Wiggles', 'General', 'Sailor', 'Iggy', 'Snoop', 'Kyle', 'Leo',\n",
       "       'Riley', 'Noosh', 'Odin', 'Jerry', 'Georgie', 'Rontu', 'Cannon',\n",
       "       'Furzey', 'Daisy', 'Tuck', 'Barney', 'Vixen', 'Jarvis', 'Mimosa',\n",
       "       'Pickles', 'Brady', 'Luna', 'Charlie', 'Margo', 'Sadie', 'Hank',\n",
       "       'Tycho', 'Indie', 'Winnie', 'George', 'Bentley', 'Max', 'Dawn',\n",
       "       'Maddie', 'Monty', 'Sojourner', 'Winston', 'Odie', 'Arlo',\n",
       "       'Vincent', 'Lucy', 'Clark', 'Mookie', 'Meera', 'Ava', 'Eli', 'Ash',\n",
       "       'Tucker', 'Tobi', 'Chester', 'Wilson', 'Sunshine', 'Lipton',\n",
       "       'Bronte', 'Poppy', 'Gidget', 'Rhino', 'Willow', 'Orion', 'Eevee',\n",
       "       'Smiley', 'Miguel', 'Emanuel', 'Kuyu', 'Dutch', 'Pete', 'Scooter',\n",
       "       'Reggie', 'Lilly', 'Samson', 'Mia', 'Astrid', 'Malcolm', 'Dexter',\n",
       "       'Alfie', 'Fiona', 'Mutt', 'Bear', 'Doobert', 'Beebop', 'Alexander',\n",
       "       'Sailer', 'Brutus', 'Kona', 'Boots', 'Ralphie', 'Loki', 'Cupid',\n",
       "       'Pawnd', 'Pilot', 'Ike', 'Mo', 'Toby', 'Sweet', 'Pablo', 'Nala',\n",
       "       'Crawford', 'Gabe', 'Jimison', 'Duchess', 'Harlso', 'Sundance',\n",
       "       'Luca', 'Flash', 'Sunny', 'Howie', 'Jazzy', 'Anna', 'Finn', 'Bo',\n",
       "       'Wafer', 'Tom', 'Florence', 'Autumn', 'Buddy', 'Dido', 'Eugene',\n",
       "       'Ken', 'Strudel', 'Tebow', 'Chloe', 'Timber', 'Binky', 'Moose',\n",
       "       'Dudley', 'Comet', 'Akumi', 'Titan', 'Olivia', 'Alf', 'Oshie',\n",
       "       'Chubbs', 'Sky', 'Atlas', 'Eleanor', 'Layla', 'Rocky', 'Baron',\n",
       "       'Tyr', 'Bauer', 'Swagger', 'Brandi', 'Mary', 'Moe', 'Halo',\n",
       "       'Augie', 'Craig', 'Sam', 'Hunter', 'Pavlov', 'Phil', 'Kyro',\n",
       "       'Wallace', 'Ito', 'Ollie', 'Stephan', 'Lennon', 'Major', 'Duke',\n",
       "       'Sansa', 'Shooter', 'Django', 'Diogi', 'Sonny', 'Marley',\n",
       "       'Severus', 'Ronnie', 'Milo', 'Bones', 'Mauve', 'Chef', 'Doc',\n",
       "       'Peaches', 'Sobe', 'Longfellow', 'Mister', 'Iroh', 'Pancake',\n",
       "       'Snicku', 'Ruby', 'Brody', 'Mack', 'Nimbus', 'Laika', 'Maximus',\n",
       "       'Dobby', 'Moreton', 'Juno', 'Maude', 'Lily', 'Newt', 'Benji',\n",
       "       'Nida', 'Robin', 'Monster', 'Remus', 'Levi', 'Mabel', 'Misty',\n",
       "       'Betty', 'Mosby', 'Maggie', 'Bruce', 'Happy', 'Brownie', 'Rizzy',\n",
       "       'Stella', 'Butter', 'Frank', 'Tonks', 'Lincoln', 'Rory', 'Logan',\n",
       "       'Dale', 'Rizzo', 'Mattie', 'Pinot', 'Dallas', 'Hero', 'Frankie',\n",
       "       'Stormy', 'Mairi', 'Loomis', 'Godi', 'Cali', 'Deacon', 'Timmy',\n",
       "       'Sampson', 'Chipson', 'Oakley', 'Dash', 'Hercules', 'Jay', 'Mya',\n",
       "       'Strider', 'Wesley', 'Solomon', 'Huck', 'O', 'Blue', 'Anakin',\n",
       "       'Finley', 'Sprinkles', 'Heinrich', 'Shakespeare', 'Chelsea',\n",
       "       'Bungalo', 'Chip', 'Grey', 'Roosevelt', 'Willem', 'Davey',\n",
       "       'Dakota', 'Fizz', 'Dixie', 'Al', 'Jackson', 'Carbon', 'Klein',\n",
       "       'Kirby', 'Lou', 'Chevy', 'Tito', 'Philbert', 'Louie', 'Rupert',\n",
       "       'Rufus', 'Brudge', 'Shadoe', 'Angel', 'Brat', 'Tove', 'Gromit',\n",
       "       'Aubie', 'Kota', 'Leela', 'Glenn', 'Shelby', 'Sephie', 'Bonaparte',\n",
       "       'Albert', 'Wishes', 'Rose', 'Theo', 'Rocco', 'Fido', 'Emma',\n",
       "       'Spencer', 'Lilli', 'Boston', 'Brandonald', 'Corey', 'Leonard',\n",
       "       'Beckham', 'Devón', 'Gert', 'Watson', 'Keith', 'Dex', 'Ace',\n",
       "       'Tayzie', 'Grizzie', 'Gilbert', 'Meyer', 'Arnie', 'Zoe', 'Stewie',\n",
       "       'Calvin', 'Lilah', 'Spanky', 'Jameson', 'Piper', 'Atticus', 'Blu',\n",
       "       'Dietrich', 'Divine', 'Tripp', 'Cora', 'Huxley', 'Bookstore',\n",
       "       'Abby', 'Shiloh', 'Gustav', 'Arlen', 'Percy', 'Lenox', 'Sugar',\n",
       "       'Harvey', 'Blanket', 'Geno', 'Stark', 'Beya', 'Kilo', 'Kayla',\n",
       "       'Maxaroni', 'Bell', 'Doug', 'Edmund', 'Aqua', 'Theodore', 'Baloo',\n",
       "       'Chase', 'Nollie', 'Rorie', 'Simba', 'Charles', 'Bayley', 'Axel',\n",
       "       'Storkson', 'Remy', 'Chadrick', 'Kellogg', 'Buckley', 'Livvie',\n",
       "       'Terry', 'Hermione', 'Ralpher', 'Aldrick', 'Larry', 'Rooney',\n",
       "       'Crystal', 'Ziva', 'Stefan', 'Pupcasso', 'Puff', 'Flurpson',\n",
       "       'Coleman', 'Enchilada', 'Raymond', 'Rueben', 'Cilantro', 'Karll',\n",
       "       'Sprout', 'Blitz', 'Bloop', 'Colby', 'Lillie', 'Fred', 'Ashleigh',\n",
       "       'Kreggory', 'Sarge', 'Luther', 'Reginald', 'Ivar', 'Jangle',\n",
       "       'Schnitzel', 'Panda', 'Berkeley', 'Ralphé', 'Charleson', 'Clyde',\n",
       "       'Harnold', 'Sid', 'Pippa', 'Otis', 'Carper', 'Bowie',\n",
       "       'Alexanderson', 'Suki', 'Barclay', 'Ebby', 'Flávio', 'Smokey',\n",
       "       'Link', 'Jennifur', 'Bluebert', 'Stephanus', 'Bubbles', 'Zeus',\n",
       "       'Bertson', 'Nico', 'Michelangelope', 'Siba', 'Calbert', 'Curtis',\n",
       "       'Travis', 'Thumas', 'Kanu', 'Lance', 'Opie', 'Stubert', 'Kane',\n",
       "       'Olive', 'Chuckles', 'Staniel', 'Sora', 'Beemo', 'Gunner', 'Lacy',\n",
       "       'Tater', 'Olaf', 'Cecil', 'Vince', 'Karma', 'Billy', 'Walker',\n",
       "       'Rodney', 'Klevin', 'Malikai', 'Bobble', 'River', 'Jebberson',\n",
       "       'Remington', 'Farfle', 'Jiminus', 'Harper', 'Keurig', 'Clarkus',\n",
       "       'Finnegus', 'Cupcake', 'Kathmandu', 'Ellie', 'Katie', 'Kara',\n",
       "       'Adele', 'Zara', 'Ambrose', 'Jimothy', 'Bode', 'Terrenth', 'Reese',\n",
       "       'Chesterson', 'Lucia', 'Bisquick', 'Ralphson', 'Socks', 'Rambo',\n",
       "       'Fiji', 'Rilo', 'Bilbo', 'Coopson', 'Yoda', 'Millie', 'Chet',\n",
       "       'Crouton', 'Daniel', 'Kaia', 'Murphy', 'Dotsy', 'Eazy', 'Coops',\n",
       "       'Fillup', 'Miley', 'Charl', 'Reagan', 'Cuddles', 'Claude',\n",
       "       'Jessiga', 'Carter', 'Ole', 'Blipson', 'Reptar', 'Trevith', 'Berb',\n",
       "       'Bob', 'Colin', 'Brian', 'Oliviér', 'Grady', 'Kobe', 'Freddery',\n",
       "       'Bodie', 'Dunkin', 'Wally', 'Tupawc', 'Amber', 'Herschel', 'Edgar',\n",
       "       'Kingsley', 'Brockly', 'Richie', 'Molly', 'Vinscent', 'Cedrick',\n",
       "       'Hazel', 'Lolo', 'Eriq', 'Phred', 'Maxwell', 'Geoff', 'Covach',\n",
       "       'Durg', 'Fynn', 'Ricky', 'Herald', 'Lucky', 'Trip', 'Clarence',\n",
       "       'Hamrick', 'Brad', 'Pubert', 'Frönq', 'Derby', 'Lizzie', 'Blakely',\n",
       "       'Opal', 'Marq', 'Kramer', 'Tyrone', 'Gordon', 'Baxter', 'Mona',\n",
       "       'Horace', 'Crimson', 'Birf', 'Hammond', 'Lorelei', 'Marty',\n",
       "       'Brooks', 'Petrick', 'Hubertson', 'Gerbald', 'Oreo', 'Bruiser',\n",
       "       'Perry', 'Bobby', 'Jeph', 'Obi', 'Tino', 'Kulet', 'Lupe', 'Tiger',\n",
       "       'Jiminy', 'Griffin', 'Banjo', 'Brandy', 'Lulu', 'Darrel', 'Taco',\n",
       "       'Joey', 'Patrick', 'Kreg', 'Todo', 'Tess', 'Ulysses', 'Toffee',\n",
       "       'Apollo', 'Carly', 'Asher', 'Glacier', 'Chuck', 'Champ', 'Ozzie',\n",
       "       'Griswold', 'Cheesy', 'Moofasa', 'Hector', 'Goliath', 'Kawhi',\n",
       "       'Ozzy', 'Emmie', 'Penelope', 'Willie', 'Rinna', 'Mike', 'William',\n",
       "       'Dwight', 'Evy', 'Hurley', 'Rubio', 'Chompsky', 'Linda', 'Tug',\n",
       "       'Tango', 'Grizz', 'Jerome', 'Crumpet', 'Jessifer', 'Ralph',\n",
       "       'Sandy', 'Humphrey', 'Tassy', 'Juckson', 'Chuq', 'Tyrus', 'Karl',\n",
       "       'Godzilla', 'Vinnie', 'Kenneth', 'Herm', 'Bert', 'Striker',\n",
       "       'Donny', 'Pepper', 'Bernie', 'Buddah', 'Lenny', 'Arnold', 'Zuzu',\n",
       "       'Mollie', 'Laela', 'Tedders', 'Superpup', 'Rufio', 'Jeb', 'Rodman',\n",
       "       'Jonah', 'Chesney', 'Kenny', 'Henry', 'Bobbay', 'Mitch', 'Kaiya',\n",
       "       'Acro', 'Aiden', 'Obie', 'Dot', 'Shnuggles', 'Kendall', 'Jeffri',\n",
       "       'Steve', 'Eve', 'Mac', 'Fletcher', 'Kenzie', 'Pumpkin', 'Schnozz',\n",
       "       'Gustaf', 'Cheryl', 'Ed', 'Leonidas', 'Norman', 'Caryl', 'Scott',\n",
       "       'Taz', 'Darby', 'Jackie', 'Jazz', 'Franq', 'Pippin', 'Rolf',\n",
       "       'Snickers', 'Ridley', 'Cal', 'Bradley', 'Bubba', 'Tuco', 'Patch',\n",
       "       'Mojo', 'Batdog', 'Dylan', 'Mark', 'Alejandro', 'Scruffers', 'Pip',\n",
       "       'Julius', 'Tanner', 'Sparky', 'Anthony', 'Holly', 'Jett', 'Amy',\n",
       "       'Sage', 'Andy', 'Mason', 'Trigger', 'Antony', 'Creg', 'Traviss',\n",
       "       'Gin', 'Jeffrie', 'Danny', 'Ester', 'Pluto', 'Bloo', 'Edd',\n",
       "       'Paull', 'Willy', 'Herb', 'Damon', 'Peanut', 'Nigel', 'Butters',\n",
       "       'Sandra', 'Fabio', 'Randall', 'Liam', 'Tommy', 'Ben', 'Raphael',\n",
       "       'Julio', 'Andru', 'Kloey', 'Shawwn', 'Skye', 'Kollin', 'Ronduh',\n",
       "       'Billl', 'Saydee', 'Dug', 'Tessa', 'Sully', 'Kirk', 'Ralf',\n",
       "       'Clarq', 'Jaspers', 'Samsom', 'Terrance', 'Harrison', 'Chaz',\n",
       "       'Jeremy', 'Jaycob', 'Lambeau', 'Ruffles', 'Amélie', 'Bobb',\n",
       "       'Banditt', 'Kevon', 'Winifred', 'Hanz', 'Churlie', 'Zeek',\n",
       "       'Timofy', 'Maks', 'Jomathan', 'Kallie', 'Marvin', 'Spark',\n",
       "       'Gòrdón', 'Jo', 'Jareld', 'Torque', 'Ron', 'Skittles',\n",
       "       'Cleopatricia', 'Erik', 'Stu', 'Tedrick', 'Shaggy', 'Filup',\n",
       "       'Kial', 'Naphaniel', 'Dook', 'Hall', 'Philippe', 'Biden', 'Fwed',\n",
       "       'Genevieve', 'Joshwa', 'Timison', 'Bradlay', 'Pipsy', 'Clybe',\n",
       "       'Keet', 'Carll', 'Jockson', 'Josep', 'Lugan', 'Christoper'],\n",
       "      dtype=object)"
      ]
     },
     "execution_count": 108,
     "metadata": {},
     "output_type": "execute_result"
    }
   ],
   "source": [
    "# Printing all Unique names in the dataframe\n",
    "archive_clean[\"name\"].unique()"
   ]
  },
  {
   "cell_type": "markdown",
   "id": "e6672601",
   "metadata": {},
   "source": [
    "<hr>"
   ]
  },
  {
   "cell_type": "markdown",
   "id": "ee33fbff",
   "metadata": {},
   "source": [
    "## Issue 3"
   ]
  },
  {
   "cell_type": "markdown",
   "id": "be09a80e",
   "metadata": {},
   "source": [
    "### Define"
   ]
  },
  {
   "cell_type": "markdown",
   "id": "f5d13f4f",
   "metadata": {},
   "source": [
    "Since we cleaned all rows that don't contain a link for the WeRateDogs' tweet in Issue 1, then the missing URL's should be fixed now"
   ]
  },
  {
   "cell_type": "markdown",
   "id": "552a7266",
   "metadata": {},
   "source": [
    "### Test"
   ]
  },
  {
   "cell_type": "code",
   "execution_count": 109,
   "id": "362d95a7",
   "metadata": {
    "execution": {
     "iopub.execute_input": "2025-04-27T12:28:33.969913Z",
     "iopub.status.busy": "2025-04-27T12:28:33.968538Z",
     "iopub.status.idle": "2025-04-27T12:28:33.988738Z",
     "shell.execute_reply": "2025-04-27T12:28:33.986400Z",
     "shell.execute_reply.started": "2025-04-27T12:28:33.969837Z"
    }
   },
   "outputs": [
    {
     "data": {
      "text/plain": [
       "np.int64(0)"
      ]
     },
     "execution_count": 109,
     "metadata": {},
     "output_type": "execute_result"
    }
   ],
   "source": [
    "archive_clean[\"expanded_urls\"].isna().sum()"
   ]
  },
  {
   "cell_type": "markdown",
   "id": "5160b414",
   "metadata": {},
   "source": [
    "So this issue got already fixed in issue 1"
   ]
  },
  {
   "cell_type": "markdown",
   "id": "c7d642f5",
   "metadata": {},
   "source": [
    "<hr>"
   ]
  },
  {
   "cell_type": "markdown",
   "id": "5590e2a6",
   "metadata": {},
   "source": [
    "## Issue 4"
   ]
  },
  {
   "cell_type": "markdown",
   "id": "1f824c0e",
   "metadata": {},
   "source": [
    "### Define"
   ]
  },
  {
   "cell_type": "markdown",
   "id": "596778dc",
   "metadata": {},
   "source": [
    "Transform the ID column to string using the .astype() function\n",
    "\n",
    "We can also drop the reply ID and retweet ID as they are not useful in our analysis anymore"
   ]
  },
  {
   "cell_type": "markdown",
   "id": "65a1d176",
   "metadata": {},
   "source": [
    "### Code"
   ]
  },
  {
   "cell_type": "code",
   "execution_count": 110,
   "id": "35b2c2a5",
   "metadata": {
    "execution": {
     "iopub.execute_input": "2025-04-27T12:28:33.992403Z",
     "iopub.status.busy": "2025-04-27T12:28:33.991156Z",
     "iopub.status.idle": "2025-04-27T12:28:34.018980Z",
     "shell.execute_reply": "2025-04-27T12:28:34.016660Z",
     "shell.execute_reply.started": "2025-04-27T12:28:33.992338Z"
    }
   },
   "outputs": [],
   "source": [
    "# Since the ID column is named differently in 3rd dataframe, then we have to just assign manually for each dataframe\n",
    "\n",
    "archive_clean[\"tweet_id\"] = archive_clean[\"tweet_id\"].astype(str)\n",
    "predictions_clean[\"tweet_id\"] = predictions_clean[\"tweet_id\"].astype(str)\n",
    "tweet_metrics_clean[\"id\"] = tweet_metrics_clean[\"id\"].astype(str)\n",
    "\n",
    "# Dropping extra ID's in twitter_archive\n",
    "# Dropping also the retweeted_timestamp since we have already cleaned the data from retweets\n",
    "archive_clean = archive_clean.drop(\n",
    "    [\n",
    "        \"in_reply_to_status_id\",\n",
    "        \"in_reply_to_user_id\",\n",
    "        \"retweeted_status_id\",\n",
    "        \"retweeted_status_user_id\",\n",
    "        \"retweeted_status_timestamp\",\n",
    "    ],\n",
    "    axis=1,\n",
    ")"
   ]
  },
  {
   "cell_type": "markdown",
   "id": "c43be7db",
   "metadata": {},
   "source": [
    "### Test"
   ]
  },
  {
   "cell_type": "code",
   "execution_count": 111,
   "id": "894c3b76",
   "metadata": {
    "execution": {
     "iopub.execute_input": "2025-04-27T12:28:34.024294Z",
     "iopub.status.busy": "2025-04-27T12:28:34.021931Z",
     "iopub.status.idle": "2025-04-27T12:28:34.039896Z",
     "shell.execute_reply": "2025-04-27T12:28:34.036543Z",
     "shell.execute_reply.started": "2025-04-27T12:28:34.024147Z"
    }
   },
   "outputs": [
    {
     "name": "stdout",
     "output_type": "stream",
     "text": [
      "Tweet ID type in the archive :  object \n",
      "\n",
      "Twitter Archive Enhanced columns : \n",
      "Index(['tweet_id', 'timestamp', 'source', 'text', 'expanded_urls',\n",
      "       'rating_numerator', 'rating_denominator', 'name', 'doggo', 'floofer',\n",
      "       'pupper', 'puppo'],\n",
      "      dtype='object')\n",
      "\n",
      "Tweet ID type in the predictions :  object \n",
      "\n",
      "Tweet ID type in the tweet's metrics :  object \n",
      "\n"
     ]
    }
   ],
   "source": [
    "print(\"Tweet ID type in the archive : \", archive_clean.tweet_id.dtype, \"\\n\")\n",
    "print(f\"Twitter Archive Enhanced columns : \\n{archive_clean.columns}\\n\")\n",
    "print(\n",
    "    \"Tweet ID type in the predictions : \",\n",
    "    predictions_clean.tweet_id.dtype,\n",
    "    \"\\n\",\n",
    ")\n",
    "print(\n",
    "    \"Tweet ID type in the tweet's metrics : \",\n",
    "    tweet_metrics_clean.id.dtype,\n",
    "    \"\\n\",\n",
    ")"
   ]
  },
  {
   "cell_type": "markdown",
   "id": "bb2d67cf",
   "metadata": {},
   "source": [
    "<hr>"
   ]
  },
  {
   "cell_type": "markdown",
   "id": "1fd58c12",
   "metadata": {},
   "source": [
    "## Issue 5"
   ]
  },
  {
   "cell_type": "markdown",
   "id": "ca249cce",
   "metadata": {},
   "source": [
    "### Define"
   ]
  },
  {
   "cell_type": "markdown",
   "id": "d0f52702",
   "metadata": {},
   "source": [
    "Transform timestamp into datetime format using pd.to_datetime()"
   ]
  },
  {
   "cell_type": "markdown",
   "id": "b308ade2",
   "metadata": {},
   "source": [
    "### Code"
   ]
  },
  {
   "cell_type": "code",
   "execution_count": 112,
   "id": "36fafb46",
   "metadata": {
    "execution": {
     "iopub.execute_input": "2025-04-27T12:28:34.045745Z",
     "iopub.status.busy": "2025-04-27T12:28:34.044275Z",
     "iopub.status.idle": "2025-04-27T12:28:34.109672Z",
     "shell.execute_reply": "2025-04-27T12:28:34.106639Z",
     "shell.execute_reply.started": "2025-04-27T12:28:34.045666Z"
    }
   },
   "outputs": [],
   "source": [
    "archive_clean[\"timestamp\"] = pd.to_datetime(archive_clean[\"timestamp\"])"
   ]
  },
  {
   "cell_type": "markdown",
   "id": "82d696ef",
   "metadata": {},
   "source": [
    "### Test"
   ]
  },
  {
   "cell_type": "code",
   "execution_count": 113,
   "id": "acc7cc1a",
   "metadata": {
    "execution": {
     "iopub.execute_input": "2025-04-27T12:28:34.113220Z",
     "iopub.status.busy": "2025-04-27T12:28:34.112421Z",
     "iopub.status.idle": "2025-04-27T12:28:34.125671Z",
     "shell.execute_reply": "2025-04-27T12:28:34.124109Z",
     "shell.execute_reply.started": "2025-04-27T12:28:34.113151Z"
    }
   },
   "outputs": [
    {
     "data": {
      "text/plain": [
       "datetime64[ns, UTC]"
      ]
     },
     "execution_count": 113,
     "metadata": {},
     "output_type": "execute_result"
    }
   ],
   "source": [
    "archive_clean[\"timestamp\"].dtype"
   ]
  },
  {
   "cell_type": "markdown",
   "id": "56dcf31a",
   "metadata": {},
   "source": [
    "<hr>"
   ]
  },
  {
   "cell_type": "markdown",
   "id": "169529f6",
   "metadata": {},
   "source": [
    "## Issue 6"
   ]
  },
  {
   "cell_type": "markdown",
   "id": "5503d3a3",
   "metadata": {},
   "source": [
    "### Define"
   ]
  },
  {
   "cell_type": "markdown",
   "id": "e637c06b",
   "metadata": {},
   "source": [
    "1. To fix that some ratings contain decimals, we can just extract the whole rating with the decimal and re-assign the ratings\n",
    "2. To fix non-realistic ratings, we have to manually check and replace them"
   ]
  },
  {
   "cell_type": "markdown",
   "id": "1b57e011",
   "metadata": {},
   "source": [
    "### Code"
   ]
  },
  {
   "cell_type": "code",
   "execution_count": 114,
   "id": "1789d2c7",
   "metadata": {
    "execution": {
     "iopub.execute_input": "2025-04-27T12:28:34.128073Z",
     "iopub.status.busy": "2025-04-27T12:28:34.127170Z",
     "iopub.status.idle": "2025-04-27T12:28:34.174565Z",
     "shell.execute_reply": "2025-04-27T12:28:34.172110Z",
     "shell.execute_reply.started": "2025-04-27T12:28:34.128035Z"
    }
   },
   "outputs": [
    {
     "name": "stdout",
     "output_type": "stream",
     "text": [
      "rating_numerator\n",
      "12.00      450\n",
      "10.00      418\n",
      "11.00      396\n",
      "13.00      261\n",
      "9.00       151\n",
      "8.00        95\n",
      "7.00        52\n",
      "14.00       35\n",
      "5.00        32\n",
      "6.00        32\n",
      "3.00        19\n",
      "4.00        16\n",
      "2.00         9\n",
      "1.00         5\n",
      "0.00         2\n",
      "9.75         1\n",
      "24.00        1\n",
      "84.00        1\n",
      "13.50        1\n",
      "165.00       1\n",
      "11.27        1\n",
      "1776.00      1\n",
      "204.00       1\n",
      "80.00        1\n",
      "45.00        1\n",
      "50.00        1\n",
      "99.00        1\n",
      "44.00        1\n",
      "60.00        1\n",
      "121.00       1\n",
      "143.00       1\n",
      "11.26        1\n",
      "144.00       1\n",
      "88.00        1\n",
      "420.00       1\n",
      "Name: count, dtype: int64 \n",
      "\n",
      "rating_denominator\n",
      "10.0     1975\n",
      "50.0        3\n",
      "11.0        2\n",
      "80.0        2\n",
      "150.0       1\n",
      "7.0         1\n",
      "70.0        1\n",
      "20.0        1\n",
      "170.0       1\n",
      "90.0        1\n",
      "40.0        1\n",
      "130.0       1\n",
      "110.0       1\n",
      "120.0       1\n",
      "2.0         1\n",
      "Name: count, dtype: int64\n"
     ]
    },
    {
     "name": "stderr",
     "output_type": "stream",
     "text": [
      "<>:1: SyntaxWarning: invalid escape sequence '\\.'\n",
      "<>:1: SyntaxWarning: invalid escape sequence '\\.'\n",
      "C:\\Users\\HAMZA\\AppData\\Local\\Temp\\ipykernel_5864\\2158171709.py:1: SyntaxWarning: invalid escape sequence '\\.'\n",
      "  \"\"\"Regular Expression Explanation\n"
     ]
    }
   ],
   "source": [
    "\"\"\"Regular Expression Explanation\n",
    "1- Getting any number of digits [0-9]+ which are the integer value of the numerator\n",
    "2- Getting an optional group of a decimal and digits (?:\\.\\d+)?\n",
    "3- Escaping the / using \\/ to get the fraction sign\n",
    "4- Getting any amount of digits [0-9]+ which are the denominator\n",
    "\"\"\"\n",
    "\n",
    "# Defining a variable for the extracted ratings which will be returned as series by passing False in expanded\n",
    "ratings = archive_clean[\"text\"].str.extract(\n",
    "    r\"([0-9]+(?:\\.\\d+)?\\/[0-9]+)\", expand=False\n",
    ")\n",
    "\n",
    "# Re-Assigning the numerator to the first value from the splitted rating\n",
    "archive_clean[\"rating_numerator\"] = ratings.apply(\n",
    "    lambda rating: rating.split(\"/\")[0]\n",
    ")\n",
    "\n",
    "# Doing the same to the denominator but with second value\n",
    "archive_clean[\"rating_denominator\"] = ratings.apply(\n",
    "    lambda rating: rating.split(\"/\")[1]\n",
    ")\n",
    "\n",
    "# Transforming both columns to floats on the go\n",
    "archive_clean[\"rating_numerator\"] = archive_clean[\"rating_numerator\"].astype(\n",
    "    float\n",
    ")\n",
    "archive_clean[\"rating_denominator\"] = archive_clean[\n",
    "    \"rating_denominator\"\n",
    "].astype(float)\n",
    "\n",
    "# Checking frequency of ratings\n",
    "print(archive_clean[\"rating_numerator\"].value_counts(), \"\\n\")\n",
    "print(archive_clean[\"rating_denominator\"].value_counts())"
   ]
  },
  {
   "cell_type": "markdown",
   "id": "1ad15cf4",
   "metadata": {},
   "source": [
    "Okay so the strange numerators & denominators are \n",
    "1. Numerator : 1776 - 420 - 0\n",
    "2. Denominator : 7 - 2 - 170\n",
    "\n",
    "In the following cells of this issue, I will lookup each of the values and check possibility of changing that manually."
   ]
  },
  {
   "cell_type": "code",
   "execution_count": 115,
   "id": "10a45b8c",
   "metadata": {
    "execution": {
     "iopub.execute_input": "2025-04-27T12:28:34.177647Z",
     "iopub.status.busy": "2025-04-27T12:28:34.176534Z",
     "iopub.status.idle": "2025-04-27T12:28:34.194850Z",
     "shell.execute_reply": "2025-04-27T12:28:34.193228Z",
     "shell.execute_reply.started": "2025-04-27T12:28:34.177589Z"
    }
   },
   "outputs": [
    {
     "data": {
      "text/plain": [
       "array([\"When you're so blinded by your systematic plagiarism that you forget what day it is. 0/10 https://t.co/YbEJPkg4Ag\",\n",
       "       \"This is Atticus. He's quite simply America af. 1776/10 https://t.co/GRXwMxLBkh\",\n",
       "       \"PUPDATE: can't see any. Even if I could, I couldn't reach them to pet. 0/10 much disappointment https://t.co/c7WXaB2nqX\",\n",
       "       'After so many requests... here you go.\\r\\n\\r\\nGood dogg. 420/10 https://t.co/yfAAo1gdeY'],\n",
       "      dtype=object)"
      ]
     },
     "execution_count": 115,
     "metadata": {},
     "output_type": "execute_result"
    }
   ],
   "source": [
    "# Filtering rows and then getting the value of the tweet's text\n",
    "archive_clean.loc[\n",
    "    (archive_clean[\"rating_numerator\"] == 1776)\n",
    "    | (archive_clean[\"rating_numerator\"] == 420)\n",
    "    | (archive_clean[\"rating_numerator\"] == 0),\n",
    "    \"text\",\n",
    "].values"
   ]
  },
  {
   "cell_type": "markdown",
   "id": "28ce9203",
   "metadata": {},
   "source": [
    "Unfortunately all of these rows have correctly extracted ratings and modifying that will be a **fraud**"
   ]
  },
  {
   "cell_type": "code",
   "execution_count": 116,
   "id": "a7c32cfe",
   "metadata": {
    "execution": {
     "iopub.execute_input": "2025-04-27T12:28:34.199733Z",
     "iopub.status.busy": "2025-04-27T12:28:34.198237Z",
     "iopub.status.idle": "2025-04-27T12:28:34.221023Z",
     "shell.execute_reply": "2025-04-27T12:28:34.218865Z",
     "shell.execute_reply.started": "2025-04-27T12:28:34.199651Z"
    }
   },
   "outputs": [
    {
     "data": {
      "text/plain": [
       "array(['Meet Sam. She smiles 24/7 &amp; secretly aspires to be a reindeer. \\r\\nKeep Sam smiling by clicking and sharing this link:\\r\\nhttps://t.co/98tB8y7y7t https://t.co/LouL5vdvxx',\n",
       "       'Say hello to this unbelievably well behaved squad of doggos. 204/170 would try to pet all at once https://t.co/yGQI3He3xv',\n",
       "       'This is an Albanian 3 1/2 legged  Episcopalian. Loves well-polished hardwood flooring. Penis on the collar. 9/10 https://t.co/d9NcXFKwLv'],\n",
       "      dtype=object)"
      ]
     },
     "execution_count": 116,
     "metadata": {},
     "output_type": "execute_result"
    }
   ],
   "source": [
    "# Checking Denominator issues\n",
    "archive_clean.loc[\n",
    "    (archive_clean[\"rating_denominator\"] == 7)\n",
    "    | (archive_clean[\"rating_denominator\"] == 2)\n",
    "    | (archive_clean[\"rating_denominator\"] == 170),\n",
    "    \"text\",\n",
    "].values"
   ]
  },
  {
   "cell_type": "markdown",
   "id": "948d8dfa",
   "metadata": {},
   "source": [
    "Okay so the 7 and 2  denominators were indeed incorrect,  while the 170 is correct and must be kept"
   ]
  },
  {
   "cell_type": "code",
   "execution_count": 117,
   "id": "d75c4039",
   "metadata": {
    "execution": {
     "iopub.execute_input": "2025-04-27T12:28:34.225838Z",
     "iopub.status.busy": "2025-04-27T12:28:34.224434Z",
     "iopub.status.idle": "2025-04-27T12:28:34.239597Z",
     "shell.execute_reply": "2025-04-27T12:28:34.237777Z",
     "shell.execute_reply.started": "2025-04-27T12:28:34.225794Z"
    }
   },
   "outputs": [],
   "source": [
    "# Manually fixing the 2 denominator issue\n",
    "archive_clean.loc[\n",
    "    archive_clean[\"rating_denominator\"] == 2,\n",
    "    [\"rating_numerator\", \"rating_denominator\"],\n",
    "] = (9, 10)"
   ]
  },
  {
   "cell_type": "code",
   "execution_count": 118,
   "id": "2cffacca",
   "metadata": {
    "execution": {
     "iopub.execute_input": "2025-04-27T12:28:34.245380Z",
     "iopub.status.busy": "2025-04-27T12:28:34.243641Z",
     "iopub.status.idle": "2025-04-27T12:28:34.261220Z",
     "shell.execute_reply": "2025-04-27T12:28:34.259405Z",
     "shell.execute_reply.started": "2025-04-27T12:28:34.245199Z"
    }
   },
   "outputs": [],
   "source": [
    "# Manually fixing the row with denominator 7 by replacing both numerator and denominator with NaN\n",
    "archive_clean.loc[\n",
    "    archive_clean[\"rating_denominator\"] == 7,\n",
    "    [\"rating_numerator\", \"rating_denominator\"],\n",
    "] = np.nan"
   ]
  },
  {
   "cell_type": "markdown",
   "id": "b4aa1f26",
   "metadata": {},
   "source": [
    "### Test"
   ]
  },
  {
   "cell_type": "code",
   "execution_count": 119,
   "id": "0a094a0c",
   "metadata": {
    "execution": {
     "iopub.execute_input": "2025-04-27T12:28:34.264787Z",
     "iopub.status.busy": "2025-04-27T12:28:34.263689Z",
     "iopub.status.idle": "2025-04-27T12:28:34.282195Z",
     "shell.execute_reply": "2025-04-27T12:28:34.280364Z",
     "shell.execute_reply.started": "2025-04-27T12:28:34.264718Z"
    }
   },
   "outputs": [
    {
     "name": "stdout",
     "output_type": "stream",
     "text": [
      "rating_numerator\n",
      "12.00      450\n",
      "10.00      418\n",
      "11.00      396\n",
      "13.00      261\n",
      "9.00       152\n",
      "8.00        95\n",
      "7.00        52\n",
      "14.00       35\n",
      "5.00        32\n",
      "6.00        32\n",
      "3.00        19\n",
      "4.00        16\n",
      "2.00         9\n",
      "1.00         4\n",
      "0.00         2\n",
      "84.00        1\n",
      "9.75         1\n",
      "13.50        1\n",
      "165.00       1\n",
      "11.27        1\n",
      "1776.00      1\n",
      "204.00       1\n",
      "80.00        1\n",
      "45.00        1\n",
      "50.00        1\n",
      "99.00        1\n",
      "44.00        1\n",
      "60.00        1\n",
      "121.00       1\n",
      "143.00       1\n",
      "11.26        1\n",
      "144.00       1\n",
      "88.00        1\n",
      "420.00       1\n",
      "Name: count, dtype: int64 \n",
      "\n",
      "rating_denominator\n",
      "10.0     1976\n",
      "50.0        3\n",
      "11.0        2\n",
      "80.0        2\n",
      "70.0        1\n",
      "170.0       1\n",
      "150.0       1\n",
      "20.0        1\n",
      "90.0        1\n",
      "40.0        1\n",
      "130.0       1\n",
      "110.0       1\n",
      "120.0       1\n",
      "Name: count, dtype: int64\n"
     ]
    }
   ],
   "source": [
    "# Checking frequency of ratings once again\n",
    "print(archive_clean[\"rating_numerator\"].value_counts(), \"\\n\")\n",
    "print(archive_clean[\"rating_denominator\"].value_counts())"
   ]
  },
  {
   "cell_type": "markdown",
   "id": "2174127d",
   "metadata": {},
   "source": [
    "Okay so most ratings are more real currently and correctly extracted\n",
    "\n",
    "Some of them don't make sense at all, but that's how WeRateDogs decided to rate them ;)"
   ]
  },
  {
   "cell_type": "markdown",
   "id": "7014694e-dc5c-4088-bc65-4e69a2583694",
   "metadata": {},
   "source": [
    "Regarding the issue we noticed of a denominator of zero in data assessment :\n",
    "\n",
    "Since it didn't get extracted here and got removed from the data,\n",
    "\n",
    "This means that the row 313 in the original archive ( not cleaned ) was a retweet and was dropped in issue 1"
   ]
  },
  {
   "cell_type": "markdown",
   "id": "1dee3b1b",
   "metadata": {},
   "source": [
    "<hr>"
   ]
  },
  {
   "cell_type": "markdown",
   "id": "299b3690",
   "metadata": {},
   "source": [
    "## Issue 7"
   ]
  },
  {
   "cell_type": "markdown",
   "id": "d4a1abc7",
   "metadata": {},
   "source": [
    "### Define"
   ]
  },
  {
   "cell_type": "markdown",
   "id": "96fa50b2",
   "metadata": {},
   "source": [
    "This issue will be solved later in Issue 12 where we will drop all of the dog_stages columns and replace them with one dog_stage column to represent the variable"
   ]
  },
  {
   "cell_type": "markdown",
   "id": "62ccb368",
   "metadata": {},
   "source": [
    "<hr>"
   ]
  },
  {
   "cell_type": "markdown",
   "id": "42f922ab",
   "metadata": {},
   "source": [
    "## Issue 8"
   ]
  },
  {
   "cell_type": "markdown",
   "id": "7b8aea22",
   "metadata": {},
   "source": [
    "### Define"
   ]
  },
  {
   "cell_type": "markdown",
   "id": "6002975c",
   "metadata": {},
   "source": [
    "We will then make all predictions in Title Casing as lowercase is more informal"
   ]
  },
  {
   "cell_type": "markdown",
   "id": "f7b02a17",
   "metadata": {},
   "source": [
    "### Code"
   ]
  },
  {
   "cell_type": "code",
   "execution_count": 120,
   "id": "3146b28d",
   "metadata": {
    "execution": {
     "iopub.execute_input": "2025-04-27T12:28:34.286537Z",
     "iopub.status.busy": "2025-04-27T12:28:34.284556Z",
     "iopub.status.idle": "2025-04-27T12:28:34.305973Z",
     "shell.execute_reply": "2025-04-27T12:28:34.303661Z",
     "shell.execute_reply.started": "2025-04-27T12:28:34.286375Z"
    }
   },
   "outputs": [],
   "source": [
    "# Looping over the list of prediction columns we want to Title Case\n",
    "for prediction in [\"p1\", \"p2\", \"p3\"]:\n",
    "    # using .str.title() to achive our deisred Title Casing\n",
    "    predictions_clean[prediction] = predictions_clean[prediction].str.title()"
   ]
  },
  {
   "cell_type": "markdown",
   "id": "ef403af0",
   "metadata": {},
   "source": [
    "### Test"
   ]
  },
  {
   "cell_type": "code",
   "execution_count": 121,
   "id": "a02cac25",
   "metadata": {
    "execution": {
     "iopub.execute_input": "2025-04-27T12:28:34.310018Z",
     "iopub.status.busy": "2025-04-27T12:28:34.308470Z",
     "iopub.status.idle": "2025-04-27T12:28:34.342044Z",
     "shell.execute_reply": "2025-04-27T12:28:34.339773Z",
     "shell.execute_reply.started": "2025-04-27T12:28:34.309939Z"
    }
   },
   "outputs": [
    {
     "data": {
      "application/vnd.microsoft.datawrangler.viewer.v0+json": {
       "columns": [
        {
         "name": "index",
         "rawType": "int64",
         "type": "integer"
        },
        {
         "name": "tweet_id",
         "rawType": "object",
         "type": "string"
        },
        {
         "name": "jpg_url",
         "rawType": "object",
         "type": "string"
        },
        {
         "name": "img_num",
         "rawType": "int64",
         "type": "integer"
        },
        {
         "name": "p1",
         "rawType": "object",
         "type": "string"
        },
        {
         "name": "p1_conf",
         "rawType": "float64",
         "type": "float"
        },
        {
         "name": "p1_dog",
         "rawType": "bool",
         "type": "boolean"
        },
        {
         "name": "p2",
         "rawType": "object",
         "type": "string"
        },
        {
         "name": "p2_conf",
         "rawType": "float64",
         "type": "float"
        },
        {
         "name": "p2_dog",
         "rawType": "bool",
         "type": "boolean"
        },
        {
         "name": "p3",
         "rawType": "object",
         "type": "string"
        },
        {
         "name": "p3_conf",
         "rawType": "float64",
         "type": "float"
        },
        {
         "name": "p3_dog",
         "rawType": "bool",
         "type": "boolean"
        }
       ],
       "conversionMethod": "pd.DataFrame",
       "ref": "8ae40f69-c378-4ad0-b7c4-ed14c329fe2b",
       "rows": [
        [
         "0",
         "666020888022790149",
         "https://pbs.twimg.com/media/CT4udn0WwAA0aMy.jpg",
         "1",
         "Welsh_Springer_Spaniel",
         "0.465074",
         "True",
         "Collie",
         "0.156665",
         "True",
         "Shetland_Sheepdog",
         "0.0614285",
         "True"
        ],
        [
         "1",
         "666029285002620928",
         "https://pbs.twimg.com/media/CT42GRgUYAA5iDo.jpg",
         "1",
         "Redbone",
         "0.506826",
         "True",
         "Miniature_Pinscher",
         "0.0741916999999999",
         "True",
         "Rhodesian_Ridgeback",
         "0.07201",
         "True"
        ],
        [
         "2",
         "666033412701032449",
         "https://pbs.twimg.com/media/CT4521TWwAEvMyu.jpg",
         "1",
         "German_Shepherd",
         "0.596461",
         "True",
         "Malinois",
         "0.1385839999999999",
         "True",
         "Bloodhound",
         "0.116197",
         "True"
        ],
        [
         "3",
         "666044226329800704",
         "https://pbs.twimg.com/media/CT5Dr8HUEAA-lEu.jpg",
         "1",
         "Rhodesian_Ridgeback",
         "0.408143",
         "True",
         "Redbone",
         "0.360687",
         "True",
         "Miniature_Pinscher",
         "0.222752",
         "True"
        ],
        [
         "4",
         "666049248165822465",
         "https://pbs.twimg.com/media/CT5IQmsXIAAKY4A.jpg",
         "1",
         "Miniature_Pinscher",
         "0.560311",
         "True",
         "Rottweiler",
         "0.243682",
         "True",
         "Doberman",
         "0.154629",
         "True"
        ],
        [
         "5",
         "666050758794694657",
         "https://pbs.twimg.com/media/CT5Jof1WUAEuVxN.jpg",
         "1",
         "Bernese_Mountain_Dog",
         "0.651137",
         "True",
         "English_Springer",
         "0.263788",
         "True",
         "Greater_Swiss_Mountain_Dog",
         "0.0161992",
         "True"
        ],
        [
         "6",
         "666051853826850816",
         "https://pbs.twimg.com/media/CT5KoJ1WoAAJash.jpg",
         "1",
         "Box_Turtle",
         "0.933012",
         "False",
         "Mud_Turtle",
         "0.0458854",
         "False",
         "Terrapin",
         "0.0178852999999999",
         "False"
        ]
       ],
       "shape": {
        "columns": 12,
        "rows": 7
       }
      },
      "text/html": [
       "<div>\n",
       "<style scoped>\n",
       "    .dataframe tbody tr th:only-of-type {\n",
       "        vertical-align: middle;\n",
       "    }\n",
       "\n",
       "    .dataframe tbody tr th {\n",
       "        vertical-align: top;\n",
       "    }\n",
       "\n",
       "    .dataframe thead th {\n",
       "        text-align: right;\n",
       "    }\n",
       "</style>\n",
       "<table border=\"1\" class=\"dataframe\">\n",
       "  <thead>\n",
       "    <tr style=\"text-align: right;\">\n",
       "      <th></th>\n",
       "      <th>tweet_id</th>\n",
       "      <th>jpg_url</th>\n",
       "      <th>img_num</th>\n",
       "      <th>p1</th>\n",
       "      <th>p1_conf</th>\n",
       "      <th>p1_dog</th>\n",
       "      <th>p2</th>\n",
       "      <th>p2_conf</th>\n",
       "      <th>p2_dog</th>\n",
       "      <th>p3</th>\n",
       "      <th>p3_conf</th>\n",
       "      <th>p3_dog</th>\n",
       "    </tr>\n",
       "  </thead>\n",
       "  <tbody>\n",
       "    <tr>\n",
       "      <th>0</th>\n",
       "      <td>666020888022790149</td>\n",
       "      <td>https://pbs.twimg.com/media/CT4udn0WwAA0aMy.jpg</td>\n",
       "      <td>1</td>\n",
       "      <td>Welsh_Springer_Spaniel</td>\n",
       "      <td>0.465074</td>\n",
       "      <td>True</td>\n",
       "      <td>Collie</td>\n",
       "      <td>0.156665</td>\n",
       "      <td>True</td>\n",
       "      <td>Shetland_Sheepdog</td>\n",
       "      <td>0.061428</td>\n",
       "      <td>True</td>\n",
       "    </tr>\n",
       "    <tr>\n",
       "      <th>1</th>\n",
       "      <td>666029285002620928</td>\n",
       "      <td>https://pbs.twimg.com/media/CT42GRgUYAA5iDo.jpg</td>\n",
       "      <td>1</td>\n",
       "      <td>Redbone</td>\n",
       "      <td>0.506826</td>\n",
       "      <td>True</td>\n",
       "      <td>Miniature_Pinscher</td>\n",
       "      <td>0.074192</td>\n",
       "      <td>True</td>\n",
       "      <td>Rhodesian_Ridgeback</td>\n",
       "      <td>0.072010</td>\n",
       "      <td>True</td>\n",
       "    </tr>\n",
       "    <tr>\n",
       "      <th>2</th>\n",
       "      <td>666033412701032449</td>\n",
       "      <td>https://pbs.twimg.com/media/CT4521TWwAEvMyu.jpg</td>\n",
       "      <td>1</td>\n",
       "      <td>German_Shepherd</td>\n",
       "      <td>0.596461</td>\n",
       "      <td>True</td>\n",
       "      <td>Malinois</td>\n",
       "      <td>0.138584</td>\n",
       "      <td>True</td>\n",
       "      <td>Bloodhound</td>\n",
       "      <td>0.116197</td>\n",
       "      <td>True</td>\n",
       "    </tr>\n",
       "    <tr>\n",
       "      <th>3</th>\n",
       "      <td>666044226329800704</td>\n",
       "      <td>https://pbs.twimg.com/media/CT5Dr8HUEAA-lEu.jpg</td>\n",
       "      <td>1</td>\n",
       "      <td>Rhodesian_Ridgeback</td>\n",
       "      <td>0.408143</td>\n",
       "      <td>True</td>\n",
       "      <td>Redbone</td>\n",
       "      <td>0.360687</td>\n",
       "      <td>True</td>\n",
       "      <td>Miniature_Pinscher</td>\n",
       "      <td>0.222752</td>\n",
       "      <td>True</td>\n",
       "    </tr>\n",
       "    <tr>\n",
       "      <th>4</th>\n",
       "      <td>666049248165822465</td>\n",
       "      <td>https://pbs.twimg.com/media/CT5IQmsXIAAKY4A.jpg</td>\n",
       "      <td>1</td>\n",
       "      <td>Miniature_Pinscher</td>\n",
       "      <td>0.560311</td>\n",
       "      <td>True</td>\n",
       "      <td>Rottweiler</td>\n",
       "      <td>0.243682</td>\n",
       "      <td>True</td>\n",
       "      <td>Doberman</td>\n",
       "      <td>0.154629</td>\n",
       "      <td>True</td>\n",
       "    </tr>\n",
       "    <tr>\n",
       "      <th>5</th>\n",
       "      <td>666050758794694657</td>\n",
       "      <td>https://pbs.twimg.com/media/CT5Jof1WUAEuVxN.jpg</td>\n",
       "      <td>1</td>\n",
       "      <td>Bernese_Mountain_Dog</td>\n",
       "      <td>0.651137</td>\n",
       "      <td>True</td>\n",
       "      <td>English_Springer</td>\n",
       "      <td>0.263788</td>\n",
       "      <td>True</td>\n",
       "      <td>Greater_Swiss_Mountain_Dog</td>\n",
       "      <td>0.016199</td>\n",
       "      <td>True</td>\n",
       "    </tr>\n",
       "    <tr>\n",
       "      <th>6</th>\n",
       "      <td>666051853826850816</td>\n",
       "      <td>https://pbs.twimg.com/media/CT5KoJ1WoAAJash.jpg</td>\n",
       "      <td>1</td>\n",
       "      <td>Box_Turtle</td>\n",
       "      <td>0.933012</td>\n",
       "      <td>False</td>\n",
       "      <td>Mud_Turtle</td>\n",
       "      <td>0.045885</td>\n",
       "      <td>False</td>\n",
       "      <td>Terrapin</td>\n",
       "      <td>0.017885</td>\n",
       "      <td>False</td>\n",
       "    </tr>\n",
       "  </tbody>\n",
       "</table>\n",
       "</div>"
      ],
      "text/plain": [
       "             tweet_id                                          jpg_url  \\\n",
       "0  666020888022790149  https://pbs.twimg.com/media/CT4udn0WwAA0aMy.jpg   \n",
       "1  666029285002620928  https://pbs.twimg.com/media/CT42GRgUYAA5iDo.jpg   \n",
       "2  666033412701032449  https://pbs.twimg.com/media/CT4521TWwAEvMyu.jpg   \n",
       "3  666044226329800704  https://pbs.twimg.com/media/CT5Dr8HUEAA-lEu.jpg   \n",
       "4  666049248165822465  https://pbs.twimg.com/media/CT5IQmsXIAAKY4A.jpg   \n",
       "5  666050758794694657  https://pbs.twimg.com/media/CT5Jof1WUAEuVxN.jpg   \n",
       "6  666051853826850816  https://pbs.twimg.com/media/CT5KoJ1WoAAJash.jpg   \n",
       "\n",
       "   img_num                      p1   p1_conf  p1_dog                  p2  \\\n",
       "0        1  Welsh_Springer_Spaniel  0.465074    True              Collie   \n",
       "1        1                 Redbone  0.506826    True  Miniature_Pinscher   \n",
       "2        1         German_Shepherd  0.596461    True            Malinois   \n",
       "3        1     Rhodesian_Ridgeback  0.408143    True             Redbone   \n",
       "4        1      Miniature_Pinscher  0.560311    True          Rottweiler   \n",
       "5        1    Bernese_Mountain_Dog  0.651137    True    English_Springer   \n",
       "6        1              Box_Turtle  0.933012   False          Mud_Turtle   \n",
       "\n",
       "    p2_conf  p2_dog                          p3   p3_conf  p3_dog  \n",
       "0  0.156665    True           Shetland_Sheepdog  0.061428    True  \n",
       "1  0.074192    True         Rhodesian_Ridgeback  0.072010    True  \n",
       "2  0.138584    True                  Bloodhound  0.116197    True  \n",
       "3  0.360687    True          Miniature_Pinscher  0.222752    True  \n",
       "4  0.243682    True                    Doberman  0.154629    True  \n",
       "5  0.263788    True  Greater_Swiss_Mountain_Dog  0.016199    True  \n",
       "6  0.045885   False                    Terrapin  0.017885   False  "
      ]
     },
     "execution_count": 121,
     "metadata": {},
     "output_type": "execute_result"
    }
   ],
   "source": [
    "predictions_clean.head(7)"
   ]
  },
  {
   "cell_type": "markdown",
   "id": "a9e4ff01",
   "metadata": {},
   "source": [
    "<hr>"
   ]
  },
  {
   "cell_type": "markdown",
   "id": "05d500d6",
   "metadata": {},
   "source": [
    "## Issue 9"
   ]
  },
  {
   "cell_type": "markdown",
   "id": "68306dfd",
   "metadata": {},
   "source": [
    "### Define"
   ]
  },
  {
   "cell_type": "markdown",
   "id": "6107fbd9",
   "metadata": {},
   "source": [
    "We will replace all underscores with a space using .replace() method"
   ]
  },
  {
   "cell_type": "markdown",
   "id": "c6c81052",
   "metadata": {},
   "source": [
    "### Code"
   ]
  },
  {
   "cell_type": "code",
   "execution_count": 122,
   "id": "cfd342c4",
   "metadata": {
    "execution": {
     "iopub.execute_input": "2025-04-27T12:28:34.345448Z",
     "iopub.status.busy": "2025-04-27T12:28:34.344321Z",
     "iopub.status.idle": "2025-04-27T12:28:34.363476Z",
     "shell.execute_reply": "2025-04-27T12:28:34.361368Z",
     "shell.execute_reply.started": "2025-04-27T12:28:34.345398Z"
    }
   },
   "outputs": [],
   "source": [
    "for prediction in [\"p1\", \"p2\", \"p3\"]:\n",
    "    predictions_clean[prediction] = predictions_clean[prediction].str.replace(\n",
    "        \"_\", \" \"\n",
    "    )"
   ]
  },
  {
   "cell_type": "markdown",
   "id": "04451263",
   "metadata": {},
   "source": [
    "### Test"
   ]
  },
  {
   "cell_type": "code",
   "execution_count": 123,
   "id": "81b277d6",
   "metadata": {
    "execution": {
     "iopub.execute_input": "2025-04-27T12:28:34.366412Z",
     "iopub.status.busy": "2025-04-27T12:28:34.365433Z",
     "iopub.status.idle": "2025-04-27T12:28:34.403797Z",
     "shell.execute_reply": "2025-04-27T12:28:34.402312Z",
     "shell.execute_reply.started": "2025-04-27T12:28:34.366350Z"
    }
   },
   "outputs": [
    {
     "data": {
      "application/vnd.microsoft.datawrangler.viewer.v0+json": {
       "columns": [
        {
         "name": "index",
         "rawType": "int64",
         "type": "integer"
        },
        {
         "name": "tweet_id",
         "rawType": "object",
         "type": "string"
        },
        {
         "name": "jpg_url",
         "rawType": "object",
         "type": "string"
        },
        {
         "name": "img_num",
         "rawType": "int64",
         "type": "integer"
        },
        {
         "name": "p1",
         "rawType": "object",
         "type": "string"
        },
        {
         "name": "p1_conf",
         "rawType": "float64",
         "type": "float"
        },
        {
         "name": "p1_dog",
         "rawType": "bool",
         "type": "boolean"
        },
        {
         "name": "p2",
         "rawType": "object",
         "type": "string"
        },
        {
         "name": "p2_conf",
         "rawType": "float64",
         "type": "float"
        },
        {
         "name": "p2_dog",
         "rawType": "bool",
         "type": "boolean"
        },
        {
         "name": "p3",
         "rawType": "object",
         "type": "string"
        },
        {
         "name": "p3_conf",
         "rawType": "float64",
         "type": "float"
        },
        {
         "name": "p3_dog",
         "rawType": "bool",
         "type": "boolean"
        }
       ],
       "conversionMethod": "pd.DataFrame",
       "ref": "513a36f2-a50c-479d-8a9b-293bec3bcceb",
       "rows": [
        [
         "0",
         "666020888022790149",
         "https://pbs.twimg.com/media/CT4udn0WwAA0aMy.jpg",
         "1",
         "Welsh Springer Spaniel",
         "0.465074",
         "True",
         "Collie",
         "0.156665",
         "True",
         "Shetland Sheepdog",
         "0.0614285",
         "True"
        ],
        [
         "1",
         "666029285002620928",
         "https://pbs.twimg.com/media/CT42GRgUYAA5iDo.jpg",
         "1",
         "Redbone",
         "0.506826",
         "True",
         "Miniature Pinscher",
         "0.0741916999999999",
         "True",
         "Rhodesian Ridgeback",
         "0.07201",
         "True"
        ],
        [
         "2",
         "666033412701032449",
         "https://pbs.twimg.com/media/CT4521TWwAEvMyu.jpg",
         "1",
         "German Shepherd",
         "0.596461",
         "True",
         "Malinois",
         "0.1385839999999999",
         "True",
         "Bloodhound",
         "0.116197",
         "True"
        ],
        [
         "3",
         "666044226329800704",
         "https://pbs.twimg.com/media/CT5Dr8HUEAA-lEu.jpg",
         "1",
         "Rhodesian Ridgeback",
         "0.408143",
         "True",
         "Redbone",
         "0.360687",
         "True",
         "Miniature Pinscher",
         "0.222752",
         "True"
        ],
        [
         "4",
         "666049248165822465",
         "https://pbs.twimg.com/media/CT5IQmsXIAAKY4A.jpg",
         "1",
         "Miniature Pinscher",
         "0.560311",
         "True",
         "Rottweiler",
         "0.243682",
         "True",
         "Doberman",
         "0.154629",
         "True"
        ],
        [
         "5",
         "666050758794694657",
         "https://pbs.twimg.com/media/CT5Jof1WUAEuVxN.jpg",
         "1",
         "Bernese Mountain Dog",
         "0.651137",
         "True",
         "English Springer",
         "0.263788",
         "True",
         "Greater Swiss Mountain Dog",
         "0.0161992",
         "True"
        ],
        [
         "6",
         "666051853826850816",
         "https://pbs.twimg.com/media/CT5KoJ1WoAAJash.jpg",
         "1",
         "Box Turtle",
         "0.933012",
         "False",
         "Mud Turtle",
         "0.0458854",
         "False",
         "Terrapin",
         "0.0178852999999999",
         "False"
        ]
       ],
       "shape": {
        "columns": 12,
        "rows": 7
       }
      },
      "text/html": [
       "<div>\n",
       "<style scoped>\n",
       "    .dataframe tbody tr th:only-of-type {\n",
       "        vertical-align: middle;\n",
       "    }\n",
       "\n",
       "    .dataframe tbody tr th {\n",
       "        vertical-align: top;\n",
       "    }\n",
       "\n",
       "    .dataframe thead th {\n",
       "        text-align: right;\n",
       "    }\n",
       "</style>\n",
       "<table border=\"1\" class=\"dataframe\">\n",
       "  <thead>\n",
       "    <tr style=\"text-align: right;\">\n",
       "      <th></th>\n",
       "      <th>tweet_id</th>\n",
       "      <th>jpg_url</th>\n",
       "      <th>img_num</th>\n",
       "      <th>p1</th>\n",
       "      <th>p1_conf</th>\n",
       "      <th>p1_dog</th>\n",
       "      <th>p2</th>\n",
       "      <th>p2_conf</th>\n",
       "      <th>p2_dog</th>\n",
       "      <th>p3</th>\n",
       "      <th>p3_conf</th>\n",
       "      <th>p3_dog</th>\n",
       "    </tr>\n",
       "  </thead>\n",
       "  <tbody>\n",
       "    <tr>\n",
       "      <th>0</th>\n",
       "      <td>666020888022790149</td>\n",
       "      <td>https://pbs.twimg.com/media/CT4udn0WwAA0aMy.jpg</td>\n",
       "      <td>1</td>\n",
       "      <td>Welsh Springer Spaniel</td>\n",
       "      <td>0.465074</td>\n",
       "      <td>True</td>\n",
       "      <td>Collie</td>\n",
       "      <td>0.156665</td>\n",
       "      <td>True</td>\n",
       "      <td>Shetland Sheepdog</td>\n",
       "      <td>0.061428</td>\n",
       "      <td>True</td>\n",
       "    </tr>\n",
       "    <tr>\n",
       "      <th>1</th>\n",
       "      <td>666029285002620928</td>\n",
       "      <td>https://pbs.twimg.com/media/CT42GRgUYAA5iDo.jpg</td>\n",
       "      <td>1</td>\n",
       "      <td>Redbone</td>\n",
       "      <td>0.506826</td>\n",
       "      <td>True</td>\n",
       "      <td>Miniature Pinscher</td>\n",
       "      <td>0.074192</td>\n",
       "      <td>True</td>\n",
       "      <td>Rhodesian Ridgeback</td>\n",
       "      <td>0.072010</td>\n",
       "      <td>True</td>\n",
       "    </tr>\n",
       "    <tr>\n",
       "      <th>2</th>\n",
       "      <td>666033412701032449</td>\n",
       "      <td>https://pbs.twimg.com/media/CT4521TWwAEvMyu.jpg</td>\n",
       "      <td>1</td>\n",
       "      <td>German Shepherd</td>\n",
       "      <td>0.596461</td>\n",
       "      <td>True</td>\n",
       "      <td>Malinois</td>\n",
       "      <td>0.138584</td>\n",
       "      <td>True</td>\n",
       "      <td>Bloodhound</td>\n",
       "      <td>0.116197</td>\n",
       "      <td>True</td>\n",
       "    </tr>\n",
       "    <tr>\n",
       "      <th>3</th>\n",
       "      <td>666044226329800704</td>\n",
       "      <td>https://pbs.twimg.com/media/CT5Dr8HUEAA-lEu.jpg</td>\n",
       "      <td>1</td>\n",
       "      <td>Rhodesian Ridgeback</td>\n",
       "      <td>0.408143</td>\n",
       "      <td>True</td>\n",
       "      <td>Redbone</td>\n",
       "      <td>0.360687</td>\n",
       "      <td>True</td>\n",
       "      <td>Miniature Pinscher</td>\n",
       "      <td>0.222752</td>\n",
       "      <td>True</td>\n",
       "    </tr>\n",
       "    <tr>\n",
       "      <th>4</th>\n",
       "      <td>666049248165822465</td>\n",
       "      <td>https://pbs.twimg.com/media/CT5IQmsXIAAKY4A.jpg</td>\n",
       "      <td>1</td>\n",
       "      <td>Miniature Pinscher</td>\n",
       "      <td>0.560311</td>\n",
       "      <td>True</td>\n",
       "      <td>Rottweiler</td>\n",
       "      <td>0.243682</td>\n",
       "      <td>True</td>\n",
       "      <td>Doberman</td>\n",
       "      <td>0.154629</td>\n",
       "      <td>True</td>\n",
       "    </tr>\n",
       "    <tr>\n",
       "      <th>5</th>\n",
       "      <td>666050758794694657</td>\n",
       "      <td>https://pbs.twimg.com/media/CT5Jof1WUAEuVxN.jpg</td>\n",
       "      <td>1</td>\n",
       "      <td>Bernese Mountain Dog</td>\n",
       "      <td>0.651137</td>\n",
       "      <td>True</td>\n",
       "      <td>English Springer</td>\n",
       "      <td>0.263788</td>\n",
       "      <td>True</td>\n",
       "      <td>Greater Swiss Mountain Dog</td>\n",
       "      <td>0.016199</td>\n",
       "      <td>True</td>\n",
       "    </tr>\n",
       "    <tr>\n",
       "      <th>6</th>\n",
       "      <td>666051853826850816</td>\n",
       "      <td>https://pbs.twimg.com/media/CT5KoJ1WoAAJash.jpg</td>\n",
       "      <td>1</td>\n",
       "      <td>Box Turtle</td>\n",
       "      <td>0.933012</td>\n",
       "      <td>False</td>\n",
       "      <td>Mud Turtle</td>\n",
       "      <td>0.045885</td>\n",
       "      <td>False</td>\n",
       "      <td>Terrapin</td>\n",
       "      <td>0.017885</td>\n",
       "      <td>False</td>\n",
       "    </tr>\n",
       "  </tbody>\n",
       "</table>\n",
       "</div>"
      ],
      "text/plain": [
       "             tweet_id                                          jpg_url  \\\n",
       "0  666020888022790149  https://pbs.twimg.com/media/CT4udn0WwAA0aMy.jpg   \n",
       "1  666029285002620928  https://pbs.twimg.com/media/CT42GRgUYAA5iDo.jpg   \n",
       "2  666033412701032449  https://pbs.twimg.com/media/CT4521TWwAEvMyu.jpg   \n",
       "3  666044226329800704  https://pbs.twimg.com/media/CT5Dr8HUEAA-lEu.jpg   \n",
       "4  666049248165822465  https://pbs.twimg.com/media/CT5IQmsXIAAKY4A.jpg   \n",
       "5  666050758794694657  https://pbs.twimg.com/media/CT5Jof1WUAEuVxN.jpg   \n",
       "6  666051853826850816  https://pbs.twimg.com/media/CT5KoJ1WoAAJash.jpg   \n",
       "\n",
       "   img_num                      p1   p1_conf  p1_dog                  p2  \\\n",
       "0        1  Welsh Springer Spaniel  0.465074    True              Collie   \n",
       "1        1                 Redbone  0.506826    True  Miniature Pinscher   \n",
       "2        1         German Shepherd  0.596461    True            Malinois   \n",
       "3        1     Rhodesian Ridgeback  0.408143    True             Redbone   \n",
       "4        1      Miniature Pinscher  0.560311    True          Rottweiler   \n",
       "5        1    Bernese Mountain Dog  0.651137    True    English Springer   \n",
       "6        1              Box Turtle  0.933012   False          Mud Turtle   \n",
       "\n",
       "    p2_conf  p2_dog                          p3   p3_conf  p3_dog  \n",
       "0  0.156665    True           Shetland Sheepdog  0.061428    True  \n",
       "1  0.074192    True         Rhodesian Ridgeback  0.072010    True  \n",
       "2  0.138584    True                  Bloodhound  0.116197    True  \n",
       "3  0.360687    True          Miniature Pinscher  0.222752    True  \n",
       "4  0.243682    True                    Doberman  0.154629    True  \n",
       "5  0.263788    True  Greater Swiss Mountain Dog  0.016199    True  \n",
       "6  0.045885   False                    Terrapin  0.017885   False  "
      ]
     },
     "execution_count": 123,
     "metadata": {},
     "output_type": "execute_result"
    }
   ],
   "source": [
    "predictions_clean.head(7)"
   ]
  },
  {
   "cell_type": "markdown",
   "id": "44ccc5d1",
   "metadata": {},
   "source": [
    "<hr>"
   ]
  },
  {
   "cell_type": "markdown",
   "id": "d343e29f",
   "metadata": {},
   "source": [
    "## Issue 10"
   ]
  },
  {
   "cell_type": "markdown",
   "id": "30917c81",
   "metadata": {},
   "source": [
    "### Define"
   ]
  },
  {
   "cell_type": "markdown",
   "id": "d3b63adf",
   "metadata": {},
   "source": [
    "Since the duplicated image files represent a duplicate prediction , then they must be dropped to ensure uniqueness of the data"
   ]
  },
  {
   "cell_type": "markdown",
   "id": "2a98b96e",
   "metadata": {},
   "source": [
    "### Code"
   ]
  },
  {
   "cell_type": "code",
   "execution_count": 124,
   "id": "9fd3a683",
   "metadata": {
    "execution": {
     "iopub.execute_input": "2025-04-27T12:28:34.407894Z",
     "iopub.status.busy": "2025-04-27T12:28:34.406309Z",
     "iopub.status.idle": "2025-04-27T12:28:34.429355Z",
     "shell.execute_reply": "2025-04-27T12:28:34.427728Z",
     "shell.execute_reply.started": "2025-04-27T12:28:34.407848Z"
    }
   },
   "outputs": [
    {
     "name": "stdout",
     "output_type": "stream",
     "text": [
      "Predictions before dropping 2075\n",
      "Predictions after dropping 2009\n"
     ]
    }
   ],
   "source": [
    "# Getting a dataframe of the duplicated data\n",
    "duplicates = predictions_clean[predictions_clean[\"jpg_url\"].duplicated()]\n",
    "\n",
    "# Getting indices of duplicate rows\n",
    "indices = duplicates.index\n",
    "\n",
    "# Printing the number of rows in the dataframe before and after dropping\n",
    "print(\n",
    "    f\"Predictions before dropping {predictions_clean.shape[0]}\\nPredictions after dropping {predictions_clean.shape[0] - duplicates.shape[0]}\"\n",
    ")\n",
    "# Dropping duplicates\n",
    "predictions_clean = predictions_clean.drop(indices)"
   ]
  },
  {
   "cell_type": "markdown",
   "id": "ad5a306f",
   "metadata": {},
   "source": [
    "### Test"
   ]
  },
  {
   "cell_type": "code",
   "execution_count": 125,
   "id": "8ee58c5c",
   "metadata": {
    "execution": {
     "iopub.execute_input": "2025-04-27T12:28:34.432831Z",
     "iopub.status.busy": "2025-04-27T12:28:34.431437Z",
     "iopub.status.idle": "2025-04-27T12:28:34.450046Z",
     "shell.execute_reply": "2025-04-27T12:28:34.446812Z",
     "shell.execute_reply.started": "2025-04-27T12:28:34.432732Z"
    }
   },
   "outputs": [
    {
     "data": {
      "text/plain": [
       "np.int64(0)"
      ]
     },
     "execution_count": 125,
     "metadata": {},
     "output_type": "execute_result"
    }
   ],
   "source": [
    "predictions_clean[\"jpg_url\"].duplicated().sum()"
   ]
  },
  {
   "cell_type": "markdown",
   "id": "dc10d8b6",
   "metadata": {},
   "source": [
    "<hr>"
   ]
  },
  {
   "cell_type": "markdown",
   "id": "a26899cc",
   "metadata": {},
   "source": [
    "## Issue 11"
   ]
  },
  {
   "cell_type": "markdown",
   "id": "287faf53",
   "metadata": {},
   "source": [
    "### Define"
   ]
  },
  {
   "cell_type": "markdown",
   "id": "49d895ce",
   "metadata": {},
   "source": [
    "Since we have no other source to get the missing likes from,\n",
    "\n",
    "We also can't fill them with zero as this will be considered as an outlier due to popularity of this account\n",
    "\n",
    "We can just fill with the mean\n",
    "\n",
    "As we noticed in assessment :\n",
    "The rows with missing likes / retweets are 180 rows\n",
    "\n",
    "The total number of rows is 2354\n",
    "\n",
    "So modifying these values won't significantly influence the data"
   ]
  },
  {
   "cell_type": "markdown",
   "id": "cf6286b2",
   "metadata": {},
   "source": [
    "### Code"
   ]
  },
  {
   "cell_type": "code",
   "execution_count": 126,
   "id": "b8c94fff",
   "metadata": {
    "execution": {
     "iopub.execute_input": "2025-04-27T12:28:34.453215Z",
     "iopub.status.busy": "2025-04-27T12:28:34.452187Z",
     "iopub.status.idle": "2025-04-27T12:28:34.466881Z",
     "shell.execute_reply": "2025-04-27T12:28:34.464724Z",
     "shell.execute_reply.started": "2025-04-27T12:28:34.453152Z"
    }
   },
   "outputs": [],
   "source": [
    "tweet_metrics_clean[[\"favorite_count\", \"retweet_count\"]] = tweet_metrics_clean[\n",
    "    [\"favorite_count\", \"retweet_count\"]\n",
    "].replace(0, np.mean)"
   ]
  },
  {
   "cell_type": "markdown",
   "id": "3d6b4564",
   "metadata": {},
   "source": [
    "### Test"
   ]
  },
  {
   "cell_type": "code",
   "execution_count": 127,
   "id": "ac7a614d",
   "metadata": {
    "execution": {
     "iopub.execute_input": "2025-04-27T12:28:34.470620Z",
     "iopub.status.busy": "2025-04-27T12:28:34.469425Z",
     "iopub.status.idle": "2025-04-27T12:28:34.489964Z",
     "shell.execute_reply": "2025-04-27T12:28:34.487767Z",
     "shell.execute_reply.started": "2025-04-27T12:28:34.470547Z"
    }
   },
   "outputs": [
    {
     "data": {
      "text/plain": [
       "0"
      ]
     },
     "execution_count": 127,
     "metadata": {},
     "output_type": "execute_result"
    }
   ],
   "source": [
    "# Filtering for zero values and using .shape[0] to get number of rows\n",
    "tweet_metrics_clean[\n",
    "    (tweet_metrics_clean[\"favorite_count\"] == 0)\n",
    "    | (tweet_metrics_clean[\"retweet_count\"] == 0)\n",
    "].shape[0]"
   ]
  },
  {
   "cell_type": "markdown",
   "id": "c02a9b6c",
   "metadata": {},
   "source": [
    "Issue fixed !"
   ]
  },
  {
   "cell_type": "markdown",
   "id": "38aece1e",
   "metadata": {},
   "source": [
    "<hr>"
   ]
  },
  {
   "cell_type": "markdown",
   "id": "bc1933eb",
   "metadata": {},
   "source": [
    "## Tidiness:"
   ]
  },
  {
   "cell_type": "markdown",
   "id": "67a55bfa",
   "metadata": {},
   "source": [
    "<a href = \"#copy\">Copy data Again </a>"
   ]
  },
  {
   "cell_type": "markdown",
   "id": "f8e97c42",
   "metadata": {},
   "source": [
    "## Issue 12 & Issue 7"
   ]
  },
  {
   "cell_type": "markdown",
   "id": "b908f8ed",
   "metadata": {},
   "source": [
    "### Define"
   ]
  },
  {
   "cell_type": "markdown",
   "id": "3ecaa636",
   "metadata": {},
   "source": [
    "We can melt the dog stages columns and drop them after melting"
   ]
  },
  {
   "cell_type": "markdown",
   "id": "eccfc031",
   "metadata": {},
   "source": [
    "### Code"
   ]
  },
  {
   "cell_type": "code",
   "execution_count": 128,
   "id": "9269d59a",
   "metadata": {
    "execution": {
     "iopub.execute_input": "2025-04-27T12:28:34.516479Z",
     "iopub.status.busy": "2025-04-27T12:28:34.514735Z",
     "iopub.status.idle": "2025-04-27T12:28:34.541023Z",
     "shell.execute_reply": "2025-04-27T12:28:34.539004Z",
     "shell.execute_reply.started": "2025-04-27T12:28:34.516373Z"
    }
   },
   "outputs": [],
   "source": [
    "# Making an empty series for our column\n",
    "dog_stages = pd.Series()\n",
    "\n",
    "# Iterating over the rows\n",
    "for index, row in archive_clean.iterrows():\n",
    "    # Getting the list of dog_stages values\n",
    "    dog_stages[index] = row[[\"doggo\",\"floofer\",\"pupper\",\"puppo\"]].values\n",
    "\n",
    "# Assigning each row to a list containing only dog stages, no NaNs\n",
    "dog_stages = dog_stages.apply(lambda stages : [stage for stage in stages if stage in [\"doggo\",\"floofer\",\"pupper\",\"puppo\"]])\n",
    "\n",
    "# Assigning the new column to the data\n",
    "archive_clean[\"dog_stage\"] = dog_stages\n",
    "\n",
    "# Exploding it to get string values only\n",
    "archive_clean = archive_clean.explode(\"dog_stage\")"
   ]
  },
  {
   "cell_type": "code",
   "execution_count": 129,
   "id": "5bc94ed9",
   "metadata": {},
   "outputs": [],
   "source": [
    "# Dropping useless columns\n",
    "archive_clean = archive_clean.drop([\"doggo\",\"floofer\",\"pupper\",\"puppo\"], axis = 1)\n"
   ]
  },
  {
   "cell_type": "code",
   "execution_count": 130,
   "id": "47324969",
   "metadata": {},
   "outputs": [
    {
     "data": {
      "text/plain": [
       "Series([], Name: dog_stage, dtype: object)"
      ]
     },
     "execution_count": 130,
     "metadata": {},
     "output_type": "execute_result"
    }
   ],
   "source": [
    "# Checking row with 2 dog stages to see if fixed\n",
    "archive_clean.loc[archive_clean[\"tweet_id\"] == 808106460588765185, \"dog_stage\"]"
   ]
  },
  {
   "cell_type": "markdown",
   "id": "849d16cf",
   "metadata": {},
   "source": [
    "Fixed !"
   ]
  },
  {
   "cell_type": "markdown",
   "id": "95383ed6",
   "metadata": {},
   "source": [
    "Fixing the row with incorrect dog stage manually :"
   ]
  },
  {
   "cell_type": "code",
   "execution_count": 131,
   "id": "d6caec1f",
   "metadata": {},
   "outputs": [],
   "source": [
    "archive_clean.loc[archive_clean[\"tweet_id\"] == 854010172552949760, \"dog_stage\"] = \"floofer\""
   ]
  },
  {
   "cell_type": "markdown",
   "id": "e0138366",
   "metadata": {},
   "source": [
    "### Test"
   ]
  },
  {
   "cell_type": "code",
   "execution_count": 132,
   "id": "0da4964b",
   "metadata": {
    "execution": {
     "iopub.execute_input": "2025-04-27T12:28:34.544052Z",
     "iopub.status.busy": "2025-04-27T12:28:34.542797Z",
     "iopub.status.idle": "2025-04-27T12:28:34.564828Z",
     "shell.execute_reply": "2025-04-27T12:28:34.563170Z",
     "shell.execute_reply.started": "2025-04-27T12:28:34.543957Z"
    }
   },
   "outputs": [
    {
     "name": "stdout",
     "output_type": "stream",
     "text": [
      "dog_stage\n",
      "pupper     212\n",
      "doggo       74\n",
      "puppo       23\n",
      "floofer      8\n",
      "Name: count, dtype: int64\n"
     ]
    },
    {
     "data": {
      "text/plain": [
       "2220       NaN\n",
       "1244       NaN\n",
       "747        NaN\n",
       "280        NaN\n",
       "1298       NaN\n",
       "1626       NaN\n",
       "960        NaN\n",
       "1304    pupper\n",
       "1229       NaN\n",
       "970        NaN\n",
       "813        NaN\n",
       "2018       NaN\n",
       "1438       NaN\n",
       "1435       NaN\n",
       "41         NaN\n",
       "1878       NaN\n",
       "299        NaN\n",
       "1296       NaN\n",
       "1759       NaN\n",
       "1908       NaN\n",
       "Name: dog_stage, dtype: object"
      ]
     },
     "execution_count": 132,
     "metadata": {},
     "output_type": "execute_result"
    }
   ],
   "source": [
    "# Printing count of elements of dog_stage and also checking some sample rows\n",
    "print(archive_clean[\"dog_stage\"].value_counts())\n",
    "archive_clean[\"dog_stage\"].sample(20)"
   ]
  },
  {
   "cell_type": "markdown",
   "id": "1a00af35",
   "metadata": {},
   "source": [
    "Checking the row with multiple dog stages : "
   ]
  },
  {
   "cell_type": "code",
   "execution_count": 133,
   "id": "1d442f01",
   "metadata": {},
   "outputs": [
    {
     "data": {
      "application/vnd.microsoft.datawrangler.viewer.v0+json": {
       "columns": [
        {
         "name": "index",
         "rawType": "int64",
         "type": "integer"
        },
        {
         "name": "tweet_id",
         "rawType": "object",
         "type": "string"
        },
        {
         "name": "timestamp",
         "rawType": "datetime64[ns, UTC]",
         "type": "unknown"
        },
        {
         "name": "source",
         "rawType": "object",
         "type": "string"
        },
        {
         "name": "text",
         "rawType": "object",
         "type": "string"
        },
        {
         "name": "expanded_urls",
         "rawType": "object",
         "type": "string"
        },
        {
         "name": "rating_numerator",
         "rawType": "float64",
         "type": "float"
        },
        {
         "name": "rating_denominator",
         "rawType": "float64",
         "type": "float"
        },
        {
         "name": "name",
         "rawType": "object",
         "type": "string"
        },
        {
         "name": "dog_stage",
         "rawType": "object",
         "type": "string"
        }
       ],
       "conversionMethod": "pd.DataFrame",
       "ref": "183437da-414a-4790-a80c-f364f5f2cbee",
       "rows": [
        [
         "531",
         "808106460588765185",
         "2016-12-12 00:29:28+00:00",
         "<a href=\"http://twitter.com/download/iphone\" rel=\"nofollow\">Twitter for iPhone</a>",
         "Here we have Burke (pupper) and Dexter (doggo). Pupper wants to be exactly like doggo. Both 12/10 would pet at same time https://t.co/ANBpEYHaho",
         "https://twitter.com/dog_rates/status/808106460588765185/photo/1",
         "12.0",
         "10.0",
         "Unknown",
         "doggo"
        ],
        [
         "531",
         "808106460588765185",
         "2016-12-12 00:29:28+00:00",
         "<a href=\"http://twitter.com/download/iphone\" rel=\"nofollow\">Twitter for iPhone</a>",
         "Here we have Burke (pupper) and Dexter (doggo). Pupper wants to be exactly like doggo. Both 12/10 would pet at same time https://t.co/ANBpEYHaho",
         "https://twitter.com/dog_rates/status/808106460588765185/photo/1",
         "12.0",
         "10.0",
         "Unknown",
         "pupper"
        ]
       ],
       "shape": {
        "columns": 9,
        "rows": 2
       }
      },
      "text/html": [
       "<div>\n",
       "<style scoped>\n",
       "    .dataframe tbody tr th:only-of-type {\n",
       "        vertical-align: middle;\n",
       "    }\n",
       "\n",
       "    .dataframe tbody tr th {\n",
       "        vertical-align: top;\n",
       "    }\n",
       "\n",
       "    .dataframe thead th {\n",
       "        text-align: right;\n",
       "    }\n",
       "</style>\n",
       "<table border=\"1\" class=\"dataframe\">\n",
       "  <thead>\n",
       "    <tr style=\"text-align: right;\">\n",
       "      <th></th>\n",
       "      <th>tweet_id</th>\n",
       "      <th>timestamp</th>\n",
       "      <th>source</th>\n",
       "      <th>text</th>\n",
       "      <th>expanded_urls</th>\n",
       "      <th>rating_numerator</th>\n",
       "      <th>rating_denominator</th>\n",
       "      <th>name</th>\n",
       "      <th>dog_stage</th>\n",
       "    </tr>\n",
       "  </thead>\n",
       "  <tbody>\n",
       "    <tr>\n",
       "      <th>531</th>\n",
       "      <td>808106460588765185</td>\n",
       "      <td>2016-12-12 00:29:28+00:00</td>\n",
       "      <td>&lt;a href=\"http://twitter.com/download/iphone\" r...</td>\n",
       "      <td>Here we have Burke (pupper) and Dexter (doggo)...</td>\n",
       "      <td>https://twitter.com/dog_rates/status/808106460...</td>\n",
       "      <td>12.0</td>\n",
       "      <td>10.0</td>\n",
       "      <td>Unknown</td>\n",
       "      <td>doggo</td>\n",
       "    </tr>\n",
       "    <tr>\n",
       "      <th>531</th>\n",
       "      <td>808106460588765185</td>\n",
       "      <td>2016-12-12 00:29:28+00:00</td>\n",
       "      <td>&lt;a href=\"http://twitter.com/download/iphone\" r...</td>\n",
       "      <td>Here we have Burke (pupper) and Dexter (doggo)...</td>\n",
       "      <td>https://twitter.com/dog_rates/status/808106460...</td>\n",
       "      <td>12.0</td>\n",
       "      <td>10.0</td>\n",
       "      <td>Unknown</td>\n",
       "      <td>pupper</td>\n",
       "    </tr>\n",
       "  </tbody>\n",
       "</table>\n",
       "</div>"
      ],
      "text/plain": [
       "               tweet_id                 timestamp  \\\n",
       "531  808106460588765185 2016-12-12 00:29:28+00:00   \n",
       "531  808106460588765185 2016-12-12 00:29:28+00:00   \n",
       "\n",
       "                                                source  \\\n",
       "531  <a href=\"http://twitter.com/download/iphone\" r...   \n",
       "531  <a href=\"http://twitter.com/download/iphone\" r...   \n",
       "\n",
       "                                                  text  \\\n",
       "531  Here we have Burke (pupper) and Dexter (doggo)...   \n",
       "531  Here we have Burke (pupper) and Dexter (doggo)...   \n",
       "\n",
       "                                         expanded_urls  rating_numerator  \\\n",
       "531  https://twitter.com/dog_rates/status/808106460...              12.0   \n",
       "531  https://twitter.com/dog_rates/status/808106460...              12.0   \n",
       "\n",
       "     rating_denominator     name dog_stage  \n",
       "531                10.0  Unknown     doggo  \n",
       "531                10.0  Unknown    pupper  "
      ]
     },
     "execution_count": 133,
     "metadata": {},
     "output_type": "execute_result"
    }
   ],
   "source": [
    "archive_clean.loc[archive_clean[\"tweet_id\"] == \"808106460588765185\"]"
   ]
  },
  {
   "cell_type": "markdown",
   "id": "88159cda",
   "metadata": {},
   "source": [
    "The number of NaN's is huge but we have no clue for the dog stage since it wasn't mentioned in the text of the tweet"
   ]
  },
  {
   "cell_type": "markdown",
   "id": "6c309676",
   "metadata": {},
   "source": [
    "<hr>"
   ]
  },
  {
   "cell_type": "markdown",
   "id": "945033a3",
   "metadata": {},
   "source": [
    "## Issue 13"
   ]
  },
  {
   "cell_type": "markdown",
   "id": "b121b2a1",
   "metadata": {},
   "source": [
    "### Define"
   ]
  },
  {
   "cell_type": "markdown",
   "id": "1fc8b369",
   "metadata": {},
   "source": [
    "We can make 4 new columns for the splitted TimeStamp using the .dt accessor of pandas"
   ]
  },
  {
   "cell_type": "markdown",
   "id": "e7999204",
   "metadata": {},
   "source": [
    "### Code"
   ]
  },
  {
   "cell_type": "code",
   "execution_count": 134,
   "id": "3e6a45d4",
   "metadata": {
    "execution": {
     "iopub.execute_input": "2025-04-27T12:28:34.567892Z",
     "iopub.status.busy": "2025-04-27T12:28:34.566724Z",
     "iopub.status.idle": "2025-04-27T12:28:34.591188Z",
     "shell.execute_reply": "2025-04-27T12:28:34.589726Z",
     "shell.execute_reply.started": "2025-04-27T12:28:34.567841Z"
    }
   },
   "outputs": [],
   "source": [
    "# Using .dt accessor to get the desired values of the timestamp\n",
    "archive_clean[\"year\"] = archive_clean[\"timestamp\"].dt.year\n",
    "archive_clean[\"month\"] = archive_clean[\"timestamp\"].dt.month\n",
    "archive_clean[\"day\"] = archive_clean[\"timestamp\"].dt.day\n",
    "archive_clean[\"day_name\"] = archive_clean[\"timestamp\"].dt.day_name()\n",
    "\n",
    "# Dropping the timestamp column since it's now cleaned and splitted\n",
    "archive_clean = archive_clean.drop(\"timestamp\", axis=1)"
   ]
  },
  {
   "cell_type": "markdown",
   "id": "2d88fb70",
   "metadata": {},
   "source": [
    "### Test"
   ]
  },
  {
   "cell_type": "code",
   "execution_count": 135,
   "id": "8b6e9d15",
   "metadata": {
    "execution": {
     "iopub.execute_input": "2025-04-27T12:28:34.593719Z",
     "iopub.status.busy": "2025-04-27T12:28:34.592958Z",
     "iopub.status.idle": "2025-04-27T12:28:34.615951Z",
     "shell.execute_reply": "2025-04-27T12:28:34.614419Z",
     "shell.execute_reply.started": "2025-04-27T12:28:34.593670Z"
    }
   },
   "outputs": [
    {
     "data": {
      "application/vnd.microsoft.datawrangler.viewer.v0+json": {
       "columns": [
        {
         "name": "index",
         "rawType": "int64",
         "type": "integer"
        },
        {
         "name": "tweet_id",
         "rawType": "object",
         "type": "string"
        },
        {
         "name": "year",
         "rawType": "int32",
         "type": "integer"
        },
        {
         "name": "month",
         "rawType": "int32",
         "type": "integer"
        },
        {
         "name": "day",
         "rawType": "int32",
         "type": "integer"
        },
        {
         "name": "day_name",
         "rawType": "object",
         "type": "string"
        }
       ],
       "conversionMethod": "pd.DataFrame",
       "ref": "edf5fe2b-f6c2-4279-a017-4e27fce3c6eb",
       "rows": [
        [
         "120",
         "869702957897576449",
         "2017",
         "5",
         "30",
         "Tuesday"
        ],
        [
         "2112",
         "670435821946826752",
         "2015",
         "11",
         "28",
         "Saturday"
        ],
        [
         "1302",
         "707610948723478529",
         "2016",
         "3",
         "9",
         "Wednesday"
        ],
        [
         "2144",
         "669942763794931712",
         "2015",
         "11",
         "26",
         "Thursday"
        ],
        [
         "663",
         "790946055508652032",
         "2016",
         "10",
         "25",
         "Tuesday"
        ],
        [
         "787",
         "774639387460112384",
         "2016",
         "9",
         "10",
         "Saturday"
        ],
        [
         "1406",
         "699088579889332224",
         "2016",
         "2",
         "15",
         "Monday"
        ],
        [
         "463",
         "817423860136083457",
         "2017",
         "1",
         "6",
         "Friday"
        ],
        [
         "1517",
         "690938899477221376",
         "2016",
         "1",
         "23",
         "Saturday"
        ],
        [
         "1508",
         "691483041324204033",
         "2016",
         "1",
         "25",
         "Monday"
        ]
       ],
       "shape": {
        "columns": 5,
        "rows": 10
       }
      },
      "text/html": [
       "<div>\n",
       "<style scoped>\n",
       "    .dataframe tbody tr th:only-of-type {\n",
       "        vertical-align: middle;\n",
       "    }\n",
       "\n",
       "    .dataframe tbody tr th {\n",
       "        vertical-align: top;\n",
       "    }\n",
       "\n",
       "    .dataframe thead th {\n",
       "        text-align: right;\n",
       "    }\n",
       "</style>\n",
       "<table border=\"1\" class=\"dataframe\">\n",
       "  <thead>\n",
       "    <tr style=\"text-align: right;\">\n",
       "      <th></th>\n",
       "      <th>tweet_id</th>\n",
       "      <th>year</th>\n",
       "      <th>month</th>\n",
       "      <th>day</th>\n",
       "      <th>day_name</th>\n",
       "    </tr>\n",
       "  </thead>\n",
       "  <tbody>\n",
       "    <tr>\n",
       "      <th>120</th>\n",
       "      <td>869702957897576449</td>\n",
       "      <td>2017</td>\n",
       "      <td>5</td>\n",
       "      <td>30</td>\n",
       "      <td>Tuesday</td>\n",
       "    </tr>\n",
       "    <tr>\n",
       "      <th>2112</th>\n",
       "      <td>670435821946826752</td>\n",
       "      <td>2015</td>\n",
       "      <td>11</td>\n",
       "      <td>28</td>\n",
       "      <td>Saturday</td>\n",
       "    </tr>\n",
       "    <tr>\n",
       "      <th>1302</th>\n",
       "      <td>707610948723478529</td>\n",
       "      <td>2016</td>\n",
       "      <td>3</td>\n",
       "      <td>9</td>\n",
       "      <td>Wednesday</td>\n",
       "    </tr>\n",
       "    <tr>\n",
       "      <th>2144</th>\n",
       "      <td>669942763794931712</td>\n",
       "      <td>2015</td>\n",
       "      <td>11</td>\n",
       "      <td>26</td>\n",
       "      <td>Thursday</td>\n",
       "    </tr>\n",
       "    <tr>\n",
       "      <th>663</th>\n",
       "      <td>790946055508652032</td>\n",
       "      <td>2016</td>\n",
       "      <td>10</td>\n",
       "      <td>25</td>\n",
       "      <td>Tuesday</td>\n",
       "    </tr>\n",
       "    <tr>\n",
       "      <th>787</th>\n",
       "      <td>774639387460112384</td>\n",
       "      <td>2016</td>\n",
       "      <td>9</td>\n",
       "      <td>10</td>\n",
       "      <td>Saturday</td>\n",
       "    </tr>\n",
       "    <tr>\n",
       "      <th>1406</th>\n",
       "      <td>699088579889332224</td>\n",
       "      <td>2016</td>\n",
       "      <td>2</td>\n",
       "      <td>15</td>\n",
       "      <td>Monday</td>\n",
       "    </tr>\n",
       "    <tr>\n",
       "      <th>463</th>\n",
       "      <td>817423860136083457</td>\n",
       "      <td>2017</td>\n",
       "      <td>1</td>\n",
       "      <td>6</td>\n",
       "      <td>Friday</td>\n",
       "    </tr>\n",
       "    <tr>\n",
       "      <th>1517</th>\n",
       "      <td>690938899477221376</td>\n",
       "      <td>2016</td>\n",
       "      <td>1</td>\n",
       "      <td>23</td>\n",
       "      <td>Saturday</td>\n",
       "    </tr>\n",
       "    <tr>\n",
       "      <th>1508</th>\n",
       "      <td>691483041324204033</td>\n",
       "      <td>2016</td>\n",
       "      <td>1</td>\n",
       "      <td>25</td>\n",
       "      <td>Monday</td>\n",
       "    </tr>\n",
       "  </tbody>\n",
       "</table>\n",
       "</div>"
      ],
      "text/plain": [
       "                tweet_id  year  month  day   day_name\n",
       "120   869702957897576449  2017      5   30    Tuesday\n",
       "2112  670435821946826752  2015     11   28   Saturday\n",
       "1302  707610948723478529  2016      3    9  Wednesday\n",
       "2144  669942763794931712  2015     11   26   Thursday\n",
       "663   790946055508652032  2016     10   25    Tuesday\n",
       "787   774639387460112384  2016      9   10   Saturday\n",
       "1406  699088579889332224  2016      2   15     Monday\n",
       "463   817423860136083457  2017      1    6     Friday\n",
       "1517  690938899477221376  2016      1   23   Saturday\n",
       "1508  691483041324204033  2016      1   25     Monday"
      ]
     },
     "execution_count": 135,
     "metadata": {},
     "output_type": "execute_result"
    }
   ],
   "source": [
    "archive_clean.loc[:, [\"tweet_id\", \"year\", \"month\", \"day\", \"day_name\"]].sample(\n",
    "    10\n",
    ")"
   ]
  },
  {
   "cell_type": "markdown",
   "id": "49eb33bf",
   "metadata": {},
   "source": [
    "<hr>"
   ]
  },
  {
   "cell_type": "markdown",
   "id": "41c97448",
   "metadata": {},
   "source": [
    "## Issue 14"
   ]
  },
  {
   "cell_type": "markdown",
   "id": "1e675140",
   "metadata": {},
   "source": [
    "### Define"
   ]
  },
  {
   "cell_type": "markdown",
   "id": "77f1a198",
   "metadata": {},
   "source": [
    "We will use a regular expression to extract the link at end of tweet then assign it to a different column\n",
    "\n",
    "Then we remove it from the text column"
   ]
  },
  {
   "cell_type": "markdown",
   "id": "753b8870",
   "metadata": {},
   "source": [
    "### Code"
   ]
  },
  {
   "cell_type": "code",
   "execution_count": 136,
   "id": "73e67215",
   "metadata": {
    "execution": {
     "iopub.execute_input": "2025-04-27T12:28:34.619168Z",
     "iopub.status.busy": "2025-04-27T12:28:34.617908Z",
     "iopub.status.idle": "2025-04-27T12:28:34.657137Z",
     "shell.execute_reply": "2025-04-27T12:28:34.653779Z",
     "shell.execute_reply.started": "2025-04-27T12:28:34.619102Z"
    }
   },
   "outputs": [],
   "source": [
    "# Extracting links using regex\n",
    "archive_clean[\"tweet_link\"] = archive_clean[\"text\"].str.extract(\n",
    "    \"(https://t.co/.*)\"\n",
    ")\n",
    "\n",
    "# Replacing links with '' using the regex parameter\n",
    "archive_clean[\"text\"] = archive_clean[\"text\"].str.replace(\n",
    "    # Adding an optional whitespace to remove the whitespace at last of text\n",
    "    \" ?https://t.co/.*\",\n",
    "    \"\",\n",
    "    regex=True,\n",
    ")"
   ]
  },
  {
   "cell_type": "markdown",
   "id": "c61dd004",
   "metadata": {},
   "source": [
    "### Test"
   ]
  },
  {
   "cell_type": "code",
   "execution_count": 137,
   "id": "63012f76",
   "metadata": {
    "execution": {
     "iopub.execute_input": "2025-04-27T12:28:34.662344Z",
     "iopub.status.busy": "2025-04-27T12:28:34.661283Z",
     "iopub.status.idle": "2025-04-27T12:28:34.680219Z",
     "shell.execute_reply": "2025-04-27T12:28:34.678034Z",
     "shell.execute_reply.started": "2025-04-27T12:28:34.662266Z"
    }
   },
   "outputs": [
    {
     "data": {
      "text/plain": [
       "array([['This is a Birmingham Quagmire named Chuk. Loves to relax and watch the game while sippin on that iced mocha. 10/10',\n",
       "        'https://t.co/HvNg9JWxFt'],\n",
       "       [\"This is Dexter. He's a shy pup. Doesn't bark much. Dreadful fetcher. Has rare sun allergy. 7/10 still petable\",\n",
       "        'https://t.co/sA7P3JSqiv'],\n",
       "       [\"This is Hank. He's been outside for 3 minutes and already made a friend. Way to go Hank. 11/10 for both\",\n",
       "        'https://t.co/wHUElL84RC'],\n",
       "       ['Meet Trooper. He picks pup recyclables that have blown out of bins in the neighborhood and puts them back. 13/10 environmentally savvy af',\n",
       "        'https://t.co/BqSttrTuIl'],\n",
       "       ['Happy Easter from the squad! 🐇🐶 13/10 for all',\n",
       "        'https://t.co/YMx4KWJUAB'],\n",
       "       ['This is Gert. He just wants you to be happy. 11/10 would pat on the head so damn well',\n",
       "        'https://t.co/l0Iwj6rLFW'],\n",
       "       ['Say hello to Maddie and Gunner. They are considerably pupset about bath time. Both 12/10 but Gunner needs your help\\r\\n\\r\\n',\n",
       "        'https://t.co/JesYTzb1Jo https://t.co/5cncH08G1o']], dtype=object)"
      ]
     },
     "execution_count": 137,
     "metadata": {},
     "output_type": "execute_result"
    }
   ],
   "source": [
    "# Checking the tweet's text and the extracted links in 7 random rows\n",
    "archive_clean[[\"text\", \"tweet_link\"]].sample(7).values"
   ]
  },
  {
   "cell_type": "markdown",
   "id": "e5712fe4",
   "metadata": {},
   "source": [
    "<hr>"
   ]
  },
  {
   "cell_type": "markdown",
   "id": "a41fc55a",
   "metadata": {},
   "source": [
    "## Issue 15"
   ]
  },
  {
   "cell_type": "markdown",
   "id": "b3cd4cde",
   "metadata": {},
   "source": [
    "### Define"
   ]
  },
  {
   "cell_type": "markdown",
   "id": "3de6b4d3",
   "metadata": {},
   "source": [
    "We can just drop the column using .drop() with an axis of 1"
   ]
  },
  {
   "cell_type": "markdown",
   "id": "d305594e",
   "metadata": {},
   "source": [
    "### Code"
   ]
  },
  {
   "cell_type": "code",
   "execution_count": 138,
   "id": "52a43dec",
   "metadata": {
    "execution": {
     "iopub.execute_input": "2025-04-27T12:28:34.684317Z",
     "iopub.status.busy": "2025-04-27T12:28:34.683160Z",
     "iopub.status.idle": "2025-04-27T12:28:34.697589Z",
     "shell.execute_reply": "2025-04-27T12:28:34.694462Z",
     "shell.execute_reply.started": "2025-04-27T12:28:34.684256Z"
    }
   },
   "outputs": [],
   "source": [
    "predictions_clean = predictions_clean.drop(\"img_num\", axis=1)"
   ]
  },
  {
   "cell_type": "markdown",
   "id": "787a58c9",
   "metadata": {},
   "source": [
    "### Test"
   ]
  },
  {
   "cell_type": "code",
   "execution_count": 139,
   "id": "bdd86163",
   "metadata": {
    "execution": {
     "iopub.execute_input": "2025-04-27T12:28:34.702223Z",
     "iopub.status.busy": "2025-04-27T12:28:34.701000Z",
     "iopub.status.idle": "2025-04-27T12:28:34.740799Z",
     "shell.execute_reply": "2025-04-27T12:28:34.737904Z",
     "shell.execute_reply.started": "2025-04-27T12:28:34.702116Z"
    }
   },
   "outputs": [
    {
     "data": {
      "application/vnd.microsoft.datawrangler.viewer.v0+json": {
       "columns": [
        {
         "name": "index",
         "rawType": "int64",
         "type": "integer"
        },
        {
         "name": "tweet_id",
         "rawType": "object",
         "type": "string"
        },
        {
         "name": "jpg_url",
         "rawType": "object",
         "type": "string"
        },
        {
         "name": "p1",
         "rawType": "object",
         "type": "string"
        },
        {
         "name": "p1_conf",
         "rawType": "float64",
         "type": "float"
        },
        {
         "name": "p1_dog",
         "rawType": "bool",
         "type": "boolean"
        },
        {
         "name": "p2",
         "rawType": "object",
         "type": "string"
        },
        {
         "name": "p2_conf",
         "rawType": "float64",
         "type": "float"
        },
        {
         "name": "p2_dog",
         "rawType": "bool",
         "type": "boolean"
        },
        {
         "name": "p3",
         "rawType": "object",
         "type": "string"
        },
        {
         "name": "p3_conf",
         "rawType": "float64",
         "type": "float"
        },
        {
         "name": "p3_dog",
         "rawType": "bool",
         "type": "boolean"
        }
       ],
       "conversionMethod": "pd.DataFrame",
       "ref": "2f0f4f05-062e-4d01-953c-38804fb72922",
       "rows": [
        [
         "0",
         "666020888022790149",
         "https://pbs.twimg.com/media/CT4udn0WwAA0aMy.jpg",
         "Welsh Springer Spaniel",
         "0.465074",
         "True",
         "Collie",
         "0.156665",
         "True",
         "Shetland Sheepdog",
         "0.0614285",
         "True"
        ],
        [
         "1",
         "666029285002620928",
         "https://pbs.twimg.com/media/CT42GRgUYAA5iDo.jpg",
         "Redbone",
         "0.506826",
         "True",
         "Miniature Pinscher",
         "0.0741916999999999",
         "True",
         "Rhodesian Ridgeback",
         "0.07201",
         "True"
        ],
        [
         "2",
         "666033412701032449",
         "https://pbs.twimg.com/media/CT4521TWwAEvMyu.jpg",
         "German Shepherd",
         "0.596461",
         "True",
         "Malinois",
         "0.1385839999999999",
         "True",
         "Bloodhound",
         "0.116197",
         "True"
        ],
        [
         "3",
         "666044226329800704",
         "https://pbs.twimg.com/media/CT5Dr8HUEAA-lEu.jpg",
         "Rhodesian Ridgeback",
         "0.408143",
         "True",
         "Redbone",
         "0.360687",
         "True",
         "Miniature Pinscher",
         "0.222752",
         "True"
        ],
        [
         "4",
         "666049248165822465",
         "https://pbs.twimg.com/media/CT5IQmsXIAAKY4A.jpg",
         "Miniature Pinscher",
         "0.560311",
         "True",
         "Rottweiler",
         "0.243682",
         "True",
         "Doberman",
         "0.154629",
         "True"
        ],
        [
         "5",
         "666050758794694657",
         "https://pbs.twimg.com/media/CT5Jof1WUAEuVxN.jpg",
         "Bernese Mountain Dog",
         "0.651137",
         "True",
         "English Springer",
         "0.263788",
         "True",
         "Greater Swiss Mountain Dog",
         "0.0161992",
         "True"
        ],
        [
         "6",
         "666051853826850816",
         "https://pbs.twimg.com/media/CT5KoJ1WoAAJash.jpg",
         "Box Turtle",
         "0.933012",
         "False",
         "Mud Turtle",
         "0.0458854",
         "False",
         "Terrapin",
         "0.0178852999999999",
         "False"
        ]
       ],
       "shape": {
        "columns": 11,
        "rows": 7
       }
      },
      "text/html": [
       "<div>\n",
       "<style scoped>\n",
       "    .dataframe tbody tr th:only-of-type {\n",
       "        vertical-align: middle;\n",
       "    }\n",
       "\n",
       "    .dataframe tbody tr th {\n",
       "        vertical-align: top;\n",
       "    }\n",
       "\n",
       "    .dataframe thead th {\n",
       "        text-align: right;\n",
       "    }\n",
       "</style>\n",
       "<table border=\"1\" class=\"dataframe\">\n",
       "  <thead>\n",
       "    <tr style=\"text-align: right;\">\n",
       "      <th></th>\n",
       "      <th>tweet_id</th>\n",
       "      <th>jpg_url</th>\n",
       "      <th>p1</th>\n",
       "      <th>p1_conf</th>\n",
       "      <th>p1_dog</th>\n",
       "      <th>p2</th>\n",
       "      <th>p2_conf</th>\n",
       "      <th>p2_dog</th>\n",
       "      <th>p3</th>\n",
       "      <th>p3_conf</th>\n",
       "      <th>p3_dog</th>\n",
       "    </tr>\n",
       "  </thead>\n",
       "  <tbody>\n",
       "    <tr>\n",
       "      <th>0</th>\n",
       "      <td>666020888022790149</td>\n",
       "      <td>https://pbs.twimg.com/media/CT4udn0WwAA0aMy.jpg</td>\n",
       "      <td>Welsh Springer Spaniel</td>\n",
       "      <td>0.465074</td>\n",
       "      <td>True</td>\n",
       "      <td>Collie</td>\n",
       "      <td>0.156665</td>\n",
       "      <td>True</td>\n",
       "      <td>Shetland Sheepdog</td>\n",
       "      <td>0.061428</td>\n",
       "      <td>True</td>\n",
       "    </tr>\n",
       "    <tr>\n",
       "      <th>1</th>\n",
       "      <td>666029285002620928</td>\n",
       "      <td>https://pbs.twimg.com/media/CT42GRgUYAA5iDo.jpg</td>\n",
       "      <td>Redbone</td>\n",
       "      <td>0.506826</td>\n",
       "      <td>True</td>\n",
       "      <td>Miniature Pinscher</td>\n",
       "      <td>0.074192</td>\n",
       "      <td>True</td>\n",
       "      <td>Rhodesian Ridgeback</td>\n",
       "      <td>0.072010</td>\n",
       "      <td>True</td>\n",
       "    </tr>\n",
       "    <tr>\n",
       "      <th>2</th>\n",
       "      <td>666033412701032449</td>\n",
       "      <td>https://pbs.twimg.com/media/CT4521TWwAEvMyu.jpg</td>\n",
       "      <td>German Shepherd</td>\n",
       "      <td>0.596461</td>\n",
       "      <td>True</td>\n",
       "      <td>Malinois</td>\n",
       "      <td>0.138584</td>\n",
       "      <td>True</td>\n",
       "      <td>Bloodhound</td>\n",
       "      <td>0.116197</td>\n",
       "      <td>True</td>\n",
       "    </tr>\n",
       "    <tr>\n",
       "      <th>3</th>\n",
       "      <td>666044226329800704</td>\n",
       "      <td>https://pbs.twimg.com/media/CT5Dr8HUEAA-lEu.jpg</td>\n",
       "      <td>Rhodesian Ridgeback</td>\n",
       "      <td>0.408143</td>\n",
       "      <td>True</td>\n",
       "      <td>Redbone</td>\n",
       "      <td>0.360687</td>\n",
       "      <td>True</td>\n",
       "      <td>Miniature Pinscher</td>\n",
       "      <td>0.222752</td>\n",
       "      <td>True</td>\n",
       "    </tr>\n",
       "    <tr>\n",
       "      <th>4</th>\n",
       "      <td>666049248165822465</td>\n",
       "      <td>https://pbs.twimg.com/media/CT5IQmsXIAAKY4A.jpg</td>\n",
       "      <td>Miniature Pinscher</td>\n",
       "      <td>0.560311</td>\n",
       "      <td>True</td>\n",
       "      <td>Rottweiler</td>\n",
       "      <td>0.243682</td>\n",
       "      <td>True</td>\n",
       "      <td>Doberman</td>\n",
       "      <td>0.154629</td>\n",
       "      <td>True</td>\n",
       "    </tr>\n",
       "    <tr>\n",
       "      <th>5</th>\n",
       "      <td>666050758794694657</td>\n",
       "      <td>https://pbs.twimg.com/media/CT5Jof1WUAEuVxN.jpg</td>\n",
       "      <td>Bernese Mountain Dog</td>\n",
       "      <td>0.651137</td>\n",
       "      <td>True</td>\n",
       "      <td>English Springer</td>\n",
       "      <td>0.263788</td>\n",
       "      <td>True</td>\n",
       "      <td>Greater Swiss Mountain Dog</td>\n",
       "      <td>0.016199</td>\n",
       "      <td>True</td>\n",
       "    </tr>\n",
       "    <tr>\n",
       "      <th>6</th>\n",
       "      <td>666051853826850816</td>\n",
       "      <td>https://pbs.twimg.com/media/CT5KoJ1WoAAJash.jpg</td>\n",
       "      <td>Box Turtle</td>\n",
       "      <td>0.933012</td>\n",
       "      <td>False</td>\n",
       "      <td>Mud Turtle</td>\n",
       "      <td>0.045885</td>\n",
       "      <td>False</td>\n",
       "      <td>Terrapin</td>\n",
       "      <td>0.017885</td>\n",
       "      <td>False</td>\n",
       "    </tr>\n",
       "  </tbody>\n",
       "</table>\n",
       "</div>"
      ],
      "text/plain": [
       "             tweet_id                                          jpg_url  \\\n",
       "0  666020888022790149  https://pbs.twimg.com/media/CT4udn0WwAA0aMy.jpg   \n",
       "1  666029285002620928  https://pbs.twimg.com/media/CT42GRgUYAA5iDo.jpg   \n",
       "2  666033412701032449  https://pbs.twimg.com/media/CT4521TWwAEvMyu.jpg   \n",
       "3  666044226329800704  https://pbs.twimg.com/media/CT5Dr8HUEAA-lEu.jpg   \n",
       "4  666049248165822465  https://pbs.twimg.com/media/CT5IQmsXIAAKY4A.jpg   \n",
       "5  666050758794694657  https://pbs.twimg.com/media/CT5Jof1WUAEuVxN.jpg   \n",
       "6  666051853826850816  https://pbs.twimg.com/media/CT5KoJ1WoAAJash.jpg   \n",
       "\n",
       "                       p1   p1_conf  p1_dog                  p2   p2_conf  \\\n",
       "0  Welsh Springer Spaniel  0.465074    True              Collie  0.156665   \n",
       "1                 Redbone  0.506826    True  Miniature Pinscher  0.074192   \n",
       "2         German Shepherd  0.596461    True            Malinois  0.138584   \n",
       "3     Rhodesian Ridgeback  0.408143    True             Redbone  0.360687   \n",
       "4      Miniature Pinscher  0.560311    True          Rottweiler  0.243682   \n",
       "5    Bernese Mountain Dog  0.651137    True    English Springer  0.263788   \n",
       "6              Box Turtle  0.933012   False          Mud Turtle  0.045885   \n",
       "\n",
       "   p2_dog                          p3   p3_conf  p3_dog  \n",
       "0    True           Shetland Sheepdog  0.061428    True  \n",
       "1    True         Rhodesian Ridgeback  0.072010    True  \n",
       "2    True                  Bloodhound  0.116197    True  \n",
       "3    True          Miniature Pinscher  0.222752    True  \n",
       "4    True                    Doberman  0.154629    True  \n",
       "5    True  Greater Swiss Mountain Dog  0.016199    True  \n",
       "6   False                    Terrapin  0.017885   False  "
      ]
     },
     "execution_count": 139,
     "metadata": {},
     "output_type": "execute_result"
    }
   ],
   "source": [
    "predictions_clean.head(7)"
   ]
  },
  {
   "cell_type": "markdown",
   "id": "43000212",
   "metadata": {},
   "source": [
    "<hr>"
   ]
  },
  {
   "cell_type": "markdown",
   "id": "77cd5de0",
   "metadata": {},
   "source": [
    "## Issue 16"
   ]
  },
  {
   "cell_type": "markdown",
   "id": "dea98bce",
   "metadata": {},
   "source": [
    "### Define"
   ]
  },
  {
   "cell_type": "markdown",
   "id": "c0638e63",
   "metadata": {},
   "source": [
    "We can merge the data on tweet_id as a unique Identifer and use left way for keeping only matching tweets from the archive"
   ]
  },
  {
   "cell_type": "markdown",
   "id": "d386d611",
   "metadata": {},
   "source": [
    "### Code"
   ]
  },
  {
   "cell_type": "code",
   "execution_count": 140,
   "id": "2436545f",
   "metadata": {
    "execution": {
     "iopub.execute_input": "2025-04-27T12:28:34.744598Z",
     "iopub.status.busy": "2025-04-27T12:28:34.743232Z",
     "iopub.status.idle": "2025-04-27T12:28:34.784427Z",
     "shell.execute_reply": "2025-04-27T12:28:34.783155Z",
     "shell.execute_reply.started": "2025-04-27T12:28:34.744499Z"
    }
   },
   "outputs": [],
   "source": [
    "# Renaming the ID column in likes / retweets dataframe so it matches the 2 other dataframes\n",
    "tweet_metrics_clean = tweet_metrics_clean.rename(columns={\"id\": \"tweet_id\"})\n",
    "\n",
    "# Since merge() accepts only two dataframes at once we can merge twice then\n",
    "merged_1 = pd.merge(\n",
    "    left=archive_clean, right=predictions_clean, how=\"left\", on=\"tweet_id\"\n",
    ")\n",
    "\n",
    "archive_master = pd.merge(\n",
    "    left=merged_1, right=tweet_metrics_clean, how=\"left\", on=\"tweet_id\"\n",
    ")"
   ]
  },
  {
   "cell_type": "markdown",
   "id": "226f56e6",
   "metadata": {},
   "source": [
    "An issue I noticed was that after merging, the tweet's metrics now became objects instead of Integers  \n",
    "I will fix that"
   ]
  },
  {
   "cell_type": "code",
   "execution_count": 141,
   "id": "95cea039",
   "metadata": {},
   "outputs": [
    {
     "data": {
      "text/plain": [
       "tweet_id               object\n",
       "source                 object\n",
       "text                   object\n",
       "expanded_urls          object\n",
       "rating_numerator      float64\n",
       "rating_denominator    float64\n",
       "name                   object\n",
       "dog_stage              object\n",
       "year                    int32\n",
       "month                   int32\n",
       "day                     int32\n",
       "day_name               object\n",
       "tweet_link             object\n",
       "jpg_url                object\n",
       "p1                     object\n",
       "p1_conf               float64\n",
       "p1_dog                   bool\n",
       "p2                     object\n",
       "p2_conf               float64\n",
       "p2_dog                   bool\n",
       "p3                     object\n",
       "p3_conf               float64\n",
       "p3_dog                   bool\n",
       "favorite_count         object\n",
       "retweet_count          object\n",
       "dtype: object"
      ]
     },
     "execution_count": 141,
     "metadata": {},
     "output_type": "execute_result"
    }
   ],
   "source": [
    "# Proving the issue\n",
    "archive_master.dtypes"
   ]
  },
  {
   "cell_type": "code",
   "execution_count": 142,
   "id": "2274cf69",
   "metadata": {},
   "outputs": [],
   "source": [
    "archive_master[\"favorite_count\"] = archive_master[\"favorite_count\"].astype(int)\n",
    "archive_master[\"retweet_count\"] = archive_master[\"retweet_count\"].astype(int)"
   ]
  },
  {
   "cell_type": "markdown",
   "id": "a097281c",
   "metadata": {},
   "source": [
    "### Test"
   ]
  },
  {
   "cell_type": "code",
   "execution_count": 143,
   "id": "cd7dd35c",
   "metadata": {
    "execution": {
     "iopub.execute_input": "2025-04-27T12:28:34.786927Z",
     "iopub.status.busy": "2025-04-27T12:28:34.785991Z",
     "iopub.status.idle": "2025-04-27T12:28:34.846492Z",
     "shell.execute_reply": "2025-04-27T12:28:34.844880Z",
     "shell.execute_reply.started": "2025-04-27T12:28:34.786882Z"
    }
   },
   "outputs": [
    {
     "data": {
      "application/vnd.microsoft.datawrangler.viewer.v0+json": {
       "columns": [
        {
         "name": "index",
         "rawType": "int64",
         "type": "integer"
        },
        {
         "name": "tweet_id",
         "rawType": "object",
         "type": "string"
        },
        {
         "name": "source",
         "rawType": "object",
         "type": "string"
        },
        {
         "name": "text",
         "rawType": "object",
         "type": "string"
        },
        {
         "name": "expanded_urls",
         "rawType": "object",
         "type": "string"
        },
        {
         "name": "rating_numerator",
         "rawType": "float64",
         "type": "float"
        },
        {
         "name": "rating_denominator",
         "rawType": "float64",
         "type": "float"
        },
        {
         "name": "name",
         "rawType": "object",
         "type": "string"
        },
        {
         "name": "dog_stage",
         "rawType": "object",
         "type": "unknown"
        },
        {
         "name": "year",
         "rawType": "int32",
         "type": "integer"
        },
        {
         "name": "month",
         "rawType": "int32",
         "type": "integer"
        },
        {
         "name": "day",
         "rawType": "int32",
         "type": "integer"
        },
        {
         "name": "day_name",
         "rawType": "object",
         "type": "string"
        },
        {
         "name": "tweet_link",
         "rawType": "object",
         "type": "string"
        },
        {
         "name": "jpg_url",
         "rawType": "object",
         "type": "string"
        },
        {
         "name": "p1",
         "rawType": "object",
         "type": "string"
        },
        {
         "name": "p1_conf",
         "rawType": "float64",
         "type": "float"
        },
        {
         "name": "p1_dog",
         "rawType": "bool",
         "type": "boolean"
        },
        {
         "name": "p2",
         "rawType": "object",
         "type": "string"
        },
        {
         "name": "p2_conf",
         "rawType": "float64",
         "type": "float"
        },
        {
         "name": "p2_dog",
         "rawType": "bool",
         "type": "boolean"
        },
        {
         "name": "p3",
         "rawType": "object",
         "type": "string"
        },
        {
         "name": "p3_conf",
         "rawType": "float64",
         "type": "float"
        },
        {
         "name": "p3_dog",
         "rawType": "bool",
         "type": "boolean"
        },
        {
         "name": "favorite_count",
         "rawType": "int64",
         "type": "integer"
        },
        {
         "name": "retweet_count",
         "rawType": "int64",
         "type": "integer"
        }
       ],
       "conversionMethod": "pd.DataFrame",
       "ref": "ae8b530e-ddf3-47eb-925f-98598fda4641",
       "rows": [
        [
         "34",
         "884876753390489601",
         "<a href=\"http://twitter.com/download/iphone\" rel=\"nofollow\">Twitter for iPhone</a>",
         "This is Lola. It's her first time outside. Must test the earth and taste the atmosphere. 13/10 you're doing great Lola",
         "https://twitter.com/dog_rates/status/884876753390489601/photo/1,https://twitter.com/dog_rates/status/884876753390489601/photo/1,https://twitter.com/dog_rates/status/884876753390489601/photo/1,https://twitter.com/dog_rates/status/884876753390489601/photo/1",
         "13.0",
         "10.0",
         "Lola",
         null,
         "2017",
         "7",
         "11",
         "Tuesday",
         "https://t.co/74TKAUsLkO",
         "https://pbs.twimg.com/media/DEe2tZXXkAAwyX3.jpg",
         "Chow",
         "0.822103",
         "True",
         "Norwich Terrier",
         "0.106075",
         "True",
         "Norfolk Terrier",
         "0.0373485",
         "True",
         "28514",
         "6096"
        ],
        [
         "419",
         "803276597545603072",
         "<a href=\"http://twitter.com/download/iphone\" rel=\"nofollow\">Twitter for iPhone</a>",
         "This is Winston. His selfie game is legendary. Will steal your girl with a single snap. 11/10 handsome as h*ck",
         "https://twitter.com/dog_rates/status/803276597545603072/photo/1",
         "11.0",
         "10.0",
         "Winston",
         null,
         "2016",
         "11",
         "28",
         "Monday",
         "https://t.co/jxQhxoPsgL",
         "https://pbs.twimg.com/media/CyXPzXRWgAAvd1j.jpg",
         "Pembroke",
         "0.457086",
         "True",
         "Chow",
         "0.307801",
         "True",
         "Golden Retriever",
         "0.0499881999999999",
         "True",
         "11207",
         "2887"
        ],
        [
         "1375",
         "680940246314430465",
         "<a href=\"http://twitter.com/download/iphone\" rel=\"nofollow\">Twitter for iPhone</a>",
         "This is Alice. She's an idiot. 4/10",
         "https://twitter.com/dog_rates/status/680940246314430465/photo/1",
         "4.0",
         "10.0",
         "Alice",
         null,
         "2015",
         "12",
         "27",
         "Sunday",
         "https://t.co/VQXdwJfkyS",
         "https://pbs.twimg.com/media/CXMvio7WQAAPZJj.jpg",
         "Soft-Coated Wheaten Terrier",
         "0.289598",
         "True",
         "West Highland White Terrier",
         "0.157195",
         "True",
         "Toy Poodle",
         "0.0744346999999999",
         "True",
         "3544",
         "1225"
        ],
        [
         "1957",
         "666804364988780544",
         "<a href=\"http://twitter.com/download/iphone\" rel=\"nofollow\">Twitter for iPhone</a>",
         "This is Jockson. He is a Pinnacle Sagittarius. Fancy bandana. Enjoys lightly sucking on hot dog in nature. 8/10",
         "https://twitter.com/dog_rates/status/666804364988780544/photo/1",
         "8.0",
         "10.0",
         "Jockson",
         null,
         "2015",
         "11",
         "18",
         "Wednesday",
         "https://t.co/RdKbAOEpDK",
         "https://pbs.twimg.com/media/CUD3A7YWoAA82N0.jpg",
         "English Setter",
         "0.328792",
         "True",
         "Brittany Spaniel",
         "0.283545",
         "True",
         "Ibizan Hound",
         "0.0574615",
         "True",
         "250",
         "95"
        ],
        [
         "1386",
         "680473011644985345",
         "<a href=\"http://twitter.com/download/iphone\" rel=\"nofollow\">Twitter for iPhone</a>",
         "This is Hector. He thinks he's a hammer. Silly Hector. You're a pupper, not a hammer. 10/10",
         "https://twitter.com/dog_rates/status/680473011644985345/photo/1",
         "10.0",
         "10.0",
         "Hector",
         "pupper",
         "2015",
         "12",
         "25",
         "Friday",
         "https://t.co/OdUFuZIXiI",
         "https://pbs.twimg.com/media/CXGGlzvWYAArPfk.jpg",
         "Lakeland Terrier",
         "0.796694",
         "True",
         "West Highland White Terrier",
         "0.138709",
         "True",
         "Norwich Terrier",
         "0.0162533999999999",
         "True",
         "2778",
         "844"
        ],
        [
         "1855",
         "668641109086707712",
         "<a href=\"http://twitter.com/download/iphone\" rel=\"nofollow\">Twitter for iPhone</a>",
         "Meet Hanz. He heard some thunder. 10/10",
         "https://twitter.com/dog_rates/status/668641109086707712/photo/1",
         "10.0",
         "10.0",
         "Hanz",
         null,
         "2015",
         "11",
         "23",
         "Monday",
         "https://t.co/pKJK23j0QZ",
         "https://pbs.twimg.com/media/CUd9ivxWUAAuXSQ.jpg",
         "Vacuum",
         "0.432594",
         "False",
         "Pug",
         "0.146311",
         "True",
         "Toilet Tissue",
         "0.0245003",
         "False",
         "1145",
         "573"
        ],
        [
         "873",
         "728653952833728512",
         "<a href=\"http://twitter.com/download/iphone\" rel=\"nofollow\">Twitter for iPhone</a>",
         "This is Coleman. Somebody needs to tell him that he's sitting in chairs wrong. 8/10",
         "https://twitter.com/dog_rates/status/728653952833728512/photo/1,https://twitter.com/dog_rates/status/728653952833728512/photo/1,https://twitter.com/dog_rates/status/728653952833728512/photo/1",
         "8.0",
         "10.0",
         "Coleman",
         null,
         "2016",
         "5",
         "6",
         "Friday",
         "https://t.co/O10zjJ2Ixs",
         "https://pbs.twimg.com/media/Chyy5lQWUAEzxSL.jpg",
         "Window Shade",
         "0.594333",
         "False",
         "Studio Couch",
         "0.053515",
         "False",
         "Rotisserie",
         "0.0412478",
         "False",
         "3620",
         "1169"
        ]
       ],
       "shape": {
        "columns": 25,
        "rows": 7
       }
      },
      "text/html": [
       "<div>\n",
       "<style scoped>\n",
       "    .dataframe tbody tr th:only-of-type {\n",
       "        vertical-align: middle;\n",
       "    }\n",
       "\n",
       "    .dataframe tbody tr th {\n",
       "        vertical-align: top;\n",
       "    }\n",
       "\n",
       "    .dataframe thead th {\n",
       "        text-align: right;\n",
       "    }\n",
       "</style>\n",
       "<table border=\"1\" class=\"dataframe\">\n",
       "  <thead>\n",
       "    <tr style=\"text-align: right;\">\n",
       "      <th></th>\n",
       "      <th>tweet_id</th>\n",
       "      <th>source</th>\n",
       "      <th>text</th>\n",
       "      <th>expanded_urls</th>\n",
       "      <th>rating_numerator</th>\n",
       "      <th>rating_denominator</th>\n",
       "      <th>name</th>\n",
       "      <th>dog_stage</th>\n",
       "      <th>year</th>\n",
       "      <th>month</th>\n",
       "      <th>...</th>\n",
       "      <th>p1_conf</th>\n",
       "      <th>p1_dog</th>\n",
       "      <th>p2</th>\n",
       "      <th>p2_conf</th>\n",
       "      <th>p2_dog</th>\n",
       "      <th>p3</th>\n",
       "      <th>p3_conf</th>\n",
       "      <th>p3_dog</th>\n",
       "      <th>favorite_count</th>\n",
       "      <th>retweet_count</th>\n",
       "    </tr>\n",
       "  </thead>\n",
       "  <tbody>\n",
       "    <tr>\n",
       "      <th>34</th>\n",
       "      <td>884876753390489601</td>\n",
       "      <td>&lt;a href=\"http://twitter.com/download/iphone\" r...</td>\n",
       "      <td>This is Lola. It's her first time outside. Mus...</td>\n",
       "      <td>https://twitter.com/dog_rates/status/884876753...</td>\n",
       "      <td>13.0</td>\n",
       "      <td>10.0</td>\n",
       "      <td>Lola</td>\n",
       "      <td>NaN</td>\n",
       "      <td>2017</td>\n",
       "      <td>7</td>\n",
       "      <td>...</td>\n",
       "      <td>0.822103</td>\n",
       "      <td>True</td>\n",
       "      <td>Norwich Terrier</td>\n",
       "      <td>0.106075</td>\n",
       "      <td>True</td>\n",
       "      <td>Norfolk Terrier</td>\n",
       "      <td>0.037348</td>\n",
       "      <td>True</td>\n",
       "      <td>28514</td>\n",
       "      <td>6096</td>\n",
       "    </tr>\n",
       "    <tr>\n",
       "      <th>419</th>\n",
       "      <td>803276597545603072</td>\n",
       "      <td>&lt;a href=\"http://twitter.com/download/iphone\" r...</td>\n",
       "      <td>This is Winston. His selfie game is legendary....</td>\n",
       "      <td>https://twitter.com/dog_rates/status/803276597...</td>\n",
       "      <td>11.0</td>\n",
       "      <td>10.0</td>\n",
       "      <td>Winston</td>\n",
       "      <td>NaN</td>\n",
       "      <td>2016</td>\n",
       "      <td>11</td>\n",
       "      <td>...</td>\n",
       "      <td>0.457086</td>\n",
       "      <td>True</td>\n",
       "      <td>Chow</td>\n",
       "      <td>0.307801</td>\n",
       "      <td>True</td>\n",
       "      <td>Golden Retriever</td>\n",
       "      <td>0.049988</td>\n",
       "      <td>True</td>\n",
       "      <td>11207</td>\n",
       "      <td>2887</td>\n",
       "    </tr>\n",
       "    <tr>\n",
       "      <th>1375</th>\n",
       "      <td>680940246314430465</td>\n",
       "      <td>&lt;a href=\"http://twitter.com/download/iphone\" r...</td>\n",
       "      <td>This is Alice. She's an idiot. 4/10</td>\n",
       "      <td>https://twitter.com/dog_rates/status/680940246...</td>\n",
       "      <td>4.0</td>\n",
       "      <td>10.0</td>\n",
       "      <td>Alice</td>\n",
       "      <td>NaN</td>\n",
       "      <td>2015</td>\n",
       "      <td>12</td>\n",
       "      <td>...</td>\n",
       "      <td>0.289598</td>\n",
       "      <td>True</td>\n",
       "      <td>West Highland White Terrier</td>\n",
       "      <td>0.157195</td>\n",
       "      <td>True</td>\n",
       "      <td>Toy Poodle</td>\n",
       "      <td>0.074435</td>\n",
       "      <td>True</td>\n",
       "      <td>3544</td>\n",
       "      <td>1225</td>\n",
       "    </tr>\n",
       "    <tr>\n",
       "      <th>1957</th>\n",
       "      <td>666804364988780544</td>\n",
       "      <td>&lt;a href=\"http://twitter.com/download/iphone\" r...</td>\n",
       "      <td>This is Jockson. He is a Pinnacle Sagittarius....</td>\n",
       "      <td>https://twitter.com/dog_rates/status/666804364...</td>\n",
       "      <td>8.0</td>\n",
       "      <td>10.0</td>\n",
       "      <td>Jockson</td>\n",
       "      <td>NaN</td>\n",
       "      <td>2015</td>\n",
       "      <td>11</td>\n",
       "      <td>...</td>\n",
       "      <td>0.328792</td>\n",
       "      <td>True</td>\n",
       "      <td>Brittany Spaniel</td>\n",
       "      <td>0.283545</td>\n",
       "      <td>True</td>\n",
       "      <td>Ibizan Hound</td>\n",
       "      <td>0.057461</td>\n",
       "      <td>True</td>\n",
       "      <td>250</td>\n",
       "      <td>95</td>\n",
       "    </tr>\n",
       "    <tr>\n",
       "      <th>1386</th>\n",
       "      <td>680473011644985345</td>\n",
       "      <td>&lt;a href=\"http://twitter.com/download/iphone\" r...</td>\n",
       "      <td>This is Hector. He thinks he's a hammer. Silly...</td>\n",
       "      <td>https://twitter.com/dog_rates/status/680473011...</td>\n",
       "      <td>10.0</td>\n",
       "      <td>10.0</td>\n",
       "      <td>Hector</td>\n",
       "      <td>pupper</td>\n",
       "      <td>2015</td>\n",
       "      <td>12</td>\n",
       "      <td>...</td>\n",
       "      <td>0.796694</td>\n",
       "      <td>True</td>\n",
       "      <td>West Highland White Terrier</td>\n",
       "      <td>0.138709</td>\n",
       "      <td>True</td>\n",
       "      <td>Norwich Terrier</td>\n",
       "      <td>0.016253</td>\n",
       "      <td>True</td>\n",
       "      <td>2778</td>\n",
       "      <td>844</td>\n",
       "    </tr>\n",
       "    <tr>\n",
       "      <th>1855</th>\n",
       "      <td>668641109086707712</td>\n",
       "      <td>&lt;a href=\"http://twitter.com/download/iphone\" r...</td>\n",
       "      <td>Meet Hanz. He heard some thunder. 10/10</td>\n",
       "      <td>https://twitter.com/dog_rates/status/668641109...</td>\n",
       "      <td>10.0</td>\n",
       "      <td>10.0</td>\n",
       "      <td>Hanz</td>\n",
       "      <td>NaN</td>\n",
       "      <td>2015</td>\n",
       "      <td>11</td>\n",
       "      <td>...</td>\n",
       "      <td>0.432594</td>\n",
       "      <td>False</td>\n",
       "      <td>Pug</td>\n",
       "      <td>0.146311</td>\n",
       "      <td>True</td>\n",
       "      <td>Toilet Tissue</td>\n",
       "      <td>0.024500</td>\n",
       "      <td>False</td>\n",
       "      <td>1145</td>\n",
       "      <td>573</td>\n",
       "    </tr>\n",
       "    <tr>\n",
       "      <th>873</th>\n",
       "      <td>728653952833728512</td>\n",
       "      <td>&lt;a href=\"http://twitter.com/download/iphone\" r...</td>\n",
       "      <td>This is Coleman. Somebody needs to tell him th...</td>\n",
       "      <td>https://twitter.com/dog_rates/status/728653952...</td>\n",
       "      <td>8.0</td>\n",
       "      <td>10.0</td>\n",
       "      <td>Coleman</td>\n",
       "      <td>NaN</td>\n",
       "      <td>2016</td>\n",
       "      <td>5</td>\n",
       "      <td>...</td>\n",
       "      <td>0.594333</td>\n",
       "      <td>False</td>\n",
       "      <td>Studio Couch</td>\n",
       "      <td>0.053515</td>\n",
       "      <td>False</td>\n",
       "      <td>Rotisserie</td>\n",
       "      <td>0.041248</td>\n",
       "      <td>False</td>\n",
       "      <td>3620</td>\n",
       "      <td>1169</td>\n",
       "    </tr>\n",
       "  </tbody>\n",
       "</table>\n",
       "<p>7 rows × 25 columns</p>\n",
       "</div>"
      ],
      "text/plain": [
       "                tweet_id                                             source  \\\n",
       "34    884876753390489601  <a href=\"http://twitter.com/download/iphone\" r...   \n",
       "419   803276597545603072  <a href=\"http://twitter.com/download/iphone\" r...   \n",
       "1375  680940246314430465  <a href=\"http://twitter.com/download/iphone\" r...   \n",
       "1957  666804364988780544  <a href=\"http://twitter.com/download/iphone\" r...   \n",
       "1386  680473011644985345  <a href=\"http://twitter.com/download/iphone\" r...   \n",
       "1855  668641109086707712  <a href=\"http://twitter.com/download/iphone\" r...   \n",
       "873   728653952833728512  <a href=\"http://twitter.com/download/iphone\" r...   \n",
       "\n",
       "                                                   text  \\\n",
       "34    This is Lola. It's her first time outside. Mus...   \n",
       "419   This is Winston. His selfie game is legendary....   \n",
       "1375                This is Alice. She's an idiot. 4/10   \n",
       "1957  This is Jockson. He is a Pinnacle Sagittarius....   \n",
       "1386  This is Hector. He thinks he's a hammer. Silly...   \n",
       "1855            Meet Hanz. He heard some thunder. 10/10   \n",
       "873   This is Coleman. Somebody needs to tell him th...   \n",
       "\n",
       "                                          expanded_urls  rating_numerator  \\\n",
       "34    https://twitter.com/dog_rates/status/884876753...              13.0   \n",
       "419   https://twitter.com/dog_rates/status/803276597...              11.0   \n",
       "1375  https://twitter.com/dog_rates/status/680940246...               4.0   \n",
       "1957  https://twitter.com/dog_rates/status/666804364...               8.0   \n",
       "1386  https://twitter.com/dog_rates/status/680473011...              10.0   \n",
       "1855  https://twitter.com/dog_rates/status/668641109...              10.0   \n",
       "873   https://twitter.com/dog_rates/status/728653952...               8.0   \n",
       "\n",
       "      rating_denominator     name dog_stage  year  month  ...   p1_conf  \\\n",
       "34                  10.0     Lola       NaN  2017      7  ...  0.822103   \n",
       "419                 10.0  Winston       NaN  2016     11  ...  0.457086   \n",
       "1375                10.0    Alice       NaN  2015     12  ...  0.289598   \n",
       "1957                10.0  Jockson       NaN  2015     11  ...  0.328792   \n",
       "1386                10.0   Hector    pupper  2015     12  ...  0.796694   \n",
       "1855                10.0     Hanz       NaN  2015     11  ...  0.432594   \n",
       "873                 10.0  Coleman       NaN  2016      5  ...  0.594333   \n",
       "\n",
       "     p1_dog                           p2   p2_conf p2_dog                p3  \\\n",
       "34     True              Norwich Terrier  0.106075   True   Norfolk Terrier   \n",
       "419    True                         Chow  0.307801   True  Golden Retriever   \n",
       "1375   True  West Highland White Terrier  0.157195   True        Toy Poodle   \n",
       "1957   True             Brittany Spaniel  0.283545   True      Ibizan Hound   \n",
       "1386   True  West Highland White Terrier  0.138709   True   Norwich Terrier   \n",
       "1855  False                          Pug  0.146311   True     Toilet Tissue   \n",
       "873   False                 Studio Couch  0.053515  False        Rotisserie   \n",
       "\n",
       "       p3_conf p3_dog  favorite_count  retweet_count  \n",
       "34    0.037348   True           28514           6096  \n",
       "419   0.049988   True           11207           2887  \n",
       "1375  0.074435   True            3544           1225  \n",
       "1957  0.057461   True             250             95  \n",
       "1386  0.016253   True            2778            844  \n",
       "1855  0.024500  False            1145            573  \n",
       "873   0.041248  False            3620           1169  \n",
       "\n",
       "[7 rows x 25 columns]"
      ]
     },
     "execution_count": 143,
     "metadata": {},
     "output_type": "execute_result"
    }
   ],
   "source": [
    "archive_master.sample(7)"
   ]
  },
  {
   "cell_type": "code",
   "execution_count": 144,
   "id": "9f4a694c",
   "metadata": {},
   "outputs": [
    {
     "data": {
      "text/plain": [
       "tweet_id               object\n",
       "source                 object\n",
       "text                   object\n",
       "expanded_urls          object\n",
       "rating_numerator      float64\n",
       "rating_denominator    float64\n",
       "name                   object\n",
       "dog_stage              object\n",
       "year                    int32\n",
       "month                   int32\n",
       "day                     int32\n",
       "day_name               object\n",
       "tweet_link             object\n",
       "jpg_url                object\n",
       "p1                     object\n",
       "p1_conf               float64\n",
       "p1_dog                   bool\n",
       "p2                     object\n",
       "p2_conf               float64\n",
       "p2_dog                   bool\n",
       "p3                     object\n",
       "p3_conf               float64\n",
       "p3_dog                   bool\n",
       "favorite_count          int64\n",
       "retweet_count           int64\n",
       "dtype: object"
      ]
     },
     "execution_count": 144,
     "metadata": {},
     "output_type": "execute_result"
    }
   ],
   "source": [
    "archive_master.dtypes"
   ]
  },
  {
   "cell_type": "markdown",
   "id": "18bb2bf7",
   "metadata": {},
   "source": [
    "<hr>"
   ]
  },
  {
   "cell_type": "markdown",
   "id": "5dd45ac2",
   "metadata": {},
   "source": [
    "<h1 id = \"storing\">Storing Data</h1>"
   ]
  },
  {
   "cell_type": "markdown",
   "id": "00606c73",
   "metadata": {},
   "source": [
    "### Exporting as CSV"
   ]
  },
  {
   "cell_type": "code",
   "execution_count": null,
   "id": "b8d2a485",
   "metadata": {
    "execution": {
     "iopub.execute_input": "2025-04-27T12:28:34.851947Z",
     "iopub.status.busy": "2025-04-27T12:28:34.850702Z",
     "iopub.status.idle": "2025-04-27T12:28:34.952297Z",
     "shell.execute_reply": "2025-04-27T12:28:34.951121Z",
     "shell.execute_reply.started": "2025-04-27T12:28:34.851885Z"
    }
   },
   "outputs": [],
   "source": [
    "# Passing False in index parameter so there is no column for the index\n",
    "archive_master.to_csv(\"data/twitter_archive_master.csv\", index=False)"
   ]
  },
  {
   "cell_type": "markdown",
   "id": "bb262d55",
   "metadata": {},
   "source": [
    "### Exporting as a SQL Database"
   ]
  },
  {
   "cell_type": "code",
   "execution_count": 157,
   "id": "9d772bf9",
   "metadata": {
    "execution": {
     "iopub.execute_input": "2025-04-27T12:28:34.954882Z",
     "iopub.status.busy": "2025-04-27T12:28:34.954029Z",
     "iopub.status.idle": "2025-04-27T12:28:35.001751Z",
     "shell.execute_reply": "2025-04-27T12:28:35.000381Z",
     "shell.execute_reply.started": "2025-04-27T12:28:34.954827Z"
    }
   },
   "outputs": [],
   "source": [
    "engine = sql.create_engine(\"sqlite:///data/twitter_archive_master.db\")"
   ]
  },
  {
   "cell_type": "code",
   "execution_count": null,
   "id": "74c7b916",
   "metadata": {
    "execution": {
     "iopub.execute_input": "2025-04-27T12:28:35.004375Z",
     "iopub.status.busy": "2025-04-27T12:28:35.003747Z",
     "iopub.status.idle": "2025-04-27T12:28:35.032145Z",
     "shell.execute_reply": "2025-04-27T12:28:35.030227Z",
     "shell.execute_reply.started": "2025-04-27T12:28:35.004308Z"
    }
   },
   "outputs": [],
   "source": [
    "try:\n",
    "\n",
    "    # Exporting as sql with index False\n",
    "    archive_master.to_sql(\"twitter_archive_master\", engine, index=False)\n",
    "\n",
    "# Adding an exception for if table already exists\n",
    "except ValueError:\n",
    "    \n",
    "    # Accessing the table and setting its MetaData to an empty Meta container\n",
    "    table = sql.Table(\"twitter_archive_master\", sql.MetaData())\n",
    "    \n",
    "    # Dropping the old Table\n",
    "    table.drop(engine)\n",
    "\n",
    "    # Adding the new Modified Table\n",
    "    archive_master.to_sql(\"twitter_archive_master\", engine, index = False)"
   ]
  },
  {
   "cell_type": "markdown",
   "id": "1219423b-b3c7-44d9-a201-64c947cc8a2a",
   "metadata": {},
   "source": [
    "<hr>"
   ]
  },
  {
   "cell_type": "markdown",
   "id": "8d62f51c",
   "metadata": {},
   "source": [
    "<h1 id = \"explore\">Insights & Visualizations</h1>\n",
    "Here we will explore trends and relations within the data and make some insights and conclusions"
   ]
  },
  {
   "cell_type": "markdown",
   "id": "a2af2606",
   "metadata": {},
   "source": [
    "### What's the most common dog breed in the tweets ?"
   ]
  },
  {
   "cell_type": "markdown",
   "id": "971f5ac9-2659-40d4-93c8-a4906c841c72",
   "metadata": {},
   "source": [
    "#### Feature Engineering : Dog breed\n",
    "Since some first predictions aren't dogs we have to extract only the predictions which are dogs"
   ]
  },
  {
   "cell_type": "code",
   "execution_count": 148,
   "id": "c9b4253f-4bb6-40a9-af42-066eedd941b9",
   "metadata": {
    "execution": {
     "iopub.execute_input": "2025-04-27T12:28:35.035238Z",
     "iopub.status.busy": "2025-04-27T12:28:35.034338Z",
     "iopub.status.idle": "2025-04-27T12:28:36.245357Z",
     "shell.execute_reply": "2025-04-27T12:28:36.244470Z",
     "shell.execute_reply.started": "2025-04-27T12:28:35.035197Z"
    }
   },
   "outputs": [
    {
     "data": {
      "text/plain": [
       "1863                   NaN\n",
       "602                   Chow\n",
       "92                Pembroke\n",
       "1141    Labrador Retriever\n",
       "645          Gordon Setter\n",
       "Name: breed, dtype: object"
      ]
     },
     "execution_count": 148,
     "metadata": {},
     "output_type": "execute_result"
    }
   ],
   "source": [
    "# Making an empty series for our result\n",
    "breeds = pd.Series()\n",
    "\n",
    "# Iterating over the rows\n",
    "for index, row in archive_master.iterrows():\n",
    "\n",
    "    # Checking whether the predictions represent a dog or not\n",
    "    # If the prediction is a dog, then the breed series gets assigned a breed name\n",
    "    # Otherwise, a NaN gets assigned\n",
    "    if row[\"p1_dog\"]:\n",
    "        breeds[index] = row[\"p1\"]\n",
    "    elif row[\"p2_dog\"]:\n",
    "        breeds[index] = row[\"p2\"]\n",
    "    elif row[\"p3_dog\"]:\n",
    "        breeds[index] = row[\"p3\"]\n",
    "\n",
    "# Making a new column from the resulted series\n",
    "archive_master[\"breed\"] = breeds\n",
    "\n",
    "# Printing a sample\n",
    "archive_master[\"breed\"].sample(5)"
   ]
  },
  {
   "cell_type": "code",
   "execution_count": 149,
   "id": "f6b06296",
   "metadata": {
    "execution": {
     "iopub.execute_input": "2025-04-27T12:28:36.248455Z",
     "iopub.status.busy": "2025-04-27T12:28:36.247584Z",
     "iopub.status.idle": "2025-04-27T12:28:36.264431Z",
     "shell.execute_reply": "2025-04-27T12:28:36.262528Z",
     "shell.execute_reply.started": "2025-04-27T12:28:36.248390Z"
    }
   },
   "outputs": [
    {
     "name": "stdout",
     "output_type": "stream",
     "text": [
      "Top 10 dog breeds by frequency in Data : \n"
     ]
    },
    {
     "data": {
      "text/plain": [
       "breed\n",
       "Golden Retriever      162\n",
       "Labrador Retriever    109\n",
       "Pembroke               95\n",
       "Chihuahua              91\n",
       "Pug                    62\n",
       "Toy Poodle             51\n",
       "Chow                   48\n",
       "Samoyed                42\n",
       "Pomeranian             42\n",
       "Malamute               33\n",
       "Name: count, dtype: int64"
      ]
     },
     "execution_count": 149,
     "metadata": {},
     "output_type": "execute_result"
    }
   ],
   "source": [
    "# Getting top 10 common breeds\n",
    "print(\"Top 10 dog breeds by frequency in Data : \")\n",
    "archive_master[\"breed\"].value_counts()[:10]"
   ]
  },
  {
   "cell_type": "markdown",
   "id": "d10f750f",
   "metadata": {},
   "source": [
    "So the **Golden Retriever** was the most common breed by **158** occurences"
   ]
  },
  {
   "cell_type": "markdown",
   "id": "e9fad88c-dea1-4a05-a7ae-c744464de0dc",
   "metadata": {},
   "source": [
    "<hr>"
   ]
  },
  {
   "cell_type": "markdown",
   "id": "e4327a50",
   "metadata": {},
   "source": [
    "### Which year had the highest average likes on the tweets?"
   ]
  },
  {
   "cell_type": "code",
   "execution_count": 150,
   "id": "265fa81e",
   "metadata": {
    "execution": {
     "iopub.execute_input": "2025-04-27T12:28:36.267692Z",
     "iopub.status.busy": "2025-04-27T12:28:36.266903Z",
     "iopub.status.idle": "2025-04-27T12:28:36.289505Z",
     "shell.execute_reply": "2025-04-27T12:28:36.287523Z",
     "shell.execute_reply.started": "2025-04-27T12:28:36.267623Z"
    }
   },
   "outputs": [
    {
     "name": "stdout",
     "output_type": "stream",
     "text": [
      "Average number of likes per year :\n"
     ]
    },
    {
     "data": {
      "text/plain": [
       "year\n",
       "2015     2500.909366\n",
       "2016     7759.139511\n",
       "2017    23998.347222\n",
       "Name: favorite_count, dtype: float64"
      ]
     },
     "execution_count": 150,
     "metadata": {},
     "output_type": "execute_result"
    }
   ],
   "source": [
    "# Grouping by year then getting average likes\n",
    "print(\"Average number of likes per year :\")\n",
    "archive_master.groupby(\"year\")[\"favorite_count\"].mean()"
   ]
  },
  {
   "cell_type": "markdown",
   "id": "1a59a6ff",
   "metadata": {},
   "source": [
    "So 2017 was the most popular year for the account after it comes 2016 then 2015"
   ]
  },
  {
   "cell_type": "markdown",
   "id": "0269b16c-ceb4-4982-b1d8-012d5d09bb67",
   "metadata": {},
   "source": [
    "<hr>"
   ]
  },
  {
   "cell_type": "markdown",
   "id": "7351d3d2",
   "metadata": {},
   "source": [
    "### What is the most liked dog name?"
   ]
  },
  {
   "cell_type": "code",
   "execution_count": 151,
   "id": "d5660d5f",
   "metadata": {
    "execution": {
     "iopub.execute_input": "2025-04-27T12:28:36.293591Z",
     "iopub.status.busy": "2025-04-27T12:28:36.292615Z",
     "iopub.status.idle": "2025-04-27T12:28:36.437646Z",
     "shell.execute_reply": "2025-04-27T12:28:36.436273Z",
     "shell.execute_reply.started": "2025-04-27T12:28:36.293524Z"
    }
   },
   "outputs": [
    {
     "name": "stdout",
     "output_type": "stream",
     "text": [
      "Average number of likes per dog name :\n"
     ]
    },
    {
     "data": {
      "text/plain": [
       "name\n",
       "Duddles       107956.0\n",
       "Stephan       107015.0\n",
       "Jamesy        106827.0\n",
       "Lilly          73397.0\n",
       "Aja            71144.0\n",
       "                ...   \n",
       "Lugan            244.0\n",
       "Keet             227.0\n",
       "Kallie           211.0\n",
       "Fwed             211.0\n",
       "Christoper       196.0\n",
       "Name: favorite_count, Length: 909, dtype: float64"
      ]
     },
     "execution_count": 151,
     "metadata": {},
     "output_type": "execute_result"
    }
   ],
   "source": [
    "# Grouping by dog's name then getting average likes\n",
    "names_rating = archive_master.groupby(\"name\")[\"favorite_count\"].mean()\n",
    "\n",
    "print(\"Average number of likes per dog name :\")\n",
    "\n",
    "# Printing the sorted values descendingly\n",
    "names_rating.sort_values(ascending=False)"
   ]
  },
  {
   "cell_type": "markdown",
   "id": "fec6839b",
   "metadata": {},
   "source": [
    "So the dog named Duddles was the most liked in our data, good name :D"
   ]
  },
  {
   "cell_type": "markdown",
   "id": "1498219a-6b5b-4be8-bbd4-fcecf1a8dda7",
   "metadata": {},
   "source": [
    "<hr>"
   ]
  },
  {
   "cell_type": "markdown",
   "id": "8a08b5ac-235e-4068-94e6-a7469828f7ff",
   "metadata": {},
   "source": [
    "### What is the most retweeted picture?"
   ]
  },
  {
   "cell_type": "code",
   "execution_count": 152,
   "id": "a82e1860-db48-4ce3-a3b5-3deedfd1b031",
   "metadata": {
    "execution": {
     "iopub.execute_input": "2025-04-27T12:28:36.439806Z",
     "iopub.status.busy": "2025-04-27T12:28:36.439122Z",
     "iopub.status.idle": "2025-04-27T12:28:36.457007Z",
     "shell.execute_reply": "2025-04-27T12:28:36.455345Z",
     "shell.execute_reply.started": "2025-04-27T12:28:36.439767Z"
    }
   },
   "outputs": [
    {
     "name": "stdout",
     "output_type": "stream",
     "text": [
      "Tweet : Here's a doggo realizing you can stand in a pool. 13/10 enlightened af (vid by Tina Conrad)\n",
      "Retweets : 79515\n"
     ]
    },
    {
     "data": {
      "text/html": [
       "<img src=\"https://pbs.twimg.com/ext_tw_video_thumb/744234667679821824/pu/img/1GaWmtJtdqzZV7jy.jpg\"/>"
      ],
      "text/plain": [
       "<IPython.core.display.Image object>"
      ]
     },
     "execution_count": 152,
     "metadata": {},
     "output_type": "execute_result"
    }
   ],
   "source": [
    "# https://stackoverflow.com/questions/11854847/how-can-i-display-an-image-from-a-file-in-jupyter-notebook\n",
    "from IPython.display import Image\n",
    "\n",
    "# Getting row with max retweet_count\n",
    "row = archive_master[\n",
    "    archive_master[\"retweet_count\"] == archive_master[\"retweet_count\"].max()\n",
    "]\n",
    "\n",
    "# Since I got the index with the url after calling [\"jpg_url\"], I used .values[0] to get first value, i.e the link\n",
    "url = row[\"jpg_url\"].values[0]\n",
    "\n",
    "# Printing the text and retweets also to get some context of the picture displayed below\n",
    "print(\n",
    "    f\"Tweet : {row[\"text\"].values[0]}\\nRetweets : {row[\"retweet_count\"].values[0]}\"\n",
    ")\n",
    "Image(url=url)"
   ]
  },
  {
   "cell_type": "markdown",
   "id": "c1c014dd-af10-4811-aad8-b9520a1742a8",
   "metadata": {},
   "source": [
    "Aww cute golden dog"
   ]
  },
  {
   "cell_type": "markdown",
   "id": "14057e95-d223-49f6-8fcd-6dcc2aef9aeb",
   "metadata": {},
   "source": [
    "<hr>"
   ]
  },
  {
   "cell_type": "markdown",
   "id": "69ca72f8",
   "metadata": {},
   "source": [
    "## Insights Conclusions\n",
    "- The Golden Retriever is the most common dog breed in our archived tweets\n",
    "- 2017 was the account's most popular year in the data\n",
    "- Duddles was the most liked dog\n",
    "- The image above of a golden dog swimming was the most retweeted"
   ]
  },
  {
   "cell_type": "markdown",
   "id": "6284158b-7130-46de-819a-aaf05f92b9e4",
   "metadata": {},
   "source": [
    "<hr>"
   ]
  },
  {
   "cell_type": "markdown",
   "id": "9d8e9588",
   "metadata": {},
   "source": [
    "## Visualization : What're the average likes for each day of the week?"
   ]
  },
  {
   "cell_type": "code",
   "execution_count": 153,
   "id": "703ad314",
   "metadata": {
    "execution": {
     "iopub.execute_input": "2025-04-27T12:28:36.461057Z",
     "iopub.status.busy": "2025-04-27T12:28:36.459222Z",
     "iopub.status.idle": "2025-04-27T12:28:36.786057Z",
     "shell.execute_reply": "2025-04-27T12:28:36.784822Z",
     "shell.execute_reply.started": "2025-04-27T12:28:36.460988Z"
    }
   },
   "outputs": [
    {
     "data": {
      "image/png": "[encoded data removed]",
      "text/plain": [
       "<Figure size 640x480 with 1 Axes>"
      ]
     },
     "metadata": {},
     "output_type": "display_data"
    }
   ],
   "source": [
    "# Setting seaborn theme for more stylish visualizations\n",
    "sns.set_theme(style=\"darkgrid\", palette=\"mako\")\n",
    "\n",
    "# Making the order of bars for better result\n",
    "avg_likes_day = archive_master.groupby(\"day_name\")[\"favorite_count\"].mean()\n",
    "avg_likes_day = avg_likes_day.sort_values(ascending = False)\n",
    "order = avg_likes_day.index\n",
    "\n",
    "# Making the plot\n",
    "sns.barplot(\n",
    "    data = archive_master,\n",
    "    x = \"day_name\",\n",
    "    y = \"favorite_count\",\n",
    "    # Adding order for better shape\n",
    "    order = order\n",
    ")\n",
    "\n",
    "# Setting rotation for week days so they don't overlap\n",
    "plt.xticks(rotation=45)\n",
    "\n",
    "# Setting title and labels\n",
    "plt.title(\n",
    "    \"Average likes per day of week\", loc=\"center\", fontdict={\"fontsize\": \"20\"}\n",
    ")\n",
    "plt.xlabel(\"Day of Week\")\n",
    "plt.ylabel(\"Number of Likes\")\n",
    "\n",
    "# Showing Plot\n",
    "plt.show()"
   ]
  },
  {
   "cell_type": "markdown",
   "id": "4f933c57",
   "metadata": {},
   "source": [
    "So **Wedenesday** was the day with highest average likes in the data\n",
    "\n",
    "Meanwhile, **Thursday** was the least"
   ]
  },
  {
   "cell_type": "markdown",
   "id": "3d9e32c3-603e-49ca-8635-11c71ac67d1f",
   "metadata": {},
   "source": [
    "<hr>"
   ]
  },
  {
   "cell_type": "markdown",
   "id": "d9daa162-89de-40c7-933b-cee35fa7c449",
   "metadata": {},
   "source": [
    "## Visualization : Is there a relationship between likes and retweets? "
   ]
  },
  {
   "cell_type": "code",
   "execution_count": 154,
   "id": "aabdef00-3bdb-4120-85d2-4542995ebc5e",
   "metadata": {
    "execution": {
     "iopub.execute_input": "2025-04-27T12:28:36.788317Z",
     "iopub.status.busy": "2025-04-27T12:28:36.787650Z",
     "iopub.status.idle": "2025-04-27T12:28:37.158494Z",
     "shell.execute_reply": "2025-04-27T12:28:37.157071Z",
     "shell.execute_reply.started": "2025-04-27T12:28:36.788254Z"
    }
   },
   "outputs": [
    {
     "data": {
      "image/png": "[encoded data removed]",
      "text/plain": [
       "<Figure size 640x480 with 1 Axes>"
      ]
     },
     "metadata": {},
     "output_type": "display_data"
    }
   ],
   "source": [
    "# Making the plot\n",
    "sns.regplot(\n",
    "    data = archive_master,\n",
    "    x = \"retweet_count\",\n",
    "    y = \"favorite_count\",\n",
    ")\n",
    "\n",
    "# Assigning title and labels\n",
    "plt.title(\"Retweets vs Likes\", fontdict={\"fontsize\": \"20\"})\n",
    "plt.xlabel(\"Retweets Count\")\n",
    "plt.ylabel(\"Likes / Favorites Count\")\n",
    "\n",
    "# Displaying the plot\n",
    "plt.show()"
   ]
  },
  {
   "cell_type": "markdown",
   "id": "ad4a1e79-9c05-41ca-b17d-5d644ea14f9d",
   "metadata": {},
   "source": [
    "As shown in the scatter plot, it's a postitive correlation.\n",
    "\n",
    "Where if the likes increase on a post that increases its popularity and the retweets number increases also.\n",
    "\n",
    "Also, **most** of our data has likes and retweets in a range of 0 - 50,000"
   ]
  },
  {
   "cell_type": "markdown",
   "id": "0e6f1566-33a4-466e-afba-9c1682e7ec23",
   "metadata": {},
   "source": [
    "<hr>"
   ]
  },
  {
   "cell_type": "markdown",
   "id": "085b54da-f3fd-4dee-b4e7-a0e8b02fabc4",
   "metadata": {},
   "source": [
    "Here, we have come to the end of our notebook, a full report of our work here is documented in :\n",
    "<ul>\n",
    "    <li><a href = \"wrangle_report.pdf\">Wrangle Report</a></li>\n",
    "    <li><a href = \"act_report.pdf\">Act Report</a></li>\n",
    "</ul>"
   ]
  },
  {
   "cell_type": "markdown",
   "id": "2f46e5af-bb34-4177-83a2-2afa41497132",
   "metadata": {},
   "source": [
    "<hr>"
   ]
  },
  {
   "cell_type": "markdown",
   "id": "02956734-dc26-4dc3-b7fd-71a841fdd17c",
   "metadata": {},
   "source": [
    "# Sources : \n",
    "- [Pandas Docs](https://pandas.pydata.org/docs/)\n",
    "- [Stackoverflow](https://stackoverflow.com)\n",
    "- [Regex101](https://regex101.com/)"
   ]
  }
 ],
 "metadata": {
  "kernelspec": {
   "display_name": "Python 3 (ipykernel)",
   "language": "python",
   "name": "python3"
  },
  "language_info": {
   "codemirror_mode": {
    "name": "ipython",
    "version": 3
   },
   "file_extension": ".py",
   "mimetype": "text/x-python",
   "name": "python",
   "nbconvert_exporter": "python",
   "pygments_lexer": "ipython3",
   "version": "3.13.2"
  },
  "widgets": {
   "application/vnd.jupyter.widget-state+json": {
    "state": {},
    "version_major": 2,
    "version_minor": 0
   }
  }
 },
 "nbformat": 4,
 "nbformat_minor": 5
}
